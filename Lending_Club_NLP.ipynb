{
  "nbformat": 4,
  "nbformat_minor": 0,
  "metadata": {
    "colab": {
      "name": "Lending_Club_NLP.ipynb",
      "provenance": [],
      "collapsed_sections": [],
      "mount_file_id": "https://github.com/solharsh/Lending_Club_Analysis_and_Modeling/blob/master/Lending_Club_NLP.ipynb",
      "authorship_tag": "ABX9TyPzTF9tUjdThx0BQiN+9w6h",
      "include_colab_link": true
    },
    "kernelspec": {
      "name": "python3",
      "display_name": "Python 3"
    }
  },
  "cells": [
    {
      "cell_type": "markdown",
      "metadata": {
        "id": "view-in-github",
        "colab_type": "text"
      },
      "source": [
        "<a href=\"https://colab.research.google.com/github/solharsh/Lending_Club_Analysis_and_Modeling/blob/master/Lending_Club_NLP.ipynb\" target=\"_parent\"><img src=\"https://colab.research.google.com/assets/colab-badge.svg\" alt=\"Open In Colab\"/></a>"
      ]
    },
    {
      "cell_type": "markdown",
      "metadata": {
        "id": "_2nGoQKhA2O9",
        "colab_type": "text"
      },
      "source": [
        "This is second notebook and continued after performing EDA on the lending club dataset. In this notebook, I will be doing following: \n",
        "\n",
        "- NLP Implementation on desc column\n",
        "- Split the training and test data considering the timeline of our data instead of random splitting. \n",
        "\n",
        "As per today's case study discussed by Dipyaman, I will make our modeling problem more realistic by performing the train/test split based on the month that the loan was funded. That is, we'll use loans funded on earlier dates to predict whether future loans will charge-off. The variable issue_d includes the month and year that the loan was funded."
      ]
    },
    {
      "cell_type": "markdown",
      "metadata": {
        "id": "aUbiSHIujzbn",
        "colab_type": "text"
      },
      "source": [
        "# 1. Read cleaned final data"
      ]
    },
    {
      "cell_type": "code",
      "metadata": {
        "id": "06o2jYjvkXCL",
        "colab_type": "code",
        "outputId": "8764cddc-65ca-4dc7-dfb3-67ab667952a4",
        "colab": {
          "base_uri": "https://localhost:8080/",
          "height": 144
        }
      },
      "source": [
        "from google.colab import drive\n",
        "drive.mount('/gdrive')\n",
        "%cd /gdrive"
      ],
      "execution_count": 1,
      "outputs": [
        {
          "output_type": "stream",
          "text": [
            "Go to this URL in a browser: https://accounts.google.com/o/oauth2/auth?client_id=947318989803-6bn6qk8qdgf4n4g3pfee6491hc0brc4i.apps.googleusercontent.com&redirect_uri=urn%3aietf%3awg%3aoauth%3a2.0%3aoob&response_type=code&scope=email%20https%3a%2f%2fwww.googleapis.com%2fauth%2fdocs.test%20https%3a%2f%2fwww.googleapis.com%2fauth%2fdrive%20https%3a%2f%2fwww.googleapis.com%2fauth%2fdrive.photos.readonly%20https%3a%2f%2fwww.googleapis.com%2fauth%2fpeopleapi.readonly\n",
            "\n",
            "Enter your authorization code:\n",
            "··········\n",
            "Mounted at /gdrive\n",
            "/gdrive\n"
          ],
          "name": "stdout"
        }
      ]
    },
    {
      "cell_type": "code",
      "metadata": {
        "id": "yKi_oQojklDi",
        "colab_type": "code",
        "colab": {}
      },
      "source": [
        "import pandas as pd \n",
        "df = pd.read_pickle(\"/content/drive/My Drive/Lending_Club/data_selected.pkl\")"
      ],
      "execution_count": 0,
      "outputs": []
    },
    {
      "cell_type": "code",
      "metadata": {
        "id": "2sEqh5dik8MM",
        "colab_type": "code",
        "outputId": "202704da-91bd-4107-b8d1-6893c975794d",
        "colab": {
          "base_uri": "https://localhost:8080/",
          "height": 237
        }
      },
      "source": [
        "df.head()"
      ],
      "execution_count": 12,
      "outputs": [
        {
          "output_type": "execute_result",
          "data": {
            "text/html": [
              "<div>\n",
              "<style scoped>\n",
              "    .dataframe tbody tr th:only-of-type {\n",
              "        vertical-align: middle;\n",
              "    }\n",
              "\n",
              "    .dataframe tbody tr th {\n",
              "        vertical-align: top;\n",
              "    }\n",
              "\n",
              "    .dataframe thead th {\n",
              "        text-align: right;\n",
              "    }\n",
              "</style>\n",
              "<table border=\"1\" class=\"dataframe\">\n",
              "  <thead>\n",
              "    <tr style=\"text-align: right;\">\n",
              "      <th></th>\n",
              "      <th>loan_amnt</th>\n",
              "      <th>term</th>\n",
              "      <th>emp_length</th>\n",
              "      <th>loan_status</th>\n",
              "      <th>dti</th>\n",
              "      <th>open_acc</th>\n",
              "      <th>pub_rec</th>\n",
              "      <th>revol_bal</th>\n",
              "      <th>revol_util</th>\n",
              "      <th>total_acc</th>\n",
              "      <th>tot_coll_amt</th>\n",
              "      <th>tot_cur_bal</th>\n",
              "      <th>mort_acc</th>\n",
              "      <th>pub_rec_bankruptcies</th>\n",
              "      <th>earliest_cr_line_n</th>\n",
              "      <th>fico_avg</th>\n",
              "      <th>log_annual_inc</th>\n",
              "      <th>home_ownership_OTHER</th>\n",
              "      <th>home_ownership_OWN</th>\n",
              "      <th>home_ownership_RENT</th>\n",
              "      <th>verification_status_Source Verified</th>\n",
              "      <th>verification_status_Verified</th>\n",
              "      <th>purpose_n_life_events</th>\n",
              "      <th>purpose_n_major_purchases</th>\n",
              "      <th>purpose_n_other</th>\n",
              "      <th>initial_list_status_w</th>\n",
              "    </tr>\n",
              "  </thead>\n",
              "  <tbody>\n",
              "    <tr>\n",
              "      <th>0</th>\n",
              "      <td>5000</td>\n",
              "      <td>36</td>\n",
              "      <td>10</td>\n",
              "      <td>0</td>\n",
              "      <td>0.002765</td>\n",
              "      <td>3.0</td>\n",
              "      <td>0.0</td>\n",
              "      <td>4.135101</td>\n",
              "      <td>83.7</td>\n",
              "      <td>9.0</td>\n",
              "      <td>0.0</td>\n",
              "      <td>0.0</td>\n",
              "      <td>0.0</td>\n",
              "      <td>0.0</td>\n",
              "      <td>35.337440</td>\n",
              "      <td>737.0</td>\n",
              "      <td>4.380229</td>\n",
              "      <td>0</td>\n",
              "      <td>0</td>\n",
              "      <td>1</td>\n",
              "      <td>0</td>\n",
              "      <td>1</td>\n",
              "      <td>0</td>\n",
              "      <td>0</td>\n",
              "      <td>0</td>\n",
              "      <td>0</td>\n",
              "    </tr>\n",
              "    <tr>\n",
              "      <th>1</th>\n",
              "      <td>2500</td>\n",
              "      <td>60</td>\n",
              "      <td>1</td>\n",
              "      <td>1</td>\n",
              "      <td>0.000100</td>\n",
              "      <td>3.0</td>\n",
              "      <td>0.0</td>\n",
              "      <td>3.227372</td>\n",
              "      <td>9.4</td>\n",
              "      <td>4.0</td>\n",
              "      <td>0.0</td>\n",
              "      <td>0.0</td>\n",
              "      <td>0.0</td>\n",
              "      <td>0.0</td>\n",
              "      <td>21.092402</td>\n",
              "      <td>742.0</td>\n",
              "      <td>4.477136</td>\n",
              "      <td>0</td>\n",
              "      <td>0</td>\n",
              "      <td>1</td>\n",
              "      <td>1</td>\n",
              "      <td>0</td>\n",
              "      <td>0</td>\n",
              "      <td>1</td>\n",
              "      <td>0</td>\n",
              "      <td>0</td>\n",
              "    </tr>\n",
              "    <tr>\n",
              "      <th>2</th>\n",
              "      <td>2400</td>\n",
              "      <td>36</td>\n",
              "      <td>10</td>\n",
              "      <td>0</td>\n",
              "      <td>0.000872</td>\n",
              "      <td>2.0</td>\n",
              "      <td>0.0</td>\n",
              "      <td>3.470851</td>\n",
              "      <td>98.5</td>\n",
              "      <td>10.0</td>\n",
              "      <td>0.0</td>\n",
              "      <td>0.0</td>\n",
              "      <td>0.0</td>\n",
              "      <td>0.0</td>\n",
              "      <td>18.505133</td>\n",
              "      <td>737.0</td>\n",
              "      <td>4.088242</td>\n",
              "      <td>0</td>\n",
              "      <td>0</td>\n",
              "      <td>1</td>\n",
              "      <td>0</td>\n",
              "      <td>0</td>\n",
              "      <td>1</td>\n",
              "      <td>0</td>\n",
              "      <td>0</td>\n",
              "      <td>0</td>\n",
              "    </tr>\n",
              "    <tr>\n",
              "      <th>3</th>\n",
              "      <td>10000</td>\n",
              "      <td>36</td>\n",
              "      <td>10</td>\n",
              "      <td>0</td>\n",
              "      <td>0.002000</td>\n",
              "      <td>10.0</td>\n",
              "      <td>0.0</td>\n",
              "      <td>3.748110</td>\n",
              "      <td>21.0</td>\n",
              "      <td>37.0</td>\n",
              "      <td>0.0</td>\n",
              "      <td>0.0</td>\n",
              "      <td>0.0</td>\n",
              "      <td>0.0</td>\n",
              "      <td>24.254620</td>\n",
              "      <td>692.0</td>\n",
              "      <td>4.691974</td>\n",
              "      <td>0</td>\n",
              "      <td>0</td>\n",
              "      <td>1</td>\n",
              "      <td>1</td>\n",
              "      <td>0</td>\n",
              "      <td>0</td>\n",
              "      <td>0</td>\n",
              "      <td>1</td>\n",
              "      <td>0</td>\n",
              "    </tr>\n",
              "    <tr>\n",
              "      <th>4</th>\n",
              "      <td>3000</td>\n",
              "      <td>60</td>\n",
              "      <td>1</td>\n",
              "      <td>0</td>\n",
              "      <td>0.001794</td>\n",
              "      <td>15.0</td>\n",
              "      <td>0.0</td>\n",
              "      <td>4.443795</td>\n",
              "      <td>53.9</td>\n",
              "      <td>38.0</td>\n",
              "      <td>0.0</td>\n",
              "      <td>0.0</td>\n",
              "      <td>0.0</td>\n",
              "      <td>0.0</td>\n",
              "      <td>24.339493</td>\n",
              "      <td>697.0</td>\n",
              "      <td>4.903095</td>\n",
              "      <td>0</td>\n",
              "      <td>0</td>\n",
              "      <td>1</td>\n",
              "      <td>1</td>\n",
              "      <td>0</td>\n",
              "      <td>0</td>\n",
              "      <td>0</td>\n",
              "      <td>1</td>\n",
              "      <td>0</td>\n",
              "    </tr>\n",
              "  </tbody>\n",
              "</table>\n",
              "</div>"
            ],
            "text/plain": [
              "   loan_amnt  term  ...  purpose_n_other  initial_list_status_w\n",
              "0       5000    36  ...                0                      0\n",
              "1       2500    60  ...                0                      0\n",
              "2       2400    36  ...                0                      0\n",
              "3      10000    36  ...                1                      0\n",
              "4       3000    60  ...                1                      0\n",
              "\n",
              "[5 rows x 26 columns]"
            ]
          },
          "metadata": {
            "tags": []
          },
          "execution_count": 12
        }
      ]
    },
    {
      "cell_type": "code",
      "metadata": {
        "id": "idTVI8Rik--N",
        "colab_type": "code",
        "outputId": "bba54a67-bb68-4525-9435-427161165935",
        "colab": {
          "base_uri": "https://localhost:8080/",
          "height": 35
        }
      },
      "source": [
        "print('There are {} rows and {} columns in the dataset.'.format(df.shape[0],df.shape[1]))"
      ],
      "execution_count": 13,
      "outputs": [
        {
          "output_type": "stream",
          "text": [
            "There are 334262 rows and 26 columns in the dataset.\n"
          ],
          "name": "stdout"
        }
      ]
    },
    {
      "cell_type": "markdown",
      "metadata": {
        "id": "K2DuQSlfk1QS",
        "colab_type": "text"
      },
      "source": [
        "# 2. Importing Libraries"
      ]
    },
    {
      "cell_type": "code",
      "metadata": {
        "id": "iTUO1g9Rk45Q",
        "colab_type": "code",
        "outputId": "74439d9d-75f0-4af8-dcfb-af8a6d41a1ce",
        "colab": {
          "base_uri": "https://localhost:8080/",
          "height": 159
        }
      },
      "source": [
        "# Import our libraries we are going to use for our data analysis.\n",
        "import tensorflow as tf\n",
        "import pickle\n",
        "import pandas as pd\n",
        "import seaborn as sns\n",
        "import numpy as np\n",
        "import matplotlib.pyplot as plt\n",
        "import seaborn as sns\n",
        "from matplotlib import pyplot as plt\n",
        "import nltk\n",
        "from nltk.corpus import wordnet\n",
        "from nltk.tokenize import word_tokenize\n",
        "from nltk.stem import PorterStemmer\n",
        "from nltk.stem.wordnet import WordNetLemmatizer\n",
        "from sklearn.feature_extraction.text import TfidfVectorizer\n",
        "from sklearn import preprocessing\n",
        "from sklearn.utils import class_weight\n",
        "\n",
        "\n",
        "# For oversampling Library (Dealing with Imbalanced Datasets)\n",
        "from imblearn.over_sampling import SMOTE\n",
        "from collections import Counter\n",
        "\n",
        "# Other Libraries\n",
        "import time\n",
        "\n",
        "% matplotlib inline\n",
        "#NLP\n",
        "import nltk\n",
        "nltk.download('words')\n",
        "nltk.download(\"stopwords\") \n",
        "nltk.download('punkt')\n",
        "nltk.download('wordnet')\n",
        "# Importing the necessary functions\n",
        "import nltk, re\n",
        "from nltk.corpus import stopwords\n",
        "stop = stopwords.words('english')\n",
        "from nltk.stem import SnowballStemmer\n",
        "from nltk.tokenize import word_tokenize\n",
        "from nltk.corpus import wordnet\n",
        "from nltk.stem import WordNetLemmatizer\n",
        "words = set(nltk.corpus.words.words())\n",
        "import string"
      ],
      "execution_count": 14,
      "outputs": [
        {
          "output_type": "stream",
          "text": [
            "[nltk_data] Downloading package words to /root/nltk_data...\n",
            "[nltk_data]   Package words is already up-to-date!\n",
            "[nltk_data] Downloading package stopwords to /root/nltk_data...\n",
            "[nltk_data]   Package stopwords is already up-to-date!\n",
            "[nltk_data] Downloading package punkt to /root/nltk_data...\n",
            "[nltk_data]   Package punkt is already up-to-date!\n",
            "[nltk_data] Downloading package wordnet to /root/nltk_data...\n",
            "[nltk_data]   Package wordnet is already up-to-date!\n"
          ],
          "name": "stdout"
        }
      ]
    },
    {
      "cell_type": "markdown",
      "metadata": {
        "id": "clzVM0Vztnqr",
        "colab_type": "text"
      },
      "source": [
        "# 3. Natural Language Processing Implementation on 'desc' column!"
      ]
    },
    {
      "cell_type": "code",
      "metadata": {
        "id": "7m5wUo4CtnKD",
        "colab_type": "code",
        "colab": {}
      },
      "source": [
        "raw_df = pd.read_csv(\"/content/drive/My Drive/Capstone Project - NLP/fullacc.csv\",low_memory=False)"
      ],
      "execution_count": 0,
      "outputs": []
    },
    {
      "cell_type": "code",
      "metadata": {
        "id": "LHE_uGuHxKZ-",
        "colab_type": "code",
        "outputId": "5b52891d-e255-4b72-b05d-8eb6a23a8c86",
        "colab": {
          "base_uri": "https://localhost:8080/",
          "height": 124
        }
      },
      "source": [
        "raw_df['desc'].head()"
      ],
      "execution_count": 16,
      "outputs": [
        {
          "output_type": "execute_result",
          "data": {
            "text/plain": [
              "0      Borrower added on 12/22/11 > I need to upgra...\n",
              "1      Borrower added on 12/22/11 > I plan to use t...\n",
              "2                                                  NaN\n",
              "3      Borrower added on 12/21/11 > to pay for prop...\n",
              "4      Borrower added on 12/21/11 > I plan on combi...\n",
              "Name: desc, dtype: object"
            ]
          },
          "metadata": {
            "tags": []
          },
          "execution_count": 16
        }
      ]
    },
    {
      "cell_type": "code",
      "metadata": {
        "id": "7bwDwBqpxMlC",
        "colab_type": "code",
        "outputId": "a7c1125e-e6f5-4f4e-e7d5-4cae245ec258",
        "colab": {
          "base_uri": "https://localhost:8080/",
          "height": 35
        }
      },
      "source": [
        "print(raw_df['desc'].isna().sum())"
      ],
      "execution_count": 17,
      "outputs": [
        {
          "output_type": "stream",
          "text": [
            "223541\n"
          ],
          "name": "stdout"
        }
      ]
    },
    {
      "cell_type": "markdown",
      "metadata": {
        "id": "h8Brf7wyxkED",
        "colab_type": "text"
      },
      "source": [
        "We have too many missing values and we can simply replace the NaNs with a placeholder value"
      ]
    },
    {
      "cell_type": "code",
      "metadata": {
        "id": "RjE2Fp6_xQyI",
        "colab_type": "code",
        "colab": {}
      },
      "source": [
        "#Let's fill-in the missing values for desc column above. We will just use the placeholder \"Missing\" here.\n",
        "raw_df['desc'].fillna(\"Missing\", inplace=True)"
      ],
      "execution_count": 0,
      "outputs": []
    },
    {
      "cell_type": "code",
      "metadata": {
        "id": "7OYu1L82TvWo",
        "colab_type": "code",
        "outputId": "ec188b37-0722-49a0-ec3e-69981da30a42",
        "colab": {
          "base_uri": "https://localhost:8080/",
          "height": 35
        }
      },
      "source": [
        "raw_df['desc'].shape"
      ],
      "execution_count": 19,
      "outputs": [
        {
          "output_type": "execute_result",
          "data": {
            "text/plain": [
              "(334262,)"
            ]
          },
          "metadata": {
            "tags": []
          },
          "execution_count": 19
        }
      ]
    },
    {
      "cell_type": "markdown",
      "metadata": {
        "id": "Qu3ijtAgxhh0",
        "colab_type": "text"
      },
      "source": [
        "Now, it is time to process the text fields. We will remove stop words, change the case to lower, remove extra spaces, remove HTML tags and apply stemming."
      ]
    },
    {
      "cell_type": "code",
      "metadata": {
        "id": "B0GHAslht110",
        "colab_type": "code",
        "colab": {}
      },
      "source": [
        "# Importing the necessary functions\n",
        "import nltk, re\n",
        "from nltk.corpus import stopwords\n",
        "from nltk.stem import SnowballStemmer\n",
        "from nltk.tokenize import word_tokenize\n",
        "from nltk.corpus import wordnet\n",
        "from nltk.stem import WordNetLemmatizer\n",
        "words = set(nltk.corpus.words.words())\n",
        "\n",
        "# Initialize the lemmatizer\n",
        "wl = WordNetLemmatizer()\n",
        "\n",
        "# This is a helper function to map NTLK position tags\n",
        "def get_wordnet_pos(tag):\n",
        "    if tag.startswith('J'):\n",
        "        return wordnet.ADJ\n",
        "    elif tag.startswith('V'):\n",
        "        return wordnet.VERB\n",
        "    elif tag.startswith('N'):\n",
        "        return wordnet.NOUN\n",
        "    elif tag.startswith('R'):\n",
        "        return wordnet.ADV\n",
        "    else:\n",
        "        return wordnet.NOUN\n",
        "\n",
        "# Let's get a list of stop words from the NLTK library\n",
        "stop_words = stopwords.words(\"english\")\n",
        "\n",
        "snow = SnowballStemmer('english')\n",
        "\n",
        "def process_text(texts): \n",
        "    final_text_list=[]\n",
        "    for sent in texts:\n",
        "        filtered_sentence=[]\n",
        "        \n",
        "        sent = sent.lower() # Lowercase \n",
        "        sent = sent.strip() # Remove leading/trailing whitespace\n",
        "        sent = re.sub('\\s+', ' ', sent) # Remove extra space and tabs\n",
        "        sent = re.compile('<.*?>').sub('', sent) # Remove HTML tags/markups:\n",
        "        sent = re.sub(r\"\\d+\",\"\",sent) #removing numbers\n",
        "\n",
        "        # Tokenize the sentence\n",
        "        for w in word_tokenize(sent):\n",
        "            # We are applying some custom filtering here.\n",
        "            # Check if it is not numeric and its length>2 and not in stop words\n",
        "            if(not w.isnumeric()) and (len(w)>2) and (w not in stop_words):  \n",
        "                # Stem and add to filtered list\n",
        "                filtered_sentence.append(wl.lemmatize(w))\n",
        "        final_string = \" \".join(filtered_sentence) #final string of cleaned words\n",
        " \n",
        "        final_text_list.append(final_string)\n",
        "    \n",
        "    return final_text_list"
      ],
      "execution_count": 0,
      "outputs": []
    },
    {
      "cell_type": "code",
      "metadata": {
        "id": "ynOA6fe3wsuL",
        "colab_type": "code",
        "outputId": "c703deec-133f-4059-e25a-85522fbecd1c",
        "colab": {
          "base_uri": "https://localhost:8080/",
          "height": 124
        }
      },
      "source": [
        "raw_df['desc'].head()"
      ],
      "execution_count": 22,
      "outputs": [
        {
          "output_type": "execute_result",
          "data": {
            "text/plain": [
              "0      Borrower added on 12/22/11 > I need to upgra...\n",
              "1      Borrower added on 12/22/11 > I plan to use t...\n",
              "2                                              Missing\n",
              "3      Borrower added on 12/21/11 > to pay for prop...\n",
              "4      Borrower added on 12/21/11 > I plan on combi...\n",
              "Name: desc, dtype: object"
            ]
          },
          "metadata": {
            "tags": []
          },
          "execution_count": 22
        }
      ]
    },
    {
      "cell_type": "code",
      "metadata": {
        "id": "LzOthNFFugzC",
        "colab_type": "code",
        "outputId": "924beb09-139b-4c35-a557-162af710dc2e",
        "colab": {
          "base_uri": "https://localhost:8080/",
          "height": 35
        }
      },
      "source": [
        "print(\"Pre-processing the training text field\")\n",
        "raw_df[\"desc\"] = process_text(raw_df[\"desc\"]) #applying above function on desc column"
      ],
      "execution_count": 23,
      "outputs": [
        {
          "output_type": "stream",
          "text": [
            "Pre-processing the training text field\n"
          ],
          "name": "stdout"
        }
      ]
    },
    {
      "cell_type": "code",
      "metadata": {
        "id": "cYrrmJtiyOKv",
        "colab_type": "code",
        "outputId": "752d38ee-605b-4cd5-eb19-9df6251cc756",
        "colab": {
          "base_uri": "https://localhost:8080/",
          "height": 684
        }
      },
      "source": [
        "## Checking the most frequent and least occouring words and removing them. \n",
        "temp=[]\n",
        "for line in raw_df.desc:\n",
        "  temp.append(''.join(line))\n",
        "  \n",
        "temp=str(temp).split()\n",
        "\n",
        "k=0\n",
        "BOW=[]\n",
        "while k<len(temp):\n",
        "  if temp[k].isalnum():\n",
        "    BOW.append(''.join(temp[k]))\n",
        "  k=k+1\n",
        "\n",
        "from collections import Counter\n",
        "dict = Counter(BOW).most_common(100)\n",
        "\n",
        "import matplotlib.pylab as plt\n",
        "\n",
        "lists = sorted(dict) # sorted by key, return a list of tuples\n",
        "plt.subplots(figsize=(20,12))\n",
        "x, y = zip(*dict) # unpack a list of pairs into two tuples\n",
        "plt.xticks(rotation=90)\n",
        "plt.plot(x, y)\n",
        "plt.show()\n",
        "\n",
        "print(Counter(BOW).most_common(40))\n",
        "### Based on the below graph, we will be removing the top repeating words till 'good' \n",
        "remove_list=[]\n",
        "i=0\n",
        "remove_dict= Counter(BOW).most_common(39)\n",
        "while i < 39: \n",
        "  remove_list.append(remove_dict[i][0])\n",
        "  i=i+1\n",
        "\n",
        "#"
      ],
      "execution_count": 25,
      "outputs": [
        {
          "output_type": "display_data",
          "data": {
            "image/png": "[encoded data removed]",
            "text/plain": [
              "<Figure size 1440x864 with 1 Axes>"
            ]
          },
          "metadata": {
            "tags": [],
            "needs_background": "light"
          }
        },
        {
          "output_type": "stream",
          "text": [
            "[('added', 128106), ('credit', 86072), ('loan', 73747), ('card', 69986), ('pay', 62000), ('debt', 56774), ('payment', 38923), ('interest', 33349), ('borrower', 27441), ('year', 27305), ('consolidate', 25689), ('one', 22366), ('rate', 21288), ('would', 21050), ('high', 17199), ('monthly', 16821), ('get', 15896), ('bill', 15799), ('like', 15310), ('time', 15122), ('paying', 15013), ('job', 13618), ('help', 13596), ('home', 13369), ('month', 13152), ('need', 12858), ('want', 12725), ('money', 11938), ('lower', 11377), ('make', 11373), ('paid', 9524), ('plan', 9306), ('used', 8918), ('use', 8734), ('thank', 8723), ('good', 8456), ('consolidation', 8354), ('new', 8250), ('car', 7904), ('balance', 7769)]\n"
          ],
          "name": "stdout"
        }
      ]
    },
    {
      "cell_type": "code",
      "metadata": {
        "id": "45Xe2VVeyRlE",
        "colab_type": "code",
        "colab": {
          "base_uri": "https://localhost:8080/",
          "height": 55
        },
        "outputId": "1f172d6a-5689-45ef-c9b9-eaf47981c2d7"
      },
      "source": [
        "print(remove_list)"
      ],
      "execution_count": 26,
      "outputs": [
        {
          "output_type": "stream",
          "text": [
            "['added', 'credit', 'loan', 'card', 'pay', 'debt', 'payment', 'interest', 'borrower', 'year', 'consolidate', 'one', 'rate', 'would', 'high', 'monthly', 'get', 'bill', 'like', 'time', 'paying', 'job', 'help', 'home', 'month', 'need', 'want', 'money', 'lower', 'make', 'paid', 'plan', 'used', 'use', 'thank', 'good', 'consolidation', 'new', 'car']\n"
          ],
          "name": "stdout"
        }
      ]
    },
    {
      "cell_type": "code",
      "metadata": {
        "id": "MGHlPUr4ybji",
        "colab_type": "code",
        "colab": {}
      },
      "source": [
        "### Removing the most occouring words from remove_list and rebuilding the 'desc_cleaned' column:\n",
        "\n",
        "filtered_sentence = [] \n",
        "final_sentence=[]\n",
        "\n",
        "for line in raw_df.desc:\n",
        "  word_tokens = word_tokenize(line)\n",
        "  filtered_sentence = [] \n",
        "  for w in word_tokens: \n",
        "    if w.isalnum(): \n",
        "      if w not in remove_list: \n",
        "        filtered_sentence.append(w)\n",
        "      \n",
        "  final_sentence.append(' '.join(filtered_sentence))\n",
        "  \n",
        "df['desc'] = final_sentence"
      ],
      "execution_count": 0,
      "outputs": []
    },
    {
      "cell_type": "markdown",
      "metadata": {
        "id": "6QaTO_Cn9l1T",
        "colab_type": "text"
      },
      "source": [
        "## 3.1 Visualizing desc column with Word Clouds"
      ]
    },
    {
      "cell_type": "code",
      "metadata": {
        "id": "GurtmCCLyduI",
        "colab_type": "code",
        "colab": {}
      },
      "source": [
        "from wordcloud import WordCloud\n",
        "from wordcloud import STOPWORDS as wcloud_stop\n",
        "\n",
        "import matplotlib.pyplot as plt\n",
        "from tqdm import tqdm_notebook\n",
        "%matplotlib inline \n",
        "stopwords = set(wcloud_stop)\n",
        "stop_words = list(stopwords)\n",
        "def show_wordcloud(data, title = None):\n",
        "    wordcloud = WordCloud(\n",
        "        background_color='black',\n",
        "        stopwords=stop_words,\n",
        "        max_words=900,\n",
        "        max_font_size=40, \n",
        "        scale=5,\n",
        "        random_state=1\n",
        "    ).generate(str(data))\n",
        "\n",
        "    fig = plt.figure(1, figsize=(15,15))\n",
        "    plt.axis('off')\n",
        "    if title: \n",
        "        fig.suptitle(title, fontsize=14)\n",
        "        fig.subplots_adjust(top=2.3)\n",
        "\n",
        "    plt.imshow(wordcloud)\n",
        "    plt.show()"
      ],
      "execution_count": 0,
      "outputs": []
    },
    {
      "cell_type": "code",
      "metadata": {
        "id": "zrRQ8UHrqcie",
        "colab_type": "code",
        "colab": {
          "base_uri": "https://localhost:8080/",
          "height": 449
        },
        "outputId": "a0547edf-ceea-4177-d69b-5df65d1e53b0"
      },
      "source": [
        "show_wordcloud(df[\"desc\"])"
      ],
      "execution_count": 30,
      "outputs": [
        {
          "output_type": "display_data",
          "data": {
            "image/png": "[encoded data removed]",
            "text/plain": [
              "<Figure size 1080x1080 with 1 Axes>"
            ]
          },
          "metadata": {
            "tags": [],
            "needs_background": "light"
          }
        }
      ]
    },
    {
      "cell_type": "markdown",
      "metadata": {
        "id": "T5O4Wi6klCnp",
        "colab_type": "text"
      },
      "source": [
        "# 4. Train/Test Split"
      ]
    },
    {
      "cell_type": "code",
      "metadata": {
        "id": "dlWIqw9ulJ2x",
        "colab_type": "code",
        "outputId": "ed4a0701-dace-4787-cdd3-2f10bc6e1b10",
        "colab": {
          "base_uri": "https://localhost:8080/",
          "height": 266
        }
      },
      "source": [
        "raw_df['issue_d'].unique()"
      ],
      "execution_count": 31,
      "outputs": [
        {
          "output_type": "execute_result",
          "data": {
            "text/plain": [
              "array(['Dec-11', 'Nov-11', 'Oct-11', 'Sep-11', 'Aug-11', 'Jul-11',\n",
              "       'Jun-11', 'May-11', 'Apr-11', 'Mar-11', 'Feb-11', 'Jan-11',\n",
              "       'Dec-10', 'Nov-10', 'Oct-10', 'Sep-10', 'Aug-10', 'Jul-10',\n",
              "       'Jun-10', 'May-10', 'Apr-10', 'Mar-10', 'Feb-10', 'Jan-10',\n",
              "       'Dec-09', 'Nov-09', 'Oct-09', 'Sep-09', 'Aug-09', 'Jul-09',\n",
              "       'Jun-09', 'May-09', 'Apr-09', 'Mar-09', 'Feb-09', 'Jan-09',\n",
              "       'Dec-08', 'Nov-08', 'Oct-08', 'Sep-08', 'Aug-08', 'Jul-08',\n",
              "       'Jun-08', 'May-08', 'Apr-08', 'Mar-08', 'Feb-08', 'Jan-08',\n",
              "       'Dec-07', 'Nov-07', 'Oct-07', 'Sep-07', 'Aug-07', 'Jul-07',\n",
              "       'Jun-07', 'Dec-13', 'Nov-13', 'Oct-13', 'Sep-13', 'Aug-13',\n",
              "       'Jul-13', 'Jun-13', 'May-13', 'Apr-13', 'Mar-13', 'Feb-13',\n",
              "       'Jan-13', 'Dec-12', 'Nov-12', 'Oct-12', 'Sep-12', 'Aug-12',\n",
              "       'Jul-12', 'Jun-12', 'May-12', 'Apr-12', 'Mar-12', 'Feb-12',\n",
              "       'Jan-12', 'Dec-16', 'Nov-16', 'Oct-16'], dtype=object)"
            ]
          },
          "metadata": {
            "tags": []
          },
          "execution_count": 31
        }
      ]
    },
    {
      "cell_type": "code",
      "metadata": {
        "id": "zPPq-hO7lnzd",
        "colab_type": "code",
        "colab": {}
      },
      "source": [
        "from datetime import datetime\n",
        "from dateutil.parser import parse"
      ],
      "execution_count": 0,
      "outputs": []
    },
    {
      "cell_type": "code",
      "metadata": {
        "id": "Sq-n_oNxUmve",
        "colab_type": "code",
        "colab": {}
      },
      "source": [
        "df['issue_d'] = raw_df['issue_d']"
      ],
      "execution_count": 0,
      "outputs": []
    },
    {
      "cell_type": "code",
      "metadata": {
        "id": "rjQRQKCWndYF",
        "colab_type": "code",
        "colab": {}
      },
      "source": [
        "df['issue_d'] =  pd.to_datetime(df['issue_d'],\n",
        "                              format='%b-%y') #reference for further learning: https://www.datacamp.com/community/tutorials/converting-strings-datetime-objects"
      ],
      "execution_count": 0,
      "outputs": []
    },
    {
      "cell_type": "code",
      "metadata": {
        "id": "358znhYsnj4J",
        "colab_type": "code",
        "outputId": "ca1c7879-2924-47e7-8e2d-f622bc779bb3",
        "colab": {
          "base_uri": "https://localhost:8080/",
          "height": 124
        }
      },
      "source": [
        "df['issue_d'].head()"
      ],
      "execution_count": 35,
      "outputs": [
        {
          "output_type": "execute_result",
          "data": {
            "text/plain": [
              "0   2011-12-01\n",
              "1   2011-12-01\n",
              "2   2011-12-01\n",
              "3   2011-12-01\n",
              "4   2011-12-01\n",
              "Name: issue_d, dtype: datetime64[ns]"
            ]
          },
          "metadata": {
            "tags": []
          },
          "execution_count": 35
        }
      ]
    },
    {
      "cell_type": "code",
      "metadata": {
        "id": "LpFP0ZL0pHa5",
        "colab_type": "code",
        "outputId": "deb02ffa-d11f-488c-a8e5-54e41371b59f",
        "colab": {
          "base_uri": "https://localhost:8080/",
          "height": 150
        }
      },
      "source": [
        "df.head(1)"
      ],
      "execution_count": 36,
      "outputs": [
        {
          "output_type": "execute_result",
          "data": {
            "text/html": [
              "<div>\n",
              "<style scoped>\n",
              "    .dataframe tbody tr th:only-of-type {\n",
              "        vertical-align: middle;\n",
              "    }\n",
              "\n",
              "    .dataframe tbody tr th {\n",
              "        vertical-align: top;\n",
              "    }\n",
              "\n",
              "    .dataframe thead th {\n",
              "        text-align: right;\n",
              "    }\n",
              "</style>\n",
              "<table border=\"1\" class=\"dataframe\">\n",
              "  <thead>\n",
              "    <tr style=\"text-align: right;\">\n",
              "      <th></th>\n",
              "      <th>loan_amnt</th>\n",
              "      <th>term</th>\n",
              "      <th>emp_length</th>\n",
              "      <th>loan_status</th>\n",
              "      <th>dti</th>\n",
              "      <th>open_acc</th>\n",
              "      <th>pub_rec</th>\n",
              "      <th>revol_bal</th>\n",
              "      <th>revol_util</th>\n",
              "      <th>total_acc</th>\n",
              "      <th>tot_coll_amt</th>\n",
              "      <th>tot_cur_bal</th>\n",
              "      <th>mort_acc</th>\n",
              "      <th>pub_rec_bankruptcies</th>\n",
              "      <th>earliest_cr_line_n</th>\n",
              "      <th>fico_avg</th>\n",
              "      <th>log_annual_inc</th>\n",
              "      <th>home_ownership_OTHER</th>\n",
              "      <th>home_ownership_OWN</th>\n",
              "      <th>home_ownership_RENT</th>\n",
              "      <th>verification_status_Source Verified</th>\n",
              "      <th>verification_status_Verified</th>\n",
              "      <th>purpose_n_life_events</th>\n",
              "      <th>purpose_n_major_purchases</th>\n",
              "      <th>purpose_n_other</th>\n",
              "      <th>initial_list_status_w</th>\n",
              "      <th>desc</th>\n",
              "      <th>issue_d</th>\n",
              "    </tr>\n",
              "  </thead>\n",
              "  <tbody>\n",
              "    <tr>\n",
              "      <th>0</th>\n",
              "      <td>5000</td>\n",
              "      <td>36</td>\n",
              "      <td>10</td>\n",
              "      <td>0</td>\n",
              "      <td>0.002765</td>\n",
              "      <td>3.0</td>\n",
              "      <td>0.0</td>\n",
              "      <td>4.135101</td>\n",
              "      <td>83.7</td>\n",
              "      <td>9.0</td>\n",
              "      <td>0.0</td>\n",
              "      <td>0.0</td>\n",
              "      <td>0.0</td>\n",
              "      <td>0.0</td>\n",
              "      <td>35.33744</td>\n",
              "      <td>737.0</td>\n",
              "      <td>4.380229</td>\n",
              "      <td>0</td>\n",
              "      <td>0</td>\n",
              "      <td>1</td>\n",
              "      <td>0</td>\n",
              "      <td>1</td>\n",
              "      <td>0</td>\n",
              "      <td>0</td>\n",
              "      <td>0</td>\n",
              "      <td>0</td>\n",
              "      <td>upgrade business technology</td>\n",
              "      <td>2011-12-01</td>\n",
              "    </tr>\n",
              "  </tbody>\n",
              "</table>\n",
              "</div>"
            ],
            "text/plain": [
              "   loan_amnt  term  ...                         desc    issue_d\n",
              "0       5000    36  ...  upgrade business technology 2011-12-01\n",
              "\n",
              "[1 rows x 28 columns]"
            ]
          },
          "metadata": {
            "tags": []
          },
          "execution_count": 36
        }
      ]
    },
    {
      "cell_type": "code",
      "metadata": {
        "id": "8Yflkx65qo4e",
        "colab_type": "code",
        "outputId": "3bf6a6ff-d4dd-4cfb-f91a-74b5ef6da7ae",
        "colab": {
          "base_uri": "https://localhost:8080/",
          "height": 141
        }
      },
      "source": [
        "df['issue_d'].describe()"
      ],
      "execution_count": 37,
      "outputs": [
        {
          "output_type": "execute_result",
          "data": {
            "text/plain": [
              "count                  334262\n",
              "unique                     82\n",
              "top       2016-12-01 00:00:00\n",
              "freq                    36183\n",
              "first     2007-06-01 00:00:00\n",
              "last      2016-12-01 00:00:00\n",
              "Name: issue_d, dtype: object"
            ]
          },
          "metadata": {
            "tags": []
          },
          "execution_count": 37
        }
      ]
    },
    {
      "cell_type": "markdown",
      "metadata": {
        "id": "XZAcDumkqs_r",
        "colab_type": "text"
      },
      "source": [
        "There are 82 unique issue dates over the 8-year period because we only have month/year information. In this particular dataset, the first loans were issued in June 2007, and the most recent loans were issued in Dec 2016. The busiest month was Dec 2016 with 36,183 loans funded in that month. Let's see distribution of loans funded in each year?\n",
        "\n"
      ]
    },
    {
      "cell_type": "code",
      "metadata": {
        "id": "H6tWYXJkpy7O",
        "colab_type": "code",
        "outputId": "80b962d4-3b02-48f5-d3b3-c892cfbc762e",
        "colab": {
          "base_uri": "https://localhost:8080/",
          "height": 334
        }
      },
      "source": [
        "plt.figure(figsize=(6,3), dpi=90)\n",
        "df['issue_d'].dt.year.value_counts().sort_index().plot.bar(color='darkblue')\n",
        "plt.xlabel('Year')\n",
        "plt.ylabel('Number of Loans Funded')\n",
        "plt.title('Loans Funded per Year')"
      ],
      "execution_count": 38,
      "outputs": [
        {
          "output_type": "execute_result",
          "data": {
            "text/plain": [
              "Text(0.5, 1.0, 'Loans Funded per Year')"
            ]
          },
          "metadata": {
            "tags": []
          },
          "execution_count": 38
        },
        {
          "output_type": "display_data",
          "data": {
            "image/png": "[encoded data removed]",
            "text/plain": [
              "<Figure size 540x270 with 1 Axes>"
            ]
          },
          "metadata": {
            "tags": [],
            "needs_background": "light"
          }
        }
      ]
    },
    {
      "cell_type": "code",
      "metadata": {
        "id": "flqWz0oQqekq",
        "colab_type": "code",
        "colab": {}
      },
      "source": [
        "#We'll form the test set from the most recent 20% of the loans.\n",
        "df_train = df.loc[df['issue_d'] <  df['issue_d'].quantile(0.8)]\n",
        "df_test =  df.loc[df['issue_d'] >= df['issue_d'].quantile(0.8)]"
      ],
      "execution_count": 0,
      "outputs": []
    },
    {
      "cell_type": "code",
      "metadata": {
        "id": "pF2VLPdQVIQB",
        "colab_type": "code",
        "colab": {}
      },
      "source": [
        "#df_train = df_train.drop(['Unnamed: 0'],axis=1)\n",
        "#df_test = df_test.drop(['Unnamed: 0'],axis=1)"
      ],
      "execution_count": 0,
      "outputs": []
    },
    {
      "cell_type": "code",
      "metadata": {
        "id": "uM2TKEHJrhC0",
        "colab_type": "code",
        "outputId": "754c9534-37f5-4912-e826-ffdb5742294d",
        "colab": {
          "base_uri": "https://localhost:8080/",
          "height": 52
        }
      },
      "source": [
        "#Check that we properly partitioned the loans:\n",
        "print('Number of loans in the partition:   ', df_train.shape[0] + df_test.shape[0])\n",
        "print('Number of loans in the full dataset:', df.shape[0])"
      ],
      "execution_count": 41,
      "outputs": [
        {
          "output_type": "stream",
          "text": [
            "Number of loans in the partition:    334262\n",
            "Number of loans in the full dataset: 334262\n"
          ],
          "name": "stdout"
        }
      ]
    },
    {
      "cell_type": "code",
      "metadata": {
        "id": "29tKuFUqrnbr",
        "colab_type": "code",
        "outputId": "9ea0120b-2140-456c-bd7b-6d160796acca",
        "colab": {
          "base_uri": "https://localhost:8080/",
          "height": 35
        }
      },
      "source": [
        "#What is the test size?\n",
        "df_test.shape[0] / df.shape[0]"
      ],
      "execution_count": 42,
      "outputs": [
        {
          "output_type": "execute_result",
          "data": {
            "text/plain": [
              "0.21173211432947808"
            ]
          },
          "metadata": {
            "tags": []
          },
          "execution_count": 42
        }
      ]
    },
    {
      "cell_type": "markdown",
      "metadata": {
        "id": "gKuByIzOrurl",
        "colab_type": "text"
      },
      "source": [
        "About 21.1%. The partition looks good, so we can delete the DF."
      ]
    },
    {
      "cell_type": "code",
      "metadata": {
        "id": "n72IJhOWrs7X",
        "colab_type": "code",
        "colab": {}
      },
      "source": [
        "#del df"
      ],
      "execution_count": 0,
      "outputs": []
    },
    {
      "cell_type": "code",
      "metadata": {
        "id": "9Mz70z3nr1JJ",
        "colab_type": "code",
        "outputId": "3f9fff8c-64eb-4ca6-e83a-36bc20a521a1",
        "colab": {
          "base_uri": "https://localhost:8080/",
          "height": 141
        }
      },
      "source": [
        "df_train['issue_d'].describe()"
      ],
      "execution_count": 44,
      "outputs": [
        {
          "output_type": "execute_result",
          "data": {
            "text/plain": [
              "count                  263488\n",
              "unique                     80\n",
              "top       2016-10-01 00:00:00\n",
              "freq                    32772\n",
              "first     2007-06-01 00:00:00\n",
              "last      2016-10-01 00:00:00\n",
              "Name: issue_d, dtype: object"
            ]
          },
          "metadata": {
            "tags": []
          },
          "execution_count": 44
        }
      ]
    },
    {
      "cell_type": "code",
      "metadata": {
        "id": "Bt5LzTz3r8cG",
        "colab_type": "code",
        "outputId": "eda7198a-5a98-48fa-8124-eba4014801bb",
        "colab": {
          "base_uri": "https://localhost:8080/",
          "height": 141
        }
      },
      "source": [
        "df_test['issue_d'].describe()"
      ],
      "execution_count": 45,
      "outputs": [
        {
          "output_type": "execute_result",
          "data": {
            "text/plain": [
              "count                   70774\n",
              "unique                      2\n",
              "top       2016-12-01 00:00:00\n",
              "freq                    36183\n",
              "first     2016-11-01 00:00:00\n",
              "last      2016-12-01 00:00:00\n",
              "Name: issue_d, dtype: object"
            ]
          },
          "metadata": {
            "tags": []
          },
          "execution_count": 45
        }
      ]
    },
    {
      "cell_type": "markdown",
      "metadata": {
        "id": "R2dkXwq9sAAO",
        "colab_type": "text"
      },
      "source": [
        "The training set includes loans from June 2007 to Oct 2016. The test set includes loans from Nov 2016 to Dec 2017.\n",
        "\n",
        "Let's remove issue_d variable as it will not be available at the time of filling an application\n",
        "\n"
      ]
    },
    {
      "cell_type": "code",
      "metadata": {
        "id": "ywMCSbn_r-rO",
        "colab_type": "code",
        "outputId": "b1578a22-fc59-41e8-8f0d-d25decc7af52",
        "colab": {
          "base_uri": "https://localhost:8080/",
          "height": 126
        }
      },
      "source": [
        "df_train.drop('issue_d', axis=1, inplace=True)\n",
        "df_test.drop('issue_d', axis=1, inplace=True)"
      ],
      "execution_count": 46,
      "outputs": [
        {
          "output_type": "stream",
          "text": [
            "/usr/local/lib/python3.6/dist-packages/pandas/core/frame.py:3997: SettingWithCopyWarning: \n",
            "A value is trying to be set on a copy of a slice from a DataFrame\n",
            "\n",
            "See the caveats in the documentation: https://pandas.pydata.org/pandas-docs/stable/user_guide/indexing.html#returning-a-view-versus-a-copy\n",
            "  errors=errors,\n"
          ],
          "name": "stderr"
        }
      ]
    },
    {
      "cell_type": "code",
      "metadata": {
        "id": "cdGr6PgIsT0d",
        "colab_type": "code",
        "colab": {}
      },
      "source": [
        "#Now separate the predictor variables from the response variable:\n",
        "y_train = df_train['loan_status']\n",
        "y_val = df_test['loan_status']"
      ],
      "execution_count": 0,
      "outputs": []
    },
    {
      "cell_type": "code",
      "metadata": {
        "id": "73dfFOnjshgx",
        "colab_type": "code",
        "colab": {}
      },
      "source": [
        "X_train = df_train.drop('loan_status', axis=1)\n",
        "X_val = df_test.drop('loan_status', axis=1)"
      ],
      "execution_count": 0,
      "outputs": []
    },
    {
      "cell_type": "code",
      "metadata": {
        "id": "dh34wv9Ksp9_",
        "colab_type": "code",
        "colab": {}
      },
      "source": [
        "# removing these are we are done with them now\n",
        "#del df_train, df_test"
      ],
      "execution_count": 0,
      "outputs": []
    },
    {
      "cell_type": "markdown",
      "metadata": {
        "id": "3AMZj1TJ0X9W",
        "colab_type": "text"
      },
      "source": [
        "# 2.3 NLP Continued"
      ]
    },
    {
      "cell_type": "markdown",
      "metadata": {
        "id": "yVfw85yUqvo3",
        "colab_type": "text"
      },
      "source": [
        "Let's get our binary vectors for the text field"
      ]
    },
    {
      "cell_type": "code",
      "metadata": {
        "id": "1ImH7AG3zquY",
        "colab_type": "code",
        "colab": {}
      },
      "source": [
        "from sklearn.feature_extraction.text import CountVectorizer, TfidfVectorizer\n",
        " \n",
        "# Initialize the binary count vectorizer #Text -> Uni gram count Vectors\n",
        "tfidf_vectorizer = TfidfVectorizer(#binary=True,\n",
        "                                   max_features=100    # Limit the vocabulary size\n",
        "                                  )\n",
        "# Fit and transform\n",
        "X_train_text_vectors = tfidf_vectorizer.fit_transform(X_train[\"desc\"].tolist())\n",
        "# Only transform\n",
        "X_val_text_vectors = tfidf_vectorizer.transform(X_val[\"desc\"].tolist())"
      ],
      "execution_count": 0,
      "outputs": []
    },
    {
      "cell_type": "markdown",
      "metadata": {
        "id": "fRYYq52F_2sF",
        "colab_type": "text"
      },
      "source": [
        "Naive Bayes algorithm uses CountVectorizer(), so we will vectorize our text data using count vectorizer. Let's also experiment with max_features and ngram parameters in below lines.\n",
        "Realize that we called the fit() function only once on training data. This is because we want to test our method on unseen words as well."
      ]
    },
    {
      "cell_type": "code",
      "metadata": {
        "id": "DqnpBcT5z0P-",
        "colab_type": "code",
        "outputId": "a350c7c0-3194-4373-b71a-d4313a97c390",
        "colab": {
          "base_uri": "https://localhost:8080/",
          "height": 55
        }
      },
      "source": [
        "print(tfidf_vectorizer.vocabulary_)"
      ],
      "execution_count": 52,
      "outputs": [
        {
          "output_type": "stream",
          "text": [
            "{'business': 13, 'finance': 33, 'looking': 56, 'college': 18, 'missing': 61, 'back': 8, 'last': 50, 'three': 90, 'always': 4, 'budget': 12, 'due': 25, 'medical': 58, 'stable': 85, 'using': 93, 'fund': 38, 'two': 92, 'well': 96, 'bank': 10, 'small': 84, 'going': 42, 'also': 3, 'buy': 14, 'score': 81, 'mortgage': 62, 'trying': 91, 'history': 45, 'work': 98, 'full': 37, 'repair': 77, 'house': 46, 'thanks': 89, 'financial': 34, 'since': 83, 'account': 1, 'close': 16, 'within': 97, 'start': 86, 'lending': 53, 'payoff': 68, 'club': 17, 'purchase': 72, 'current': 23, 'take': 88, 'really': 74, 'family': 31, 'several': 82, 'balance': 9, 'expense': 30, 'never': 64, 'saving': 79, 'every': 28, 'please': 71, 'put': 73, 'income': 48, 'consideration': 20, 'making': 57, 'late': 51, 'able': 0, 'great': 43, 'better': 11, 'save': 78, 'future': 39, 'minimum': 59, 'company': 19, 'currently': 24, 'le': 52, 'allow': 2, 'order': 66, 'per': 69, 'amp': 6, 'next': 65, 'life': 54, 'working': 99, 'much': 63, 'student': 87, 'school': 80, 'amount': 5, 'higher': 44, 'missed': 60, 'goal': 41, 'past': 67, 'consolidating': 21, 'apr': 7, 'employed': 26, 'way': 94, 'first': 35, 'investor': 49, 'wedding': 95, 'personal': 70, 'little': 55, 'getting': 40, 'free': 36, 'faster': 32, 'cash': 15, 'improvement': 47, 'end': 27, 'reduce': 76, 'cost': 22, 'recently': 75, 'excellent': 29}\n"
          ],
          "name": "stdout"
        }
      ]
    },
    {
      "cell_type": "code",
      "metadata": {
        "id": "OpsJMt2t0GU3",
        "colab_type": "code",
        "colab": {}
      },
      "source": [
        "X_train = X_train.drop(['desc'],axis=1) #dropping desc from X_train as we have processed it in X_train_text_vectors\n",
        "X_val = X_val.drop(['desc'],axis=1) #dropping desc from X_val as well as we have processed it in X_val_text_vectors"
      ],
      "execution_count": 0,
      "outputs": []
    },
    {
      "cell_type": "code",
      "metadata": {
        "id": "MNlNmbLT0JaN",
        "colab_type": "code",
        "colab": {}
      },
      "source": [
        "# Let' merge our features\n",
        "X_train_features = np.column_stack((X_train_text_vectors.toarray(), \n",
        "                                    X_train)\n",
        "                                  )\n",
        "# Let' merge our features\n",
        "X_val_features = np.column_stack((X_val_text_vectors.toarray(), \n",
        "                                    X_val)\n",
        "                                  )"
      ],
      "execution_count": 0,
      "outputs": []
    },
    {
      "cell_type": "markdown",
      "metadata": {
        "id": "G_kJ__sX_iMt",
        "colab_type": "text"
      },
      "source": [
        "We this we have merged our text column with rest of the predictos after getting binary vectors for the textual data"
      ]
    },
    {
      "cell_type": "code",
      "metadata": {
        "id": "4coEu-zs_tuj",
        "colab_type": "code",
        "outputId": "947cceae-4d3f-43d4-ca60-194f8fae43aa",
        "colab": {
          "base_uri": "https://localhost:8080/",
          "height": 52
        }
      },
      "source": [
        "print(\"Training Data Size: \", X_train.shape)\n",
        "print(\"Validation Data Size: \", X_val.shape)"
      ],
      "execution_count": 55,
      "outputs": [
        {
          "output_type": "stream",
          "text": [
            "Training Data Size:  (263488, 25)\n",
            "Validation Data Size:  (70774, 25)\n"
          ],
          "name": "stdout"
        }
      ]
    },
    {
      "cell_type": "markdown",
      "metadata": {
        "id": "s-jVLxS7CVBq",
        "colab_type": "text"
      },
      "source": [
        "# 5. Saving and Downloading train and test CSV files with inclusion of cleaned desc"
      ]
    },
    {
      "cell_type": "code",
      "metadata": {
        "id": "PJw10FELAl9g",
        "colab_type": "code",
        "colab": {}
      },
      "source": [
        "from google.colab import files\n",
        "df_train.to_csv('/content/drive/My Drive/Lending_Club/df_NLP_Split.csv') \n",
        "df_test.to_csv('/content/drive/My Drive/Lending_Club/df_NLP_Split.csv') \n",
        "files.download('/content/drive/My Drive/Lending_Club/df_NLP_Split.csv')\n",
        "files.download('/content/drive/My Drive/Lending_Club/df_NLP_Split.csv')"
      ],
      "execution_count": 0,
      "outputs": []
    },
    {
      "cell_type": "markdown",
      "metadata": {
        "id": "hY-ViLb_DFvy",
        "colab_type": "text"
      },
      "source": [
        "# 6. Creating Pickle to be able to read the DF from this notebook's checkpoint"
      ]
    },
    {
      "cell_type": "code",
      "metadata": {
        "id": "MzeZzvPgBzor",
        "colab_type": "code",
        "colab": {}
      },
      "source": [
        "df_train.to_pickle(\"/content/drive/My Drive/Lending_Club/loan_NLP_split_train.pkl\")\n",
        "df_test.to_pickle(\"/content/drive/My Drive/Lending_Club/loan_NLP_split_test.pkl\")"
      ],
      "execution_count": 0,
      "outputs": []
    },
    {
      "cell_type": "markdown",
      "metadata": {
        "id": "fgXxNOXXDqjA",
        "colab_type": "text"
      },
      "source": [
        "In next notebook, I will start modeling on the train and test arrays that we created in this notebook which will have desc column binary vectors too."
      ]
    }
  ]
}