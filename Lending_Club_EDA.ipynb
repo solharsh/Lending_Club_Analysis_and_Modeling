{
  "nbformat": 4,
  "nbformat_minor": 0,
  "metadata": {
    "colab": {
      "name": "Lending_Club_EDA.ipynb",
      "provenance": [],
      "toc_visible": true,
      "mount_file_id": "1uhCLtNpieAxrE_JlPSgpcceClBHpkWuI",
      "authorship_tag": "ABX9TyNqXOEPM4hXMI6xRneRZDfp",
      "include_colab_link": true
    },
    "kernelspec": {
      "name": "python3",
      "display_name": "Python 3"
    }
  },
  "cells": [
    {
      "cell_type": "markdown",
      "metadata": {
        "id": "view-in-github",
        "colab_type": "text"
      },
      "source": [
        "<a href=\"https://colab.research.google.com/github/solharsh/Lending_Club_Analysis_and_Modeling/blob/master/Lending_Club_EDA.ipynb\" target=\"_parent\"><img src=\"https://colab.research.google.com/assets/colab-badge.svg\" alt=\"Open In Colab\"/></a>"
      ]
    },
    {
      "cell_type": "code",
      "metadata": {
        "id": "4Gl7Mh3MNEHL",
        "colab_type": "code",
        "colab": {
          "base_uri": "https://localhost:8080/",
          "height": 144
        },
        "outputId": "61f75cc5-4260-4437-8072-fbe629403238"
      },
      "source": [
        "from google.colab import drive\n",
        "drive.mount('/gdrive')\n",
        "%cd /gdrive"
      ],
      "execution_count": 1,
      "outputs": [
        {
          "output_type": "stream",
          "text": [
            "Go to this URL in a browser: https://accounts.google.com/o/oauth2/auth?client_id=947318989803-6bn6qk8qdgf4n4g3pfee6491hc0brc4i.apps.googleusercontent.com&redirect_uri=urn%3aietf%3awg%3aoauth%3a2.0%3aoob&response_type=code&scope=email%20https%3a%2f%2fwww.googleapis.com%2fauth%2fdocs.test%20https%3a%2f%2fwww.googleapis.com%2fauth%2fdrive%20https%3a%2f%2fwww.googleapis.com%2fauth%2fdrive.photos.readonly%20https%3a%2f%2fwww.googleapis.com%2fauth%2fpeopleapi.readonly\n",
            "\n",
            "Enter your authorization code:\n",
            "··········\n",
            "Mounted at /gdrive\n",
            "/gdrive\n"
          ],
          "name": "stdout"
        }
      ]
    },
    {
      "cell_type": "markdown",
      "metadata": {
        "id": "XktUf43lNODA",
        "colab_type": "text"
      },
      "source": [
        "# 1. IMPORTING LIBRARIES"
      ]
    },
    {
      "cell_type": "code",
      "metadata": {
        "id": "GRiWLzc5NMWE",
        "colab_type": "code",
        "colab": {
          "base_uri": "https://localhost:8080/",
          "height": 286
        },
        "outputId": "6c8a17d0-4749-4811-997a-18358f4dfdf0"
      },
      "source": [
        "# Import our libraries we are going to use for our data analysis.\n",
        "import tensorflow as tf\n",
        "import pickle\n",
        "import pandas as pd\n",
        "import seaborn as sns\n",
        "import numpy as np\n",
        "import matplotlib.pyplot as plt\n",
        "import seaborn as sns\n",
        "from matplotlib import pyplot as plt\n",
        "import nltk\n",
        "from nltk.corpus import wordnet\n",
        "from nltk.tokenize import word_tokenize\n",
        "from nltk.stem import PorterStemmer\n",
        "from nltk.stem.wordnet import WordNetLemmatizer\n",
        "from sklearn.feature_extraction.text import TfidfVectorizer\n",
        "from sklearn import preprocessing\n",
        "from sklearn.utils import class_weight\n",
        "\n",
        "\n",
        "# For oversampling Library (Dealing with Imbalanced Datasets)\n",
        "from imblearn.over_sampling import SMOTE\n",
        "from collections import Counter\n",
        "\n",
        "# Other Libraries\n",
        "import time\n",
        "\n",
        "% matplotlib inline\n",
        "#NLP\n",
        "import nltk\n",
        "nltk.download('words')\n",
        "nltk.download(\"stopwords\") \n",
        "nltk.download('punkt')\n",
        "nltk.download('wordnet')\n",
        "# Importing the necessary functions\n",
        "import nltk, re\n",
        "from nltk.corpus import stopwords\n",
        "stop = stopwords.words('english')\n",
        "from nltk.stem import SnowballStemmer\n",
        "from nltk.tokenize import word_tokenize\n",
        "from nltk.corpus import wordnet\n",
        "from nltk.stem import WordNetLemmatizer\n",
        "words = set(nltk.corpus.words.words())\n",
        "import string\n",
        "\n",
        "#libraries for machine learning algorithms\n",
        "from sklearn.model_selection import train_test_split\n",
        "from sklearn.linear_model import LogisticRegression\n",
        "from sklearn import metrics\n",
        "from sklearn.preprocessing import StandardScaler, LabelEncoder, OneHotEncoder\n",
        "from sklearn.svm import SVC\n",
        "from sklearn_pandas import DataFrameMapper, CategoricalImputer\n",
        "from sklearn.svm import LinearSVR\n",
        "from sklearn.metrics import roc_auc_score\n",
        "from sklearn.metrics import roc_curve\n",
        "from sklearn.metrics import accuracy_score\n",
        "from sklearn.metrics import classification_report\n",
        "from sklearn.metrics import accuracy_score\n",
        "#importing necessary Decision Tree libraries\n",
        "from sklearn.model_selection import GridSearchCV\n",
        "from sklearn.tree import DecisionTreeClassifier\n",
        "#importing necessary Random Forest Classifier library\n",
        "from sklearn.ensemble import RandomForestClassifier\n",
        "#importing necessary MLP library for Neural Network\n",
        "from sklearn.neural_network import MLPClassifier\n",
        "#importing necessary library for Naiye Bayes\n",
        "from sklearn.naive_bayes import GaussianNB\n",
        "#importing necessary library for LDA\n",
        "from sklearn.discriminant_analysis import LinearDiscriminantAnalysis\n",
        "#importing necessary library for Gradient Boosting\n",
        "from sklearn.ensemble import GradientBoostingClassifier\n",
        "#importing necessary library for Support Vector Machines\n",
        "from sklearn.svm import SVC\n",
        "#importing necessary libraries for KNN classifier\n",
        "from sklearn.neighbors import KNeighborsClassifier\n",
        "from sklearn.metrics import f1_score"
      ],
      "execution_count": 2,
      "outputs": [
        {
          "output_type": "stream",
          "text": [
            "/usr/local/lib/python3.6/dist-packages/statsmodels/tools/_testing.py:19: FutureWarning: pandas.util.testing is deprecated. Use the functions in the public API at pandas.testing instead.\n",
            "  import pandas.util.testing as tm\n",
            "/usr/local/lib/python3.6/dist-packages/sklearn/externals/six.py:31: FutureWarning: The module is deprecated in version 0.21 and will be removed in version 0.23 since we've dropped support for Python 2.7. Please rely on the official version of six (https://pypi.org/project/six/).\n",
            "  \"(https://pypi.org/project/six/).\", FutureWarning)\n",
            "/usr/local/lib/python3.6/dist-packages/sklearn/utils/deprecation.py:144: FutureWarning: The sklearn.neighbors.base module is  deprecated in version 0.22 and will be removed in version 0.24. The corresponding classes / functions should instead be imported from sklearn.neighbors. Anything that cannot be imported from sklearn.neighbors is now part of the private API.\n",
            "  warnings.warn(message, FutureWarning)\n"
          ],
          "name": "stderr"
        },
        {
          "output_type": "stream",
          "text": [
            "[nltk_data] Downloading package words to /root/nltk_data...\n",
            "[nltk_data]   Unzipping corpora/words.zip.\n",
            "[nltk_data] Downloading package stopwords to /root/nltk_data...\n",
            "[nltk_data]   Unzipping corpora/stopwords.zip.\n",
            "[nltk_data] Downloading package punkt to /root/nltk_data...\n",
            "[nltk_data]   Unzipping tokenizers/punkt.zip.\n",
            "[nltk_data] Downloading package wordnet to /root/nltk_data...\n",
            "[nltk_data]   Unzipping corpora/wordnet.zip.\n"
          ],
          "name": "stdout"
        }
      ]
    },
    {
      "cell_type": "markdown",
      "metadata": {
        "id": "My8DXmwwNuCL",
        "colab_type": "text"
      },
      "source": [
        "# 2. IMPORTING DATA AND READING"
      ]
    },
    {
      "cell_type": "code",
      "metadata": {
        "id": "oTGtzT7ENqV1",
        "colab_type": "code",
        "colab": {}
      },
      "source": [
        "start_df = pd.read_csv(\"/gdrive/My Drive/Capstone Project - NLP/fullacc.csv\",low_memory=False)"
      ],
      "execution_count": 0,
      "outputs": []
    },
    {
      "cell_type": "markdown",
      "metadata": {
        "id": "qitnSn50Ny9n",
        "colab_type": "text"
      },
      "source": [
        "Working on a copy of the dataframe so that I do not have to re-read the entire dataset again in order to save memory."
      ]
    },
    {
      "cell_type": "code",
      "metadata": {
        "id": "HH-kisr4NtPF",
        "colab_type": "code",
        "colab": {
          "base_uri": "https://localhost:8080/",
          "height": 692
        },
        "outputId": "cb77a52b-1dab-4809-f5bf-f97b573071c4"
      },
      "source": [
        "df = start_df.copy(deep=True)\n",
        "df.head()"
      ],
      "execution_count": 5,
      "outputs": [
        {
          "output_type": "execute_result",
          "data": {
            "text/html": [
              "<div>\n",
              "<style scoped>\n",
              "    .dataframe tbody tr th:only-of-type {\n",
              "        vertical-align: middle;\n",
              "    }\n",
              "\n",
              "    .dataframe tbody tr th {\n",
              "        vertical-align: top;\n",
              "    }\n",
              "\n",
              "    .dataframe thead th {\n",
              "        text-align: right;\n",
              "    }\n",
              "</style>\n",
              "<table border=\"1\" class=\"dataframe\">\n",
              "  <thead>\n",
              "    <tr style=\"text-align: right;\">\n",
              "      <th></th>\n",
              "      <th>id</th>\n",
              "      <th>member_id</th>\n",
              "      <th>loan_amnt</th>\n",
              "      <th>funded_amnt</th>\n",
              "      <th>funded_amnt_inv</th>\n",
              "      <th>term</th>\n",
              "      <th>int_rate</th>\n",
              "      <th>installment</th>\n",
              "      <th>grade</th>\n",
              "      <th>sub_grade</th>\n",
              "      <th>emp_title</th>\n",
              "      <th>emp_length</th>\n",
              "      <th>home_ownership</th>\n",
              "      <th>annual_inc</th>\n",
              "      <th>verification_status</th>\n",
              "      <th>issue_d</th>\n",
              "      <th>loan_status</th>\n",
              "      <th>pymnt_plan</th>\n",
              "      <th>url</th>\n",
              "      <th>desc</th>\n",
              "      <th>purpose</th>\n",
              "      <th>title</th>\n",
              "      <th>zip_code</th>\n",
              "      <th>addr_state</th>\n",
              "      <th>dti</th>\n",
              "      <th>delinq_2yrs</th>\n",
              "      <th>earliest_cr_line</th>\n",
              "      <th>fico_range_low</th>\n",
              "      <th>fico_range_high</th>\n",
              "      <th>inq_last_6mths</th>\n",
              "      <th>mths_since_last_delinq</th>\n",
              "      <th>mths_since_last_record</th>\n",
              "      <th>open_acc</th>\n",
              "      <th>pub_rec</th>\n",
              "      <th>revol_bal</th>\n",
              "      <th>revol_util</th>\n",
              "      <th>total_acc</th>\n",
              "      <th>initial_list_status</th>\n",
              "      <th>out_prncp</th>\n",
              "      <th>out_prncp_inv</th>\n",
              "      <th>...</th>\n",
              "      <th>tax_liens</th>\n",
              "      <th>tot_hi_cred_lim</th>\n",
              "      <th>total_bal_ex_mort</th>\n",
              "      <th>total_bc_limit</th>\n",
              "      <th>total_il_high_credit_limit</th>\n",
              "      <th>revol_bal_joint</th>\n",
              "      <th>sec_app_fico_range_low</th>\n",
              "      <th>sec_app_fico_range_high</th>\n",
              "      <th>sec_app_earliest_cr_line</th>\n",
              "      <th>sec_app_inq_last_6mths</th>\n",
              "      <th>sec_app_mort_acc</th>\n",
              "      <th>sec_app_open_acc</th>\n",
              "      <th>sec_app_revol_util</th>\n",
              "      <th>sec_app_open_act_il</th>\n",
              "      <th>sec_app_num_rev_accts</th>\n",
              "      <th>sec_app_chargeoff_within_12_mths</th>\n",
              "      <th>sec_app_collections_12_mths_ex_med</th>\n",
              "      <th>sec_app_mths_since_last_major_derog</th>\n",
              "      <th>hardship_flag</th>\n",
              "      <th>hardship_type</th>\n",
              "      <th>hardship_reason</th>\n",
              "      <th>hardship_status</th>\n",
              "      <th>deferral_term</th>\n",
              "      <th>hardship_amount</th>\n",
              "      <th>hardship_start_date</th>\n",
              "      <th>hardship_end_date</th>\n",
              "      <th>payment_plan_start_date</th>\n",
              "      <th>hardship_length</th>\n",
              "      <th>hardship_dpd</th>\n",
              "      <th>hardship_loan_status</th>\n",
              "      <th>orig_projected_additional_accrued_interest</th>\n",
              "      <th>hardship_payoff_balance_amount</th>\n",
              "      <th>hardship_last_payment_amount</th>\n",
              "      <th>debt_settlement_flag</th>\n",
              "      <th>debt_settlement_flag_date</th>\n",
              "      <th>settlement_status</th>\n",
              "      <th>settlement_date</th>\n",
              "      <th>settlement_amount</th>\n",
              "      <th>settlement_percentage</th>\n",
              "      <th>settlement_term</th>\n",
              "    </tr>\n",
              "  </thead>\n",
              "  <tbody>\n",
              "    <tr>\n",
              "      <th>0</th>\n",
              "      <td>1077501</td>\n",
              "      <td>NaN</td>\n",
              "      <td>5000</td>\n",
              "      <td>5000</td>\n",
              "      <td>4975.0</td>\n",
              "      <td>36 months</td>\n",
              "      <td>0.1065</td>\n",
              "      <td>162.87</td>\n",
              "      <td>B</td>\n",
              "      <td>B2</td>\n",
              "      <td>NaN</td>\n",
              "      <td>10+ years</td>\n",
              "      <td>RENT</td>\n",
              "      <td>24000.0</td>\n",
              "      <td>Verified</td>\n",
              "      <td>Dec-11</td>\n",
              "      <td>Fully Paid</td>\n",
              "      <td>n</td>\n",
              "      <td>https://lendingclub.com/browse/loanDetail.acti...</td>\n",
              "      <td>Borrower added on 12/22/11 &gt; I need to upgra...</td>\n",
              "      <td>credit_card</td>\n",
              "      <td>Computer</td>\n",
              "      <td>860xx</td>\n",
              "      <td>AZ</td>\n",
              "      <td>0.002765</td>\n",
              "      <td>0.0</td>\n",
              "      <td>Jan-85</td>\n",
              "      <td>735</td>\n",
              "      <td>739</td>\n",
              "      <td>1.0</td>\n",
              "      <td>NaN</td>\n",
              "      <td>NaN</td>\n",
              "      <td>3.0</td>\n",
              "      <td>0.0</td>\n",
              "      <td>13648</td>\n",
              "      <td>83.70%</td>\n",
              "      <td>9.0</td>\n",
              "      <td>f</td>\n",
              "      <td>0.0</td>\n",
              "      <td>0.0</td>\n",
              "      <td>...</td>\n",
              "      <td>0.0</td>\n",
              "      <td>NaN</td>\n",
              "      <td>NaN</td>\n",
              "      <td>NaN</td>\n",
              "      <td>NaN</td>\n",
              "      <td>NaN</td>\n",
              "      <td>NaN</td>\n",
              "      <td>NaN</td>\n",
              "      <td>NaN</td>\n",
              "      <td>NaN</td>\n",
              "      <td>NaN</td>\n",
              "      <td>NaN</td>\n",
              "      <td>NaN</td>\n",
              "      <td>NaN</td>\n",
              "      <td>NaN</td>\n",
              "      <td>NaN</td>\n",
              "      <td>NaN</td>\n",
              "      <td>NaN</td>\n",
              "      <td>N</td>\n",
              "      <td>NaN</td>\n",
              "      <td>NaN</td>\n",
              "      <td>NaN</td>\n",
              "      <td>NaN</td>\n",
              "      <td>NaN</td>\n",
              "      <td>NaN</td>\n",
              "      <td>NaN</td>\n",
              "      <td>NaN</td>\n",
              "      <td>NaN</td>\n",
              "      <td>NaN</td>\n",
              "      <td>NaN</td>\n",
              "      <td>NaN</td>\n",
              "      <td>NaN</td>\n",
              "      <td>NaN</td>\n",
              "      <td>N</td>\n",
              "      <td>NaN</td>\n",
              "      <td>NaN</td>\n",
              "      <td>NaN</td>\n",
              "      <td>NaN</td>\n",
              "      <td>NaN</td>\n",
              "      <td>NaN</td>\n",
              "    </tr>\n",
              "    <tr>\n",
              "      <th>1</th>\n",
              "      <td>1077430</td>\n",
              "      <td>NaN</td>\n",
              "      <td>2500</td>\n",
              "      <td>2500</td>\n",
              "      <td>2500.0</td>\n",
              "      <td>60 months</td>\n",
              "      <td>0.1527</td>\n",
              "      <td>59.83</td>\n",
              "      <td>C</td>\n",
              "      <td>C4</td>\n",
              "      <td>Ryder</td>\n",
              "      <td>&lt; 1 year</td>\n",
              "      <td>RENT</td>\n",
              "      <td>30000.0</td>\n",
              "      <td>Source Verified</td>\n",
              "      <td>Dec-11</td>\n",
              "      <td>Charged Off</td>\n",
              "      <td>n</td>\n",
              "      <td>https://lendingclub.com/browse/loanDetail.acti...</td>\n",
              "      <td>Borrower added on 12/22/11 &gt; I plan to use t...</td>\n",
              "      <td>car</td>\n",
              "      <td>bike</td>\n",
              "      <td>309xx</td>\n",
              "      <td>GA</td>\n",
              "      <td>0.000100</td>\n",
              "      <td>0.0</td>\n",
              "      <td>Apr-99</td>\n",
              "      <td>740</td>\n",
              "      <td>744</td>\n",
              "      <td>5.0</td>\n",
              "      <td>NaN</td>\n",
              "      <td>NaN</td>\n",
              "      <td>3.0</td>\n",
              "      <td>0.0</td>\n",
              "      <td>1687</td>\n",
              "      <td>9.40%</td>\n",
              "      <td>4.0</td>\n",
              "      <td>f</td>\n",
              "      <td>0.0</td>\n",
              "      <td>0.0</td>\n",
              "      <td>...</td>\n",
              "      <td>0.0</td>\n",
              "      <td>NaN</td>\n",
              "      <td>NaN</td>\n",
              "      <td>NaN</td>\n",
              "      <td>NaN</td>\n",
              "      <td>NaN</td>\n",
              "      <td>NaN</td>\n",
              "      <td>NaN</td>\n",
              "      <td>NaN</td>\n",
              "      <td>NaN</td>\n",
              "      <td>NaN</td>\n",
              "      <td>NaN</td>\n",
              "      <td>NaN</td>\n",
              "      <td>NaN</td>\n",
              "      <td>NaN</td>\n",
              "      <td>NaN</td>\n",
              "      <td>NaN</td>\n",
              "      <td>NaN</td>\n",
              "      <td>N</td>\n",
              "      <td>NaN</td>\n",
              "      <td>NaN</td>\n",
              "      <td>NaN</td>\n",
              "      <td>NaN</td>\n",
              "      <td>NaN</td>\n",
              "      <td>NaN</td>\n",
              "      <td>NaN</td>\n",
              "      <td>NaN</td>\n",
              "      <td>NaN</td>\n",
              "      <td>NaN</td>\n",
              "      <td>NaN</td>\n",
              "      <td>NaN</td>\n",
              "      <td>NaN</td>\n",
              "      <td>NaN</td>\n",
              "      <td>N</td>\n",
              "      <td>NaN</td>\n",
              "      <td>NaN</td>\n",
              "      <td>NaN</td>\n",
              "      <td>NaN</td>\n",
              "      <td>NaN</td>\n",
              "      <td>NaN</td>\n",
              "    </tr>\n",
              "    <tr>\n",
              "      <th>2</th>\n",
              "      <td>1077175</td>\n",
              "      <td>NaN</td>\n",
              "      <td>2400</td>\n",
              "      <td>2400</td>\n",
              "      <td>2400.0</td>\n",
              "      <td>36 months</td>\n",
              "      <td>0.1596</td>\n",
              "      <td>84.33</td>\n",
              "      <td>C</td>\n",
              "      <td>C5</td>\n",
              "      <td>NaN</td>\n",
              "      <td>10+ years</td>\n",
              "      <td>RENT</td>\n",
              "      <td>12252.0</td>\n",
              "      <td>Not Verified</td>\n",
              "      <td>Dec-11</td>\n",
              "      <td>Fully Paid</td>\n",
              "      <td>n</td>\n",
              "      <td>https://lendingclub.com/browse/loanDetail.acti...</td>\n",
              "      <td>NaN</td>\n",
              "      <td>small_business</td>\n",
              "      <td>real estate business</td>\n",
              "      <td>606xx</td>\n",
              "      <td>IL</td>\n",
              "      <td>0.000872</td>\n",
              "      <td>0.0</td>\n",
              "      <td>Nov-01</td>\n",
              "      <td>735</td>\n",
              "      <td>739</td>\n",
              "      <td>2.0</td>\n",
              "      <td>NaN</td>\n",
              "      <td>NaN</td>\n",
              "      <td>2.0</td>\n",
              "      <td>0.0</td>\n",
              "      <td>2956</td>\n",
              "      <td>98.50%</td>\n",
              "      <td>10.0</td>\n",
              "      <td>f</td>\n",
              "      <td>0.0</td>\n",
              "      <td>0.0</td>\n",
              "      <td>...</td>\n",
              "      <td>0.0</td>\n",
              "      <td>NaN</td>\n",
              "      <td>NaN</td>\n",
              "      <td>NaN</td>\n",
              "      <td>NaN</td>\n",
              "      <td>NaN</td>\n",
              "      <td>NaN</td>\n",
              "      <td>NaN</td>\n",
              "      <td>NaN</td>\n",
              "      <td>NaN</td>\n",
              "      <td>NaN</td>\n",
              "      <td>NaN</td>\n",
              "      <td>NaN</td>\n",
              "      <td>NaN</td>\n",
              "      <td>NaN</td>\n",
              "      <td>NaN</td>\n",
              "      <td>NaN</td>\n",
              "      <td>NaN</td>\n",
              "      <td>N</td>\n",
              "      <td>NaN</td>\n",
              "      <td>NaN</td>\n",
              "      <td>NaN</td>\n",
              "      <td>NaN</td>\n",
              "      <td>NaN</td>\n",
              "      <td>NaN</td>\n",
              "      <td>NaN</td>\n",
              "      <td>NaN</td>\n",
              "      <td>NaN</td>\n",
              "      <td>NaN</td>\n",
              "      <td>NaN</td>\n",
              "      <td>NaN</td>\n",
              "      <td>NaN</td>\n",
              "      <td>NaN</td>\n",
              "      <td>N</td>\n",
              "      <td>NaN</td>\n",
              "      <td>NaN</td>\n",
              "      <td>NaN</td>\n",
              "      <td>NaN</td>\n",
              "      <td>NaN</td>\n",
              "      <td>NaN</td>\n",
              "    </tr>\n",
              "    <tr>\n",
              "      <th>3</th>\n",
              "      <td>1076863</td>\n",
              "      <td>NaN</td>\n",
              "      <td>10000</td>\n",
              "      <td>10000</td>\n",
              "      <td>10000.0</td>\n",
              "      <td>36 months</td>\n",
              "      <td>0.1349</td>\n",
              "      <td>339.31</td>\n",
              "      <td>C</td>\n",
              "      <td>C1</td>\n",
              "      <td>AIR RESOURCES BOARD</td>\n",
              "      <td>10+ years</td>\n",
              "      <td>RENT</td>\n",
              "      <td>49200.0</td>\n",
              "      <td>Source Verified</td>\n",
              "      <td>Dec-11</td>\n",
              "      <td>Fully Paid</td>\n",
              "      <td>n</td>\n",
              "      <td>https://lendingclub.com/browse/loanDetail.acti...</td>\n",
              "      <td>Borrower added on 12/21/11 &gt; to pay for prop...</td>\n",
              "      <td>other</td>\n",
              "      <td>personel</td>\n",
              "      <td>917xx</td>\n",
              "      <td>CA</td>\n",
              "      <td>0.002000</td>\n",
              "      <td>0.0</td>\n",
              "      <td>Feb-96</td>\n",
              "      <td>690</td>\n",
              "      <td>694</td>\n",
              "      <td>1.0</td>\n",
              "      <td>35.0</td>\n",
              "      <td>NaN</td>\n",
              "      <td>10.0</td>\n",
              "      <td>0.0</td>\n",
              "      <td>5598</td>\n",
              "      <td>21%</td>\n",
              "      <td>37.0</td>\n",
              "      <td>f</td>\n",
              "      <td>0.0</td>\n",
              "      <td>0.0</td>\n",
              "      <td>...</td>\n",
              "      <td>0.0</td>\n",
              "      <td>NaN</td>\n",
              "      <td>NaN</td>\n",
              "      <td>NaN</td>\n",
              "      <td>NaN</td>\n",
              "      <td>NaN</td>\n",
              "      <td>NaN</td>\n",
              "      <td>NaN</td>\n",
              "      <td>NaN</td>\n",
              "      <td>NaN</td>\n",
              "      <td>NaN</td>\n",
              "      <td>NaN</td>\n",
              "      <td>NaN</td>\n",
              "      <td>NaN</td>\n",
              "      <td>NaN</td>\n",
              "      <td>NaN</td>\n",
              "      <td>NaN</td>\n",
              "      <td>NaN</td>\n",
              "      <td>N</td>\n",
              "      <td>NaN</td>\n",
              "      <td>NaN</td>\n",
              "      <td>NaN</td>\n",
              "      <td>NaN</td>\n",
              "      <td>NaN</td>\n",
              "      <td>NaN</td>\n",
              "      <td>NaN</td>\n",
              "      <td>NaN</td>\n",
              "      <td>NaN</td>\n",
              "      <td>NaN</td>\n",
              "      <td>NaN</td>\n",
              "      <td>NaN</td>\n",
              "      <td>NaN</td>\n",
              "      <td>NaN</td>\n",
              "      <td>N</td>\n",
              "      <td>NaN</td>\n",
              "      <td>NaN</td>\n",
              "      <td>NaN</td>\n",
              "      <td>NaN</td>\n",
              "      <td>NaN</td>\n",
              "      <td>NaN</td>\n",
              "    </tr>\n",
              "    <tr>\n",
              "      <th>4</th>\n",
              "      <td>1075358</td>\n",
              "      <td>NaN</td>\n",
              "      <td>3000</td>\n",
              "      <td>3000</td>\n",
              "      <td>3000.0</td>\n",
              "      <td>60 months</td>\n",
              "      <td>0.1269</td>\n",
              "      <td>67.79</td>\n",
              "      <td>B</td>\n",
              "      <td>B5</td>\n",
              "      <td>University Medical Group</td>\n",
              "      <td>1 year</td>\n",
              "      <td>RENT</td>\n",
              "      <td>80000.0</td>\n",
              "      <td>Source Verified</td>\n",
              "      <td>Dec-11</td>\n",
              "      <td>Fully Paid</td>\n",
              "      <td>n</td>\n",
              "      <td>https://lendingclub.com/browse/loanDetail.acti...</td>\n",
              "      <td>Borrower added on 12/21/11 &gt; I plan on combi...</td>\n",
              "      <td>other</td>\n",
              "      <td>Personal</td>\n",
              "      <td>972xx</td>\n",
              "      <td>OR</td>\n",
              "      <td>0.001794</td>\n",
              "      <td>0.0</td>\n",
              "      <td>Jan-96</td>\n",
              "      <td>695</td>\n",
              "      <td>699</td>\n",
              "      <td>0.0</td>\n",
              "      <td>38.0</td>\n",
              "      <td>NaN</td>\n",
              "      <td>15.0</td>\n",
              "      <td>0.0</td>\n",
              "      <td>27783</td>\n",
              "      <td>53.90%</td>\n",
              "      <td>38.0</td>\n",
              "      <td>f</td>\n",
              "      <td>0.0</td>\n",
              "      <td>0.0</td>\n",
              "      <td>...</td>\n",
              "      <td>0.0</td>\n",
              "      <td>NaN</td>\n",
              "      <td>NaN</td>\n",
              "      <td>NaN</td>\n",
              "      <td>NaN</td>\n",
              "      <td>NaN</td>\n",
              "      <td>NaN</td>\n",
              "      <td>NaN</td>\n",
              "      <td>NaN</td>\n",
              "      <td>NaN</td>\n",
              "      <td>NaN</td>\n",
              "      <td>NaN</td>\n",
              "      <td>NaN</td>\n",
              "      <td>NaN</td>\n",
              "      <td>NaN</td>\n",
              "      <td>NaN</td>\n",
              "      <td>NaN</td>\n",
              "      <td>NaN</td>\n",
              "      <td>N</td>\n",
              "      <td>NaN</td>\n",
              "      <td>NaN</td>\n",
              "      <td>NaN</td>\n",
              "      <td>NaN</td>\n",
              "      <td>NaN</td>\n",
              "      <td>NaN</td>\n",
              "      <td>NaN</td>\n",
              "      <td>NaN</td>\n",
              "      <td>NaN</td>\n",
              "      <td>NaN</td>\n",
              "      <td>NaN</td>\n",
              "      <td>NaN</td>\n",
              "      <td>NaN</td>\n",
              "      <td>NaN</td>\n",
              "      <td>N</td>\n",
              "      <td>NaN</td>\n",
              "      <td>NaN</td>\n",
              "      <td>NaN</td>\n",
              "      <td>NaN</td>\n",
              "      <td>NaN</td>\n",
              "      <td>NaN</td>\n",
              "    </tr>\n",
              "  </tbody>\n",
              "</table>\n",
              "<p>5 rows × 150 columns</p>\n",
              "</div>"
            ],
            "text/plain": [
              "        id  member_id  ...  settlement_percentage  settlement_term\n",
              "0  1077501        NaN  ...                    NaN              NaN\n",
              "1  1077430        NaN  ...                    NaN              NaN\n",
              "2  1077175        NaN  ...                    NaN              NaN\n",
              "3  1076863        NaN  ...                    NaN              NaN\n",
              "4  1075358        NaN  ...                    NaN              NaN\n",
              "\n",
              "[5 rows x 150 columns]"
            ]
          },
          "metadata": {
            "tags": []
          },
          "execution_count": 5
        }
      ]
    },
    {
      "cell_type": "code",
      "metadata": {
        "id": "8O4Wr790N0p0",
        "colab_type": "code",
        "colab": {
          "base_uri": "https://localhost:8080/",
          "height": 35
        },
        "outputId": "ed47c93e-6b53-4f1b-cb25-f86672efdc95"
      },
      "source": [
        "print('There are {} rows and {} columns in the dataset.'.format(df.shape[0],df.shape[1]))"
      ],
      "execution_count": 6,
      "outputs": [
        {
          "output_type": "stream",
          "text": [
            "There are 334262 rows and 150 columns in the dataset.\n"
          ],
          "name": "stdout"
        }
      ]
    },
    {
      "cell_type": "code",
      "metadata": {
        "id": "iEd33P-iN7O3",
        "colab_type": "code",
        "colab": {
          "base_uri": "https://localhost:8080/",
          "height": 177
        },
        "outputId": "f873c53d-fa17-476f-b0f5-5d31d4301a63"
      },
      "source": [
        "#printing the name of columns\n",
        "df.columns"
      ],
      "execution_count": 7,
      "outputs": [
        {
          "output_type": "execute_result",
          "data": {
            "text/plain": [
              "Index(['id', 'member_id', 'loan_amnt', 'funded_amnt', 'funded_amnt_inv',\n",
              "       'term', 'int_rate', 'installment', 'grade', 'sub_grade',\n",
              "       ...\n",
              "       'orig_projected_additional_accrued_interest',\n",
              "       'hardship_payoff_balance_amount', 'hardship_last_payment_amount',\n",
              "       'debt_settlement_flag', 'debt_settlement_flag_date',\n",
              "       'settlement_status', 'settlement_date', 'settlement_amount',\n",
              "       'settlement_percentage', 'settlement_term'],\n",
              "      dtype='object', length=150)"
            ]
          },
          "metadata": {
            "tags": []
          },
          "execution_count": 7
        }
      ]
    },
    {
      "cell_type": "markdown",
      "metadata": {
        "id": "ZwFjuKf0N-jS",
        "colab_type": "text"
      },
      "source": [
        "# 3. EDA and MISSING VALUE TREATMENT"
      ]
    },
    {
      "cell_type": "code",
      "metadata": {
        "id": "Uu7PkaD0N8l1",
        "colab_type": "code",
        "colab": {
          "base_uri": "https://localhost:8080/",
          "height": 340
        },
        "outputId": "e23a3288-a693-4820-aadf-c68f5711fcac"
      },
      "source": [
        "# This will print basic statistics for numerical columns\n",
        "df.describe()"
      ],
      "execution_count": 8,
      "outputs": [
        {
          "output_type": "execute_result",
          "data": {
            "text/html": [
              "<div>\n",
              "<style scoped>\n",
              "    .dataframe tbody tr th:only-of-type {\n",
              "        vertical-align: middle;\n",
              "    }\n",
              "\n",
              "    .dataframe tbody tr th {\n",
              "        vertical-align: top;\n",
              "    }\n",
              "\n",
              "    .dataframe thead th {\n",
              "        text-align: right;\n",
              "    }\n",
              "</style>\n",
              "<table border=\"1\" class=\"dataframe\">\n",
              "  <thead>\n",
              "    <tr style=\"text-align: right;\">\n",
              "      <th></th>\n",
              "      <th>id</th>\n",
              "      <th>member_id</th>\n",
              "      <th>loan_amnt</th>\n",
              "      <th>funded_amnt</th>\n",
              "      <th>funded_amnt_inv</th>\n",
              "      <th>int_rate</th>\n",
              "      <th>installment</th>\n",
              "      <th>annual_inc</th>\n",
              "      <th>dti</th>\n",
              "      <th>delinq_2yrs</th>\n",
              "      <th>fico_range_low</th>\n",
              "      <th>fico_range_high</th>\n",
              "      <th>inq_last_6mths</th>\n",
              "      <th>mths_since_last_delinq</th>\n",
              "      <th>mths_since_last_record</th>\n",
              "      <th>open_acc</th>\n",
              "      <th>pub_rec</th>\n",
              "      <th>revol_bal</th>\n",
              "      <th>total_acc</th>\n",
              "      <th>out_prncp</th>\n",
              "      <th>out_prncp_inv</th>\n",
              "      <th>total_pymnt</th>\n",
              "      <th>total_pymnt_inv</th>\n",
              "      <th>total_rec_prncp</th>\n",
              "      <th>total_rec_int</th>\n",
              "      <th>total_rec_late_fee</th>\n",
              "      <th>recoveries</th>\n",
              "      <th>collection_recovery_fee</th>\n",
              "      <th>last_pymnt_amnt</th>\n",
              "      <th>last_fico_range_high</th>\n",
              "      <th>last_fico_range_low</th>\n",
              "      <th>collections_12_mths_ex_med</th>\n",
              "      <th>mths_since_last_major_derog</th>\n",
              "      <th>policy_code</th>\n",
              "      <th>annual_inc_joint</th>\n",
              "      <th>dti_joint</th>\n",
              "      <th>acc_now_delinq</th>\n",
              "      <th>tot_coll_amt</th>\n",
              "      <th>tot_cur_bal</th>\n",
              "      <th>open_acc_6m</th>\n",
              "      <th>...</th>\n",
              "      <th>num_il_tl</th>\n",
              "      <th>num_op_rev_tl</th>\n",
              "      <th>num_rev_accts</th>\n",
              "      <th>num_rev_tl_bal_gt_0</th>\n",
              "      <th>num_sats</th>\n",
              "      <th>num_tl_120dpd_2m</th>\n",
              "      <th>num_tl_30dpd</th>\n",
              "      <th>num_tl_90g_dpd_24m</th>\n",
              "      <th>num_tl_op_past_12m</th>\n",
              "      <th>pct_tl_nvr_dlq</th>\n",
              "      <th>percent_bc_gt_75</th>\n",
              "      <th>pub_rec_bankruptcies</th>\n",
              "      <th>tax_liens</th>\n",
              "      <th>tot_hi_cred_lim</th>\n",
              "      <th>total_bal_ex_mort</th>\n",
              "      <th>total_bc_limit</th>\n",
              "      <th>total_il_high_credit_limit</th>\n",
              "      <th>revol_bal_joint</th>\n",
              "      <th>sec_app_fico_range_low</th>\n",
              "      <th>sec_app_fico_range_high</th>\n",
              "      <th>sec_app_earliest_cr_line</th>\n",
              "      <th>sec_app_inq_last_6mths</th>\n",
              "      <th>sec_app_mort_acc</th>\n",
              "      <th>sec_app_open_acc</th>\n",
              "      <th>sec_app_revol_util</th>\n",
              "      <th>sec_app_open_act_il</th>\n",
              "      <th>sec_app_num_rev_accts</th>\n",
              "      <th>sec_app_chargeoff_within_12_mths</th>\n",
              "      <th>sec_app_collections_12_mths_ex_med</th>\n",
              "      <th>sec_app_mths_since_last_major_derog</th>\n",
              "      <th>deferral_term</th>\n",
              "      <th>hardship_amount</th>\n",
              "      <th>hardship_length</th>\n",
              "      <th>hardship_dpd</th>\n",
              "      <th>orig_projected_additional_accrued_interest</th>\n",
              "      <th>hardship_payoff_balance_amount</th>\n",
              "      <th>hardship_last_payment_amount</th>\n",
              "      <th>settlement_amount</th>\n",
              "      <th>settlement_percentage</th>\n",
              "      <th>settlement_term</th>\n",
              "    </tr>\n",
              "  </thead>\n",
              "  <tbody>\n",
              "    <tr>\n",
              "      <th>count</th>\n",
              "      <td>3.342620e+05</td>\n",
              "      <td>0.0</td>\n",
              "      <td>334262.000000</td>\n",
              "      <td>334262.000000</td>\n",
              "      <td>334262.000000</td>\n",
              "      <td>334262.00000</td>\n",
              "      <td>334262.000000</td>\n",
              "      <td>3.342580e+05</td>\n",
              "      <td>334234.000000</td>\n",
              "      <td>334233.000000</td>\n",
              "      <td>334262.000000</td>\n",
              "      <td>334262.000000</td>\n",
              "      <td>334233.000000</td>\n",
              "      <td>151989.000000</td>\n",
              "      <td>42205.000000</td>\n",
              "      <td>334233.000000</td>\n",
              "      <td>334233.000000</td>\n",
              "      <td>3.342620e+05</td>\n",
              "      <td>334233.000000</td>\n",
              "      <td>334262.000000</td>\n",
              "      <td>334262.000000</td>\n",
              "      <td>334262.000000</td>\n",
              "      <td>334262.000000</td>\n",
              "      <td>334262.000000</td>\n",
              "      <td>334262.000000</td>\n",
              "      <td>334262.000000</td>\n",
              "      <td>334262.000000</td>\n",
              "      <td>334262.000000</td>\n",
              "      <td>334262.000000</td>\n",
              "      <td>334262.000000</td>\n",
              "      <td>334262.000000</td>\n",
              "      <td>334117.000000</td>\n",
              "      <td>63181.000000</td>\n",
              "      <td>334262.0</td>\n",
              "      <td>4.136000e+03</td>\n",
              "      <td>4136.000000</td>\n",
              "      <td>334233.000000</td>\n",
              "      <td>263986.000000</td>\n",
              "      <td>2.639860e+05</td>\n",
              "      <td>103546.000000</td>\n",
              "      <td>...</td>\n",
              "      <td>263986.000000</td>\n",
              "      <td>263986.000000</td>\n",
              "      <td>263986.000000</td>\n",
              "      <td>263986.000000</td>\n",
              "      <td>275672.000000</td>\n",
              "      <td>258092.000000</td>\n",
              "      <td>263986.000000</td>\n",
              "      <td>263986.000000</td>\n",
              "      <td>263986.000000</td>\n",
              "      <td>263833.000000</td>\n",
              "      <td>281351.000000</td>\n",
              "      <td>332897.000000</td>\n",
              "      <td>334157.000000</td>\n",
              "      <td>2.639860e+05</td>\n",
              "      <td>2.842320e+05</td>\n",
              "      <td>284232.000000</td>\n",
              "      <td>2.639860e+05</td>\n",
              "      <td>0.0</td>\n",
              "      <td>0.0</td>\n",
              "      <td>0.0</td>\n",
              "      <td>0.0</td>\n",
              "      <td>0.0</td>\n",
              "      <td>0.0</td>\n",
              "      <td>0.0</td>\n",
              "      <td>0.0</td>\n",
              "      <td>0.0</td>\n",
              "      <td>0.0</td>\n",
              "      <td>0.0</td>\n",
              "      <td>0.0</td>\n",
              "      <td>0.0</td>\n",
              "      <td>1189.0</td>\n",
              "      <td>1189.000000</td>\n",
              "      <td>1189.0</td>\n",
              "      <td>1189.000000</td>\n",
              "      <td>924.000000</td>\n",
              "      <td>1189.000000</td>\n",
              "      <td>1189.000000</td>\n",
              "      <td>4980.000000</td>\n",
              "      <td>4980.000000</td>\n",
              "      <td>4980.000000</td>\n",
              "    </tr>\n",
              "    <tr>\n",
              "      <th>mean</th>\n",
              "      <td>3.164503e+07</td>\n",
              "      <td>NaN</td>\n",
              "      <td>13875.948283</td>\n",
              "      <td>13840.409320</td>\n",
              "      <td>13744.993511</td>\n",
              "      <td>0.13816</td>\n",
              "      <td>425.222429</td>\n",
              "      <td>7.447377e+04</td>\n",
              "      <td>0.001712</td>\n",
              "      <td>0.267212</td>\n",
              "      <td>698.371981</td>\n",
              "      <td>702.372070</td>\n",
              "      <td>0.762953</td>\n",
              "      <td>34.494523</td>\n",
              "      <td>74.883213</td>\n",
              "      <td>11.015507</td>\n",
              "      <td>0.150895</td>\n",
              "      <td>1.607664e+04</td>\n",
              "      <td>24.062056</td>\n",
              "      <td>529.126631</td>\n",
              "      <td>528.995478</td>\n",
              "      <td>14944.843258</td>\n",
              "      <td>14845.579036</td>\n",
              "      <td>11787.303418</td>\n",
              "      <td>2974.938506</td>\n",
              "      <td>1.598782</td>\n",
              "      <td>181.002558</td>\n",
              "      <td>24.858432</td>\n",
              "      <td>3968.100194</td>\n",
              "      <td>682.480058</td>\n",
              "      <td>668.680496</td>\n",
              "      <td>0.008548</td>\n",
              "      <td>42.982352</td>\n",
              "      <td>1.0</td>\n",
              "      <td>1.139798e+05</td>\n",
              "      <td>18.034579</td>\n",
              "      <td>0.003530</td>\n",
              "      <td>154.674051</td>\n",
              "      <td>1.402929e+05</td>\n",
              "      <td>1.003206</td>\n",
              "      <td>...</td>\n",
              "      <td>8.079269</td>\n",
              "      <td>8.105384</td>\n",
              "      <td>14.432068</td>\n",
              "      <td>5.627988</td>\n",
              "      <td>11.307619</td>\n",
              "      <td>0.000678</td>\n",
              "      <td>0.002871</td>\n",
              "      <td>0.076731</td>\n",
              "      <td>1.930095</td>\n",
              "      <td>94.574750</td>\n",
              "      <td>49.559745</td>\n",
              "      <td>0.100112</td>\n",
              "      <td>0.031931</td>\n",
              "      <td>1.714015e+05</td>\n",
              "      <td>4.661599e+04</td>\n",
              "      <td>20963.748185</td>\n",
              "      <td>3.904553e+04</td>\n",
              "      <td>NaN</td>\n",
              "      <td>NaN</td>\n",
              "      <td>NaN</td>\n",
              "      <td>NaN</td>\n",
              "      <td>NaN</td>\n",
              "      <td>NaN</td>\n",
              "      <td>NaN</td>\n",
              "      <td>NaN</td>\n",
              "      <td>NaN</td>\n",
              "      <td>NaN</td>\n",
              "      <td>NaN</td>\n",
              "      <td>NaN</td>\n",
              "      <td>NaN</td>\n",
              "      <td>3.0</td>\n",
              "      <td>158.134113</td>\n",
              "      <td>3.0</td>\n",
              "      <td>13.714045</td>\n",
              "      <td>454.083247</td>\n",
              "      <td>11501.755517</td>\n",
              "      <td>181.890538</td>\n",
              "      <td>4632.592337</td>\n",
              "      <td>47.011159</td>\n",
              "      <td>10.858233</td>\n",
              "    </tr>\n",
              "    <tr>\n",
              "      <th>std</th>\n",
              "      <td>4.114463e+07</td>\n",
              "      <td>NaN</td>\n",
              "      <td>8456.075067</td>\n",
              "      <td>8437.598651</td>\n",
              "      <td>8465.548267</td>\n",
              "      <td>0.04575</td>\n",
              "      <td>253.955017</td>\n",
              "      <td>6.245915e+04</td>\n",
              "      <td>0.000909</td>\n",
              "      <td>0.775058</td>\n",
              "      <td>31.676947</td>\n",
              "      <td>31.677364</td>\n",
              "      <td>1.073888</td>\n",
              "      <td>21.782080</td>\n",
              "      <td>29.755241</td>\n",
              "      <td>5.035588</td>\n",
              "      <td>0.497684</td>\n",
              "      <td>2.075735e+04</td>\n",
              "      <td>11.432065</td>\n",
              "      <td>2320.875181</td>\n",
              "      <td>2320.584334</td>\n",
              "      <td>10351.531723</td>\n",
              "      <td>10367.476867</td>\n",
              "      <td>8216.350661</td>\n",
              "      <td>3224.871279</td>\n",
              "      <td>11.935766</td>\n",
              "      <td>838.080795</td>\n",
              "      <td>141.214422</td>\n",
              "      <td>5941.951128</td>\n",
              "      <td>79.300176</td>\n",
              "      <td>120.989880</td>\n",
              "      <td>0.103159</td>\n",
              "      <td>21.338562</td>\n",
              "      <td>0.0</td>\n",
              "      <td>5.359257e+04</td>\n",
              "      <td>6.830180</td>\n",
              "      <td>0.065177</td>\n",
              "      <td>2162.366510</td>\n",
              "      <td>1.563619e+05</td>\n",
              "      <td>1.181623</td>\n",
              "      <td>...</td>\n",
              "      <td>6.967748</td>\n",
              "      <td>4.235378</td>\n",
              "      <td>7.637122</td>\n",
              "      <td>3.068014</td>\n",
              "      <td>5.082346</td>\n",
              "      <td>0.026909</td>\n",
              "      <td>0.057336</td>\n",
              "      <td>0.453984</td>\n",
              "      <td>1.687814</td>\n",
              "      <td>8.404424</td>\n",
              "      <td>35.394278</td>\n",
              "      <td>0.323046</td>\n",
              "      <td>0.312322</td>\n",
              "      <td>1.753001e+05</td>\n",
              "      <td>4.505938e+04</td>\n",
              "      <td>20121.399271</td>\n",
              "      <td>4.146716e+04</td>\n",
              "      <td>NaN</td>\n",
              "      <td>NaN</td>\n",
              "      <td>NaN</td>\n",
              "      <td>NaN</td>\n",
              "      <td>NaN</td>\n",
              "      <td>NaN</td>\n",
              "      <td>NaN</td>\n",
              "      <td>NaN</td>\n",
              "      <td>NaN</td>\n",
              "      <td>NaN</td>\n",
              "      <td>NaN</td>\n",
              "      <td>NaN</td>\n",
              "      <td>NaN</td>\n",
              "      <td>0.0</td>\n",
              "      <td>132.157596</td>\n",
              "      <td>0.0</td>\n",
              "      <td>9.710402</td>\n",
              "      <td>374.560643</td>\n",
              "      <td>7764.558706</td>\n",
              "      <td>196.320385</td>\n",
              "      <td>3495.971759</td>\n",
              "      <td>7.844463</td>\n",
              "      <td>8.918410</td>\n",
              "    </tr>\n",
              "    <tr>\n",
              "      <th>min</th>\n",
              "      <td>5.473400e+04</td>\n",
              "      <td>NaN</td>\n",
              "      <td>500.000000</td>\n",
              "      <td>500.000000</td>\n",
              "      <td>0.000000</td>\n",
              "      <td>0.05320</td>\n",
              "      <td>4.930000</td>\n",
              "      <td>0.000000e+00</td>\n",
              "      <td>0.000000</td>\n",
              "      <td>0.000000</td>\n",
              "      <td>610.000000</td>\n",
              "      <td>614.000000</td>\n",
              "      <td>0.000000</td>\n",
              "      <td>0.000000</td>\n",
              "      <td>0.000000</td>\n",
              "      <td>0.000000</td>\n",
              "      <td>0.000000</td>\n",
              "      <td>0.000000e+00</td>\n",
              "      <td>1.000000</td>\n",
              "      <td>0.000000</td>\n",
              "      <td>0.000000</td>\n",
              "      <td>0.000000</td>\n",
              "      <td>0.000000</td>\n",
              "      <td>0.000000</td>\n",
              "      <td>0.000000</td>\n",
              "      <td>0.000000</td>\n",
              "      <td>0.000000</td>\n",
              "      <td>0.000000</td>\n",
              "      <td>0.000000</td>\n",
              "      <td>0.000000</td>\n",
              "      <td>0.000000</td>\n",
              "      <td>0.000000</td>\n",
              "      <td>0.000000</td>\n",
              "      <td>1.0</td>\n",
              "      <td>1.347000e+04</td>\n",
              "      <td>0.320000</td>\n",
              "      <td>0.000000</td>\n",
              "      <td>0.000000</td>\n",
              "      <td>0.000000e+00</td>\n",
              "      <td>0.000000</td>\n",
              "      <td>...</td>\n",
              "      <td>0.000000</td>\n",
              "      <td>0.000000</td>\n",
              "      <td>0.000000</td>\n",
              "      <td>0.000000</td>\n",
              "      <td>0.000000</td>\n",
              "      <td>0.000000</td>\n",
              "      <td>0.000000</td>\n",
              "      <td>0.000000</td>\n",
              "      <td>0.000000</td>\n",
              "      <td>0.000000</td>\n",
              "      <td>0.000000</td>\n",
              "      <td>0.000000</td>\n",
              "      <td>0.000000</td>\n",
              "      <td>0.000000e+00</td>\n",
              "      <td>0.000000e+00</td>\n",
              "      <td>0.000000</td>\n",
              "      <td>0.000000e+00</td>\n",
              "      <td>NaN</td>\n",
              "      <td>NaN</td>\n",
              "      <td>NaN</td>\n",
              "      <td>NaN</td>\n",
              "      <td>NaN</td>\n",
              "      <td>NaN</td>\n",
              "      <td>NaN</td>\n",
              "      <td>NaN</td>\n",
              "      <td>NaN</td>\n",
              "      <td>NaN</td>\n",
              "      <td>NaN</td>\n",
              "      <td>NaN</td>\n",
              "      <td>NaN</td>\n",
              "      <td>3.0</td>\n",
              "      <td>0.890000</td>\n",
              "      <td>3.0</td>\n",
              "      <td>0.000000</td>\n",
              "      <td>14.460000</td>\n",
              "      <td>169.350000</td>\n",
              "      <td>0.010000</td>\n",
              "      <td>121.910000</td>\n",
              "      <td>0.200000</td>\n",
              "      <td>0.000000</td>\n",
              "    </tr>\n",
              "    <tr>\n",
              "      <th>25%</th>\n",
              "      <td>1.622362e+06</td>\n",
              "      <td>NaN</td>\n",
              "      <td>7350.000000</td>\n",
              "      <td>7225.000000</td>\n",
              "      <td>7200.000000</td>\n",
              "      <td>0.10740</td>\n",
              "      <td>239.642500</td>\n",
              "      <td>4.500000e+04</td>\n",
              "      <td>0.001121</td>\n",
              "      <td>0.000000</td>\n",
              "      <td>675.000000</td>\n",
              "      <td>679.000000</td>\n",
              "      <td>0.000000</td>\n",
              "      <td>16.000000</td>\n",
              "      <td>56.000000</td>\n",
              "      <td>7.000000</td>\n",
              "      <td>0.000000</td>\n",
              "      <td>6.302000e+03</td>\n",
              "      <td>16.000000</td>\n",
              "      <td>0.000000</td>\n",
              "      <td>0.000000</td>\n",
              "      <td>7143.039155</td>\n",
              "      <td>7050.792500</td>\n",
              "      <td>5447.100000</td>\n",
              "      <td>951.420000</td>\n",
              "      <td>0.000000</td>\n",
              "      <td>0.000000</td>\n",
              "      <td>0.000000</td>\n",
              "      <td>332.570000</td>\n",
              "      <td>634.000000</td>\n",
              "      <td>630.000000</td>\n",
              "      <td>0.000000</td>\n",
              "      <td>26.000000</td>\n",
              "      <td>1.0</td>\n",
              "      <td>8.000000e+04</td>\n",
              "      <td>13.240000</td>\n",
              "      <td>0.000000</td>\n",
              "      <td>0.000000</td>\n",
              "      <td>2.842000e+04</td>\n",
              "      <td>0.000000</td>\n",
              "      <td>...</td>\n",
              "      <td>3.000000</td>\n",
              "      <td>5.000000</td>\n",
              "      <td>9.000000</td>\n",
              "      <td>3.000000</td>\n",
              "      <td>8.000000</td>\n",
              "      <td>0.000000</td>\n",
              "      <td>0.000000</td>\n",
              "      <td>0.000000</td>\n",
              "      <td>1.000000</td>\n",
              "      <td>92.000000</td>\n",
              "      <td>20.000000</td>\n",
              "      <td>0.000000</td>\n",
              "      <td>0.000000</td>\n",
              "      <td>4.740225e+04</td>\n",
              "      <td>1.982300e+04</td>\n",
              "      <td>8000.000000</td>\n",
              "      <td>1.259200e+04</td>\n",
              "      <td>NaN</td>\n",
              "      <td>NaN</td>\n",
              "      <td>NaN</td>\n",
              "      <td>NaN</td>\n",
              "      <td>NaN</td>\n",
              "      <td>NaN</td>\n",
              "      <td>NaN</td>\n",
              "      <td>NaN</td>\n",
              "      <td>NaN</td>\n",
              "      <td>NaN</td>\n",
              "      <td>NaN</td>\n",
              "      <td>NaN</td>\n",
              "      <td>NaN</td>\n",
              "      <td>3.0</td>\n",
              "      <td>58.990000</td>\n",
              "      <td>3.0</td>\n",
              "      <td>4.000000</td>\n",
              "      <td>169.852500</td>\n",
              "      <td>5161.000000</td>\n",
              "      <td>40.280000</td>\n",
              "      <td>1984.570000</td>\n",
              "      <td>45.000000</td>\n",
              "      <td>0.000000</td>\n",
              "    </tr>\n",
              "    <tr>\n",
              "      <th>50%</th>\n",
              "      <td>6.542988e+06</td>\n",
              "      <td>NaN</td>\n",
              "      <td>12000.000000</td>\n",
              "      <td>12000.000000</td>\n",
              "      <td>12000.000000</td>\n",
              "      <td>0.13490</td>\n",
              "      <td>369.260000</td>\n",
              "      <td>6.324000e+04</td>\n",
              "      <td>0.001677</td>\n",
              "      <td>0.000000</td>\n",
              "      <td>690.000000</td>\n",
              "      <td>694.000000</td>\n",
              "      <td>0.000000</td>\n",
              "      <td>31.000000</td>\n",
              "      <td>80.000000</td>\n",
              "      <td>10.000000</td>\n",
              "      <td>0.000000</td>\n",
              "      <td>1.153800e+04</td>\n",
              "      <td>22.000000</td>\n",
              "      <td>0.000000</td>\n",
              "      <td>0.000000</td>\n",
              "      <td>12280.343005</td>\n",
              "      <td>12200.340000</td>\n",
              "      <td>10000.000000</td>\n",
              "      <td>1895.950000</td>\n",
              "      <td>0.000000</td>\n",
              "      <td>0.000000</td>\n",
              "      <td>0.000000</td>\n",
              "      <td>832.730000</td>\n",
              "      <td>694.000000</td>\n",
              "      <td>690.000000</td>\n",
              "      <td>0.000000</td>\n",
              "      <td>42.000000</td>\n",
              "      <td>1.0</td>\n",
              "      <td>1.050000e+05</td>\n",
              "      <td>17.840000</td>\n",
              "      <td>0.000000</td>\n",
              "      <td>0.000000</td>\n",
              "      <td>8.097800e+04</td>\n",
              "      <td>1.000000</td>\n",
              "      <td>...</td>\n",
              "      <td>6.000000</td>\n",
              "      <td>7.000000</td>\n",
              "      <td>13.000000</td>\n",
              "      <td>5.000000</td>\n",
              "      <td>10.000000</td>\n",
              "      <td>0.000000</td>\n",
              "      <td>0.000000</td>\n",
              "      <td>0.000000</td>\n",
              "      <td>2.000000</td>\n",
              "      <td>100.000000</td>\n",
              "      <td>50.000000</td>\n",
              "      <td>0.000000</td>\n",
              "      <td>0.000000</td>\n",
              "      <td>1.113610e+05</td>\n",
              "      <td>3.492800e+04</td>\n",
              "      <td>15000.000000</td>\n",
              "      <td>2.898600e+04</td>\n",
              "      <td>NaN</td>\n",
              "      <td>NaN</td>\n",
              "      <td>NaN</td>\n",
              "      <td>NaN</td>\n",
              "      <td>NaN</td>\n",
              "      <td>NaN</td>\n",
              "      <td>NaN</td>\n",
              "      <td>NaN</td>\n",
              "      <td>NaN</td>\n",
              "      <td>NaN</td>\n",
              "      <td>NaN</td>\n",
              "      <td>NaN</td>\n",
              "      <td>NaN</td>\n",
              "      <td>3.0</td>\n",
              "      <td>119.380000</td>\n",
              "      <td>3.0</td>\n",
              "      <td>15.000000</td>\n",
              "      <td>341.235000</td>\n",
              "      <td>9660.130000</td>\n",
              "      <td>111.880000</td>\n",
              "      <td>3777.840000</td>\n",
              "      <td>45.000000</td>\n",
              "      <td>12.000000</td>\n",
              "    </tr>\n",
              "    <tr>\n",
              "      <th>75%</th>\n",
              "      <td>9.138392e+07</td>\n",
              "      <td>NaN</td>\n",
              "      <td>19500.000000</td>\n",
              "      <td>19300.000000</td>\n",
              "      <td>19200.000000</td>\n",
              "      <td>0.16320</td>\n",
              "      <td>560.690000</td>\n",
              "      <td>9.000000e+04</td>\n",
              "      <td>0.002265</td>\n",
              "      <td>0.000000</td>\n",
              "      <td>715.000000</td>\n",
              "      <td>719.000000</td>\n",
              "      <td>1.000000</td>\n",
              "      <td>49.000000</td>\n",
              "      <td>98.000000</td>\n",
              "      <td>14.000000</td>\n",
              "      <td>0.000000</td>\n",
              "      <td>1.993000e+04</td>\n",
              "      <td>31.000000</td>\n",
              "      <td>0.000000</td>\n",
              "      <td>0.000000</td>\n",
              "      <td>20476.160000</td>\n",
              "      <td>20378.855000</td>\n",
              "      <td>16000.000000</td>\n",
              "      <td>3686.547500</td>\n",
              "      <td>0.000000</td>\n",
              "      <td>0.000000</td>\n",
              "      <td>0.000000</td>\n",
              "      <td>5541.702500</td>\n",
              "      <td>739.000000</td>\n",
              "      <td>735.000000</td>\n",
              "      <td>0.000000</td>\n",
              "      <td>60.000000</td>\n",
              "      <td>1.0</td>\n",
              "      <td>1.353580e+05</td>\n",
              "      <td>22.482500</td>\n",
              "      <td>0.000000</td>\n",
              "      <td>0.000000</td>\n",
              "      <td>2.107005e+05</td>\n",
              "      <td>2.000000</td>\n",
              "      <td>...</td>\n",
              "      <td>11.000000</td>\n",
              "      <td>10.000000</td>\n",
              "      <td>18.000000</td>\n",
              "      <td>7.000000</td>\n",
              "      <td>14.000000</td>\n",
              "      <td>0.000000</td>\n",
              "      <td>0.000000</td>\n",
              "      <td>0.000000</td>\n",
              "      <td>3.000000</td>\n",
              "      <td>100.000000</td>\n",
              "      <td>80.000000</td>\n",
              "      <td>0.000000</td>\n",
              "      <td>0.000000</td>\n",
              "      <td>2.492342e+05</td>\n",
              "      <td>5.826425e+04</td>\n",
              "      <td>27300.000000</td>\n",
              "      <td>5.267300e+04</td>\n",
              "      <td>NaN</td>\n",
              "      <td>NaN</td>\n",
              "      <td>NaN</td>\n",
              "      <td>NaN</td>\n",
              "      <td>NaN</td>\n",
              "      <td>NaN</td>\n",
              "      <td>NaN</td>\n",
              "      <td>NaN</td>\n",
              "      <td>NaN</td>\n",
              "      <td>NaN</td>\n",
              "      <td>NaN</td>\n",
              "      <td>NaN</td>\n",
              "      <td>NaN</td>\n",
              "      <td>3.0</td>\n",
              "      <td>217.330000</td>\n",
              "      <td>3.0</td>\n",
              "      <td>22.000000</td>\n",
              "      <td>612.060000</td>\n",
              "      <td>16190.170000</td>\n",
              "      <td>258.850000</td>\n",
              "      <td>6353.500000</td>\n",
              "      <td>50.000000</td>\n",
              "      <td>18.000000</td>\n",
              "    </tr>\n",
              "    <tr>\n",
              "      <th>max</th>\n",
              "      <td>9.645316e+07</td>\n",
              "      <td>NaN</td>\n",
              "      <td>40000.000000</td>\n",
              "      <td>40000.000000</td>\n",
              "      <td>40000.000000</td>\n",
              "      <td>0.30990</td>\n",
              "      <td>1584.900000</td>\n",
              "      <td>7.141778e+06</td>\n",
              "      <td>0.099900</td>\n",
              "      <td>29.000000</td>\n",
              "      <td>845.000000</td>\n",
              "      <td>850.000000</td>\n",
              "      <td>33.000000</td>\n",
              "      <td>195.000000</td>\n",
              "      <td>129.000000</td>\n",
              "      <td>97.000000</td>\n",
              "      <td>54.000000</td>\n",
              "      <td>2.568995e+06</td>\n",
              "      <td>137.000000</td>\n",
              "      <td>27139.160000</td>\n",
              "      <td>27139.160000</td>\n",
              "      <td>62884.797380</td>\n",
              "      <td>62862.510000</td>\n",
              "      <td>40000.000000</td>\n",
              "      <td>27884.800000</td>\n",
              "      <td>1040.000000</td>\n",
              "      <td>39444.370000</td>\n",
              "      <td>7002.190000</td>\n",
              "      <td>41399.440000</td>\n",
              "      <td>850.000000</td>\n",
              "      <td>845.000000</td>\n",
              "      <td>9.000000</td>\n",
              "      <td>195.000000</td>\n",
              "      <td>1.0</td>\n",
              "      <td>1.050000e+06</td>\n",
              "      <td>55.520000</td>\n",
              "      <td>6.000000</td>\n",
              "      <td>848438.000000</td>\n",
              "      <td>8.000078e+06</td>\n",
              "      <td>14.000000</td>\n",
              "      <td>...</td>\n",
              "      <td>113.000000</td>\n",
              "      <td>91.000000</td>\n",
              "      <td>108.000000</td>\n",
              "      <td>43.000000</td>\n",
              "      <td>97.000000</td>\n",
              "      <td>2.000000</td>\n",
              "      <td>4.000000</td>\n",
              "      <td>29.000000</td>\n",
              "      <td>29.000000</td>\n",
              "      <td>100.000000</td>\n",
              "      <td>100.000000</td>\n",
              "      <td>8.000000</td>\n",
              "      <td>53.000000</td>\n",
              "      <td>9.999999e+06</td>\n",
              "      <td>2.644442e+06</td>\n",
              "      <td>719500.000000</td>\n",
              "      <td>1.214546e+06</td>\n",
              "      <td>NaN</td>\n",
              "      <td>NaN</td>\n",
              "      <td>NaN</td>\n",
              "      <td>NaN</td>\n",
              "      <td>NaN</td>\n",
              "      <td>NaN</td>\n",
              "      <td>NaN</td>\n",
              "      <td>NaN</td>\n",
              "      <td>NaN</td>\n",
              "      <td>NaN</td>\n",
              "      <td>NaN</td>\n",
              "      <td>NaN</td>\n",
              "      <td>NaN</td>\n",
              "      <td>3.0</td>\n",
              "      <td>735.190000</td>\n",
              "      <td>3.0</td>\n",
              "      <td>30.000000</td>\n",
              "      <td>2121.780000</td>\n",
              "      <td>36605.830000</td>\n",
              "      <td>1377.170000</td>\n",
              "      <td>33601.000000</td>\n",
              "      <td>184.360000</td>\n",
              "      <td>45.000000</td>\n",
              "    </tr>\n",
              "  </tbody>\n",
              "</table>\n",
              "<p>8 rows × 114 columns</p>\n",
              "</div>"
            ],
            "text/plain": [
              "                 id  member_id  ...  settlement_percentage  settlement_term\n",
              "count  3.342620e+05        0.0  ...            4980.000000      4980.000000\n",
              "mean   3.164503e+07        NaN  ...              47.011159        10.858233\n",
              "std    4.114463e+07        NaN  ...               7.844463         8.918410\n",
              "min    5.473400e+04        NaN  ...               0.200000         0.000000\n",
              "25%    1.622362e+06        NaN  ...              45.000000         0.000000\n",
              "50%    6.542988e+06        NaN  ...              45.000000        12.000000\n",
              "75%    9.138392e+07        NaN  ...              50.000000        18.000000\n",
              "max    9.645316e+07        NaN  ...             184.360000        45.000000\n",
              "\n",
              "[8 rows x 114 columns]"
            ]
          },
          "metadata": {
            "tags": []
          },
          "execution_count": 8
        }
      ]
    },
    {
      "cell_type": "markdown",
      "metadata": {
        "id": "kjzLEH7tOJwx",
        "colab_type": "text"
      },
      "source": [
        "So, we've got a lot of columns that we need to understand. Knowing what the columns mean can help us a lot for better results."
      ]
    },
    {
      "cell_type": "code",
      "metadata": {
        "id": "K2X0vwVfOHqy",
        "colab_type": "code",
        "colab": {}
      },
      "source": [
        "#Removing all other predictors and their associated predictor columns containing amount related data other than loan amount which we will be using for modelling\n",
        "drop_list = ['funded_amnt','funded_amnt_inv','last_pymnt_amnt','delinq_amnt']\n",
        "df = df.drop(drop_list,axis=1)"
      ],
      "execution_count": 0,
      "outputs": []
    },
    {
      "cell_type": "code",
      "metadata": {
        "id": "28jHvl9POSfJ",
        "colab_type": "code",
        "colab": {
          "base_uri": "https://localhost:8080/",
          "height": 35
        },
        "outputId": "2c08a6ee-befa-4312-f2f8-13e12d96a071"
      },
      "source": [
        "df.shape"
      ],
      "execution_count": 10,
      "outputs": [
        {
          "output_type": "execute_result",
          "data": {
            "text/plain": [
              "(334262, 146)"
            ]
          },
          "metadata": {
            "tags": []
          },
          "execution_count": 10
        }
      ]
    },
    {
      "cell_type": "code",
      "metadata": {
        "id": "bq0vAwMkOTZZ",
        "colab_type": "code",
        "colab": {}
      },
      "source": [
        "#removing grade, sub grade and interest columns\n",
        "drop_list1 = ['grade','sub_grade','int_rate']\n",
        "df = df.drop(drop_list1,axis=1)"
      ],
      "execution_count": 0,
      "outputs": []
    },
    {
      "cell_type": "code",
      "metadata": {
        "id": "Rt9x6_Q-OZ_i",
        "colab_type": "code",
        "colab": {
          "base_uri": "https://localhost:8080/",
          "height": 35
        },
        "outputId": "633a2cd9-2b71-41fe-8409-992f7f2221e3"
      },
      "source": [
        "df.shape"
      ],
      "execution_count": 13,
      "outputs": [
        {
          "output_type": "execute_result",
          "data": {
            "text/plain": [
              "(334262, 143)"
            ]
          },
          "metadata": {
            "tags": []
          },
          "execution_count": 13
        }
      ]
    },
    {
      "cell_type": "markdown",
      "metadata": {
        "id": "Sz_og5B-Oflt",
        "colab_type": "text"
      },
      "source": [
        "Printing the Data Dictionary to refer and understand the data better"
      ]
    },
    {
      "cell_type": "code",
      "metadata": {
        "id": "rClz_xggOdVf",
        "colab_type": "code",
        "colab": {
          "base_uri": "https://localhost:8080/",
          "height": 1000
        },
        "outputId": "3f2897c2-5cfb-427d-84d5-e2a40043c812"
      },
      "source": [
        "df_description = pd.read_excel(r'/gdrive/My Drive/Capstone Project - NLP/Harsh/LCDataDictionary.xlsx').dropna()\n",
        "print(df_description.shape[0])\n",
        "df_description.style.set_properties(subset=['Description'], **{'width': '1000px'})"
      ],
      "execution_count": 14,
      "outputs": [
        {
          "output_type": "stream",
          "text": [
            "151\n"
          ],
          "name": "stdout"
        },
        {
          "output_type": "execute_result",
          "data": {
            "text/html": [
              "<style  type=\"text/css\" >\n",
              "    #T_5012fbfa_8c92_11ea_a655_0242ac1c0002row0_col1 {\n",
              "            width:  1000px;\n",
              "        }    #T_5012fbfa_8c92_11ea_a655_0242ac1c0002row1_col1 {\n",
              "            width:  1000px;\n",
              "        }    #T_5012fbfa_8c92_11ea_a655_0242ac1c0002row2_col1 {\n",
              "            width:  1000px;\n",
              "        }    #T_5012fbfa_8c92_11ea_a655_0242ac1c0002row3_col1 {\n",
              "            width:  1000px;\n",
              "        }    #T_5012fbfa_8c92_11ea_a655_0242ac1c0002row4_col1 {\n",
              "            width:  1000px;\n",
              "        }    #T_5012fbfa_8c92_11ea_a655_0242ac1c0002row5_col1 {\n",
              "            width:  1000px;\n",
              "        }    #T_5012fbfa_8c92_11ea_a655_0242ac1c0002row6_col1 {\n",
              "            width:  1000px;\n",
              "        }    #T_5012fbfa_8c92_11ea_a655_0242ac1c0002row7_col1 {\n",
              "            width:  1000px;\n",
              "        }    #T_5012fbfa_8c92_11ea_a655_0242ac1c0002row8_col1 {\n",
              "            width:  1000px;\n",
              "        }    #T_5012fbfa_8c92_11ea_a655_0242ac1c0002row9_col1 {\n",
              "            width:  1000px;\n",
              "        }    #T_5012fbfa_8c92_11ea_a655_0242ac1c0002row10_col1 {\n",
              "            width:  1000px;\n",
              "        }    #T_5012fbfa_8c92_11ea_a655_0242ac1c0002row11_col1 {\n",
              "            width:  1000px;\n",
              "        }    #T_5012fbfa_8c92_11ea_a655_0242ac1c0002row12_col1 {\n",
              "            width:  1000px;\n",
              "        }    #T_5012fbfa_8c92_11ea_a655_0242ac1c0002row13_col1 {\n",
              "            width:  1000px;\n",
              "        }    #T_5012fbfa_8c92_11ea_a655_0242ac1c0002row14_col1 {\n",
              "            width:  1000px;\n",
              "        }    #T_5012fbfa_8c92_11ea_a655_0242ac1c0002row15_col1 {\n",
              "            width:  1000px;\n",
              "        }    #T_5012fbfa_8c92_11ea_a655_0242ac1c0002row16_col1 {\n",
              "            width:  1000px;\n",
              "        }    #T_5012fbfa_8c92_11ea_a655_0242ac1c0002row17_col1 {\n",
              "            width:  1000px;\n",
              "        }    #T_5012fbfa_8c92_11ea_a655_0242ac1c0002row18_col1 {\n",
              "            width:  1000px;\n",
              "        }    #T_5012fbfa_8c92_11ea_a655_0242ac1c0002row19_col1 {\n",
              "            width:  1000px;\n",
              "        }    #T_5012fbfa_8c92_11ea_a655_0242ac1c0002row20_col1 {\n",
              "            width:  1000px;\n",
              "        }    #T_5012fbfa_8c92_11ea_a655_0242ac1c0002row21_col1 {\n",
              "            width:  1000px;\n",
              "        }    #T_5012fbfa_8c92_11ea_a655_0242ac1c0002row22_col1 {\n",
              "            width:  1000px;\n",
              "        }    #T_5012fbfa_8c92_11ea_a655_0242ac1c0002row23_col1 {\n",
              "            width:  1000px;\n",
              "        }    #T_5012fbfa_8c92_11ea_a655_0242ac1c0002row24_col1 {\n",
              "            width:  1000px;\n",
              "        }    #T_5012fbfa_8c92_11ea_a655_0242ac1c0002row25_col1 {\n",
              "            width:  1000px;\n",
              "        }    #T_5012fbfa_8c92_11ea_a655_0242ac1c0002row26_col1 {\n",
              "            width:  1000px;\n",
              "        }    #T_5012fbfa_8c92_11ea_a655_0242ac1c0002row27_col1 {\n",
              "            width:  1000px;\n",
              "        }    #T_5012fbfa_8c92_11ea_a655_0242ac1c0002row28_col1 {\n",
              "            width:  1000px;\n",
              "        }    #T_5012fbfa_8c92_11ea_a655_0242ac1c0002row29_col1 {\n",
              "            width:  1000px;\n",
              "        }    #T_5012fbfa_8c92_11ea_a655_0242ac1c0002row30_col1 {\n",
              "            width:  1000px;\n",
              "        }    #T_5012fbfa_8c92_11ea_a655_0242ac1c0002row31_col1 {\n",
              "            width:  1000px;\n",
              "        }    #T_5012fbfa_8c92_11ea_a655_0242ac1c0002row32_col1 {\n",
              "            width:  1000px;\n",
              "        }    #T_5012fbfa_8c92_11ea_a655_0242ac1c0002row33_col1 {\n",
              "            width:  1000px;\n",
              "        }    #T_5012fbfa_8c92_11ea_a655_0242ac1c0002row34_col1 {\n",
              "            width:  1000px;\n",
              "        }    #T_5012fbfa_8c92_11ea_a655_0242ac1c0002row35_col1 {\n",
              "            width:  1000px;\n",
              "        }    #T_5012fbfa_8c92_11ea_a655_0242ac1c0002row36_col1 {\n",
              "            width:  1000px;\n",
              "        }    #T_5012fbfa_8c92_11ea_a655_0242ac1c0002row37_col1 {\n",
              "            width:  1000px;\n",
              "        }    #T_5012fbfa_8c92_11ea_a655_0242ac1c0002row38_col1 {\n",
              "            width:  1000px;\n",
              "        }    #T_5012fbfa_8c92_11ea_a655_0242ac1c0002row39_col1 {\n",
              "            width:  1000px;\n",
              "        }    #T_5012fbfa_8c92_11ea_a655_0242ac1c0002row40_col1 {\n",
              "            width:  1000px;\n",
              "        }    #T_5012fbfa_8c92_11ea_a655_0242ac1c0002row41_col1 {\n",
              "            width:  1000px;\n",
              "        }    #T_5012fbfa_8c92_11ea_a655_0242ac1c0002row42_col1 {\n",
              "            width:  1000px;\n",
              "        }    #T_5012fbfa_8c92_11ea_a655_0242ac1c0002row43_col1 {\n",
              "            width:  1000px;\n",
              "        }    #T_5012fbfa_8c92_11ea_a655_0242ac1c0002row44_col1 {\n",
              "            width:  1000px;\n",
              "        }    #T_5012fbfa_8c92_11ea_a655_0242ac1c0002row45_col1 {\n",
              "            width:  1000px;\n",
              "        }    #T_5012fbfa_8c92_11ea_a655_0242ac1c0002row46_col1 {\n",
              "            width:  1000px;\n",
              "        }    #T_5012fbfa_8c92_11ea_a655_0242ac1c0002row47_col1 {\n",
              "            width:  1000px;\n",
              "        }    #T_5012fbfa_8c92_11ea_a655_0242ac1c0002row48_col1 {\n",
              "            width:  1000px;\n",
              "        }    #T_5012fbfa_8c92_11ea_a655_0242ac1c0002row49_col1 {\n",
              "            width:  1000px;\n",
              "        }    #T_5012fbfa_8c92_11ea_a655_0242ac1c0002row50_col1 {\n",
              "            width:  1000px;\n",
              "        }    #T_5012fbfa_8c92_11ea_a655_0242ac1c0002row51_col1 {\n",
              "            width:  1000px;\n",
              "        }    #T_5012fbfa_8c92_11ea_a655_0242ac1c0002row52_col1 {\n",
              "            width:  1000px;\n",
              "        }    #T_5012fbfa_8c92_11ea_a655_0242ac1c0002row53_col1 {\n",
              "            width:  1000px;\n",
              "        }    #T_5012fbfa_8c92_11ea_a655_0242ac1c0002row54_col1 {\n",
              "            width:  1000px;\n",
              "        }    #T_5012fbfa_8c92_11ea_a655_0242ac1c0002row55_col1 {\n",
              "            width:  1000px;\n",
              "        }    #T_5012fbfa_8c92_11ea_a655_0242ac1c0002row56_col1 {\n",
              "            width:  1000px;\n",
              "        }    #T_5012fbfa_8c92_11ea_a655_0242ac1c0002row57_col1 {\n",
              "            width:  1000px;\n",
              "        }    #T_5012fbfa_8c92_11ea_a655_0242ac1c0002row58_col1 {\n",
              "            width:  1000px;\n",
              "        }    #T_5012fbfa_8c92_11ea_a655_0242ac1c0002row59_col1 {\n",
              "            width:  1000px;\n",
              "        }    #T_5012fbfa_8c92_11ea_a655_0242ac1c0002row60_col1 {\n",
              "            width:  1000px;\n",
              "        }    #T_5012fbfa_8c92_11ea_a655_0242ac1c0002row61_col1 {\n",
              "            width:  1000px;\n",
              "        }    #T_5012fbfa_8c92_11ea_a655_0242ac1c0002row62_col1 {\n",
              "            width:  1000px;\n",
              "        }    #T_5012fbfa_8c92_11ea_a655_0242ac1c0002row63_col1 {\n",
              "            width:  1000px;\n",
              "        }    #T_5012fbfa_8c92_11ea_a655_0242ac1c0002row64_col1 {\n",
              "            width:  1000px;\n",
              "        }    #T_5012fbfa_8c92_11ea_a655_0242ac1c0002row65_col1 {\n",
              "            width:  1000px;\n",
              "        }    #T_5012fbfa_8c92_11ea_a655_0242ac1c0002row66_col1 {\n",
              "            width:  1000px;\n",
              "        }    #T_5012fbfa_8c92_11ea_a655_0242ac1c0002row67_col1 {\n",
              "            width:  1000px;\n",
              "        }    #T_5012fbfa_8c92_11ea_a655_0242ac1c0002row68_col1 {\n",
              "            width:  1000px;\n",
              "        }    #T_5012fbfa_8c92_11ea_a655_0242ac1c0002row69_col1 {\n",
              "            width:  1000px;\n",
              "        }    #T_5012fbfa_8c92_11ea_a655_0242ac1c0002row70_col1 {\n",
              "            width:  1000px;\n",
              "        }    #T_5012fbfa_8c92_11ea_a655_0242ac1c0002row71_col1 {\n",
              "            width:  1000px;\n",
              "        }    #T_5012fbfa_8c92_11ea_a655_0242ac1c0002row72_col1 {\n",
              "            width:  1000px;\n",
              "        }    #T_5012fbfa_8c92_11ea_a655_0242ac1c0002row73_col1 {\n",
              "            width:  1000px;\n",
              "        }    #T_5012fbfa_8c92_11ea_a655_0242ac1c0002row74_col1 {\n",
              "            width:  1000px;\n",
              "        }    #T_5012fbfa_8c92_11ea_a655_0242ac1c0002row75_col1 {\n",
              "            width:  1000px;\n",
              "        }    #T_5012fbfa_8c92_11ea_a655_0242ac1c0002row76_col1 {\n",
              "            width:  1000px;\n",
              "        }    #T_5012fbfa_8c92_11ea_a655_0242ac1c0002row77_col1 {\n",
              "            width:  1000px;\n",
              "        }    #T_5012fbfa_8c92_11ea_a655_0242ac1c0002row78_col1 {\n",
              "            width:  1000px;\n",
              "        }    #T_5012fbfa_8c92_11ea_a655_0242ac1c0002row79_col1 {\n",
              "            width:  1000px;\n",
              "        }    #T_5012fbfa_8c92_11ea_a655_0242ac1c0002row80_col1 {\n",
              "            width:  1000px;\n",
              "        }    #T_5012fbfa_8c92_11ea_a655_0242ac1c0002row81_col1 {\n",
              "            width:  1000px;\n",
              "        }    #T_5012fbfa_8c92_11ea_a655_0242ac1c0002row82_col1 {\n",
              "            width:  1000px;\n",
              "        }    #T_5012fbfa_8c92_11ea_a655_0242ac1c0002row83_col1 {\n",
              "            width:  1000px;\n",
              "        }    #T_5012fbfa_8c92_11ea_a655_0242ac1c0002row84_col1 {\n",
              "            width:  1000px;\n",
              "        }    #T_5012fbfa_8c92_11ea_a655_0242ac1c0002row85_col1 {\n",
              "            width:  1000px;\n",
              "        }    #T_5012fbfa_8c92_11ea_a655_0242ac1c0002row86_col1 {\n",
              "            width:  1000px;\n",
              "        }    #T_5012fbfa_8c92_11ea_a655_0242ac1c0002row87_col1 {\n",
              "            width:  1000px;\n",
              "        }    #T_5012fbfa_8c92_11ea_a655_0242ac1c0002row88_col1 {\n",
              "            width:  1000px;\n",
              "        }    #T_5012fbfa_8c92_11ea_a655_0242ac1c0002row89_col1 {\n",
              "            width:  1000px;\n",
              "        }    #T_5012fbfa_8c92_11ea_a655_0242ac1c0002row90_col1 {\n",
              "            width:  1000px;\n",
              "        }    #T_5012fbfa_8c92_11ea_a655_0242ac1c0002row91_col1 {\n",
              "            width:  1000px;\n",
              "        }    #T_5012fbfa_8c92_11ea_a655_0242ac1c0002row92_col1 {\n",
              "            width:  1000px;\n",
              "        }    #T_5012fbfa_8c92_11ea_a655_0242ac1c0002row93_col1 {\n",
              "            width:  1000px;\n",
              "        }    #T_5012fbfa_8c92_11ea_a655_0242ac1c0002row94_col1 {\n",
              "            width:  1000px;\n",
              "        }    #T_5012fbfa_8c92_11ea_a655_0242ac1c0002row95_col1 {\n",
              "            width:  1000px;\n",
              "        }    #T_5012fbfa_8c92_11ea_a655_0242ac1c0002row96_col1 {\n",
              "            width:  1000px;\n",
              "        }    #T_5012fbfa_8c92_11ea_a655_0242ac1c0002row97_col1 {\n",
              "            width:  1000px;\n",
              "        }    #T_5012fbfa_8c92_11ea_a655_0242ac1c0002row98_col1 {\n",
              "            width:  1000px;\n",
              "        }    #T_5012fbfa_8c92_11ea_a655_0242ac1c0002row99_col1 {\n",
              "            width:  1000px;\n",
              "        }    #T_5012fbfa_8c92_11ea_a655_0242ac1c0002row100_col1 {\n",
              "            width:  1000px;\n",
              "        }    #T_5012fbfa_8c92_11ea_a655_0242ac1c0002row101_col1 {\n",
              "            width:  1000px;\n",
              "        }    #T_5012fbfa_8c92_11ea_a655_0242ac1c0002row102_col1 {\n",
              "            width:  1000px;\n",
              "        }    #T_5012fbfa_8c92_11ea_a655_0242ac1c0002row103_col1 {\n",
              "            width:  1000px;\n",
              "        }    #T_5012fbfa_8c92_11ea_a655_0242ac1c0002row104_col1 {\n",
              "            width:  1000px;\n",
              "        }    #T_5012fbfa_8c92_11ea_a655_0242ac1c0002row105_col1 {\n",
              "            width:  1000px;\n",
              "        }    #T_5012fbfa_8c92_11ea_a655_0242ac1c0002row106_col1 {\n",
              "            width:  1000px;\n",
              "        }    #T_5012fbfa_8c92_11ea_a655_0242ac1c0002row107_col1 {\n",
              "            width:  1000px;\n",
              "        }    #T_5012fbfa_8c92_11ea_a655_0242ac1c0002row108_col1 {\n",
              "            width:  1000px;\n",
              "        }    #T_5012fbfa_8c92_11ea_a655_0242ac1c0002row109_col1 {\n",
              "            width:  1000px;\n",
              "        }    #T_5012fbfa_8c92_11ea_a655_0242ac1c0002row110_col1 {\n",
              "            width:  1000px;\n",
              "        }    #T_5012fbfa_8c92_11ea_a655_0242ac1c0002row111_col1 {\n",
              "            width:  1000px;\n",
              "        }    #T_5012fbfa_8c92_11ea_a655_0242ac1c0002row112_col1 {\n",
              "            width:  1000px;\n",
              "        }    #T_5012fbfa_8c92_11ea_a655_0242ac1c0002row113_col1 {\n",
              "            width:  1000px;\n",
              "        }    #T_5012fbfa_8c92_11ea_a655_0242ac1c0002row114_col1 {\n",
              "            width:  1000px;\n",
              "        }    #T_5012fbfa_8c92_11ea_a655_0242ac1c0002row115_col1 {\n",
              "            width:  1000px;\n",
              "        }    #T_5012fbfa_8c92_11ea_a655_0242ac1c0002row116_col1 {\n",
              "            width:  1000px;\n",
              "        }    #T_5012fbfa_8c92_11ea_a655_0242ac1c0002row117_col1 {\n",
              "            width:  1000px;\n",
              "        }    #T_5012fbfa_8c92_11ea_a655_0242ac1c0002row118_col1 {\n",
              "            width:  1000px;\n",
              "        }    #T_5012fbfa_8c92_11ea_a655_0242ac1c0002row119_col1 {\n",
              "            width:  1000px;\n",
              "        }    #T_5012fbfa_8c92_11ea_a655_0242ac1c0002row120_col1 {\n",
              "            width:  1000px;\n",
              "        }    #T_5012fbfa_8c92_11ea_a655_0242ac1c0002row121_col1 {\n",
              "            width:  1000px;\n",
              "        }    #T_5012fbfa_8c92_11ea_a655_0242ac1c0002row122_col1 {\n",
              "            width:  1000px;\n",
              "        }    #T_5012fbfa_8c92_11ea_a655_0242ac1c0002row123_col1 {\n",
              "            width:  1000px;\n",
              "        }    #T_5012fbfa_8c92_11ea_a655_0242ac1c0002row124_col1 {\n",
              "            width:  1000px;\n",
              "        }    #T_5012fbfa_8c92_11ea_a655_0242ac1c0002row125_col1 {\n",
              "            width:  1000px;\n",
              "        }    #T_5012fbfa_8c92_11ea_a655_0242ac1c0002row126_col1 {\n",
              "            width:  1000px;\n",
              "        }    #T_5012fbfa_8c92_11ea_a655_0242ac1c0002row127_col1 {\n",
              "            width:  1000px;\n",
              "        }    #T_5012fbfa_8c92_11ea_a655_0242ac1c0002row128_col1 {\n",
              "            width:  1000px;\n",
              "        }    #T_5012fbfa_8c92_11ea_a655_0242ac1c0002row129_col1 {\n",
              "            width:  1000px;\n",
              "        }    #T_5012fbfa_8c92_11ea_a655_0242ac1c0002row130_col1 {\n",
              "            width:  1000px;\n",
              "        }    #T_5012fbfa_8c92_11ea_a655_0242ac1c0002row131_col1 {\n",
              "            width:  1000px;\n",
              "        }    #T_5012fbfa_8c92_11ea_a655_0242ac1c0002row132_col1 {\n",
              "            width:  1000px;\n",
              "        }    #T_5012fbfa_8c92_11ea_a655_0242ac1c0002row133_col1 {\n",
              "            width:  1000px;\n",
              "        }    #T_5012fbfa_8c92_11ea_a655_0242ac1c0002row134_col1 {\n",
              "            width:  1000px;\n",
              "        }    #T_5012fbfa_8c92_11ea_a655_0242ac1c0002row135_col1 {\n",
              "            width:  1000px;\n",
              "        }    #T_5012fbfa_8c92_11ea_a655_0242ac1c0002row136_col1 {\n",
              "            width:  1000px;\n",
              "        }    #T_5012fbfa_8c92_11ea_a655_0242ac1c0002row137_col1 {\n",
              "            width:  1000px;\n",
              "        }    #T_5012fbfa_8c92_11ea_a655_0242ac1c0002row138_col1 {\n",
              "            width:  1000px;\n",
              "        }    #T_5012fbfa_8c92_11ea_a655_0242ac1c0002row139_col1 {\n",
              "            width:  1000px;\n",
              "        }    #T_5012fbfa_8c92_11ea_a655_0242ac1c0002row140_col1 {\n",
              "            width:  1000px;\n",
              "        }    #T_5012fbfa_8c92_11ea_a655_0242ac1c0002row141_col1 {\n",
              "            width:  1000px;\n",
              "        }    #T_5012fbfa_8c92_11ea_a655_0242ac1c0002row142_col1 {\n",
              "            width:  1000px;\n",
              "        }    #T_5012fbfa_8c92_11ea_a655_0242ac1c0002row143_col1 {\n",
              "            width:  1000px;\n",
              "        }    #T_5012fbfa_8c92_11ea_a655_0242ac1c0002row144_col1 {\n",
              "            width:  1000px;\n",
              "        }    #T_5012fbfa_8c92_11ea_a655_0242ac1c0002row145_col1 {\n",
              "            width:  1000px;\n",
              "        }    #T_5012fbfa_8c92_11ea_a655_0242ac1c0002row146_col1 {\n",
              "            width:  1000px;\n",
              "        }    #T_5012fbfa_8c92_11ea_a655_0242ac1c0002row147_col1 {\n",
              "            width:  1000px;\n",
              "        }    #T_5012fbfa_8c92_11ea_a655_0242ac1c0002row148_col1 {\n",
              "            width:  1000px;\n",
              "        }    #T_5012fbfa_8c92_11ea_a655_0242ac1c0002row149_col1 {\n",
              "            width:  1000px;\n",
              "        }    #T_5012fbfa_8c92_11ea_a655_0242ac1c0002row150_col1 {\n",
              "            width:  1000px;\n",
              "        }</style><table id=\"T_5012fbfa_8c92_11ea_a655_0242ac1c0002\" ><thead>    <tr>        <th class=\"blank level0\" ></th>        <th class=\"col_heading level0 col0\" >LoanStatNew</th>        <th class=\"col_heading level0 col1\" >Description</th>    </tr></thead><tbody>\n",
              "                <tr>\n",
              "                        <th id=\"T_5012fbfa_8c92_11ea_a655_0242ac1c0002level0_row0\" class=\"row_heading level0 row0\" >0</th>\n",
              "                        <td id=\"T_5012fbfa_8c92_11ea_a655_0242ac1c0002row0_col0\" class=\"data row0 col0\" >acc_now_delinq</td>\n",
              "                        <td id=\"T_5012fbfa_8c92_11ea_a655_0242ac1c0002row0_col1\" class=\"data row0 col1\" >The number of accounts on which the borrower is now delinquent.</td>\n",
              "            </tr>\n",
              "            <tr>\n",
              "                        <th id=\"T_5012fbfa_8c92_11ea_a655_0242ac1c0002level0_row1\" class=\"row_heading level0 row1\" >1</th>\n",
              "                        <td id=\"T_5012fbfa_8c92_11ea_a655_0242ac1c0002row1_col0\" class=\"data row1 col0\" >acc_open_past_24mths</td>\n",
              "                        <td id=\"T_5012fbfa_8c92_11ea_a655_0242ac1c0002row1_col1\" class=\"data row1 col1\" >Number of trades opened in past 24 months.</td>\n",
              "            </tr>\n",
              "            <tr>\n",
              "                        <th id=\"T_5012fbfa_8c92_11ea_a655_0242ac1c0002level0_row2\" class=\"row_heading level0 row2\" >2</th>\n",
              "                        <td id=\"T_5012fbfa_8c92_11ea_a655_0242ac1c0002row2_col0\" class=\"data row2 col0\" >addr_state</td>\n",
              "                        <td id=\"T_5012fbfa_8c92_11ea_a655_0242ac1c0002row2_col1\" class=\"data row2 col1\" >The state provided by the borrower in the loan application</td>\n",
              "            </tr>\n",
              "            <tr>\n",
              "                        <th id=\"T_5012fbfa_8c92_11ea_a655_0242ac1c0002level0_row3\" class=\"row_heading level0 row3\" >3</th>\n",
              "                        <td id=\"T_5012fbfa_8c92_11ea_a655_0242ac1c0002row3_col0\" class=\"data row3 col0\" >all_util</td>\n",
              "                        <td id=\"T_5012fbfa_8c92_11ea_a655_0242ac1c0002row3_col1\" class=\"data row3 col1\" >Balance to credit limit on all trades</td>\n",
              "            </tr>\n",
              "            <tr>\n",
              "                        <th id=\"T_5012fbfa_8c92_11ea_a655_0242ac1c0002level0_row4\" class=\"row_heading level0 row4\" >4</th>\n",
              "                        <td id=\"T_5012fbfa_8c92_11ea_a655_0242ac1c0002row4_col0\" class=\"data row4 col0\" >annual_inc</td>\n",
              "                        <td id=\"T_5012fbfa_8c92_11ea_a655_0242ac1c0002row4_col1\" class=\"data row4 col1\" >The self-reported annual income provided by the borrower during registration.</td>\n",
              "            </tr>\n",
              "            <tr>\n",
              "                        <th id=\"T_5012fbfa_8c92_11ea_a655_0242ac1c0002level0_row5\" class=\"row_heading level0 row5\" >5</th>\n",
              "                        <td id=\"T_5012fbfa_8c92_11ea_a655_0242ac1c0002row5_col0\" class=\"data row5 col0\" >annual_inc_joint</td>\n",
              "                        <td id=\"T_5012fbfa_8c92_11ea_a655_0242ac1c0002row5_col1\" class=\"data row5 col1\" >The combined self-reported annual income provided by the co-borrowers during registration</td>\n",
              "            </tr>\n",
              "            <tr>\n",
              "                        <th id=\"T_5012fbfa_8c92_11ea_a655_0242ac1c0002level0_row6\" class=\"row_heading level0 row6\" >6</th>\n",
              "                        <td id=\"T_5012fbfa_8c92_11ea_a655_0242ac1c0002row6_col0\" class=\"data row6 col0\" >application_type</td>\n",
              "                        <td id=\"T_5012fbfa_8c92_11ea_a655_0242ac1c0002row6_col1\" class=\"data row6 col1\" >Indicates whether the loan is an individual application or a joint application with two co-borrowers</td>\n",
              "            </tr>\n",
              "            <tr>\n",
              "                        <th id=\"T_5012fbfa_8c92_11ea_a655_0242ac1c0002level0_row7\" class=\"row_heading level0 row7\" >7</th>\n",
              "                        <td id=\"T_5012fbfa_8c92_11ea_a655_0242ac1c0002row7_col0\" class=\"data row7 col0\" >avg_cur_bal</td>\n",
              "                        <td id=\"T_5012fbfa_8c92_11ea_a655_0242ac1c0002row7_col1\" class=\"data row7 col1\" >Average current balance of all accounts</td>\n",
              "            </tr>\n",
              "            <tr>\n",
              "                        <th id=\"T_5012fbfa_8c92_11ea_a655_0242ac1c0002level0_row8\" class=\"row_heading level0 row8\" >8</th>\n",
              "                        <td id=\"T_5012fbfa_8c92_11ea_a655_0242ac1c0002row8_col0\" class=\"data row8 col0\" >bc_open_to_buy</td>\n",
              "                        <td id=\"T_5012fbfa_8c92_11ea_a655_0242ac1c0002row8_col1\" class=\"data row8 col1\" >Total open to buy on revolving bankcards.</td>\n",
              "            </tr>\n",
              "            <tr>\n",
              "                        <th id=\"T_5012fbfa_8c92_11ea_a655_0242ac1c0002level0_row9\" class=\"row_heading level0 row9\" >9</th>\n",
              "                        <td id=\"T_5012fbfa_8c92_11ea_a655_0242ac1c0002row9_col0\" class=\"data row9 col0\" >bc_util</td>\n",
              "                        <td id=\"T_5012fbfa_8c92_11ea_a655_0242ac1c0002row9_col1\" class=\"data row9 col1\" >Ratio of total current balance to high credit/credit limit for all bankcard accounts.</td>\n",
              "            </tr>\n",
              "            <tr>\n",
              "                        <th id=\"T_5012fbfa_8c92_11ea_a655_0242ac1c0002level0_row10\" class=\"row_heading level0 row10\" >10</th>\n",
              "                        <td id=\"T_5012fbfa_8c92_11ea_a655_0242ac1c0002row10_col0\" class=\"data row10 col0\" >chargeoff_within_12_mths</td>\n",
              "                        <td id=\"T_5012fbfa_8c92_11ea_a655_0242ac1c0002row10_col1\" class=\"data row10 col1\" >Number of charge-offs within 12 months</td>\n",
              "            </tr>\n",
              "            <tr>\n",
              "                        <th id=\"T_5012fbfa_8c92_11ea_a655_0242ac1c0002level0_row11\" class=\"row_heading level0 row11\" >11</th>\n",
              "                        <td id=\"T_5012fbfa_8c92_11ea_a655_0242ac1c0002row11_col0\" class=\"data row11 col0\" >collection_recovery_fee</td>\n",
              "                        <td id=\"T_5012fbfa_8c92_11ea_a655_0242ac1c0002row11_col1\" class=\"data row11 col1\" >post charge off collection fee</td>\n",
              "            </tr>\n",
              "            <tr>\n",
              "                        <th id=\"T_5012fbfa_8c92_11ea_a655_0242ac1c0002level0_row12\" class=\"row_heading level0 row12\" >12</th>\n",
              "                        <td id=\"T_5012fbfa_8c92_11ea_a655_0242ac1c0002row12_col0\" class=\"data row12 col0\" >collections_12_mths_ex_med</td>\n",
              "                        <td id=\"T_5012fbfa_8c92_11ea_a655_0242ac1c0002row12_col1\" class=\"data row12 col1\" >Number of collections in 12 months excluding medical collections</td>\n",
              "            </tr>\n",
              "            <tr>\n",
              "                        <th id=\"T_5012fbfa_8c92_11ea_a655_0242ac1c0002level0_row13\" class=\"row_heading level0 row13\" >13</th>\n",
              "                        <td id=\"T_5012fbfa_8c92_11ea_a655_0242ac1c0002row13_col0\" class=\"data row13 col0\" >delinq_2yrs</td>\n",
              "                        <td id=\"T_5012fbfa_8c92_11ea_a655_0242ac1c0002row13_col1\" class=\"data row13 col1\" >The number of 30+ days past-due incidences of delinquency in the borrower's credit file for the past 2 years</td>\n",
              "            </tr>\n",
              "            <tr>\n",
              "                        <th id=\"T_5012fbfa_8c92_11ea_a655_0242ac1c0002level0_row14\" class=\"row_heading level0 row14\" >14</th>\n",
              "                        <td id=\"T_5012fbfa_8c92_11ea_a655_0242ac1c0002row14_col0\" class=\"data row14 col0\" >delinq_amnt</td>\n",
              "                        <td id=\"T_5012fbfa_8c92_11ea_a655_0242ac1c0002row14_col1\" class=\"data row14 col1\" >The past-due amount owed for the accounts on which the borrower is now delinquent.</td>\n",
              "            </tr>\n",
              "            <tr>\n",
              "                        <th id=\"T_5012fbfa_8c92_11ea_a655_0242ac1c0002level0_row15\" class=\"row_heading level0 row15\" >15</th>\n",
              "                        <td id=\"T_5012fbfa_8c92_11ea_a655_0242ac1c0002row15_col0\" class=\"data row15 col0\" >desc</td>\n",
              "                        <td id=\"T_5012fbfa_8c92_11ea_a655_0242ac1c0002row15_col1\" class=\"data row15 col1\" >Loan description provided by the borrower</td>\n",
              "            </tr>\n",
              "            <tr>\n",
              "                        <th id=\"T_5012fbfa_8c92_11ea_a655_0242ac1c0002level0_row16\" class=\"row_heading level0 row16\" >16</th>\n",
              "                        <td id=\"T_5012fbfa_8c92_11ea_a655_0242ac1c0002row16_col0\" class=\"data row16 col0\" >dti</td>\n",
              "                        <td id=\"T_5012fbfa_8c92_11ea_a655_0242ac1c0002row16_col1\" class=\"data row16 col1\" >A ratio calculated using the borrower’s total monthly debt payments on the total debt obligations, excluding mortgage and the requested LC loan, divided by the borrower’s self-reported monthly income.</td>\n",
              "            </tr>\n",
              "            <tr>\n",
              "                        <th id=\"T_5012fbfa_8c92_11ea_a655_0242ac1c0002level0_row17\" class=\"row_heading level0 row17\" >17</th>\n",
              "                        <td id=\"T_5012fbfa_8c92_11ea_a655_0242ac1c0002row17_col0\" class=\"data row17 col0\" >dti_joint</td>\n",
              "                        <td id=\"T_5012fbfa_8c92_11ea_a655_0242ac1c0002row17_col1\" class=\"data row17 col1\" >A ratio calculated using the co-borrowers' total monthly payments on the total debt obligations, excluding mortgages and the requested LC loan, divided by the co-borrowers' combined self-reported monthly income</td>\n",
              "            </tr>\n",
              "            <tr>\n",
              "                        <th id=\"T_5012fbfa_8c92_11ea_a655_0242ac1c0002level0_row18\" class=\"row_heading level0 row18\" >18</th>\n",
              "                        <td id=\"T_5012fbfa_8c92_11ea_a655_0242ac1c0002row18_col0\" class=\"data row18 col0\" >earliest_cr_line</td>\n",
              "                        <td id=\"T_5012fbfa_8c92_11ea_a655_0242ac1c0002row18_col1\" class=\"data row18 col1\" >The month the borrower's earliest reported credit line was opened</td>\n",
              "            </tr>\n",
              "            <tr>\n",
              "                        <th id=\"T_5012fbfa_8c92_11ea_a655_0242ac1c0002level0_row19\" class=\"row_heading level0 row19\" >19</th>\n",
              "                        <td id=\"T_5012fbfa_8c92_11ea_a655_0242ac1c0002row19_col0\" class=\"data row19 col0\" >emp_length</td>\n",
              "                        <td id=\"T_5012fbfa_8c92_11ea_a655_0242ac1c0002row19_col1\" class=\"data row19 col1\" >Employment length in years. Possible values are between 0 and 10 where 0 means less than one year and 10 means ten or more years. </td>\n",
              "            </tr>\n",
              "            <tr>\n",
              "                        <th id=\"T_5012fbfa_8c92_11ea_a655_0242ac1c0002level0_row20\" class=\"row_heading level0 row20\" >20</th>\n",
              "                        <td id=\"T_5012fbfa_8c92_11ea_a655_0242ac1c0002row20_col0\" class=\"data row20 col0\" >emp_title</td>\n",
              "                        <td id=\"T_5012fbfa_8c92_11ea_a655_0242ac1c0002row20_col1\" class=\"data row20 col1\" >The job title supplied by the Borrower when applying for the loan.*</td>\n",
              "            </tr>\n",
              "            <tr>\n",
              "                        <th id=\"T_5012fbfa_8c92_11ea_a655_0242ac1c0002level0_row21\" class=\"row_heading level0 row21\" >21</th>\n",
              "                        <td id=\"T_5012fbfa_8c92_11ea_a655_0242ac1c0002row21_col0\" class=\"data row21 col0\" >fico_range_high</td>\n",
              "                        <td id=\"T_5012fbfa_8c92_11ea_a655_0242ac1c0002row21_col1\" class=\"data row21 col1\" >The upper boundary range the borrower’s FICO at loan origination belongs to.</td>\n",
              "            </tr>\n",
              "            <tr>\n",
              "                        <th id=\"T_5012fbfa_8c92_11ea_a655_0242ac1c0002level0_row22\" class=\"row_heading level0 row22\" >22</th>\n",
              "                        <td id=\"T_5012fbfa_8c92_11ea_a655_0242ac1c0002row22_col0\" class=\"data row22 col0\" >fico_range_low</td>\n",
              "                        <td id=\"T_5012fbfa_8c92_11ea_a655_0242ac1c0002row22_col1\" class=\"data row22 col1\" >The lower boundary range the borrower’s FICO at loan origination belongs to.</td>\n",
              "            </tr>\n",
              "            <tr>\n",
              "                        <th id=\"T_5012fbfa_8c92_11ea_a655_0242ac1c0002level0_row23\" class=\"row_heading level0 row23\" >23</th>\n",
              "                        <td id=\"T_5012fbfa_8c92_11ea_a655_0242ac1c0002row23_col0\" class=\"data row23 col0\" >funded_amnt</td>\n",
              "                        <td id=\"T_5012fbfa_8c92_11ea_a655_0242ac1c0002row23_col1\" class=\"data row23 col1\" >The total amount committed to that loan at that point in time.</td>\n",
              "            </tr>\n",
              "            <tr>\n",
              "                        <th id=\"T_5012fbfa_8c92_11ea_a655_0242ac1c0002level0_row24\" class=\"row_heading level0 row24\" >24</th>\n",
              "                        <td id=\"T_5012fbfa_8c92_11ea_a655_0242ac1c0002row24_col0\" class=\"data row24 col0\" >funded_amnt_inv</td>\n",
              "                        <td id=\"T_5012fbfa_8c92_11ea_a655_0242ac1c0002row24_col1\" class=\"data row24 col1\" >The total amount committed by investors for that loan at that point in time.</td>\n",
              "            </tr>\n",
              "            <tr>\n",
              "                        <th id=\"T_5012fbfa_8c92_11ea_a655_0242ac1c0002level0_row25\" class=\"row_heading level0 row25\" >25</th>\n",
              "                        <td id=\"T_5012fbfa_8c92_11ea_a655_0242ac1c0002row25_col0\" class=\"data row25 col0\" >grade</td>\n",
              "                        <td id=\"T_5012fbfa_8c92_11ea_a655_0242ac1c0002row25_col1\" class=\"data row25 col1\" >LC assigned loan grade</td>\n",
              "            </tr>\n",
              "            <tr>\n",
              "                        <th id=\"T_5012fbfa_8c92_11ea_a655_0242ac1c0002level0_row26\" class=\"row_heading level0 row26\" >26</th>\n",
              "                        <td id=\"T_5012fbfa_8c92_11ea_a655_0242ac1c0002row26_col0\" class=\"data row26 col0\" >home_ownership</td>\n",
              "                        <td id=\"T_5012fbfa_8c92_11ea_a655_0242ac1c0002row26_col1\" class=\"data row26 col1\" >The home ownership status provided by the borrower during registration or obtained from the credit report. Our values are: RENT, OWN, MORTGAGE, OTHER</td>\n",
              "            </tr>\n",
              "            <tr>\n",
              "                        <th id=\"T_5012fbfa_8c92_11ea_a655_0242ac1c0002level0_row27\" class=\"row_heading level0 row27\" >27</th>\n",
              "                        <td id=\"T_5012fbfa_8c92_11ea_a655_0242ac1c0002row27_col0\" class=\"data row27 col0\" >id</td>\n",
              "                        <td id=\"T_5012fbfa_8c92_11ea_a655_0242ac1c0002row27_col1\" class=\"data row27 col1\" >A unique LC assigned ID for the loan listing.</td>\n",
              "            </tr>\n",
              "            <tr>\n",
              "                        <th id=\"T_5012fbfa_8c92_11ea_a655_0242ac1c0002level0_row28\" class=\"row_heading level0 row28\" >28</th>\n",
              "                        <td id=\"T_5012fbfa_8c92_11ea_a655_0242ac1c0002row28_col0\" class=\"data row28 col0\" >il_util</td>\n",
              "                        <td id=\"T_5012fbfa_8c92_11ea_a655_0242ac1c0002row28_col1\" class=\"data row28 col1\" >Ratio of total current balance to high credit/credit limit on all install acct</td>\n",
              "            </tr>\n",
              "            <tr>\n",
              "                        <th id=\"T_5012fbfa_8c92_11ea_a655_0242ac1c0002level0_row29\" class=\"row_heading level0 row29\" >29</th>\n",
              "                        <td id=\"T_5012fbfa_8c92_11ea_a655_0242ac1c0002row29_col0\" class=\"data row29 col0\" >initial_list_status</td>\n",
              "                        <td id=\"T_5012fbfa_8c92_11ea_a655_0242ac1c0002row29_col1\" class=\"data row29 col1\" >The initial listing status of the loan. Possible values are – W, F</td>\n",
              "            </tr>\n",
              "            <tr>\n",
              "                        <th id=\"T_5012fbfa_8c92_11ea_a655_0242ac1c0002level0_row30\" class=\"row_heading level0 row30\" >30</th>\n",
              "                        <td id=\"T_5012fbfa_8c92_11ea_a655_0242ac1c0002row30_col0\" class=\"data row30 col0\" >inq_fi</td>\n",
              "                        <td id=\"T_5012fbfa_8c92_11ea_a655_0242ac1c0002row30_col1\" class=\"data row30 col1\" >Number of personal finance inquiries</td>\n",
              "            </tr>\n",
              "            <tr>\n",
              "                        <th id=\"T_5012fbfa_8c92_11ea_a655_0242ac1c0002level0_row31\" class=\"row_heading level0 row31\" >31</th>\n",
              "                        <td id=\"T_5012fbfa_8c92_11ea_a655_0242ac1c0002row31_col0\" class=\"data row31 col0\" >inq_last_12m</td>\n",
              "                        <td id=\"T_5012fbfa_8c92_11ea_a655_0242ac1c0002row31_col1\" class=\"data row31 col1\" >Number of credit inquiries in past 12 months</td>\n",
              "            </tr>\n",
              "            <tr>\n",
              "                        <th id=\"T_5012fbfa_8c92_11ea_a655_0242ac1c0002level0_row32\" class=\"row_heading level0 row32\" >32</th>\n",
              "                        <td id=\"T_5012fbfa_8c92_11ea_a655_0242ac1c0002row32_col0\" class=\"data row32 col0\" >inq_last_6mths</td>\n",
              "                        <td id=\"T_5012fbfa_8c92_11ea_a655_0242ac1c0002row32_col1\" class=\"data row32 col1\" >The number of inquiries in past 6 months (excluding auto and mortgage inquiries)</td>\n",
              "            </tr>\n",
              "            <tr>\n",
              "                        <th id=\"T_5012fbfa_8c92_11ea_a655_0242ac1c0002level0_row33\" class=\"row_heading level0 row33\" >33</th>\n",
              "                        <td id=\"T_5012fbfa_8c92_11ea_a655_0242ac1c0002row33_col0\" class=\"data row33 col0\" >installment</td>\n",
              "                        <td id=\"T_5012fbfa_8c92_11ea_a655_0242ac1c0002row33_col1\" class=\"data row33 col1\" >The monthly payment owed by the borrower if the loan originates.</td>\n",
              "            </tr>\n",
              "            <tr>\n",
              "                        <th id=\"T_5012fbfa_8c92_11ea_a655_0242ac1c0002level0_row34\" class=\"row_heading level0 row34\" >34</th>\n",
              "                        <td id=\"T_5012fbfa_8c92_11ea_a655_0242ac1c0002row34_col0\" class=\"data row34 col0\" >int_rate</td>\n",
              "                        <td id=\"T_5012fbfa_8c92_11ea_a655_0242ac1c0002row34_col1\" class=\"data row34 col1\" >Interest Rate on the loan</td>\n",
              "            </tr>\n",
              "            <tr>\n",
              "                        <th id=\"T_5012fbfa_8c92_11ea_a655_0242ac1c0002level0_row35\" class=\"row_heading level0 row35\" >35</th>\n",
              "                        <td id=\"T_5012fbfa_8c92_11ea_a655_0242ac1c0002row35_col0\" class=\"data row35 col0\" >issue_d</td>\n",
              "                        <td id=\"T_5012fbfa_8c92_11ea_a655_0242ac1c0002row35_col1\" class=\"data row35 col1\" >The month which the loan was funded</td>\n",
              "            </tr>\n",
              "            <tr>\n",
              "                        <th id=\"T_5012fbfa_8c92_11ea_a655_0242ac1c0002level0_row36\" class=\"row_heading level0 row36\" >36</th>\n",
              "                        <td id=\"T_5012fbfa_8c92_11ea_a655_0242ac1c0002row36_col0\" class=\"data row36 col0\" >last_credit_pull_d</td>\n",
              "                        <td id=\"T_5012fbfa_8c92_11ea_a655_0242ac1c0002row36_col1\" class=\"data row36 col1\" >The most recent month LC pulled credit for this loan</td>\n",
              "            </tr>\n",
              "            <tr>\n",
              "                        <th id=\"T_5012fbfa_8c92_11ea_a655_0242ac1c0002level0_row37\" class=\"row_heading level0 row37\" >37</th>\n",
              "                        <td id=\"T_5012fbfa_8c92_11ea_a655_0242ac1c0002row37_col0\" class=\"data row37 col0\" >last_fico_range_high</td>\n",
              "                        <td id=\"T_5012fbfa_8c92_11ea_a655_0242ac1c0002row37_col1\" class=\"data row37 col1\" >The upper boundary range the borrower’s last FICO pulled belongs to.</td>\n",
              "            </tr>\n",
              "            <tr>\n",
              "                        <th id=\"T_5012fbfa_8c92_11ea_a655_0242ac1c0002level0_row38\" class=\"row_heading level0 row38\" >38</th>\n",
              "                        <td id=\"T_5012fbfa_8c92_11ea_a655_0242ac1c0002row38_col0\" class=\"data row38 col0\" >last_fico_range_low</td>\n",
              "                        <td id=\"T_5012fbfa_8c92_11ea_a655_0242ac1c0002row38_col1\" class=\"data row38 col1\" >The lower boundary range the borrower’s last FICO pulled belongs to.</td>\n",
              "            </tr>\n",
              "            <tr>\n",
              "                        <th id=\"T_5012fbfa_8c92_11ea_a655_0242ac1c0002level0_row39\" class=\"row_heading level0 row39\" >39</th>\n",
              "                        <td id=\"T_5012fbfa_8c92_11ea_a655_0242ac1c0002row39_col0\" class=\"data row39 col0\" >last_pymnt_amnt</td>\n",
              "                        <td id=\"T_5012fbfa_8c92_11ea_a655_0242ac1c0002row39_col1\" class=\"data row39 col1\" >Last total payment amount received</td>\n",
              "            </tr>\n",
              "            <tr>\n",
              "                        <th id=\"T_5012fbfa_8c92_11ea_a655_0242ac1c0002level0_row40\" class=\"row_heading level0 row40\" >40</th>\n",
              "                        <td id=\"T_5012fbfa_8c92_11ea_a655_0242ac1c0002row40_col0\" class=\"data row40 col0\" >last_pymnt_d</td>\n",
              "                        <td id=\"T_5012fbfa_8c92_11ea_a655_0242ac1c0002row40_col1\" class=\"data row40 col1\" >Last month payment was received</td>\n",
              "            </tr>\n",
              "            <tr>\n",
              "                        <th id=\"T_5012fbfa_8c92_11ea_a655_0242ac1c0002level0_row41\" class=\"row_heading level0 row41\" >41</th>\n",
              "                        <td id=\"T_5012fbfa_8c92_11ea_a655_0242ac1c0002row41_col0\" class=\"data row41 col0\" >loan_amnt</td>\n",
              "                        <td id=\"T_5012fbfa_8c92_11ea_a655_0242ac1c0002row41_col1\" class=\"data row41 col1\" >The listed amount of the loan applied for by the borrower. If at some point in time, the credit department reduces the loan amount, then it will be reflected in this value.</td>\n",
              "            </tr>\n",
              "            <tr>\n",
              "                        <th id=\"T_5012fbfa_8c92_11ea_a655_0242ac1c0002level0_row42\" class=\"row_heading level0 row42\" >42</th>\n",
              "                        <td id=\"T_5012fbfa_8c92_11ea_a655_0242ac1c0002row42_col0\" class=\"data row42 col0\" >loan_status</td>\n",
              "                        <td id=\"T_5012fbfa_8c92_11ea_a655_0242ac1c0002row42_col1\" class=\"data row42 col1\" >Current status of the loan</td>\n",
              "            </tr>\n",
              "            <tr>\n",
              "                        <th id=\"T_5012fbfa_8c92_11ea_a655_0242ac1c0002level0_row43\" class=\"row_heading level0 row43\" >43</th>\n",
              "                        <td id=\"T_5012fbfa_8c92_11ea_a655_0242ac1c0002row43_col0\" class=\"data row43 col0\" >max_bal_bc</td>\n",
              "                        <td id=\"T_5012fbfa_8c92_11ea_a655_0242ac1c0002row43_col1\" class=\"data row43 col1\" >Maximum current balance owed on all revolving accounts</td>\n",
              "            </tr>\n",
              "            <tr>\n",
              "                        <th id=\"T_5012fbfa_8c92_11ea_a655_0242ac1c0002level0_row44\" class=\"row_heading level0 row44\" >44</th>\n",
              "                        <td id=\"T_5012fbfa_8c92_11ea_a655_0242ac1c0002row44_col0\" class=\"data row44 col0\" >member_id</td>\n",
              "                        <td id=\"T_5012fbfa_8c92_11ea_a655_0242ac1c0002row44_col1\" class=\"data row44 col1\" >A unique LC assigned Id for the borrower member.</td>\n",
              "            </tr>\n",
              "            <tr>\n",
              "                        <th id=\"T_5012fbfa_8c92_11ea_a655_0242ac1c0002level0_row45\" class=\"row_heading level0 row45\" >45</th>\n",
              "                        <td id=\"T_5012fbfa_8c92_11ea_a655_0242ac1c0002row45_col0\" class=\"data row45 col0\" >mo_sin_old_il_acct</td>\n",
              "                        <td id=\"T_5012fbfa_8c92_11ea_a655_0242ac1c0002row45_col1\" class=\"data row45 col1\" >Months since oldest bank installment account opened</td>\n",
              "            </tr>\n",
              "            <tr>\n",
              "                        <th id=\"T_5012fbfa_8c92_11ea_a655_0242ac1c0002level0_row46\" class=\"row_heading level0 row46\" >46</th>\n",
              "                        <td id=\"T_5012fbfa_8c92_11ea_a655_0242ac1c0002row46_col0\" class=\"data row46 col0\" >mo_sin_old_rev_tl_op</td>\n",
              "                        <td id=\"T_5012fbfa_8c92_11ea_a655_0242ac1c0002row46_col1\" class=\"data row46 col1\" >Months since oldest revolving account opened</td>\n",
              "            </tr>\n",
              "            <tr>\n",
              "                        <th id=\"T_5012fbfa_8c92_11ea_a655_0242ac1c0002level0_row47\" class=\"row_heading level0 row47\" >47</th>\n",
              "                        <td id=\"T_5012fbfa_8c92_11ea_a655_0242ac1c0002row47_col0\" class=\"data row47 col0\" >mo_sin_rcnt_rev_tl_op</td>\n",
              "                        <td id=\"T_5012fbfa_8c92_11ea_a655_0242ac1c0002row47_col1\" class=\"data row47 col1\" >Months since most recent revolving account opened</td>\n",
              "            </tr>\n",
              "            <tr>\n",
              "                        <th id=\"T_5012fbfa_8c92_11ea_a655_0242ac1c0002level0_row48\" class=\"row_heading level0 row48\" >48</th>\n",
              "                        <td id=\"T_5012fbfa_8c92_11ea_a655_0242ac1c0002row48_col0\" class=\"data row48 col0\" >mo_sin_rcnt_tl</td>\n",
              "                        <td id=\"T_5012fbfa_8c92_11ea_a655_0242ac1c0002row48_col1\" class=\"data row48 col1\" >Months since most recent account opened</td>\n",
              "            </tr>\n",
              "            <tr>\n",
              "                        <th id=\"T_5012fbfa_8c92_11ea_a655_0242ac1c0002level0_row49\" class=\"row_heading level0 row49\" >49</th>\n",
              "                        <td id=\"T_5012fbfa_8c92_11ea_a655_0242ac1c0002row49_col0\" class=\"data row49 col0\" >mort_acc</td>\n",
              "                        <td id=\"T_5012fbfa_8c92_11ea_a655_0242ac1c0002row49_col1\" class=\"data row49 col1\" >Number of mortgage accounts.</td>\n",
              "            </tr>\n",
              "            <tr>\n",
              "                        <th id=\"T_5012fbfa_8c92_11ea_a655_0242ac1c0002level0_row50\" class=\"row_heading level0 row50\" >50</th>\n",
              "                        <td id=\"T_5012fbfa_8c92_11ea_a655_0242ac1c0002row50_col0\" class=\"data row50 col0\" >mths_since_last_delinq</td>\n",
              "                        <td id=\"T_5012fbfa_8c92_11ea_a655_0242ac1c0002row50_col1\" class=\"data row50 col1\" >The number of months since the borrower's last delinquency.</td>\n",
              "            </tr>\n",
              "            <tr>\n",
              "                        <th id=\"T_5012fbfa_8c92_11ea_a655_0242ac1c0002level0_row51\" class=\"row_heading level0 row51\" >51</th>\n",
              "                        <td id=\"T_5012fbfa_8c92_11ea_a655_0242ac1c0002row51_col0\" class=\"data row51 col0\" >mths_since_last_major_derog</td>\n",
              "                        <td id=\"T_5012fbfa_8c92_11ea_a655_0242ac1c0002row51_col1\" class=\"data row51 col1\" >Months since most recent 90-day or worse rating</td>\n",
              "            </tr>\n",
              "            <tr>\n",
              "                        <th id=\"T_5012fbfa_8c92_11ea_a655_0242ac1c0002level0_row52\" class=\"row_heading level0 row52\" >52</th>\n",
              "                        <td id=\"T_5012fbfa_8c92_11ea_a655_0242ac1c0002row52_col0\" class=\"data row52 col0\" >mths_since_last_record</td>\n",
              "                        <td id=\"T_5012fbfa_8c92_11ea_a655_0242ac1c0002row52_col1\" class=\"data row52 col1\" >The number of months since the last public record.</td>\n",
              "            </tr>\n",
              "            <tr>\n",
              "                        <th id=\"T_5012fbfa_8c92_11ea_a655_0242ac1c0002level0_row53\" class=\"row_heading level0 row53\" >53</th>\n",
              "                        <td id=\"T_5012fbfa_8c92_11ea_a655_0242ac1c0002row53_col0\" class=\"data row53 col0\" >mths_since_rcnt_il</td>\n",
              "                        <td id=\"T_5012fbfa_8c92_11ea_a655_0242ac1c0002row53_col1\" class=\"data row53 col1\" >Months since most recent installment accounts opened</td>\n",
              "            </tr>\n",
              "            <tr>\n",
              "                        <th id=\"T_5012fbfa_8c92_11ea_a655_0242ac1c0002level0_row54\" class=\"row_heading level0 row54\" >54</th>\n",
              "                        <td id=\"T_5012fbfa_8c92_11ea_a655_0242ac1c0002row54_col0\" class=\"data row54 col0\" >mths_since_recent_bc</td>\n",
              "                        <td id=\"T_5012fbfa_8c92_11ea_a655_0242ac1c0002row54_col1\" class=\"data row54 col1\" >Months since most recent bankcard account opened.</td>\n",
              "            </tr>\n",
              "            <tr>\n",
              "                        <th id=\"T_5012fbfa_8c92_11ea_a655_0242ac1c0002level0_row55\" class=\"row_heading level0 row55\" >55</th>\n",
              "                        <td id=\"T_5012fbfa_8c92_11ea_a655_0242ac1c0002row55_col0\" class=\"data row55 col0\" >mths_since_recent_bc_dlq</td>\n",
              "                        <td id=\"T_5012fbfa_8c92_11ea_a655_0242ac1c0002row55_col1\" class=\"data row55 col1\" >Months since most recent bankcard delinquency</td>\n",
              "            </tr>\n",
              "            <tr>\n",
              "                        <th id=\"T_5012fbfa_8c92_11ea_a655_0242ac1c0002level0_row56\" class=\"row_heading level0 row56\" >56</th>\n",
              "                        <td id=\"T_5012fbfa_8c92_11ea_a655_0242ac1c0002row56_col0\" class=\"data row56 col0\" >mths_since_recent_inq</td>\n",
              "                        <td id=\"T_5012fbfa_8c92_11ea_a655_0242ac1c0002row56_col1\" class=\"data row56 col1\" >Months since most recent inquiry.</td>\n",
              "            </tr>\n",
              "            <tr>\n",
              "                        <th id=\"T_5012fbfa_8c92_11ea_a655_0242ac1c0002level0_row57\" class=\"row_heading level0 row57\" >57</th>\n",
              "                        <td id=\"T_5012fbfa_8c92_11ea_a655_0242ac1c0002row57_col0\" class=\"data row57 col0\" >mths_since_recent_revol_delinq</td>\n",
              "                        <td id=\"T_5012fbfa_8c92_11ea_a655_0242ac1c0002row57_col1\" class=\"data row57 col1\" >Months since most recent revolving delinquency.</td>\n",
              "            </tr>\n",
              "            <tr>\n",
              "                        <th id=\"T_5012fbfa_8c92_11ea_a655_0242ac1c0002level0_row58\" class=\"row_heading level0 row58\" >58</th>\n",
              "                        <td id=\"T_5012fbfa_8c92_11ea_a655_0242ac1c0002row58_col0\" class=\"data row58 col0\" >next_pymnt_d</td>\n",
              "                        <td id=\"T_5012fbfa_8c92_11ea_a655_0242ac1c0002row58_col1\" class=\"data row58 col1\" >Next scheduled payment date</td>\n",
              "            </tr>\n",
              "            <tr>\n",
              "                        <th id=\"T_5012fbfa_8c92_11ea_a655_0242ac1c0002level0_row59\" class=\"row_heading level0 row59\" >59</th>\n",
              "                        <td id=\"T_5012fbfa_8c92_11ea_a655_0242ac1c0002row59_col0\" class=\"data row59 col0\" >num_accts_ever_120_pd</td>\n",
              "                        <td id=\"T_5012fbfa_8c92_11ea_a655_0242ac1c0002row59_col1\" class=\"data row59 col1\" >Number of accounts ever 120 or more days past due</td>\n",
              "            </tr>\n",
              "            <tr>\n",
              "                        <th id=\"T_5012fbfa_8c92_11ea_a655_0242ac1c0002level0_row60\" class=\"row_heading level0 row60\" >60</th>\n",
              "                        <td id=\"T_5012fbfa_8c92_11ea_a655_0242ac1c0002row60_col0\" class=\"data row60 col0\" >num_actv_bc_tl</td>\n",
              "                        <td id=\"T_5012fbfa_8c92_11ea_a655_0242ac1c0002row60_col1\" class=\"data row60 col1\" >Number of currently active bankcard accounts</td>\n",
              "            </tr>\n",
              "            <tr>\n",
              "                        <th id=\"T_5012fbfa_8c92_11ea_a655_0242ac1c0002level0_row61\" class=\"row_heading level0 row61\" >61</th>\n",
              "                        <td id=\"T_5012fbfa_8c92_11ea_a655_0242ac1c0002row61_col0\" class=\"data row61 col0\" >num_actv_rev_tl</td>\n",
              "                        <td id=\"T_5012fbfa_8c92_11ea_a655_0242ac1c0002row61_col1\" class=\"data row61 col1\" >Number of currently active revolving trades</td>\n",
              "            </tr>\n",
              "            <tr>\n",
              "                        <th id=\"T_5012fbfa_8c92_11ea_a655_0242ac1c0002level0_row62\" class=\"row_heading level0 row62\" >62</th>\n",
              "                        <td id=\"T_5012fbfa_8c92_11ea_a655_0242ac1c0002row62_col0\" class=\"data row62 col0\" >num_bc_sats</td>\n",
              "                        <td id=\"T_5012fbfa_8c92_11ea_a655_0242ac1c0002row62_col1\" class=\"data row62 col1\" >Number of satisfactory bankcard accounts</td>\n",
              "            </tr>\n",
              "            <tr>\n",
              "                        <th id=\"T_5012fbfa_8c92_11ea_a655_0242ac1c0002level0_row63\" class=\"row_heading level0 row63\" >63</th>\n",
              "                        <td id=\"T_5012fbfa_8c92_11ea_a655_0242ac1c0002row63_col0\" class=\"data row63 col0\" >num_bc_tl</td>\n",
              "                        <td id=\"T_5012fbfa_8c92_11ea_a655_0242ac1c0002row63_col1\" class=\"data row63 col1\" >Number of bankcard accounts</td>\n",
              "            </tr>\n",
              "            <tr>\n",
              "                        <th id=\"T_5012fbfa_8c92_11ea_a655_0242ac1c0002level0_row64\" class=\"row_heading level0 row64\" >64</th>\n",
              "                        <td id=\"T_5012fbfa_8c92_11ea_a655_0242ac1c0002row64_col0\" class=\"data row64 col0\" >num_il_tl</td>\n",
              "                        <td id=\"T_5012fbfa_8c92_11ea_a655_0242ac1c0002row64_col1\" class=\"data row64 col1\" >Number of installment accounts</td>\n",
              "            </tr>\n",
              "            <tr>\n",
              "                        <th id=\"T_5012fbfa_8c92_11ea_a655_0242ac1c0002level0_row65\" class=\"row_heading level0 row65\" >65</th>\n",
              "                        <td id=\"T_5012fbfa_8c92_11ea_a655_0242ac1c0002row65_col0\" class=\"data row65 col0\" >num_op_rev_tl</td>\n",
              "                        <td id=\"T_5012fbfa_8c92_11ea_a655_0242ac1c0002row65_col1\" class=\"data row65 col1\" >Number of open revolving accounts</td>\n",
              "            </tr>\n",
              "            <tr>\n",
              "                        <th id=\"T_5012fbfa_8c92_11ea_a655_0242ac1c0002level0_row66\" class=\"row_heading level0 row66\" >66</th>\n",
              "                        <td id=\"T_5012fbfa_8c92_11ea_a655_0242ac1c0002row66_col0\" class=\"data row66 col0\" >num_rev_accts</td>\n",
              "                        <td id=\"T_5012fbfa_8c92_11ea_a655_0242ac1c0002row66_col1\" class=\"data row66 col1\" >Number of revolving accounts</td>\n",
              "            </tr>\n",
              "            <tr>\n",
              "                        <th id=\"T_5012fbfa_8c92_11ea_a655_0242ac1c0002level0_row67\" class=\"row_heading level0 row67\" >67</th>\n",
              "                        <td id=\"T_5012fbfa_8c92_11ea_a655_0242ac1c0002row67_col0\" class=\"data row67 col0\" >num_rev_tl_bal_gt_0</td>\n",
              "                        <td id=\"T_5012fbfa_8c92_11ea_a655_0242ac1c0002row67_col1\" class=\"data row67 col1\" >Number of revolving trades with balance >0</td>\n",
              "            </tr>\n",
              "            <tr>\n",
              "                        <th id=\"T_5012fbfa_8c92_11ea_a655_0242ac1c0002level0_row68\" class=\"row_heading level0 row68\" >68</th>\n",
              "                        <td id=\"T_5012fbfa_8c92_11ea_a655_0242ac1c0002row68_col0\" class=\"data row68 col0\" >num_sats</td>\n",
              "                        <td id=\"T_5012fbfa_8c92_11ea_a655_0242ac1c0002row68_col1\" class=\"data row68 col1\" >Number of satisfactory accounts</td>\n",
              "            </tr>\n",
              "            <tr>\n",
              "                        <th id=\"T_5012fbfa_8c92_11ea_a655_0242ac1c0002level0_row69\" class=\"row_heading level0 row69\" >69</th>\n",
              "                        <td id=\"T_5012fbfa_8c92_11ea_a655_0242ac1c0002row69_col0\" class=\"data row69 col0\" >num_tl_120dpd_2m</td>\n",
              "                        <td id=\"T_5012fbfa_8c92_11ea_a655_0242ac1c0002row69_col1\" class=\"data row69 col1\" >Number of accounts currently 120 days past due (updated in past 2 months)</td>\n",
              "            </tr>\n",
              "            <tr>\n",
              "                        <th id=\"T_5012fbfa_8c92_11ea_a655_0242ac1c0002level0_row70\" class=\"row_heading level0 row70\" >70</th>\n",
              "                        <td id=\"T_5012fbfa_8c92_11ea_a655_0242ac1c0002row70_col0\" class=\"data row70 col0\" >num_tl_30dpd</td>\n",
              "                        <td id=\"T_5012fbfa_8c92_11ea_a655_0242ac1c0002row70_col1\" class=\"data row70 col1\" >Number of accounts currently 30 days past due (updated in past 2 months)</td>\n",
              "            </tr>\n",
              "            <tr>\n",
              "                        <th id=\"T_5012fbfa_8c92_11ea_a655_0242ac1c0002level0_row71\" class=\"row_heading level0 row71\" >71</th>\n",
              "                        <td id=\"T_5012fbfa_8c92_11ea_a655_0242ac1c0002row71_col0\" class=\"data row71 col0\" >num_tl_90g_dpd_24m</td>\n",
              "                        <td id=\"T_5012fbfa_8c92_11ea_a655_0242ac1c0002row71_col1\" class=\"data row71 col1\" >Number of accounts 90 or more days past due in last 24 months</td>\n",
              "            </tr>\n",
              "            <tr>\n",
              "                        <th id=\"T_5012fbfa_8c92_11ea_a655_0242ac1c0002level0_row72\" class=\"row_heading level0 row72\" >72</th>\n",
              "                        <td id=\"T_5012fbfa_8c92_11ea_a655_0242ac1c0002row72_col0\" class=\"data row72 col0\" >num_tl_op_past_12m</td>\n",
              "                        <td id=\"T_5012fbfa_8c92_11ea_a655_0242ac1c0002row72_col1\" class=\"data row72 col1\" >Number of accounts opened in past 12 months</td>\n",
              "            </tr>\n",
              "            <tr>\n",
              "                        <th id=\"T_5012fbfa_8c92_11ea_a655_0242ac1c0002level0_row73\" class=\"row_heading level0 row73\" >73</th>\n",
              "                        <td id=\"T_5012fbfa_8c92_11ea_a655_0242ac1c0002row73_col0\" class=\"data row73 col0\" >open_acc</td>\n",
              "                        <td id=\"T_5012fbfa_8c92_11ea_a655_0242ac1c0002row73_col1\" class=\"data row73 col1\" >The number of open credit lines in the borrower's credit file.</td>\n",
              "            </tr>\n",
              "            <tr>\n",
              "                        <th id=\"T_5012fbfa_8c92_11ea_a655_0242ac1c0002level0_row74\" class=\"row_heading level0 row74\" >74</th>\n",
              "                        <td id=\"T_5012fbfa_8c92_11ea_a655_0242ac1c0002row74_col0\" class=\"data row74 col0\" >open_acc_6m</td>\n",
              "                        <td id=\"T_5012fbfa_8c92_11ea_a655_0242ac1c0002row74_col1\" class=\"data row74 col1\" >Number of open trades in last 6 months</td>\n",
              "            </tr>\n",
              "            <tr>\n",
              "                        <th id=\"T_5012fbfa_8c92_11ea_a655_0242ac1c0002level0_row75\" class=\"row_heading level0 row75\" >75</th>\n",
              "                        <td id=\"T_5012fbfa_8c92_11ea_a655_0242ac1c0002row75_col0\" class=\"data row75 col0\" >open_il_12m</td>\n",
              "                        <td id=\"T_5012fbfa_8c92_11ea_a655_0242ac1c0002row75_col1\" class=\"data row75 col1\" >Number of installment accounts opened in past 12 months</td>\n",
              "            </tr>\n",
              "            <tr>\n",
              "                        <th id=\"T_5012fbfa_8c92_11ea_a655_0242ac1c0002level0_row76\" class=\"row_heading level0 row76\" >76</th>\n",
              "                        <td id=\"T_5012fbfa_8c92_11ea_a655_0242ac1c0002row76_col0\" class=\"data row76 col0\" >open_il_24m</td>\n",
              "                        <td id=\"T_5012fbfa_8c92_11ea_a655_0242ac1c0002row76_col1\" class=\"data row76 col1\" >Number of installment accounts opened in past 24 months</td>\n",
              "            </tr>\n",
              "            <tr>\n",
              "                        <th id=\"T_5012fbfa_8c92_11ea_a655_0242ac1c0002level0_row77\" class=\"row_heading level0 row77\" >77</th>\n",
              "                        <td id=\"T_5012fbfa_8c92_11ea_a655_0242ac1c0002row77_col0\" class=\"data row77 col0\" >open_act_il</td>\n",
              "                        <td id=\"T_5012fbfa_8c92_11ea_a655_0242ac1c0002row77_col1\" class=\"data row77 col1\" >Number of currently active installment trades</td>\n",
              "            </tr>\n",
              "            <tr>\n",
              "                        <th id=\"T_5012fbfa_8c92_11ea_a655_0242ac1c0002level0_row78\" class=\"row_heading level0 row78\" >78</th>\n",
              "                        <td id=\"T_5012fbfa_8c92_11ea_a655_0242ac1c0002row78_col0\" class=\"data row78 col0\" >open_rv_12m</td>\n",
              "                        <td id=\"T_5012fbfa_8c92_11ea_a655_0242ac1c0002row78_col1\" class=\"data row78 col1\" >Number of revolving trades opened in past 12 months</td>\n",
              "            </tr>\n",
              "            <tr>\n",
              "                        <th id=\"T_5012fbfa_8c92_11ea_a655_0242ac1c0002level0_row79\" class=\"row_heading level0 row79\" >79</th>\n",
              "                        <td id=\"T_5012fbfa_8c92_11ea_a655_0242ac1c0002row79_col0\" class=\"data row79 col0\" >open_rv_24m</td>\n",
              "                        <td id=\"T_5012fbfa_8c92_11ea_a655_0242ac1c0002row79_col1\" class=\"data row79 col1\" >Number of revolving trades opened in past 24 months</td>\n",
              "            </tr>\n",
              "            <tr>\n",
              "                        <th id=\"T_5012fbfa_8c92_11ea_a655_0242ac1c0002level0_row80\" class=\"row_heading level0 row80\" >80</th>\n",
              "                        <td id=\"T_5012fbfa_8c92_11ea_a655_0242ac1c0002row80_col0\" class=\"data row80 col0\" >out_prncp</td>\n",
              "                        <td id=\"T_5012fbfa_8c92_11ea_a655_0242ac1c0002row80_col1\" class=\"data row80 col1\" >Remaining outstanding principal for total amount funded</td>\n",
              "            </tr>\n",
              "            <tr>\n",
              "                        <th id=\"T_5012fbfa_8c92_11ea_a655_0242ac1c0002level0_row81\" class=\"row_heading level0 row81\" >81</th>\n",
              "                        <td id=\"T_5012fbfa_8c92_11ea_a655_0242ac1c0002row81_col0\" class=\"data row81 col0\" >out_prncp_inv</td>\n",
              "                        <td id=\"T_5012fbfa_8c92_11ea_a655_0242ac1c0002row81_col1\" class=\"data row81 col1\" >Remaining outstanding principal for portion of total amount funded by investors</td>\n",
              "            </tr>\n",
              "            <tr>\n",
              "                        <th id=\"T_5012fbfa_8c92_11ea_a655_0242ac1c0002level0_row82\" class=\"row_heading level0 row82\" >82</th>\n",
              "                        <td id=\"T_5012fbfa_8c92_11ea_a655_0242ac1c0002row82_col0\" class=\"data row82 col0\" >pct_tl_nvr_dlq</td>\n",
              "                        <td id=\"T_5012fbfa_8c92_11ea_a655_0242ac1c0002row82_col1\" class=\"data row82 col1\" >Percent of trades never delinquent</td>\n",
              "            </tr>\n",
              "            <tr>\n",
              "                        <th id=\"T_5012fbfa_8c92_11ea_a655_0242ac1c0002level0_row83\" class=\"row_heading level0 row83\" >83</th>\n",
              "                        <td id=\"T_5012fbfa_8c92_11ea_a655_0242ac1c0002row83_col0\" class=\"data row83 col0\" >percent_bc_gt_75</td>\n",
              "                        <td id=\"T_5012fbfa_8c92_11ea_a655_0242ac1c0002row83_col1\" class=\"data row83 col1\" >Percentage of all bankcard accounts > 75% of limit.</td>\n",
              "            </tr>\n",
              "            <tr>\n",
              "                        <th id=\"T_5012fbfa_8c92_11ea_a655_0242ac1c0002level0_row84\" class=\"row_heading level0 row84\" >84</th>\n",
              "                        <td id=\"T_5012fbfa_8c92_11ea_a655_0242ac1c0002row84_col0\" class=\"data row84 col0\" >policy_code</td>\n",
              "                        <td id=\"T_5012fbfa_8c92_11ea_a655_0242ac1c0002row84_col1\" class=\"data row84 col1\" >publicly available policy_code=1\n",
              "new products not publicly available policy_code=2</td>\n",
              "            </tr>\n",
              "            <tr>\n",
              "                        <th id=\"T_5012fbfa_8c92_11ea_a655_0242ac1c0002level0_row85\" class=\"row_heading level0 row85\" >85</th>\n",
              "                        <td id=\"T_5012fbfa_8c92_11ea_a655_0242ac1c0002row85_col0\" class=\"data row85 col0\" >pub_rec</td>\n",
              "                        <td id=\"T_5012fbfa_8c92_11ea_a655_0242ac1c0002row85_col1\" class=\"data row85 col1\" >Number of derogatory public records</td>\n",
              "            </tr>\n",
              "            <tr>\n",
              "                        <th id=\"T_5012fbfa_8c92_11ea_a655_0242ac1c0002level0_row86\" class=\"row_heading level0 row86\" >86</th>\n",
              "                        <td id=\"T_5012fbfa_8c92_11ea_a655_0242ac1c0002row86_col0\" class=\"data row86 col0\" >pub_rec_bankruptcies</td>\n",
              "                        <td id=\"T_5012fbfa_8c92_11ea_a655_0242ac1c0002row86_col1\" class=\"data row86 col1\" >Number of public record bankruptcies</td>\n",
              "            </tr>\n",
              "            <tr>\n",
              "                        <th id=\"T_5012fbfa_8c92_11ea_a655_0242ac1c0002level0_row87\" class=\"row_heading level0 row87\" >87</th>\n",
              "                        <td id=\"T_5012fbfa_8c92_11ea_a655_0242ac1c0002row87_col0\" class=\"data row87 col0\" >purpose</td>\n",
              "                        <td id=\"T_5012fbfa_8c92_11ea_a655_0242ac1c0002row87_col1\" class=\"data row87 col1\" >A category provided by the borrower for the loan request. </td>\n",
              "            </tr>\n",
              "            <tr>\n",
              "                        <th id=\"T_5012fbfa_8c92_11ea_a655_0242ac1c0002level0_row88\" class=\"row_heading level0 row88\" >88</th>\n",
              "                        <td id=\"T_5012fbfa_8c92_11ea_a655_0242ac1c0002row88_col0\" class=\"data row88 col0\" >pymnt_plan</td>\n",
              "                        <td id=\"T_5012fbfa_8c92_11ea_a655_0242ac1c0002row88_col1\" class=\"data row88 col1\" >Indicates if a payment plan has been put in place for the loan</td>\n",
              "            </tr>\n",
              "            <tr>\n",
              "                        <th id=\"T_5012fbfa_8c92_11ea_a655_0242ac1c0002level0_row89\" class=\"row_heading level0 row89\" >89</th>\n",
              "                        <td id=\"T_5012fbfa_8c92_11ea_a655_0242ac1c0002row89_col0\" class=\"data row89 col0\" >recoveries</td>\n",
              "                        <td id=\"T_5012fbfa_8c92_11ea_a655_0242ac1c0002row89_col1\" class=\"data row89 col1\" >post charge off gross recovery</td>\n",
              "            </tr>\n",
              "            <tr>\n",
              "                        <th id=\"T_5012fbfa_8c92_11ea_a655_0242ac1c0002level0_row90\" class=\"row_heading level0 row90\" >90</th>\n",
              "                        <td id=\"T_5012fbfa_8c92_11ea_a655_0242ac1c0002row90_col0\" class=\"data row90 col0\" >revol_bal</td>\n",
              "                        <td id=\"T_5012fbfa_8c92_11ea_a655_0242ac1c0002row90_col1\" class=\"data row90 col1\" >Total credit revolving balance</td>\n",
              "            </tr>\n",
              "            <tr>\n",
              "                        <th id=\"T_5012fbfa_8c92_11ea_a655_0242ac1c0002level0_row91\" class=\"row_heading level0 row91\" >91</th>\n",
              "                        <td id=\"T_5012fbfa_8c92_11ea_a655_0242ac1c0002row91_col0\" class=\"data row91 col0\" >revol_util</td>\n",
              "                        <td id=\"T_5012fbfa_8c92_11ea_a655_0242ac1c0002row91_col1\" class=\"data row91 col1\" >Revolving line utilization rate, or the amount of credit the borrower is using relative to all available revolving credit.</td>\n",
              "            </tr>\n",
              "            <tr>\n",
              "                        <th id=\"T_5012fbfa_8c92_11ea_a655_0242ac1c0002level0_row92\" class=\"row_heading level0 row92\" >92</th>\n",
              "                        <td id=\"T_5012fbfa_8c92_11ea_a655_0242ac1c0002row92_col0\" class=\"data row92 col0\" >sub_grade</td>\n",
              "                        <td id=\"T_5012fbfa_8c92_11ea_a655_0242ac1c0002row92_col1\" class=\"data row92 col1\" >LC assigned loan subgrade</td>\n",
              "            </tr>\n",
              "            <tr>\n",
              "                        <th id=\"T_5012fbfa_8c92_11ea_a655_0242ac1c0002level0_row93\" class=\"row_heading level0 row93\" >93</th>\n",
              "                        <td id=\"T_5012fbfa_8c92_11ea_a655_0242ac1c0002row93_col0\" class=\"data row93 col0\" >tax_liens</td>\n",
              "                        <td id=\"T_5012fbfa_8c92_11ea_a655_0242ac1c0002row93_col1\" class=\"data row93 col1\" >Number of tax liens</td>\n",
              "            </tr>\n",
              "            <tr>\n",
              "                        <th id=\"T_5012fbfa_8c92_11ea_a655_0242ac1c0002level0_row94\" class=\"row_heading level0 row94\" >94</th>\n",
              "                        <td id=\"T_5012fbfa_8c92_11ea_a655_0242ac1c0002row94_col0\" class=\"data row94 col0\" >term</td>\n",
              "                        <td id=\"T_5012fbfa_8c92_11ea_a655_0242ac1c0002row94_col1\" class=\"data row94 col1\" >The number of payments on the loan. Values are in months and can be either 36 or 60.</td>\n",
              "            </tr>\n",
              "            <tr>\n",
              "                        <th id=\"T_5012fbfa_8c92_11ea_a655_0242ac1c0002level0_row95\" class=\"row_heading level0 row95\" >95</th>\n",
              "                        <td id=\"T_5012fbfa_8c92_11ea_a655_0242ac1c0002row95_col0\" class=\"data row95 col0\" >title</td>\n",
              "                        <td id=\"T_5012fbfa_8c92_11ea_a655_0242ac1c0002row95_col1\" class=\"data row95 col1\" >The loan title provided by the borrower</td>\n",
              "            </tr>\n",
              "            <tr>\n",
              "                        <th id=\"T_5012fbfa_8c92_11ea_a655_0242ac1c0002level0_row96\" class=\"row_heading level0 row96\" >96</th>\n",
              "                        <td id=\"T_5012fbfa_8c92_11ea_a655_0242ac1c0002row96_col0\" class=\"data row96 col0\" >tot_coll_amt</td>\n",
              "                        <td id=\"T_5012fbfa_8c92_11ea_a655_0242ac1c0002row96_col1\" class=\"data row96 col1\" >Total collection amounts ever owed</td>\n",
              "            </tr>\n",
              "            <tr>\n",
              "                        <th id=\"T_5012fbfa_8c92_11ea_a655_0242ac1c0002level0_row97\" class=\"row_heading level0 row97\" >97</th>\n",
              "                        <td id=\"T_5012fbfa_8c92_11ea_a655_0242ac1c0002row97_col0\" class=\"data row97 col0\" >tot_cur_bal</td>\n",
              "                        <td id=\"T_5012fbfa_8c92_11ea_a655_0242ac1c0002row97_col1\" class=\"data row97 col1\" >Total current balance of all accounts</td>\n",
              "            </tr>\n",
              "            <tr>\n",
              "                        <th id=\"T_5012fbfa_8c92_11ea_a655_0242ac1c0002level0_row98\" class=\"row_heading level0 row98\" >98</th>\n",
              "                        <td id=\"T_5012fbfa_8c92_11ea_a655_0242ac1c0002row98_col0\" class=\"data row98 col0\" >tot_hi_cred_lim</td>\n",
              "                        <td id=\"T_5012fbfa_8c92_11ea_a655_0242ac1c0002row98_col1\" class=\"data row98 col1\" >Total high credit/credit limit</td>\n",
              "            </tr>\n",
              "            <tr>\n",
              "                        <th id=\"T_5012fbfa_8c92_11ea_a655_0242ac1c0002level0_row99\" class=\"row_heading level0 row99\" >99</th>\n",
              "                        <td id=\"T_5012fbfa_8c92_11ea_a655_0242ac1c0002row99_col0\" class=\"data row99 col0\" >total_acc</td>\n",
              "                        <td id=\"T_5012fbfa_8c92_11ea_a655_0242ac1c0002row99_col1\" class=\"data row99 col1\" >The total number of credit lines currently in the borrower's credit file</td>\n",
              "            </tr>\n",
              "            <tr>\n",
              "                        <th id=\"T_5012fbfa_8c92_11ea_a655_0242ac1c0002level0_row100\" class=\"row_heading level0 row100\" >100</th>\n",
              "                        <td id=\"T_5012fbfa_8c92_11ea_a655_0242ac1c0002row100_col0\" class=\"data row100 col0\" >total_bal_ex_mort</td>\n",
              "                        <td id=\"T_5012fbfa_8c92_11ea_a655_0242ac1c0002row100_col1\" class=\"data row100 col1\" >Total credit balance excluding mortgage</td>\n",
              "            </tr>\n",
              "            <tr>\n",
              "                        <th id=\"T_5012fbfa_8c92_11ea_a655_0242ac1c0002level0_row101\" class=\"row_heading level0 row101\" >101</th>\n",
              "                        <td id=\"T_5012fbfa_8c92_11ea_a655_0242ac1c0002row101_col0\" class=\"data row101 col0\" >total_bal_il</td>\n",
              "                        <td id=\"T_5012fbfa_8c92_11ea_a655_0242ac1c0002row101_col1\" class=\"data row101 col1\" >Total current balance of all installment accounts</td>\n",
              "            </tr>\n",
              "            <tr>\n",
              "                        <th id=\"T_5012fbfa_8c92_11ea_a655_0242ac1c0002level0_row102\" class=\"row_heading level0 row102\" >102</th>\n",
              "                        <td id=\"T_5012fbfa_8c92_11ea_a655_0242ac1c0002row102_col0\" class=\"data row102 col0\" >total_bc_limit</td>\n",
              "                        <td id=\"T_5012fbfa_8c92_11ea_a655_0242ac1c0002row102_col1\" class=\"data row102 col1\" >Total bankcard high credit/credit limit</td>\n",
              "            </tr>\n",
              "            <tr>\n",
              "                        <th id=\"T_5012fbfa_8c92_11ea_a655_0242ac1c0002level0_row103\" class=\"row_heading level0 row103\" >103</th>\n",
              "                        <td id=\"T_5012fbfa_8c92_11ea_a655_0242ac1c0002row103_col0\" class=\"data row103 col0\" >total_cu_tl</td>\n",
              "                        <td id=\"T_5012fbfa_8c92_11ea_a655_0242ac1c0002row103_col1\" class=\"data row103 col1\" >Number of finance trades</td>\n",
              "            </tr>\n",
              "            <tr>\n",
              "                        <th id=\"T_5012fbfa_8c92_11ea_a655_0242ac1c0002level0_row104\" class=\"row_heading level0 row104\" >104</th>\n",
              "                        <td id=\"T_5012fbfa_8c92_11ea_a655_0242ac1c0002row104_col0\" class=\"data row104 col0\" >total_il_high_credit_limit</td>\n",
              "                        <td id=\"T_5012fbfa_8c92_11ea_a655_0242ac1c0002row104_col1\" class=\"data row104 col1\" >Total installment high credit/credit limit</td>\n",
              "            </tr>\n",
              "            <tr>\n",
              "                        <th id=\"T_5012fbfa_8c92_11ea_a655_0242ac1c0002level0_row105\" class=\"row_heading level0 row105\" >105</th>\n",
              "                        <td id=\"T_5012fbfa_8c92_11ea_a655_0242ac1c0002row105_col0\" class=\"data row105 col0\" >total_pymnt</td>\n",
              "                        <td id=\"T_5012fbfa_8c92_11ea_a655_0242ac1c0002row105_col1\" class=\"data row105 col1\" >Payments received to date for total amount funded</td>\n",
              "            </tr>\n",
              "            <tr>\n",
              "                        <th id=\"T_5012fbfa_8c92_11ea_a655_0242ac1c0002level0_row106\" class=\"row_heading level0 row106\" >106</th>\n",
              "                        <td id=\"T_5012fbfa_8c92_11ea_a655_0242ac1c0002row106_col0\" class=\"data row106 col0\" >total_pymnt_inv</td>\n",
              "                        <td id=\"T_5012fbfa_8c92_11ea_a655_0242ac1c0002row106_col1\" class=\"data row106 col1\" >Payments received to date for portion of total amount funded by investors</td>\n",
              "            </tr>\n",
              "            <tr>\n",
              "                        <th id=\"T_5012fbfa_8c92_11ea_a655_0242ac1c0002level0_row107\" class=\"row_heading level0 row107\" >107</th>\n",
              "                        <td id=\"T_5012fbfa_8c92_11ea_a655_0242ac1c0002row107_col0\" class=\"data row107 col0\" >total_rec_int</td>\n",
              "                        <td id=\"T_5012fbfa_8c92_11ea_a655_0242ac1c0002row107_col1\" class=\"data row107 col1\" >Interest received to date</td>\n",
              "            </tr>\n",
              "            <tr>\n",
              "                        <th id=\"T_5012fbfa_8c92_11ea_a655_0242ac1c0002level0_row108\" class=\"row_heading level0 row108\" >108</th>\n",
              "                        <td id=\"T_5012fbfa_8c92_11ea_a655_0242ac1c0002row108_col0\" class=\"data row108 col0\" >total_rec_late_fee</td>\n",
              "                        <td id=\"T_5012fbfa_8c92_11ea_a655_0242ac1c0002row108_col1\" class=\"data row108 col1\" >Late fees received to date</td>\n",
              "            </tr>\n",
              "            <tr>\n",
              "                        <th id=\"T_5012fbfa_8c92_11ea_a655_0242ac1c0002level0_row109\" class=\"row_heading level0 row109\" >109</th>\n",
              "                        <td id=\"T_5012fbfa_8c92_11ea_a655_0242ac1c0002row109_col0\" class=\"data row109 col0\" >total_rec_prncp</td>\n",
              "                        <td id=\"T_5012fbfa_8c92_11ea_a655_0242ac1c0002row109_col1\" class=\"data row109 col1\" >Principal received to date</td>\n",
              "            </tr>\n",
              "            <tr>\n",
              "                        <th id=\"T_5012fbfa_8c92_11ea_a655_0242ac1c0002level0_row110\" class=\"row_heading level0 row110\" >110</th>\n",
              "                        <td id=\"T_5012fbfa_8c92_11ea_a655_0242ac1c0002row110_col0\" class=\"data row110 col0\" >total_rev_hi_lim  </td>\n",
              "                        <td id=\"T_5012fbfa_8c92_11ea_a655_0242ac1c0002row110_col1\" class=\"data row110 col1\" >Total revolving high credit/credit limit</td>\n",
              "            </tr>\n",
              "            <tr>\n",
              "                        <th id=\"T_5012fbfa_8c92_11ea_a655_0242ac1c0002level0_row111\" class=\"row_heading level0 row111\" >111</th>\n",
              "                        <td id=\"T_5012fbfa_8c92_11ea_a655_0242ac1c0002row111_col0\" class=\"data row111 col0\" >url</td>\n",
              "                        <td id=\"T_5012fbfa_8c92_11ea_a655_0242ac1c0002row111_col1\" class=\"data row111 col1\" >URL for the LC page with listing data.</td>\n",
              "            </tr>\n",
              "            <tr>\n",
              "                        <th id=\"T_5012fbfa_8c92_11ea_a655_0242ac1c0002level0_row112\" class=\"row_heading level0 row112\" >112</th>\n",
              "                        <td id=\"T_5012fbfa_8c92_11ea_a655_0242ac1c0002row112_col0\" class=\"data row112 col0\" >verification_status</td>\n",
              "                        <td id=\"T_5012fbfa_8c92_11ea_a655_0242ac1c0002row112_col1\" class=\"data row112 col1\" >Indicates if income was verified by LC, not verified, or if the income source was verified</td>\n",
              "            </tr>\n",
              "            <tr>\n",
              "                        <th id=\"T_5012fbfa_8c92_11ea_a655_0242ac1c0002level0_row113\" class=\"row_heading level0 row113\" >113</th>\n",
              "                        <td id=\"T_5012fbfa_8c92_11ea_a655_0242ac1c0002row113_col0\" class=\"data row113 col0\" >verified_status_joint</td>\n",
              "                        <td id=\"T_5012fbfa_8c92_11ea_a655_0242ac1c0002row113_col1\" class=\"data row113 col1\" >Indicates if the co-borrowers' joint income was verified by LC, not verified, or if the income source was verified</td>\n",
              "            </tr>\n",
              "            <tr>\n",
              "                        <th id=\"T_5012fbfa_8c92_11ea_a655_0242ac1c0002level0_row114\" class=\"row_heading level0 row114\" >114</th>\n",
              "                        <td id=\"T_5012fbfa_8c92_11ea_a655_0242ac1c0002row114_col0\" class=\"data row114 col0\" >zip_code</td>\n",
              "                        <td id=\"T_5012fbfa_8c92_11ea_a655_0242ac1c0002row114_col1\" class=\"data row114 col1\" >The first 3 numbers of the zip code provided by the borrower in the loan application.</td>\n",
              "            </tr>\n",
              "            <tr>\n",
              "                        <th id=\"T_5012fbfa_8c92_11ea_a655_0242ac1c0002level0_row115\" class=\"row_heading level0 row115\" >115</th>\n",
              "                        <td id=\"T_5012fbfa_8c92_11ea_a655_0242ac1c0002row115_col0\" class=\"data row115 col0\" >revol_bal_joint </td>\n",
              "                        <td id=\"T_5012fbfa_8c92_11ea_a655_0242ac1c0002row115_col1\" class=\"data row115 col1\" > Sum of revolving credit balance of the co-borrowers, net of duplicate balances</td>\n",
              "            </tr>\n",
              "            <tr>\n",
              "                        <th id=\"T_5012fbfa_8c92_11ea_a655_0242ac1c0002level0_row116\" class=\"row_heading level0 row116\" >116</th>\n",
              "                        <td id=\"T_5012fbfa_8c92_11ea_a655_0242ac1c0002row116_col0\" class=\"data row116 col0\" >sec_app_fico_range_low </td>\n",
              "                        <td id=\"T_5012fbfa_8c92_11ea_a655_0242ac1c0002row116_col1\" class=\"data row116 col1\" > FICO range (high) for the secondary applicant</td>\n",
              "            </tr>\n",
              "            <tr>\n",
              "                        <th id=\"T_5012fbfa_8c92_11ea_a655_0242ac1c0002level0_row117\" class=\"row_heading level0 row117\" >117</th>\n",
              "                        <td id=\"T_5012fbfa_8c92_11ea_a655_0242ac1c0002row117_col0\" class=\"data row117 col0\" >sec_app_fico_range_high </td>\n",
              "                        <td id=\"T_5012fbfa_8c92_11ea_a655_0242ac1c0002row117_col1\" class=\"data row117 col1\" > FICO range (low) for the secondary applicant</td>\n",
              "            </tr>\n",
              "            <tr>\n",
              "                        <th id=\"T_5012fbfa_8c92_11ea_a655_0242ac1c0002level0_row118\" class=\"row_heading level0 row118\" >118</th>\n",
              "                        <td id=\"T_5012fbfa_8c92_11ea_a655_0242ac1c0002row118_col0\" class=\"data row118 col0\" >sec_app_earliest_cr_line </td>\n",
              "                        <td id=\"T_5012fbfa_8c92_11ea_a655_0242ac1c0002row118_col1\" class=\"data row118 col1\" > Earliest credit line at time of application for the secondary applicant</td>\n",
              "            </tr>\n",
              "            <tr>\n",
              "                        <th id=\"T_5012fbfa_8c92_11ea_a655_0242ac1c0002level0_row119\" class=\"row_heading level0 row119\" >119</th>\n",
              "                        <td id=\"T_5012fbfa_8c92_11ea_a655_0242ac1c0002row119_col0\" class=\"data row119 col0\" >sec_app_inq_last_6mths </td>\n",
              "                        <td id=\"T_5012fbfa_8c92_11ea_a655_0242ac1c0002row119_col1\" class=\"data row119 col1\" > Credit inquiries in the last 6 months at time of application for the secondary applicant</td>\n",
              "            </tr>\n",
              "            <tr>\n",
              "                        <th id=\"T_5012fbfa_8c92_11ea_a655_0242ac1c0002level0_row120\" class=\"row_heading level0 row120\" >120</th>\n",
              "                        <td id=\"T_5012fbfa_8c92_11ea_a655_0242ac1c0002row120_col0\" class=\"data row120 col0\" >sec_app_mort_acc </td>\n",
              "                        <td id=\"T_5012fbfa_8c92_11ea_a655_0242ac1c0002row120_col1\" class=\"data row120 col1\" > Number of mortgage accounts at time of application for the secondary applicant</td>\n",
              "            </tr>\n",
              "            <tr>\n",
              "                        <th id=\"T_5012fbfa_8c92_11ea_a655_0242ac1c0002level0_row121\" class=\"row_heading level0 row121\" >121</th>\n",
              "                        <td id=\"T_5012fbfa_8c92_11ea_a655_0242ac1c0002row121_col0\" class=\"data row121 col0\" >sec_app_open_acc </td>\n",
              "                        <td id=\"T_5012fbfa_8c92_11ea_a655_0242ac1c0002row121_col1\" class=\"data row121 col1\" > Number of open trades at time of application for the secondary applicant</td>\n",
              "            </tr>\n",
              "            <tr>\n",
              "                        <th id=\"T_5012fbfa_8c92_11ea_a655_0242ac1c0002level0_row122\" class=\"row_heading level0 row122\" >122</th>\n",
              "                        <td id=\"T_5012fbfa_8c92_11ea_a655_0242ac1c0002row122_col0\" class=\"data row122 col0\" >sec_app_revol_util </td>\n",
              "                        <td id=\"T_5012fbfa_8c92_11ea_a655_0242ac1c0002row122_col1\" class=\"data row122 col1\" > Ratio of total current balance to high credit/credit limit for all revolving accounts</td>\n",
              "            </tr>\n",
              "            <tr>\n",
              "                        <th id=\"T_5012fbfa_8c92_11ea_a655_0242ac1c0002level0_row123\" class=\"row_heading level0 row123\" >123</th>\n",
              "                        <td id=\"T_5012fbfa_8c92_11ea_a655_0242ac1c0002row123_col0\" class=\"data row123 col0\" >sec_app_open_act_il</td>\n",
              "                        <td id=\"T_5012fbfa_8c92_11ea_a655_0242ac1c0002row123_col1\" class=\"data row123 col1\" > Number of currently active installment trades at time of application for the secondary applicant</td>\n",
              "            </tr>\n",
              "            <tr>\n",
              "                        <th id=\"T_5012fbfa_8c92_11ea_a655_0242ac1c0002level0_row124\" class=\"row_heading level0 row124\" >124</th>\n",
              "                        <td id=\"T_5012fbfa_8c92_11ea_a655_0242ac1c0002row124_col0\" class=\"data row124 col0\" >sec_app_num_rev_accts </td>\n",
              "                        <td id=\"T_5012fbfa_8c92_11ea_a655_0242ac1c0002row124_col1\" class=\"data row124 col1\" > Number of revolving accounts at time of application for the secondary applicant</td>\n",
              "            </tr>\n",
              "            <tr>\n",
              "                        <th id=\"T_5012fbfa_8c92_11ea_a655_0242ac1c0002level0_row125\" class=\"row_heading level0 row125\" >125</th>\n",
              "                        <td id=\"T_5012fbfa_8c92_11ea_a655_0242ac1c0002row125_col0\" class=\"data row125 col0\" >sec_app_chargeoff_within_12_mths </td>\n",
              "                        <td id=\"T_5012fbfa_8c92_11ea_a655_0242ac1c0002row125_col1\" class=\"data row125 col1\" > Number of charge-offs within last 12 months at time of application for the secondary applicant</td>\n",
              "            </tr>\n",
              "            <tr>\n",
              "                        <th id=\"T_5012fbfa_8c92_11ea_a655_0242ac1c0002level0_row126\" class=\"row_heading level0 row126\" >126</th>\n",
              "                        <td id=\"T_5012fbfa_8c92_11ea_a655_0242ac1c0002row126_col0\" class=\"data row126 col0\" >sec_app_collections_12_mths_ex_med </td>\n",
              "                        <td id=\"T_5012fbfa_8c92_11ea_a655_0242ac1c0002row126_col1\" class=\"data row126 col1\" > Number of collections within last 12 months excluding medical collections at time of application for the secondary applicant</td>\n",
              "            </tr>\n",
              "            <tr>\n",
              "                        <th id=\"T_5012fbfa_8c92_11ea_a655_0242ac1c0002level0_row127\" class=\"row_heading level0 row127\" >127</th>\n",
              "                        <td id=\"T_5012fbfa_8c92_11ea_a655_0242ac1c0002row127_col0\" class=\"data row127 col0\" >sec_app_mths_since_last_major_derog </td>\n",
              "                        <td id=\"T_5012fbfa_8c92_11ea_a655_0242ac1c0002row127_col1\" class=\"data row127 col1\" > Months since most recent 90-day or worse rating at time of application for the secondary applicant</td>\n",
              "            </tr>\n",
              "            <tr>\n",
              "                        <th id=\"T_5012fbfa_8c92_11ea_a655_0242ac1c0002level0_row128\" class=\"row_heading level0 row128\" >128</th>\n",
              "                        <td id=\"T_5012fbfa_8c92_11ea_a655_0242ac1c0002row128_col0\" class=\"data row128 col0\" >hardship_flag</td>\n",
              "                        <td id=\"T_5012fbfa_8c92_11ea_a655_0242ac1c0002row128_col1\" class=\"data row128 col1\" >Flags whether or not the borrower is on a hardship plan</td>\n",
              "            </tr>\n",
              "            <tr>\n",
              "                        <th id=\"T_5012fbfa_8c92_11ea_a655_0242ac1c0002level0_row129\" class=\"row_heading level0 row129\" >129</th>\n",
              "                        <td id=\"T_5012fbfa_8c92_11ea_a655_0242ac1c0002row129_col0\" class=\"data row129 col0\" >hardship_type</td>\n",
              "                        <td id=\"T_5012fbfa_8c92_11ea_a655_0242ac1c0002row129_col1\" class=\"data row129 col1\" >Describes the hardship plan offering</td>\n",
              "            </tr>\n",
              "            <tr>\n",
              "                        <th id=\"T_5012fbfa_8c92_11ea_a655_0242ac1c0002level0_row130\" class=\"row_heading level0 row130\" >130</th>\n",
              "                        <td id=\"T_5012fbfa_8c92_11ea_a655_0242ac1c0002row130_col0\" class=\"data row130 col0\" >hardship_reason</td>\n",
              "                        <td id=\"T_5012fbfa_8c92_11ea_a655_0242ac1c0002row130_col1\" class=\"data row130 col1\" >Describes the reason the hardship plan was offered</td>\n",
              "            </tr>\n",
              "            <tr>\n",
              "                        <th id=\"T_5012fbfa_8c92_11ea_a655_0242ac1c0002level0_row131\" class=\"row_heading level0 row131\" >131</th>\n",
              "                        <td id=\"T_5012fbfa_8c92_11ea_a655_0242ac1c0002row131_col0\" class=\"data row131 col0\" >hardship_status</td>\n",
              "                        <td id=\"T_5012fbfa_8c92_11ea_a655_0242ac1c0002row131_col1\" class=\"data row131 col1\" >Describes if the hardship plan is active, pending, canceled, completed, or broken</td>\n",
              "            </tr>\n",
              "            <tr>\n",
              "                        <th id=\"T_5012fbfa_8c92_11ea_a655_0242ac1c0002level0_row132\" class=\"row_heading level0 row132\" >132</th>\n",
              "                        <td id=\"T_5012fbfa_8c92_11ea_a655_0242ac1c0002row132_col0\" class=\"data row132 col0\" >deferral_term</td>\n",
              "                        <td id=\"T_5012fbfa_8c92_11ea_a655_0242ac1c0002row132_col1\" class=\"data row132 col1\" >Amount of months that the borrower is expected to pay less than the contractual monthly payment amount due to a hardship plan</td>\n",
              "            </tr>\n",
              "            <tr>\n",
              "                        <th id=\"T_5012fbfa_8c92_11ea_a655_0242ac1c0002level0_row133\" class=\"row_heading level0 row133\" >133</th>\n",
              "                        <td id=\"T_5012fbfa_8c92_11ea_a655_0242ac1c0002row133_col0\" class=\"data row133 col0\" >hardship_amount</td>\n",
              "                        <td id=\"T_5012fbfa_8c92_11ea_a655_0242ac1c0002row133_col1\" class=\"data row133 col1\" >The interest payment that the borrower has committed to make each month while they are on a hardship plan</td>\n",
              "            </tr>\n",
              "            <tr>\n",
              "                        <th id=\"T_5012fbfa_8c92_11ea_a655_0242ac1c0002level0_row134\" class=\"row_heading level0 row134\" >134</th>\n",
              "                        <td id=\"T_5012fbfa_8c92_11ea_a655_0242ac1c0002row134_col0\" class=\"data row134 col0\" >hardship_start_date</td>\n",
              "                        <td id=\"T_5012fbfa_8c92_11ea_a655_0242ac1c0002row134_col1\" class=\"data row134 col1\" >The start date of the hardship plan period</td>\n",
              "            </tr>\n",
              "            <tr>\n",
              "                        <th id=\"T_5012fbfa_8c92_11ea_a655_0242ac1c0002level0_row135\" class=\"row_heading level0 row135\" >135</th>\n",
              "                        <td id=\"T_5012fbfa_8c92_11ea_a655_0242ac1c0002row135_col0\" class=\"data row135 col0\" >hardship_end_date</td>\n",
              "                        <td id=\"T_5012fbfa_8c92_11ea_a655_0242ac1c0002row135_col1\" class=\"data row135 col1\" >The end date of the hardship plan period</td>\n",
              "            </tr>\n",
              "            <tr>\n",
              "                        <th id=\"T_5012fbfa_8c92_11ea_a655_0242ac1c0002level0_row136\" class=\"row_heading level0 row136\" >136</th>\n",
              "                        <td id=\"T_5012fbfa_8c92_11ea_a655_0242ac1c0002row136_col0\" class=\"data row136 col0\" >payment_plan_start_date</td>\n",
              "                        <td id=\"T_5012fbfa_8c92_11ea_a655_0242ac1c0002row136_col1\" class=\"data row136 col1\" >The day the first hardship plan payment is due. For example, if a borrower has a hardship plan period of 3 months, the start date is the start of the three-month period in which the borrower is allowed to make interest-only payments.</td>\n",
              "            </tr>\n",
              "            <tr>\n",
              "                        <th id=\"T_5012fbfa_8c92_11ea_a655_0242ac1c0002level0_row137\" class=\"row_heading level0 row137\" >137</th>\n",
              "                        <td id=\"T_5012fbfa_8c92_11ea_a655_0242ac1c0002row137_col0\" class=\"data row137 col0\" >hardship_length</td>\n",
              "                        <td id=\"T_5012fbfa_8c92_11ea_a655_0242ac1c0002row137_col1\" class=\"data row137 col1\" >The number of months the borrower will make smaller payments than normally obligated due to a hardship plan</td>\n",
              "            </tr>\n",
              "            <tr>\n",
              "                        <th id=\"T_5012fbfa_8c92_11ea_a655_0242ac1c0002level0_row138\" class=\"row_heading level0 row138\" >138</th>\n",
              "                        <td id=\"T_5012fbfa_8c92_11ea_a655_0242ac1c0002row138_col0\" class=\"data row138 col0\" >hardship_dpd</td>\n",
              "                        <td id=\"T_5012fbfa_8c92_11ea_a655_0242ac1c0002row138_col1\" class=\"data row138 col1\" >Account days past due as of the hardship plan start date</td>\n",
              "            </tr>\n",
              "            <tr>\n",
              "                        <th id=\"T_5012fbfa_8c92_11ea_a655_0242ac1c0002level0_row139\" class=\"row_heading level0 row139\" >139</th>\n",
              "                        <td id=\"T_5012fbfa_8c92_11ea_a655_0242ac1c0002row139_col0\" class=\"data row139 col0\" >hardship_loan_status</td>\n",
              "                        <td id=\"T_5012fbfa_8c92_11ea_a655_0242ac1c0002row139_col1\" class=\"data row139 col1\" >Loan Status as of the hardship plan start date</td>\n",
              "            </tr>\n",
              "            <tr>\n",
              "                        <th id=\"T_5012fbfa_8c92_11ea_a655_0242ac1c0002level0_row140\" class=\"row_heading level0 row140\" >140</th>\n",
              "                        <td id=\"T_5012fbfa_8c92_11ea_a655_0242ac1c0002row140_col0\" class=\"data row140 col0\" >orig_projected_additional_accrued_interest</td>\n",
              "                        <td id=\"T_5012fbfa_8c92_11ea_a655_0242ac1c0002row140_col1\" class=\"data row140 col1\" >The original projected additional interest amount that will accrue for the given hardship payment plan as of the Hardship Start Date. This field will be null if the borrower has broken their hardship payment plan.</td>\n",
              "            </tr>\n",
              "            <tr>\n",
              "                        <th id=\"T_5012fbfa_8c92_11ea_a655_0242ac1c0002level0_row141\" class=\"row_heading level0 row141\" >141</th>\n",
              "                        <td id=\"T_5012fbfa_8c92_11ea_a655_0242ac1c0002row141_col0\" class=\"data row141 col0\" >hardship_payoff_balance_amount</td>\n",
              "                        <td id=\"T_5012fbfa_8c92_11ea_a655_0242ac1c0002row141_col1\" class=\"data row141 col1\" >The payoff balance amount as of the hardship plan start date</td>\n",
              "            </tr>\n",
              "            <tr>\n",
              "                        <th id=\"T_5012fbfa_8c92_11ea_a655_0242ac1c0002level0_row142\" class=\"row_heading level0 row142\" >142</th>\n",
              "                        <td id=\"T_5012fbfa_8c92_11ea_a655_0242ac1c0002row142_col0\" class=\"data row142 col0\" >hardship_last_payment_amount</td>\n",
              "                        <td id=\"T_5012fbfa_8c92_11ea_a655_0242ac1c0002row142_col1\" class=\"data row142 col1\" >The last payment amount as of the hardship plan start date</td>\n",
              "            </tr>\n",
              "            <tr>\n",
              "                        <th id=\"T_5012fbfa_8c92_11ea_a655_0242ac1c0002level0_row143\" class=\"row_heading level0 row143\" >143</th>\n",
              "                        <td id=\"T_5012fbfa_8c92_11ea_a655_0242ac1c0002row143_col0\" class=\"data row143 col0\" >disbursement_method</td>\n",
              "                        <td id=\"T_5012fbfa_8c92_11ea_a655_0242ac1c0002row143_col1\" class=\"data row143 col1\" >The method by which the borrower receives their loan. Possible values are: CASH, DIRECT_PAY</td>\n",
              "            </tr>\n",
              "            <tr>\n",
              "                        <th id=\"T_5012fbfa_8c92_11ea_a655_0242ac1c0002level0_row144\" class=\"row_heading level0 row144\" >144</th>\n",
              "                        <td id=\"T_5012fbfa_8c92_11ea_a655_0242ac1c0002row144_col0\" class=\"data row144 col0\" >debt_settlement_flag</td>\n",
              "                        <td id=\"T_5012fbfa_8c92_11ea_a655_0242ac1c0002row144_col1\" class=\"data row144 col1\" >Flags whether or not the borrower, who has charged-off, is working with a debt-settlement company.</td>\n",
              "            </tr>\n",
              "            <tr>\n",
              "                        <th id=\"T_5012fbfa_8c92_11ea_a655_0242ac1c0002level0_row145\" class=\"row_heading level0 row145\" >145</th>\n",
              "                        <td id=\"T_5012fbfa_8c92_11ea_a655_0242ac1c0002row145_col0\" class=\"data row145 col0\" >debt_settlement_flag_date</td>\n",
              "                        <td id=\"T_5012fbfa_8c92_11ea_a655_0242ac1c0002row145_col1\" class=\"data row145 col1\" >The most recent date that the Debt_Settlement_Flag has been set  </td>\n",
              "            </tr>\n",
              "            <tr>\n",
              "                        <th id=\"T_5012fbfa_8c92_11ea_a655_0242ac1c0002level0_row146\" class=\"row_heading level0 row146\" >146</th>\n",
              "                        <td id=\"T_5012fbfa_8c92_11ea_a655_0242ac1c0002row146_col0\" class=\"data row146 col0\" >settlement_status</td>\n",
              "                        <td id=\"T_5012fbfa_8c92_11ea_a655_0242ac1c0002row146_col1\" class=\"data row146 col1\" >The status of the borrower’s settlement plan. Possible values are: COMPLETE, ACTIVE, BROKEN, CANCELLED, DENIED, DRAFT</td>\n",
              "            </tr>\n",
              "            <tr>\n",
              "                        <th id=\"T_5012fbfa_8c92_11ea_a655_0242ac1c0002level0_row147\" class=\"row_heading level0 row147\" >147</th>\n",
              "                        <td id=\"T_5012fbfa_8c92_11ea_a655_0242ac1c0002row147_col0\" class=\"data row147 col0\" >settlement_date</td>\n",
              "                        <td id=\"T_5012fbfa_8c92_11ea_a655_0242ac1c0002row147_col1\" class=\"data row147 col1\" >The date that the borrower agrees to the settlement plan</td>\n",
              "            </tr>\n",
              "            <tr>\n",
              "                        <th id=\"T_5012fbfa_8c92_11ea_a655_0242ac1c0002level0_row148\" class=\"row_heading level0 row148\" >148</th>\n",
              "                        <td id=\"T_5012fbfa_8c92_11ea_a655_0242ac1c0002row148_col0\" class=\"data row148 col0\" >settlement_amount</td>\n",
              "                        <td id=\"T_5012fbfa_8c92_11ea_a655_0242ac1c0002row148_col1\" class=\"data row148 col1\" >The loan amount that the borrower has agreed to settle for</td>\n",
              "            </tr>\n",
              "            <tr>\n",
              "                        <th id=\"T_5012fbfa_8c92_11ea_a655_0242ac1c0002level0_row149\" class=\"row_heading level0 row149\" >149</th>\n",
              "                        <td id=\"T_5012fbfa_8c92_11ea_a655_0242ac1c0002row149_col0\" class=\"data row149 col0\" >settlement_percentage</td>\n",
              "                        <td id=\"T_5012fbfa_8c92_11ea_a655_0242ac1c0002row149_col1\" class=\"data row149 col1\" >The settlement amount as a percentage of the payoff balance amount on the loan</td>\n",
              "            </tr>\n",
              "            <tr>\n",
              "                        <th id=\"T_5012fbfa_8c92_11ea_a655_0242ac1c0002level0_row150\" class=\"row_heading level0 row150\" >150</th>\n",
              "                        <td id=\"T_5012fbfa_8c92_11ea_a655_0242ac1c0002row150_col0\" class=\"data row150 col0\" >settlement_term</td>\n",
              "                        <td id=\"T_5012fbfa_8c92_11ea_a655_0242ac1c0002row150_col1\" class=\"data row150 col1\" >The number of months that the borrower will be on the settlement plan</td>\n",
              "            </tr>\n",
              "    </tbody></table>"
            ],
            "text/plain": [
              "<pandas.io.formats.style.Styler at 0x7f8a145f5358>"
            ]
          },
          "metadata": {
            "tags": []
          },
          "execution_count": 14
        }
      ]
    },
    {
      "cell_type": "markdown",
      "metadata": {
        "id": "EMwaWjWMOkNd",
        "colab_type": "text"
      },
      "source": [
        "From the dictionary and head of the dataset, we can see that some columns like annual_inc, funded_amt, etc. may be much useful for building our model but at the same time, some columns like id, member_id, etc. will not be helping.\n",
        "\n",
        "Also, I will drop the column 'issue_d' which denotes the date the loan was funded since it does not convey any information about the borrower"
      ]
    },
    {
      "cell_type": "code",
      "metadata": {
        "id": "LXYTBF0GOg2c",
        "colab_type": "code",
        "colab": {}
      },
      "source": [
        "drop_list3 = ['id','member_id','issue_d']\n",
        "df = df.drop(drop_list3,axis=1)"
      ],
      "execution_count": 0,
      "outputs": []
    },
    {
      "cell_type": "code",
      "metadata": {
        "id": "fBM1FbN3Oo5F",
        "colab_type": "code",
        "colab": {
          "base_uri": "https://localhost:8080/",
          "height": 35
        },
        "outputId": "87df665f-4f58-4cf1-d0d1-487badc6dbd0"
      },
      "source": [
        "df.shape"
      ],
      "execution_count": 16,
      "outputs": [
        {
          "output_type": "execute_result",
          "data": {
            "text/plain": [
              "(334262, 140)"
            ]
          },
          "metadata": {
            "tags": []
          },
          "execution_count": 16
        }
      ]
    },
    {
      "cell_type": "code",
      "metadata": {
        "id": "ardncOk_Opls",
        "colab_type": "code",
        "colab": {
          "base_uri": "https://localhost:8080/",
          "height": 230
        },
        "outputId": "a48c8db0-3c76-448c-f326-d0981b8295c4"
      },
      "source": [
        "df.head(1)"
      ],
      "execution_count": 17,
      "outputs": [
        {
          "output_type": "execute_result",
          "data": {
            "text/html": [
              "<div>\n",
              "<style scoped>\n",
              "    .dataframe tbody tr th:only-of-type {\n",
              "        vertical-align: middle;\n",
              "    }\n",
              "\n",
              "    .dataframe tbody tr th {\n",
              "        vertical-align: top;\n",
              "    }\n",
              "\n",
              "    .dataframe thead th {\n",
              "        text-align: right;\n",
              "    }\n",
              "</style>\n",
              "<table border=\"1\" class=\"dataframe\">\n",
              "  <thead>\n",
              "    <tr style=\"text-align: right;\">\n",
              "      <th></th>\n",
              "      <th>loan_amnt</th>\n",
              "      <th>term</th>\n",
              "      <th>installment</th>\n",
              "      <th>emp_title</th>\n",
              "      <th>emp_length</th>\n",
              "      <th>home_ownership</th>\n",
              "      <th>annual_inc</th>\n",
              "      <th>verification_status</th>\n",
              "      <th>loan_status</th>\n",
              "      <th>pymnt_plan</th>\n",
              "      <th>url</th>\n",
              "      <th>desc</th>\n",
              "      <th>purpose</th>\n",
              "      <th>title</th>\n",
              "      <th>zip_code</th>\n",
              "      <th>addr_state</th>\n",
              "      <th>dti</th>\n",
              "      <th>delinq_2yrs</th>\n",
              "      <th>earliest_cr_line</th>\n",
              "      <th>fico_range_low</th>\n",
              "      <th>fico_range_high</th>\n",
              "      <th>inq_last_6mths</th>\n",
              "      <th>mths_since_last_delinq</th>\n",
              "      <th>mths_since_last_record</th>\n",
              "      <th>open_acc</th>\n",
              "      <th>pub_rec</th>\n",
              "      <th>revol_bal</th>\n",
              "      <th>revol_util</th>\n",
              "      <th>total_acc</th>\n",
              "      <th>initial_list_status</th>\n",
              "      <th>out_prncp</th>\n",
              "      <th>out_prncp_inv</th>\n",
              "      <th>total_pymnt</th>\n",
              "      <th>total_pymnt_inv</th>\n",
              "      <th>total_rec_prncp</th>\n",
              "      <th>total_rec_int</th>\n",
              "      <th>total_rec_late_fee</th>\n",
              "      <th>recoveries</th>\n",
              "      <th>collection_recovery_fee</th>\n",
              "      <th>last_pymnt_d</th>\n",
              "      <th>...</th>\n",
              "      <th>tax_liens</th>\n",
              "      <th>tot_hi_cred_lim</th>\n",
              "      <th>total_bal_ex_mort</th>\n",
              "      <th>total_bc_limit</th>\n",
              "      <th>total_il_high_credit_limit</th>\n",
              "      <th>revol_bal_joint</th>\n",
              "      <th>sec_app_fico_range_low</th>\n",
              "      <th>sec_app_fico_range_high</th>\n",
              "      <th>sec_app_earliest_cr_line</th>\n",
              "      <th>sec_app_inq_last_6mths</th>\n",
              "      <th>sec_app_mort_acc</th>\n",
              "      <th>sec_app_open_acc</th>\n",
              "      <th>sec_app_revol_util</th>\n",
              "      <th>sec_app_open_act_il</th>\n",
              "      <th>sec_app_num_rev_accts</th>\n",
              "      <th>sec_app_chargeoff_within_12_mths</th>\n",
              "      <th>sec_app_collections_12_mths_ex_med</th>\n",
              "      <th>sec_app_mths_since_last_major_derog</th>\n",
              "      <th>hardship_flag</th>\n",
              "      <th>hardship_type</th>\n",
              "      <th>hardship_reason</th>\n",
              "      <th>hardship_status</th>\n",
              "      <th>deferral_term</th>\n",
              "      <th>hardship_amount</th>\n",
              "      <th>hardship_start_date</th>\n",
              "      <th>hardship_end_date</th>\n",
              "      <th>payment_plan_start_date</th>\n",
              "      <th>hardship_length</th>\n",
              "      <th>hardship_dpd</th>\n",
              "      <th>hardship_loan_status</th>\n",
              "      <th>orig_projected_additional_accrued_interest</th>\n",
              "      <th>hardship_payoff_balance_amount</th>\n",
              "      <th>hardship_last_payment_amount</th>\n",
              "      <th>debt_settlement_flag</th>\n",
              "      <th>debt_settlement_flag_date</th>\n",
              "      <th>settlement_status</th>\n",
              "      <th>settlement_date</th>\n",
              "      <th>settlement_amount</th>\n",
              "      <th>settlement_percentage</th>\n",
              "      <th>settlement_term</th>\n",
              "    </tr>\n",
              "  </thead>\n",
              "  <tbody>\n",
              "    <tr>\n",
              "      <th>0</th>\n",
              "      <td>5000</td>\n",
              "      <td>36 months</td>\n",
              "      <td>162.87</td>\n",
              "      <td>NaN</td>\n",
              "      <td>10+ years</td>\n",
              "      <td>RENT</td>\n",
              "      <td>24000.0</td>\n",
              "      <td>Verified</td>\n",
              "      <td>Fully Paid</td>\n",
              "      <td>n</td>\n",
              "      <td>https://lendingclub.com/browse/loanDetail.acti...</td>\n",
              "      <td>Borrower added on 12/22/11 &gt; I need to upgra...</td>\n",
              "      <td>credit_card</td>\n",
              "      <td>Computer</td>\n",
              "      <td>860xx</td>\n",
              "      <td>AZ</td>\n",
              "      <td>0.002765</td>\n",
              "      <td>0.0</td>\n",
              "      <td>Jan-85</td>\n",
              "      <td>735</td>\n",
              "      <td>739</td>\n",
              "      <td>1.0</td>\n",
              "      <td>NaN</td>\n",
              "      <td>NaN</td>\n",
              "      <td>3.0</td>\n",
              "      <td>0.0</td>\n",
              "      <td>13648</td>\n",
              "      <td>83.70%</td>\n",
              "      <td>9.0</td>\n",
              "      <td>f</td>\n",
              "      <td>0.0</td>\n",
              "      <td>0.0</td>\n",
              "      <td>5863.155187</td>\n",
              "      <td>5833.84</td>\n",
              "      <td>5000.0</td>\n",
              "      <td>863.16</td>\n",
              "      <td>0.0</td>\n",
              "      <td>0.0</td>\n",
              "      <td>0.0</td>\n",
              "      <td>Jan-15</td>\n",
              "      <td>...</td>\n",
              "      <td>0.0</td>\n",
              "      <td>NaN</td>\n",
              "      <td>NaN</td>\n",
              "      <td>NaN</td>\n",
              "      <td>NaN</td>\n",
              "      <td>NaN</td>\n",
              "      <td>NaN</td>\n",
              "      <td>NaN</td>\n",
              "      <td>NaN</td>\n",
              "      <td>NaN</td>\n",
              "      <td>NaN</td>\n",
              "      <td>NaN</td>\n",
              "      <td>NaN</td>\n",
              "      <td>NaN</td>\n",
              "      <td>NaN</td>\n",
              "      <td>NaN</td>\n",
              "      <td>NaN</td>\n",
              "      <td>NaN</td>\n",
              "      <td>N</td>\n",
              "      <td>NaN</td>\n",
              "      <td>NaN</td>\n",
              "      <td>NaN</td>\n",
              "      <td>NaN</td>\n",
              "      <td>NaN</td>\n",
              "      <td>NaN</td>\n",
              "      <td>NaN</td>\n",
              "      <td>NaN</td>\n",
              "      <td>NaN</td>\n",
              "      <td>NaN</td>\n",
              "      <td>NaN</td>\n",
              "      <td>NaN</td>\n",
              "      <td>NaN</td>\n",
              "      <td>NaN</td>\n",
              "      <td>N</td>\n",
              "      <td>NaN</td>\n",
              "      <td>NaN</td>\n",
              "      <td>NaN</td>\n",
              "      <td>NaN</td>\n",
              "      <td>NaN</td>\n",
              "      <td>NaN</td>\n",
              "    </tr>\n",
              "  </tbody>\n",
              "</table>\n",
              "<p>1 rows × 140 columns</p>\n",
              "</div>"
            ],
            "text/plain": [
              "   loan_amnt        term  ...  settlement_percentage settlement_term\n",
              "0       5000   36 months  ...                    NaN             NaN\n",
              "\n",
              "[1 rows x 140 columns]"
            ]
          },
          "metadata": {
            "tags": []
          },
          "execution_count": 17
        }
      ]
    },
    {
      "cell_type": "code",
      "metadata": {
        "id": "8ooe_0AiOs6q",
        "colab_type": "code",
        "colab": {}
      },
      "source": [
        "#Dropping another column that I deem unnecessary. It contains data in an unorganized way which will not be very helpful for modeling. \n",
        "drop_list4 = ['emp_title']\n",
        "df = df.drop(drop_list4,axis=1)"
      ],
      "execution_count": 0,
      "outputs": []
    },
    {
      "cell_type": "code",
      "metadata": {
        "id": "EmUPelWKOyUK",
        "colab_type": "code",
        "colab": {
          "base_uri": "https://localhost:8080/",
          "height": 35
        },
        "outputId": "d7e44fb4-f0c8-408a-cee8-8aa176f1f108"
      },
      "source": [
        "df.shape"
      ],
      "execution_count": 19,
      "outputs": [
        {
          "output_type": "execute_result",
          "data": {
            "text/plain": [
              "(334262, 139)"
            ]
          },
          "metadata": {
            "tags": []
          },
          "execution_count": 19
        }
      ]
    },
    {
      "cell_type": "code",
      "metadata": {
        "id": "Xh_nSqbXOzQd",
        "colab_type": "code",
        "colab": {}
      },
      "source": [
        "#Url is also not much of importance to us. Dropping it. \n",
        "drop_list5 = ['url']\n",
        "df = df.drop(drop_list5,axis=1)"
      ],
      "execution_count": 0,
      "outputs": []
    },
    {
      "cell_type": "markdown",
      "metadata": {
        "id": "wemVYNPuO5dF",
        "colab_type": "text"
      },
      "source": [
        "leaving description field as I will be trying to apply NLP techniques on it for feature engineering. "
      ]
    },
    {
      "cell_type": "code",
      "metadata": {
        "id": "DtYyTdb7O35y",
        "colab_type": "code",
        "colab": {
          "base_uri": "https://localhost:8080/",
          "height": 88
        },
        "outputId": "981dab17-1e2e-48e9-edc6-3f22b1cd344c"
      },
      "source": [
        "#exploring what is there in purpose predictor\n",
        "df['purpose'].unique()"
      ],
      "execution_count": 21,
      "outputs": [
        {
          "output_type": "execute_result",
          "data": {
            "text/plain": [
              "array(['credit_card', 'car', 'small_business', 'other', 'wedding',\n",
              "       'debt_consolidation', 'home_improvement', 'major_purchase',\n",
              "       'medical', 'moving', 'vacation', 'house', 'renewable_energy',\n",
              "       'educational'], dtype=object)"
            ]
          },
          "metadata": {
            "tags": []
          },
          "execution_count": 21
        }
      ]
    },
    {
      "cell_type": "markdown",
      "metadata": {
        "id": "nNNCkmHLO90y",
        "colab_type": "text"
      },
      "source": [
        "As we can see there are values like credit card, debt_consolidation etc which conveys more of less similar information (debt). Therefore, reducing it by recoding similar attributes to a standard value."
      ]
    },
    {
      "cell_type": "code",
      "metadata": {
        "id": "cL3JrSQCO8HJ",
        "colab_type": "code",
        "colab": {}
      },
      "source": [
        "# recode loan purpose \n",
        "df['purpose_n'] = np.nan #Creating new column and filling it with nan values\n",
        "\n",
        "#filter by debt consolidation, CC and storing them in new columns with a common name \"DEBT\"\n",
        "df.loc[(df['purpose'] == 'debt_consolidation')|(df['purpose'] ==\"credit_card\"), 'purpose_n'] = 'debt' \n",
        "#filter by home improvement, major purchase, car, house, vacation, renewable energy \n",
        "#and storing them in new columns with a common name \"major purchases\"\n",
        "df.loc[(df['purpose'] == 'home_improvement')|(df['purpose'] ==\"major_purchase\")|\n",
        "                 (df['purpose'] == 'car')|(df['purpose'] ==\"house\")|\n",
        "                 (df['purpose'] == 'vacation')|(df['purpose'] ==\"renewable_energy\"),\n",
        "                 'purpose_n'] = 'major_purchases' \n",
        "#filter by small business, medical, moving, wedding, educational \n",
        "#and storing them in new columns with a common name \"life events\"                 \n",
        "df.loc[(df['purpose'] == 'small_business')|(df['purpose'] ==\"medical\")|\n",
        "                 (df['purpose'] == 'moving')|(df['purpose'] ==\"wedding\")|\n",
        "                 (df['purpose'] == 'educational'),\n",
        "                 'purpose_n'] = 'life_events'\n",
        "#the remaining category will remain with the same name 'other' in new columns                 \n",
        "df.loc[(df['purpose'] == 'other'), 'purpose_n'] = 'other'"
      ],
      "execution_count": 0,
      "outputs": []
    },
    {
      "cell_type": "code",
      "metadata": {
        "id": "-KwncHWkPAFO",
        "colab_type": "code",
        "colab": {
          "base_uri": "https://localhost:8080/",
          "height": 52
        },
        "outputId": "a7dd397c-7f47-4e58-89a4-72aea531629b"
      },
      "source": [
        "df['title'].unique()#.tolist()\n",
        "#There are too many unique values to get a meaning out of it. Also, it contains more or less similar information as Purpose predictor which is much cleaner. \n",
        "#So, we will drop the title field."
      ],
      "execution_count": 23,
      "outputs": [
        {
          "output_type": "execute_result",
          "data": {
            "text/plain": [
              "array(['Computer', 'bike', 'real estate business', ..., 'takeitaway',\n",
              "       'Creditt Card Loan', 'debt reduction/hone updates'], dtype=object)"
            ]
          },
          "metadata": {
            "tags": []
          },
          "execution_count": 23
        }
      ]
    },
    {
      "cell_type": "code",
      "metadata": {
        "id": "jBnnLoZmPCC2",
        "colab_type": "code",
        "colab": {
          "base_uri": "https://localhost:8080/",
          "height": 35
        },
        "outputId": "10a9e77d-a032-45ff-ed8a-cc060b9ef4e8"
      },
      "source": [
        "#As we have created a new column after recoding the values under purpose, dropping the original purpose predictor. \n",
        "#Also, the title predictor contains too many unique values and is more or less similar to purpose predictor which we recoded above\n",
        "drop_list6 = ['purpose','title']\n",
        "df = df.drop(drop_list6,axis=1)\n",
        "df.shape"
      ],
      "execution_count": 24,
      "outputs": [
        {
          "output_type": "execute_result",
          "data": {
            "text/plain": [
              "(334262, 137)"
            ]
          },
          "metadata": {
            "tags": []
          },
          "execution_count": 24
        }
      ]
    },
    {
      "cell_type": "code",
      "metadata": {
        "id": "U4XlgXkiPIlX",
        "colab_type": "code",
        "colab": {
          "base_uri": "https://localhost:8080/",
          "height": 230
        },
        "outputId": "81ce65b2-eadb-431d-963a-d6fe4a77bfd4"
      },
      "source": [
        "print(df['zip_code'].head())\n",
        "print(df['addr_state'].value_counts().head(5))"
      ],
      "execution_count": 25,
      "outputs": [
        {
          "output_type": "stream",
          "text": [
            "0    860xx\n",
            "1    309xx\n",
            "2    606xx\n",
            "3    917xx\n",
            "4    972xx\n",
            "Name: zip_code, dtype: object\n",
            "CA    51778\n",
            "NY    28589\n",
            "TX    26350\n",
            "FL    23733\n",
            "IL    13269\n",
            "Name: addr_state, dtype: int64\n"
          ],
          "name": "stdout"
        }
      ]
    },
    {
      "cell_type": "code",
      "metadata": {
        "id": "Laneg7s8PKax",
        "colab_type": "code",
        "colab": {}
      },
      "source": [
        "#Zip code and State contains similar information. Also, zip code does not even have the entire zip code value and just 3 digits. So, dropping it and keeping state. \n",
        "drop_list7 = ['zip_code']\n",
        "df = df.drop(drop_list7,axis=1)"
      ],
      "execution_count": 0,
      "outputs": []
    },
    {
      "cell_type": "markdown",
      "metadata": {
        "id": "BBhpyDoJPQOP",
        "colab_type": "text"
      },
      "source": [
        "dti: A ratio calculated using the borrower’s total monthly debt payments on the total debt obligations, excluding mortgage and the requested LC loan, divided by the borrower’s self-reported monthly income.\n",
        "\n",
        "Looks important to me. Keeping it.\n",
        "\n",
        "delinq_2yrs: The number of 30+ days past-due incidences of delinquency in the borrower’s credit file for the past 2 years I am not sure what delinquency is. Let's google it.\n",
        "\n",
        "delinquency:neglect of one's duty. minor crime, especially that committed by young people.\n",
        "\n",
        "Again, looks important as it clearly states individual's chances of being a defaulter."
      ]
    },
    {
      "cell_type": "code",
      "metadata": {
        "id": "SNAz8U0ePOEU",
        "colab_type": "code",
        "colab": {
          "base_uri": "https://localhost:8080/",
          "height": 88
        },
        "outputId": "12771ee8-30e5-46b7-beb5-192ab4dd70b9"
      },
      "source": [
        "df.earliest_cr_line.head(3)"
      ],
      "execution_count": 27,
      "outputs": [
        {
          "output_type": "execute_result",
          "data": {
            "text/plain": [
              "0    Jan-85\n",
              "1    Apr-99\n",
              "2    Nov-01\n",
              "Name: earliest_cr_line, dtype: object"
            ]
          },
          "metadata": {
            "tags": []
          },
          "execution_count": 27
        }
      ]
    },
    {
      "cell_type": "markdown",
      "metadata": {
        "id": "U-z0Wb4NQfl_",
        "colab_type": "text"
      },
      "source": [
        "It is in the format month-year which is not useful for modeling. The column 'earliest_cr_line' describes the date when the first credit line was established. Usually, the longer one has held a credit line, the more desirable as a borrower. This feature will therefore be more useful if converted to a measure of how long one has held a credit line. To do this, I will convert the column from object to datetime and calculate the time duration from the establishment of the first credit line to the current date."
      ]
    },
    {
      "cell_type": "code",
      "metadata": {
        "id": "5I9cS-UzPjMf",
        "colab_type": "code",
        "colab": {}
      },
      "source": [
        "import datetime\n",
        "\n",
        "# calculate time since first credit line\n",
        "now = datetime.datetime.today() #prints current date\n",
        "def credit_age (x):\n",
        "    if x != 'nan': #filter non null\n",
        "        c1 = datetime.datetime.strptime(x, '%b-%y') #strips the present date in mon-year format \n",
        "        #b-Abbreviated month name.\ty-Year without century as a zero-padded decimal number.\t#Reference: https://www.programiz.com/python-programming/datetime/strftime\n",
        "        return (now-c1).days/365.25\n",
        "        #return c1\n",
        "    else:\n",
        "        return None\n",
        "\n",
        "df['earliest_cr_line_n'] = df['earliest_cr_line'].astype(str)\n",
        "df['earliest_cr_line_n'] = df['earliest_cr_line_n'].apply(credit_age)"
      ],
      "execution_count": 0,
      "outputs": []
    },
    {
      "cell_type": "code",
      "metadata": {
        "id": "AHt-9RwVRBGh",
        "colab_type": "code",
        "colab": {
          "base_uri": "https://localhost:8080/",
          "height": 124
        },
        "outputId": "88611fb6-8e57-40a6-c406-6c7a3724f065"
      },
      "source": [
        "df['earliest_cr_line_n'].head()"
      ],
      "execution_count": 33,
      "outputs": [
        {
          "output_type": "execute_result",
          "data": {
            "text/plain": [
              "0    35.331964\n",
              "1    21.086927\n",
              "2    18.499658\n",
              "3    24.249144\n",
              "4    24.334018\n",
              "Name: earliest_cr_line_n, dtype: float64"
            ]
          },
          "metadata": {
            "tags": []
          },
          "execution_count": 33
        }
      ]
    },
    {
      "cell_type": "code",
      "metadata": {
        "id": "8XfC1ddhRfAC",
        "colab_type": "code",
        "colab": {}
      },
      "source": [
        "#Removing the original columns \"earliest_6cr_line\" because we have transformed it to a new one\n",
        "drop_list8 = ['earliest_cr_line']\n",
        "df = df.drop(drop_list8,axis=1)"
      ],
      "execution_count": 0,
      "outputs": []
    },
    {
      "cell_type": "markdown",
      "metadata": {
        "id": "LD3Q13PyRwVZ",
        "colab_type": "text"
      },
      "source": [
        "Checking the count of missing values and percentage"
      ]
    },
    {
      "cell_type": "code",
      "metadata": {
        "id": "BjgsF4GsRuko",
        "colab_type": "code",
        "colab": {}
      },
      "source": [
        "def null_values(df): #creates a function with below logic\n",
        "        mis_val = df.isnull().sum() #gives sum of missing values (null values)\n",
        "        mis_val_percent = 100 * df.isnull().sum() / len(df) #getting percentage of missing values\n",
        "        mis_val_table = pd.concat([mis_val, mis_val_percent], axis=1) #creating a DF containing missing value count and it's percentage\n",
        "        mis_val_table_ren_columns = mis_val_table.rename( \n",
        "        columns = {0 : 'Missing Values', 1 : '% of Total Values'}) #renaming the columns\n",
        "        mis_val_table_ren_columns = mis_val_table_ren_columns[\n",
        "            mis_val_table_ren_columns.iloc[:,1] != 0].sort_values(\n",
        "        '% of Total Values', ascending=False).round(1) #getting the percentage of missing values in descending order and rounding it to 1 decimal\n",
        "        print (\"Dataframe has \" + str(df.shape[1]) + \" columns.\\n\"      \n",
        "            \"There are \" + str(mis_val_table_ren_columns.shape[0]) +\n",
        "              \" columns that have missing values.\") #printing number of columns and missing value count\n",
        "        return mis_val_table_ren_columns"
      ],
      "execution_count": 0,
      "outputs": []
    },
    {
      "cell_type": "code",
      "metadata": {
        "id": "7Zfegr6tRyBm",
        "colab_type": "code",
        "colab": {
          "base_uri": "https://localhost:8080/",
          "height": 691
        },
        "outputId": "9734b84a-c5b1-43eb-822b-6a28bc1ba1a7"
      },
      "source": [
        "# Missing values statistics\n",
        "miss_values = null_values(df)\n",
        "miss_values.head(20)"
      ],
      "execution_count": 36,
      "outputs": [
        {
          "output_type": "stream",
          "text": [
            "Dataframe has 136 columns.\n",
            "There are 108 columns that have missing values.\n"
          ],
          "name": "stdout"
        },
        {
          "output_type": "execute_result",
          "data": {
            "text/html": [
              "<div>\n",
              "<style scoped>\n",
              "    .dataframe tbody tr th:only-of-type {\n",
              "        vertical-align: middle;\n",
              "    }\n",
              "\n",
              "    .dataframe tbody tr th {\n",
              "        vertical-align: top;\n",
              "    }\n",
              "\n",
              "    .dataframe thead th {\n",
              "        text-align: right;\n",
              "    }\n",
              "</style>\n",
              "<table border=\"1\" class=\"dataframe\">\n",
              "  <thead>\n",
              "    <tr style=\"text-align: right;\">\n",
              "      <th></th>\n",
              "      <th>Missing Values</th>\n",
              "      <th>% of Total Values</th>\n",
              "    </tr>\n",
              "  </thead>\n",
              "  <tbody>\n",
              "    <tr>\n",
              "      <th>sec_app_mort_acc</th>\n",
              "      <td>334262</td>\n",
              "      <td>100.0</td>\n",
              "    </tr>\n",
              "    <tr>\n",
              "      <th>sec_app_num_rev_accts</th>\n",
              "      <td>334262</td>\n",
              "      <td>100.0</td>\n",
              "    </tr>\n",
              "    <tr>\n",
              "      <th>sec_app_chargeoff_within_12_mths</th>\n",
              "      <td>334262</td>\n",
              "      <td>100.0</td>\n",
              "    </tr>\n",
              "    <tr>\n",
              "      <th>sec_app_collections_12_mths_ex_med</th>\n",
              "      <td>334262</td>\n",
              "      <td>100.0</td>\n",
              "    </tr>\n",
              "    <tr>\n",
              "      <th>sec_app_open_act_il</th>\n",
              "      <td>334262</td>\n",
              "      <td>100.0</td>\n",
              "    </tr>\n",
              "    <tr>\n",
              "      <th>sec_app_mths_since_last_major_derog</th>\n",
              "      <td>334262</td>\n",
              "      <td>100.0</td>\n",
              "    </tr>\n",
              "    <tr>\n",
              "      <th>sec_app_revol_util</th>\n",
              "      <td>334262</td>\n",
              "      <td>100.0</td>\n",
              "    </tr>\n",
              "    <tr>\n",
              "      <th>sec_app_open_acc</th>\n",
              "      <td>334262</td>\n",
              "      <td>100.0</td>\n",
              "    </tr>\n",
              "    <tr>\n",
              "      <th>revol_bal_joint</th>\n",
              "      <td>334262</td>\n",
              "      <td>100.0</td>\n",
              "    </tr>\n",
              "    <tr>\n",
              "      <th>sec_app_fico_range_low</th>\n",
              "      <td>334262</td>\n",
              "      <td>100.0</td>\n",
              "    </tr>\n",
              "    <tr>\n",
              "      <th>sec_app_inq_last_6mths</th>\n",
              "      <td>334262</td>\n",
              "      <td>100.0</td>\n",
              "    </tr>\n",
              "    <tr>\n",
              "      <th>sec_app_fico_range_high</th>\n",
              "      <td>334262</td>\n",
              "      <td>100.0</td>\n",
              "    </tr>\n",
              "    <tr>\n",
              "      <th>sec_app_earliest_cr_line</th>\n",
              "      <td>334262</td>\n",
              "      <td>100.0</td>\n",
              "    </tr>\n",
              "    <tr>\n",
              "      <th>orig_projected_additional_accrued_interest</th>\n",
              "      <td>333338</td>\n",
              "      <td>99.7</td>\n",
              "    </tr>\n",
              "    <tr>\n",
              "      <th>deferral_term</th>\n",
              "      <td>333073</td>\n",
              "      <td>99.6</td>\n",
              "    </tr>\n",
              "    <tr>\n",
              "      <th>payment_plan_start_date</th>\n",
              "      <td>333073</td>\n",
              "      <td>99.6</td>\n",
              "    </tr>\n",
              "    <tr>\n",
              "      <th>hardship_dpd</th>\n",
              "      <td>333073</td>\n",
              "      <td>99.6</td>\n",
              "    </tr>\n",
              "    <tr>\n",
              "      <th>hardship_type</th>\n",
              "      <td>333073</td>\n",
              "      <td>99.6</td>\n",
              "    </tr>\n",
              "    <tr>\n",
              "      <th>hardship_length</th>\n",
              "      <td>333073</td>\n",
              "      <td>99.6</td>\n",
              "    </tr>\n",
              "    <tr>\n",
              "      <th>hardship_status</th>\n",
              "      <td>333073</td>\n",
              "      <td>99.6</td>\n",
              "    </tr>\n",
              "  </tbody>\n",
              "</table>\n",
              "</div>"
            ],
            "text/plain": [
              "                                            Missing Values  % of Total Values\n",
              "sec_app_mort_acc                                    334262              100.0\n",
              "sec_app_num_rev_accts                               334262              100.0\n",
              "sec_app_chargeoff_within_12_mths                    334262              100.0\n",
              "sec_app_collections_12_mths_ex_med                  334262              100.0\n",
              "sec_app_open_act_il                                 334262              100.0\n",
              "sec_app_mths_since_last_major_derog                 334262              100.0\n",
              "sec_app_revol_util                                  334262              100.0\n",
              "sec_app_open_acc                                    334262              100.0\n",
              "revol_bal_joint                                     334262              100.0\n",
              "sec_app_fico_range_low                              334262              100.0\n",
              "sec_app_inq_last_6mths                              334262              100.0\n",
              "sec_app_fico_range_high                             334262              100.0\n",
              "sec_app_earliest_cr_line                            334262              100.0\n",
              "orig_projected_additional_accrued_interest          333338               99.7\n",
              "deferral_term                                       333073               99.6\n",
              "payment_plan_start_date                             333073               99.6\n",
              "hardship_dpd                                        333073               99.6\n",
              "hardship_type                                       333073               99.6\n",
              "hardship_length                                     333073               99.6\n",
              "hardship_status                                     333073               99.6"
            ]
          },
          "metadata": {
            "tags": []
          },
          "execution_count": 36
        }
      ]
    },
    {
      "cell_type": "markdown",
      "metadata": {
        "id": "tr9AH4fWR2dM",
        "colab_type": "text"
      },
      "source": [
        "We can see many columns are either empty or have very less data compared to the features to be used. For example, member_id, revol_bal_joint, sec_app_fico_range_low, sec_app_fico_range_high and so on.\n",
        "\n",
        "Therefore, those can be removed upfront. So, I am assuming that predictors that contain more than 70% missing values are not useful and removing them."
      ]
    },
    {
      "cell_type": "markdown",
      "metadata": {
        "id": "rDeKqxMUR6xi",
        "colab_type": "text"
      },
      "source": [
        "## 3.1 Drop features missing more than 30% data"
      ]
    },
    {
      "cell_type": "code",
      "metadata": {
        "id": "gab__v6uRzls",
        "colab_type": "code",
        "colab": {
          "base_uri": "https://localhost:8080/",
          "height": 230
        },
        "outputId": "9101605a-ac5a-4ae1-d7a9-f5cda4e4413c"
      },
      "source": [
        "#First calculate the percentage of missing data for each feature:\n",
        "missing_features = df.isnull().mean().sort_values(ascending=False)\n",
        "print(missing_features)"
      ],
      "execution_count": 40,
      "outputs": [
        {
          "output_type": "stream",
          "text": [
            "sec_app_earliest_cr_line               1.0\n",
            "sec_app_open_acc                       1.0\n",
            "sec_app_chargeoff_within_12_mths       1.0\n",
            "sec_app_collections_12_mths_ex_med     1.0\n",
            "sec_app_mths_since_last_major_derog    1.0\n",
            "                                      ... \n",
            "total_pymnt                            0.0\n",
            "total_pymnt_inv                        0.0\n",
            "total_rec_prncp                        0.0\n",
            "total_rec_int                          0.0\n",
            "loan_amnt                              0.0\n",
            "Length: 136, dtype: float64\n"
          ],
          "name": "stdout"
        }
      ]
    },
    {
      "cell_type": "code",
      "metadata": {
        "id": "DXN0G0zoR8ri",
        "colab_type": "code",
        "colab": {
          "base_uri": "https://localhost:8080/",
          "height": 315
        },
        "outputId": "363bb062-c094-4965-f1f9-e82ae9c9965e"
      },
      "source": [
        "#Let's visualize the distribution of missing data percentages:\n",
        "plt.figure(figsize=(6,3), dpi=90)\n",
        "missing_features.plot.hist(bins=20)\n",
        "plt.title('Histogram of Missing Features')\n",
        "plt.xlabel('Fraction of data missing')\n",
        "plt.ylabel('Feature count')"
      ],
      "execution_count": 38,
      "outputs": [
        {
          "output_type": "execute_result",
          "data": {
            "text/plain": [
              "Text(0, 0.5, 'Feature count')"
            ]
          },
          "metadata": {
            "tags": []
          },
          "execution_count": 38
        },
        {
          "output_type": "display_data",
          "data": {
            "image/png": "[encoded data removed]",
            "text/plain": [
              "<Figure size 540x270 with 1 Axes>"
            ]
          },
          "metadata": {
            "tags": [],
            "needs_background": "light"
          }
        }
      ]
    },
    {
      "cell_type": "markdown",
      "metadata": {
        "id": "JkfY2xbeSAH1",
        "colab_type": "text"
      },
      "source": [
        "From the above histogram, we see there's a large gap between features missing \"some\" data (<25%) and those missing \"lots\" of data (>40%).\n",
        "\n",
        "Assuming that it will be very difficult to accurately impute data with more than 30% missing values, dropping such columns. Let's create a list of all columns missing more than 30% data in an alphabetical list:"
      ]
    },
    {
      "cell_type": "code",
      "metadata": {
        "id": "X172MZn9R-Ap",
        "colab_type": "code",
        "colab": {
          "base_uri": "https://localhost:8080/",
          "height": 55
        },
        "outputId": "52cf0149-3f3e-49b4-b925-466797bf8313"
      },
      "source": [
        "drop_list9 = sorted(list(missing_features[missing_features > 0.3].index)) #creating list to store the column names with over 30% missing values\n",
        "print(drop_list9)"
      ],
      "execution_count": 41,
      "outputs": [
        {
          "output_type": "stream",
          "text": [
            "['all_util', 'annual_inc_joint', 'debt_settlement_flag_date', 'deferral_term', 'desc', 'dti_joint', 'hardship_amount', 'hardship_dpd', 'hardship_end_date', 'hardship_last_payment_amount', 'hardship_length', 'hardship_loan_status', 'hardship_payoff_balance_amount', 'hardship_reason', 'hardship_start_date', 'hardship_status', 'hardship_type', 'il_util', 'inq_fi', 'inq_last_12m', 'max_bal_bc', 'mths_since_last_delinq', 'mths_since_last_major_derog', 'mths_since_last_record', 'mths_since_rcnt_il', 'mths_since_recent_bc_dlq', 'mths_since_recent_revol_delinq', 'next_pymnt_d', 'open_acc_6m', 'open_act_il', 'open_il_12m', 'open_il_24m', 'open_rv_12m', 'open_rv_24m', 'orig_projected_additional_accrued_interest', 'payment_plan_start_date', 'revol_bal_joint', 'sec_app_chargeoff_within_12_mths', 'sec_app_collections_12_mths_ex_med', 'sec_app_earliest_cr_line', 'sec_app_fico_range_high', 'sec_app_fico_range_low', 'sec_app_inq_last_6mths', 'sec_app_mort_acc', 'sec_app_mths_since_last_major_derog', 'sec_app_num_rev_accts', 'sec_app_open_acc', 'sec_app_open_act_il', 'sec_app_revol_util', 'settlement_amount', 'settlement_date', 'settlement_percentage', 'settlement_status', 'settlement_term', 'total_bal_il', 'total_cu_tl', 'verification_status_joint']\n"
          ],
          "name": "stdout"
        }
      ]
    },
    {
      "cell_type": "code",
      "metadata": {
        "id": "BIiplltGSR8G",
        "colab_type": "code",
        "colab": {
          "base_uri": "https://localhost:8080/",
          "height": 35
        },
        "outputId": "09a2fadf-24ce-46a8-eaa7-50d0df451de0"
      },
      "source": [
        "#number of features to be dropped?\n",
        "len(drop_list9)"
      ],
      "execution_count": 43,
      "outputs": [
        {
          "output_type": "execute_result",
          "data": {
            "text/plain": [
              "57"
            ]
          },
          "metadata": {
            "tags": []
          },
          "execution_count": 43
        }
      ]
    },
    {
      "cell_type": "code",
      "metadata": {
        "id": "LSw4ibwjSTW_",
        "colab_type": "code",
        "colab": {}
      },
      "source": [
        "#Dropping these features\n",
        "df.drop(drop_list9, axis=1, inplace=True)"
      ],
      "execution_count": 0,
      "outputs": []
    },
    {
      "cell_type": "code",
      "metadata": {
        "id": "mrBvXhigSYim",
        "colab_type": "code",
        "colab": {
          "base_uri": "https://localhost:8080/",
          "height": 479
        },
        "outputId": "f3af29ea-07b4-41d7-97ad-827068ed7a26"
      },
      "source": [
        "print('Now we are left with {} columns'.format(df.shape[1]))\n",
        "print('The remaining columns are as follows:')\n",
        "print(df.columns)"
      ],
      "execution_count": 46,
      "outputs": [
        {
          "output_type": "stream",
          "text": [
            "Now we are left with 79 columns\n",
            "The remaining columns are as follows:\n",
            "Index(['loan_amnt', 'term', 'installment', 'emp_length', 'home_ownership',\n",
            "       'annual_inc', 'verification_status', 'loan_status', 'pymnt_plan',\n",
            "       'addr_state', 'dti', 'delinq_2yrs', 'fico_range_low', 'fico_range_high',\n",
            "       'inq_last_6mths', 'open_acc', 'pub_rec', 'revol_bal', 'revol_util',\n",
            "       'total_acc', 'initial_list_status', 'out_prncp', 'out_prncp_inv',\n",
            "       'total_pymnt', 'total_pymnt_inv', 'total_rec_prncp', 'total_rec_int',\n",
            "       'total_rec_late_fee', 'recoveries', 'collection_recovery_fee',\n",
            "       'last_pymnt_d', 'last_credit_pull_d', 'last_fico_range_high',\n",
            "       'last_fico_range_low', 'collections_12_mths_ex_med', 'policy_code',\n",
            "       'application_type', 'acc_now_delinq', 'tot_coll_amt', 'tot_cur_bal',\n",
            "       'total_rev_hi_lim', 'acc_open_past_24mths', 'avg_cur_bal',\n",
            "       'bc_open_to_buy', 'bc_util', 'chargeoff_within_12_mths',\n",
            "       'mo_sin_old_il_acct', 'mo_sin_old_rev_tl_op', 'mo_sin_rcnt_rev_tl_op',\n",
            "       'mo_sin_rcnt_tl', 'mort_acc', 'mths_since_recent_bc',\n",
            "       'mths_since_recent_inq', 'num_accts_ever_120_pd', 'num_actv_bc_tl',\n",
            "       'num_actv_rev_tl', 'num_bc_sats', 'num_bc_tl', 'num_il_tl',\n",
            "       'num_op_rev_tl', 'num_rev_accts', 'num_rev_tl_bal_gt_0', 'num_sats',\n",
            "       'num_tl_120dpd_2m', 'num_tl_30dpd', 'num_tl_90g_dpd_24m',\n",
            "       'num_tl_op_past_12m', 'pct_tl_nvr_dlq', 'percent_bc_gt_75',\n",
            "       'pub_rec_bankruptcies', 'tax_liens', 'tot_hi_cred_lim',\n",
            "       'total_bal_ex_mort', 'total_bc_limit', 'total_il_high_credit_limit',\n",
            "       'hardship_flag', 'debt_settlement_flag', 'purpose_n',\n",
            "       'earliest_cr_line_n'],\n",
            "      dtype='object')\n"
          ],
          "name": "stdout"
        }
      ]
    },
    {
      "cell_type": "markdown",
      "metadata": {
        "id": "9pBY_bPYShdh",
        "colab_type": "text"
      },
      "source": [
        "That's great. We have considerably reduced the features from 136 to 79."
      ]
    },
    {
      "cell_type": "code",
      "metadata": {
        "id": "kGi40DvsSavU",
        "colab_type": "code",
        "colab": {
          "base_uri": "https://localhost:8080/",
          "height": 88
        },
        "outputId": "7f541812-d0b3-458e-baf2-f95b9738587c"
      },
      "source": [
        "print(df['pymnt_plan'].unique())\n",
        "print(df['pymnt_plan'].value_counts())"
      ],
      "execution_count": 47,
      "outputs": [
        {
          "output_type": "stream",
          "text": [
            "['n' 'y']\n",
            "n    334232\n",
            "y        30\n",
            "Name: pymnt_plan, dtype: int64\n"
          ],
          "name": "stdout"
        }
      ]
    },
    {
      "cell_type": "code",
      "metadata": {
        "id": "Ohgv40cySi-l",
        "colab_type": "code",
        "colab": {}
      },
      "source": [
        "#As there are mostly 'no' values and very few number of 'yes' values. Dropping it. \n",
        "drop_list10 = ['pymnt_plan']\n",
        "df = df.drop(drop_list10,axis=1)"
      ],
      "execution_count": 0,
      "outputs": []
    },
    {
      "cell_type": "code",
      "metadata": {
        "id": "-jRKIBPWSuiC",
        "colab_type": "code",
        "colab": {
          "base_uri": "https://localhost:8080/",
          "height": 922
        },
        "outputId": "e94c14f2-8ac4-4c08-8b17-f153f0fe7b97"
      },
      "source": [
        "cor = df.corr() #Checking corelation between features\n",
        "plt.subplots(figsize=(20,15)) #giving figure size parameters\n",
        "sns.heatmap(cor, square = True) #plotting heatmap to check corelation"
      ],
      "execution_count": 49,
      "outputs": [
        {
          "output_type": "execute_result",
          "data": {
            "text/plain": [
              "<matplotlib.axes._subplots.AxesSubplot at 0x7f89ab36def0>"
            ]
          },
          "metadata": {
            "tags": []
          },
          "execution_count": 49
        },
        {
          "output_type": "display_data",
          "data": {
            "image/png": "[encoded data removed]",
            "text/plain": [
              "<Figure size 1440x1080 with 2 Axes>"
            ]
          },
          "metadata": {
            "tags": [],
            "needs_background": "light"
          }
        }
      ]
    },
    {
      "cell_type": "markdown",
      "metadata": {
        "id": "uhjiVwRPS1E6",
        "colab_type": "text"
      },
      "source": [
        "From the above heatmap we can observe that there is a high correlation between quite a few variables. For example:\n",
        "\n",
        "- fico_range_high and fico_range_low\n",
        "- last_fico_range_high and last_fico_range_low\n",
        "\n",
        "Therefore, instead of keeping both. I am taking average of such values to eliminate one columns and reduce multicollinearity."
      ]
    },
    {
      "cell_type": "code",
      "metadata": {
        "id": "vKPXu1A3Swgu",
        "colab_type": "code",
        "colab": {}
      },
      "source": [
        "# calcualte mean fico score\n",
        "df['fico_avg'] = (df['fico_range_high'] + df['fico_range_low'])/2\n",
        "# calcualte mean last_fico score\n",
        "df['last_fico_avf'] = (df['last_fico_range_high'] + df['last_fico_range_low'])/2\n",
        "#Dropping the columns that are now transformed to new columns\n",
        "drop_list11 = ['fico_range_high','last_fico_range_high','last_fico_range_low','last_fico_range_high']\n",
        "df = df.drop(drop_list11,axis=1)"
      ],
      "execution_count": 0,
      "outputs": []
    },
    {
      "cell_type": "code",
      "metadata": {
        "id": "eXui3aJ5S74k",
        "colab_type": "code",
        "colab": {
          "base_uri": "https://localhost:8080/",
          "height": 35
        },
        "outputId": "dc84728f-0750-4260-9619-eb27e11b44dd"
      },
      "source": [
        "df.shape"
      ],
      "execution_count": 51,
      "outputs": [
        {
          "output_type": "execute_result",
          "data": {
            "text/plain": [
              "(334262, 77)"
            ]
          },
          "metadata": {
            "tags": []
          },
          "execution_count": 51
        }
      ]
    },
    {
      "cell_type": "code",
      "metadata": {
        "id": "3wIPIukXS8cL",
        "colab_type": "code",
        "colab": {}
      },
      "source": [
        "#Opps. I missed one column. \n",
        "df = df.drop(['fico_range_low'],axis=1)"
      ],
      "execution_count": 0,
      "outputs": []
    },
    {
      "cell_type": "markdown",
      "metadata": {
        "id": "FghQ_2o5TBhA",
        "colab_type": "text"
      },
      "source": [
        "#Seeing next 5 columns:\n",
        "\n",
        "- inq_last_6mths:\n",
        "The number of inquiries in past 6 months (excluding auto and mortgage inquiries)\n",
        "\n",
        "- mths_since_last_delinq: \n",
        "The number of months since the borrower's last delinquency.\n",
        "\n",
        "- open_acc:\n",
        "The number of open credit lines in the borrower’s credit file.\n",
        "\n",
        "- pub_rec: Number of derogatory public records\n",
        "\n",
        "- revol_bal : Total credit revolving balance\n",
        "\n",
        "\n",
        "\n"
      ]
    },
    {
      "cell_type": "code",
      "metadata": {
        "id": "iYErHpeIS_QQ",
        "colab_type": "code",
        "colab": {
          "base_uri": "https://localhost:8080/",
          "height": 124
        },
        "outputId": "ddc3d6cd-a06e-44ba-d262-3f182356bd6d"
      },
      "source": [
        "df['open_acc'].head()"
      ],
      "execution_count": 53,
      "outputs": [
        {
          "output_type": "execute_result",
          "data": {
            "text/plain": [
              "0     3.0\n",
              "1     3.0\n",
              "2     2.0\n",
              "3    10.0\n",
              "4    15.0\n",
              "Name: open_acc, dtype: float64"
            ]
          },
          "metadata": {
            "tags": []
          },
          "execution_count": 53
        }
      ]
    },
    {
      "cell_type": "markdown",
      "metadata": {
        "id": "F5VgAv1qTE74",
        "colab_type": "text"
      },
      "source": [
        "Can't be very sure. But, by definition, all of these seems important. So, for now, I am letting it be. \n",
        "\n",
        "\n",
        "Let's proceed and contninue to improve financial jargon vocabulary even more. \n",
        "\n",
        "- revol_util\t- \n",
        "Revolving line utilization rate, or the amount of credit the borrower is using relative to all available revolving credit. In simpler terms, the credit card debt to limit ratio as a percentage. (seems important) (however, need further clearning)\n",
        "\n",
        "- total_acc - The total number of credit lines currently in the borrower’s credit file (seems important)\n",
        "\n",
        "- initial_list_status - The initial listing status of the loan. Possible values are – W, F (not able to find what W, F means) (Not sure) (need to see separately)\n",
        "\n",
        "- out_prncp\t: Remaining outstanding principal for total amount funded\n",
        "\n",
        "- out_prncp_inv\t: Remaining outstanding principal for portion of total amount funded by investors\n",
        "\n",
        "- total_pymnt\t: Payments received to date for total amount funded\n",
        "\n",
        "- total_pymnt_inv\t: Payments received to date for portion of total amount funded by investors\n",
        "\n",
        "- total_rec_prncp\t: Principal received to date\n",
        "\n",
        "- total_rec_int\t: Interest received to date\n",
        "\n",
        "- total_rec_late_fee\t: Late fees received to date\n",
        "\n",
        "- recoveries\t: post charge off gross recovery\n",
        "\n",
        "- collection_recovery_fee\t: post charge off collection fee\n",
        "\n",
        "- last_pymnt_d : Last month payment was received"
      ]
    },
    {
      "cell_type": "markdown",
      "metadata": {
        "id": "Bv7R3n1nTJRk",
        "colab_type": "text"
      },
      "source": [
        "We need to drop the following columns as they contain information that will not be present while applying for a loan. Meaning, all of them contains data from the future which will not be present at the initial state for the unseen data (people applying for loan)\n",
        "\n",
        "- out_prncp\n",
        "- out_prncp_inv\n",
        "- total_pymnt\n",
        "- total_pymnt_inv\n",
        "- total_rec_prncp\n",
        "- total_rec_int\n",
        "- total_rec_late_fee\n",
        "- recoveries\n",
        "- collection_recovery_fee\n",
        "- last_pymnt_d\n",
        "- last_pymnt_amnt\n",
        "- last_credit_pull_d"
      ]
    },
    {
      "cell_type": "markdown",
      "metadata": {
        "id": "-BWZyrlyTMWG",
        "colab_type": "text"
      },
      "source": [
        "I'm using my best available knowledge after going through the dictionary and few google pages to determine which loan features are known to potential investors. I am not an investor, so my knowledge loan process is not too great."
      ]
    },
    {
      "cell_type": "code",
      "metadata": {
        "id": "Pzy0VV-rTDCQ",
        "colab_type": "code",
        "colab": {
          "base_uri": "https://localhost:8080/",
          "height": 35
        },
        "outputId": "f90568fd-5934-4db6-8705-5cd7a53b0f21"
      },
      "source": [
        "drop_list12 = ['out_prncp','out_prncp_inv','total_pymnt','total_pymnt_inv','total_rec_prncp','total_rec_int',\n",
        "        'total_rec_late_fee','recoveries','collection_recovery_fee','last_pymnt_d',\n",
        "        'last_credit_pull_d']\n",
        "df = df.drop(drop_list12,axis=1)\n",
        "df.shape"
      ],
      "execution_count": 54,
      "outputs": [
        {
          "output_type": "execute_result",
          "data": {
            "text/plain": [
              "(334262, 65)"
            ]
          },
          "metadata": {
            "tags": []
          },
          "execution_count": 54
        }
      ]
    },
    {
      "cell_type": "code",
      "metadata": {
        "id": "SWoJTUEtTW_J",
        "colab_type": "code",
        "colab": {}
      },
      "source": [
        "drop_list11 = ['inq_last_6mths']\n",
        "df = df.drop(drop_list11,axis=1)"
      ],
      "execution_count": 0,
      "outputs": []
    },
    {
      "cell_type": "markdown",
      "metadata": {
        "id": "81sNL6rGTcie",
        "colab_type": "text"
      },
      "source": [
        "- initial_list_status\t: The initial listing status of the loan. Possible values are – W, F (not sure what W, F means)\n",
        "- collections_12_mths_ex_med\t: Number of collections in 12 months excluding medical collections (need to see further)\n",
        "- policy_code\t: publicly available policy_code=1\\nnew products not publicly available policy_code=2\n",
        "- application_type\t: Indicates whether the loan is an individual application or a joint application with two co-borrowers\n",
        "- acc_now_delinq : The number of accounts on which the borrower is now delinquent.\n"
      ]
    },
    {
      "cell_type": "code",
      "metadata": {
        "id": "NFW-5TUrTaV-",
        "colab_type": "code",
        "colab": {
          "base_uri": "https://localhost:8080/",
          "height": 124
        },
        "outputId": "c23e704e-121b-404d-ae89-cdd12137262b"
      },
      "source": [
        "print(df['initial_list_status'].head(3))\n",
        "print(df['initial_list_status'].unique())\n",
        "print(df['initial_list_status'].count())"
      ],
      "execution_count": 56,
      "outputs": [
        {
          "output_type": "stream",
          "text": [
            "0    f\n",
            "1    f\n",
            "2    f\n",
            "Name: initial_list_status, dtype: object\n",
            "['f' 'w']\n",
            "334262\n"
          ],
          "name": "stdout"
        }
      ]
    },
    {
      "cell_type": "markdown",
      "metadata": {
        "id": "qWEiELX1TgdO",
        "colab_type": "text"
      },
      "source": [
        "initital_list_status: \"The initial listing status of the loan. Possible values are – W, F.\" I'm not sure what this means."
      ]
    },
    {
      "cell_type": "code",
      "metadata": {
        "id": "Kjh5PmE7TeQo",
        "colab_type": "code",
        "colab": {
          "base_uri": "https://localhost:8080/",
          "height": 263
        },
        "outputId": "ad41db3e-1f5f-48f3-8672-283a8b4b4c05"
      },
      "source": [
        "df['initial_list_status'].value_counts().plot.bar()\n",
        "plt.show()"
      ],
      "execution_count": 57,
      "outputs": [
        {
          "output_type": "display_data",
          "data": {
            "image/png": "[encoded data removed]",
            "text/plain": [
              "<Figure size 432x288 with 1 Axes>"
            ]
          },
          "metadata": {
            "tags": [],
            "needs_background": "light"
          }
        }
      ]
    },
    {
      "cell_type": "code",
      "metadata": {
        "id": "VGyRzJgGTh4b",
        "colab_type": "code",
        "colab": {
          "base_uri": "https://localhost:8080/",
          "height": 265
        },
        "outputId": "f90522ec-4cd7-4583-a29c-64979f47a553"
      },
      "source": [
        "df['policy_code'].value_counts().plot.bar()\n",
        "plt.show()"
      ],
      "execution_count": 58,
      "outputs": [
        {
          "output_type": "display_data",
          "data": {
            "image/png": "[encoded data removed]",
            "text/plain": [
              "<Figure size 432x288 with 1 Axes>"
            ]
          },
          "metadata": {
            "tags": [],
            "needs_background": "light"
          }
        }
      ]
    },
    {
      "cell_type": "code",
      "metadata": {
        "id": "9D8pFbTdTjOh",
        "colab_type": "code",
        "colab": {
          "base_uri": "https://localhost:8080/",
          "height": 106
        },
        "outputId": "f2d875da-34ea-4300-899c-58c53ef176f0"
      },
      "source": [
        "print(df.policy_code.value_counts())\n",
        "print(df.initial_list_status.value_counts())"
      ],
      "execution_count": 59,
      "outputs": [
        {
          "output_type": "stream",
          "text": [
            "1    334262\n",
            "Name: policy_code, dtype: int64\n",
            "f    220101\n",
            "w    114161\n",
            "Name: initial_list_status, dtype: int64\n"
          ],
          "name": "stdout"
        }
      ]
    },
    {
      "cell_type": "markdown",
      "metadata": {
        "id": "rxv9k96PTmZC",
        "colab_type": "text"
      },
      "source": [
        "The columns 'policy_code' has only one class and do not provide any information that would be useful in building a predictive model. Removing it!"
      ]
    },
    {
      "cell_type": "code",
      "metadata": {
        "id": "KAUzTkbYTkkr",
        "colab_type": "code",
        "colab": {
          "base_uri": "https://localhost:8080/",
          "height": 35
        },
        "outputId": "799ae2f4-4daa-49bb-e053-0c337fb2983c"
      },
      "source": [
        "drop_list13 =['policy_code']\n",
        "df = df.drop(drop_list13,axis=1)\n",
        "df.shape"
      ],
      "execution_count": 60,
      "outputs": [
        {
          "output_type": "execute_result",
          "data": {
            "text/plain": [
              "(334262, 63)"
            ]
          },
          "metadata": {
            "tags": []
          },
          "execution_count": 60
        }
      ]
    },
    {
      "cell_type": "code",
      "metadata": {
        "id": "NaiIRpctTqxp",
        "colab_type": "code",
        "colab": {
          "base_uri": "https://localhost:8080/",
          "height": 212
        },
        "outputId": "e5ea06a9-92c6-4837-b2b9-47a14f1cce86"
      },
      "source": [
        "df['collections_12_mths_ex_med'].value_counts()"
      ],
      "execution_count": 61,
      "outputs": [
        {
          "output_type": "execute_result",
          "data": {
            "text/plain": [
              "0.0    331494\n",
              "1.0      2449\n",
              "2.0       147\n",
              "3.0        13\n",
              "4.0         6\n",
              "5.0         4\n",
              "7.0         1\n",
              "6.0         1\n",
              "8.0         1\n",
              "9.0         1\n",
              "Name: collections_12_mths_ex_med, dtype: int64"
            ]
          },
          "metadata": {
            "tags": []
          },
          "execution_count": 61
        }
      ]
    },
    {
      "cell_type": "markdown",
      "metadata": {
        "id": "mxyogfkdTu9-",
        "colab_type": "text"
      },
      "source": [
        "'collections_12_mths_ex_med' has almost all values as 0 and will therefore not be very useful for modeling. Removing it."
      ]
    },
    {
      "cell_type": "code",
      "metadata": {
        "id": "xKS9qUaATtEb",
        "colab_type": "code",
        "colab": {}
      },
      "source": [
        "drop_list13 = ['collections_12_mths_ex_med']\n",
        "df = df.drop(drop_list13,axis=1)"
      ],
      "execution_count": 0,
      "outputs": []
    },
    {
      "cell_type": "code",
      "metadata": {
        "id": "7OxHllfQT11J",
        "colab_type": "code",
        "colab": {
          "base_uri": "https://localhost:8080/",
          "height": 70
        },
        "outputId": "d55116ac-a593-4ff2-e386-cb8a52b0680c"
      },
      "source": [
        "df['application_type'].value_counts()"
      ],
      "execution_count": 63,
      "outputs": [
        {
          "output_type": "execute_result",
          "data": {
            "text/plain": [
              "Individual    330126\n",
              "Joint App       4136\n",
              "Name: application_type, dtype: int64"
            ]
          },
          "metadata": {
            "tags": []
          },
          "execution_count": 63
        }
      ]
    },
    {
      "cell_type": "markdown",
      "metadata": {
        "id": "kcGVBFZCT5Gz",
        "colab_type": "text"
      },
      "source": [
        "It has very few data points for joint application. So, Let's just compare the charge-off rates by application type:"
      ]
    },
    {
      "cell_type": "code",
      "metadata": {
        "id": "_aAo-PppT3dU",
        "colab_type": "code",
        "colab": {
          "base_uri": "https://localhost:8080/",
          "height": 88
        },
        "outputId": "32918097-ac9c-47c8-f02d-f4a5eae06ef7"
      },
      "source": [
        "df.groupby('application_type')['loan_status'].value_counts(normalize=True).loc[:,'Charged Off']"
      ],
      "execution_count": 64,
      "outputs": [
        {
          "output_type": "execute_result",
          "data": {
            "text/plain": [
              "application_type\n",
              "Individual    0.151051\n",
              "Joint App     0.138781\n",
              "Name: loan_status, dtype: float64"
            ]
          },
          "metadata": {
            "tags": []
          },
          "execution_count": 64
        }
      ]
    },
    {
      "cell_type": "markdown",
      "metadata": {
        "id": "527CHLFPT9nZ",
        "colab_type": "text"
      },
      "source": [
        "Joint loans are slightly less likely to be charged-off. So, it is important. Keeping it."
      ]
    },
    {
      "cell_type": "code",
      "metadata": {
        "id": "sKPjEnTrT6_x",
        "colab_type": "code",
        "colab": {
          "base_uri": "https://localhost:8080/",
          "height": 159
        },
        "outputId": "adb2116c-17dd-4e73-b744-0e2940490ce9"
      },
      "source": [
        "df['acc_now_delinq'].value_counts()"
      ],
      "execution_count": 65,
      "outputs": [
        {
          "output_type": "execute_result",
          "data": {
            "text/plain": [
              "0.0    333138\n",
              "1.0      1032\n",
              "2.0        51\n",
              "3.0         6\n",
              "4.0         3\n",
              "5.0         2\n",
              "6.0         1\n",
              "Name: acc_now_delinq, dtype: int64"
            ]
          },
          "metadata": {
            "tags": []
          },
          "execution_count": 65
        }
      ]
    },
    {
      "cell_type": "code",
      "metadata": {
        "id": "1Y4zaas4T_Kd",
        "colab_type": "code",
        "colab": {
          "base_uri": "https://localhost:8080/",
          "height": 35
        },
        "outputId": "8cb673b1-791e-43b4-f905-39b7af3ed08e"
      },
      "source": [
        "df['acc_now_delinq'].isna().sum()"
      ],
      "execution_count": 66,
      "outputs": [
        {
          "output_type": "execute_result",
          "data": {
            "text/plain": [
              "29"
            ]
          },
          "metadata": {
            "tags": []
          },
          "execution_count": 66
        }
      ]
    },
    {
      "cell_type": "code",
      "metadata": {
        "id": "r96Bxh0EUAWp",
        "colab_type": "code",
        "colab": {}
      },
      "source": [
        "#Not many missing values and majority of the class contains 0. So, imputing with 0.\n",
        "df['acc_now_delinq'] = df['acc_now_delinq'].fillna(0)"
      ],
      "execution_count": 0,
      "outputs": []
    },
    {
      "cell_type": "markdown",
      "metadata": {
        "id": "nQpc1TgNUET0",
        "colab_type": "text"
      },
      "source": [
        "- tot_coll_amt\t: Total collection amounts ever owed (Seems important as how much was owed can definitely tell if a person is likely to default or not)\n",
        "- tot_cur_bal\t: Total current balance of all accounts (how much a person keeps in his account surely can be a predictor to tell if he will default or not) (Trust me on this, I have and obviously, I am close to nil almost all the time)\n",
        "\n",
        "Below 4 are more or less related to open_acc (The number of open credit lines in the borrower's credit file).Therefore, removing them. \n",
        "- open_acc_6m :\tNumber of open trades in last 6 months\n",
        "- open_il_12m\t: Number of installment accounts opened in past 12 months\n",
        "- open_il_24m\t: Number of installment accounts opened in past 24 months\n",
        "- open_act_il\t: Number of currently active installment trades"
      ]
    },
    {
      "cell_type": "code",
      "metadata": {
        "id": "CGS9VdqgUCFB",
        "colab_type": "code",
        "colab": {
          "base_uri": "https://localhost:8080/",
          "height": 764
        },
        "outputId": "0d89d57d-1203-4eb7-9248-ba7c7fd61b01"
      },
      "source": [
        "print(df['tot_coll_amt'].value_counts())\n",
        "print(df['tot_coll_amt'].describe())\n",
        "print(df['tot_cur_bal'].value_counts())\n",
        "print(df['tot_cur_bal'].describe())"
      ],
      "execution_count": 69,
      "outputs": [
        {
          "output_type": "stream",
          "text": [
            "0.0        231490\n",
            "50.0          498\n",
            "100.0         390\n",
            "75.0          319\n",
            "60.0          223\n",
            "            ...  \n",
            "5151.0          1\n",
            "12638.0         1\n",
            "10809.0         1\n",
            "1912.0          1\n",
            "4095.0          1\n",
            "Name: tot_coll_amt, Length: 5010, dtype: int64\n",
            "count    263986.000000\n",
            "mean        154.674051\n",
            "std        2162.366510\n",
            "min           0.000000\n",
            "25%           0.000000\n",
            "50%           0.000000\n",
            "75%           0.000000\n",
            "max      848438.000000\n",
            "Name: tot_coll_amt, dtype: float64\n",
            "0.0          44\n",
            "22396.0      13\n",
            "13721.0      11\n",
            "19830.0      11\n",
            "14163.0      11\n",
            "             ..\n",
            "3254633.0     1\n",
            "50854.0       1\n",
            "406833.0      1\n",
            "406839.0      1\n",
            "379567.0      1\n",
            "Name: tot_cur_bal, Length: 170518, dtype: int64\n",
            "count    2.639860e+05\n",
            "mean     1.402929e+05\n",
            "std      1.563619e+05\n",
            "min      0.000000e+00\n",
            "25%      2.842000e+04\n",
            "50%      8.097800e+04\n",
            "75%      2.107005e+05\n",
            "max      8.000078e+06\n",
            "Name: tot_cur_bal, dtype: float64\n"
          ],
          "name": "stdout"
        }
      ]
    },
    {
      "cell_type": "code",
      "metadata": {
        "id": "l1029miQUKth",
        "colab_type": "code",
        "colab": {}
      },
      "source": [
        "#As majority of the class contains 0. So, imputing with 0.\n",
        "df['tot_coll_amt'] = df['tot_coll_amt'].fillna(0)\n",
        "df['tot_cur_bal'] = df['tot_cur_bal'].fillna(0)"
      ],
      "execution_count": 0,
      "outputs": []
    },
    {
      "cell_type": "markdown",
      "metadata": {
        "id": "uPKZdbawUReo",
        "colab_type": "text"
      },
      "source": [
        "- mths_since_rcnt_il\t: Months since most recent installment accounts opened\n",
        "- total_bal_il :Total current balance of all installment accounts\t \n",
        "- open_rv_12m\t: Number of revolving trades opened in past 12 months\n",
        "- open_rv_24m :\tNumber of revolving trades opened in past 24 months\n",
        "- max_bal_bc : Maximum current balance owed on all revolving accounts\t\n",
        "- all_util : Balance to credit limit on all trades\t\n",
        "- total_rev_hi_lim : Total revolving high credit/credit limit\t\n",
        "- inq_fi : Number of personal finance inquiries\t\n",
        "- total_cu_tl : Number of finance trades"
      ]
    },
    {
      "cell_type": "code",
      "metadata": {
        "id": "_Lq2QDXiUP0K",
        "colab_type": "code",
        "colab": {}
      },
      "source": [
        "def check_stats(col): #creating function to check head of column, check it's statistics and do a value count\n",
        "  print(df[col].head())\n",
        "  print(df[col].describe())\n",
        "  print(df[col].value_counts())"
      ],
      "execution_count": 0,
      "outputs": []
    },
    {
      "cell_type": "code",
      "metadata": {
        "id": "K1GrDOyJUTkK",
        "colab_type": "code",
        "colab": {
          "base_uri": "https://localhost:8080/",
          "height": 497
        },
        "outputId": "76e65f37-b6ed-4127-adda-a288aff648ad"
      },
      "source": [
        "check_stats('total_rev_hi_lim')"
      ],
      "execution_count": 73,
      "outputs": [
        {
          "output_type": "stream",
          "text": [
            "0   NaN\n",
            "1   NaN\n",
            "2   NaN\n",
            "3   NaN\n",
            "4   NaN\n",
            "Name: total_rev_hi_lim, dtype: float64\n",
            "count    2.639860e+05\n",
            "mean     3.127535e+04\n",
            "std      3.642529e+04\n",
            "min      0.000000e+00\n",
            "25%      1.400000e+04\n",
            "50%      2.350000e+04\n",
            "75%      3.870850e+04\n",
            "max      9.999999e+06\n",
            "Name: total_rev_hi_lim, dtype: float64\n",
            "15000.0     886\n",
            "14500.0     885\n",
            "9000.0      882\n",
            "11500.0     868\n",
            "10000.0     864\n",
            "           ... \n",
            "25564.0       1\n",
            "204500.0      1\n",
            "25562.0       1\n",
            "30856.0       1\n",
            "46946.0       1\n",
            "Name: total_rev_hi_lim, Length: 13784, dtype: int64\n"
          ],
          "name": "stdout"
        }
      ]
    },
    {
      "cell_type": "code",
      "metadata": {
        "id": "WzlPZJezUb7d",
        "colab_type": "code",
        "colab": {
          "base_uri": "https://localhost:8080/",
          "height": 35
        },
        "outputId": "57c5c845-81ff-4f03-adb7-1873d4c26bf5"
      },
      "source": [
        "#From the dictionary, it is clear that this will not be avaiable at initial state\n",
        "drop_list15 = ['total_rev_hi_lim']\n",
        "df = df.drop(drop_list15,axis=1)\n",
        "df.shape"
      ],
      "execution_count": 74,
      "outputs": [
        {
          "output_type": "execute_result",
          "data": {
            "text/plain": [
              "(334262, 61)"
            ]
          },
          "metadata": {
            "tags": []
          },
          "execution_count": 74
        }
      ]
    },
    {
      "cell_type": "markdown",
      "metadata": {
        "id": "EPj3dmfZUpI7",
        "colab_type": "text"
      },
      "source": [
        "- inq_last_12m : Number of credit inquiries in past 12 months (similar to inq_fi, therefore, removing)\n",
        "- chargeoff_within_12_mths : Number of charge-offs within 12 months\t\n",
        "\n",
        "By definition, removign following as they don't seem much relevant for predictive modelling. \n",
        "\n",
        "- acc_open_past_24mths : Number of trades opened in past 24 months.\n",
        "- avg_cur_bal\t: Average current balance of all accounts\n",
        "- bc_open_to_buy :\tTotal open to buy on revolving bankcards.\n",
        "- bc_util\t: Ratio of total current balance to high credit/credit limit for all bankcard accounts.\n",
        "- mo_sin_old_il_acct\t: Months since oldest bank installment account opened\n",
        "- mo_sin_old_rev_tl_op : Months since oldest revolving account opened\t\n",
        "- mo_sin_rcnt_rev_tl_op\t: Months since most recent revolving account opened\n",
        "- mo_sin_rcnt_tl : Months since most recent account opened\n"
      ]
    },
    {
      "cell_type": "code",
      "metadata": {
        "id": "MMY4dTj7UnIW",
        "colab_type": "code",
        "colab": {
          "base_uri": "https://localhost:8080/",
          "height": 35
        },
        "outputId": "6c5f114a-0009-4e77-ccfc-b80f91827210"
      },
      "source": [
        "drop_list16 = ['acc_open_past_24mths','avg_cur_bal','bc_open_to_buy','bc_util','mo_sin_old_il_acct','mo_sin_old_rev_tl_op','mo_sin_rcnt_rev_tl_op','mo_sin_rcnt_tl']\n",
        "df = df.drop(drop_list16,axis=1)\n",
        "df.shape"
      ],
      "execution_count": 75,
      "outputs": [
        {
          "output_type": "execute_result",
          "data": {
            "text/plain": [
              "(334262, 53)"
            ]
          },
          "metadata": {
            "tags": []
          },
          "execution_count": 75
        }
      ]
    },
    {
      "cell_type": "code",
      "metadata": {
        "id": "xh4FiKxuUtHn",
        "colab_type": "code",
        "colab": {
          "base_uri": "https://localhost:8080/",
          "height": 444
        },
        "outputId": "ba5598aa-27ed-4bbc-9f91-12455f4e4bf8"
      },
      "source": [
        "check_stats('chargeoff_within_12_mths')"
      ],
      "execution_count": 76,
      "outputs": [
        {
          "output_type": "stream",
          "text": [
            "0    0.0\n",
            "1    0.0\n",
            "2    0.0\n",
            "3    0.0\n",
            "4    0.0\n",
            "Name: chargeoff_within_12_mths, dtype: float64\n",
            "count    334117.000000\n",
            "mean          0.005612\n",
            "std           0.085710\n",
            "min           0.000000\n",
            "25%           0.000000\n",
            "50%           0.000000\n",
            "75%           0.000000\n",
            "max           7.000000\n",
            "Name: chargeoff_within_12_mths, dtype: float64\n",
            "0.0    332456\n",
            "1.0      1496\n",
            "2.0       135\n",
            "3.0        20\n",
            "5.0         4\n",
            "4.0         4\n",
            "7.0         1\n",
            "6.0         1\n",
            "Name: chargeoff_within_12_mths, dtype: int64\n"
          ],
          "name": "stdout"
        }
      ]
    },
    {
      "cell_type": "code",
      "metadata": {
        "id": "axYq3BnMUut9",
        "colab_type": "code",
        "colab": {}
      },
      "source": [
        "#As dictionary suggests, this attribute will not be available for investors initially. \n",
        "#Also, 'chargeoff_within_12_mths' have almost all values as 0 and will therefore not be very useful for modeling. Removing it.\n",
        "drop_list17 = ['chargeoff_within_12_mths']\n",
        "df = df.drop(drop_list17,axis=1)"
      ],
      "execution_count": 0,
      "outputs": []
    },
    {
      "cell_type": "markdown",
      "metadata": {
        "id": "esPihjceU0QX",
        "colab_type": "text"
      },
      "source": [
        "- mort_acc : Number of mortgage accounts.\n",
        "- mths_since_recent_bc\t: Months since most recent bankcard account opened.\n",
        "- mths_since_recent_inq\t: Months since most recent inquiry.\n",
        "- num_accts_ever_120_pd\t: Number of accounts ever 120 or more days past due\n",
        "- num_actv_bc_tl : Number of currently active bankcard accounts\n",
        "- num_actv_rev_tl\t: Number of currently active revolving trades\n",
        "- num_bc_sats\t: Number of satisfactory bankcard accounts\n",
        "- num_bc_tl\t: Number of bankcard accounts\n",
        "- num_il_tl\t: Number of installment accounts\n",
        "- num_op_rev_tl\t: Number of open revolving accounts\n",
        "- num_rev_accts\t: Number of revolving accounts\n",
        "- num_rev_tl_bal_gt_0\t: Number of revolving trades with balance >0\n",
        "- num_sats\t: Number of satisfactory accounts\n",
        "- num_tl_120dpd_2m\t: Number of accounts currently 120 days past due (updated in past 2 months)\n",
        "- num_tl_30dpd\t: Number of accounts currently 30 days past due (updated in past 2 months)\n",
        "- num_tl_90g_dpd_24m\t: Number of accounts 90 or more days past due in last 24 months\n",
        "- num_tl_op_past_12m : Number of accounts opened in past 12 months"
      ]
    },
    {
      "cell_type": "code",
      "metadata": {
        "id": "7UL2ElioUxzZ",
        "colab_type": "code",
        "colab": {
          "base_uri": "https://localhost:8080/",
          "height": 1000
        },
        "outputId": "68dedc18-6d39-4fa7-fc62-ce3b0eb0e66e"
      },
      "source": [
        "new_list_to_check = ['mort_acc',\t'mths_since_recent_inq',\t'num_accts_ever_120_pd',\t'num_actv_bc_tl',\t'num_actv_rev_tl',\t'num_bc_sats',\t'num_bc_tl',\t'num_il_tl',\t'num_op_rev_tl',\t'num_rev_accts',\t'num_rev_tl_bal_gt_0',\t'num_sats',\t'num_tl_120dpd_2m',\t'num_tl_30dpd',\t'num_tl_90g_dpd_24m',\t'num_tl_op_past_12m']\n",
        "for col in new_list_to_check:\n",
        "  print(check_stats(col))"
      ],
      "execution_count": 78,
      "outputs": [
        {
          "output_type": "stream",
          "text": [
            "0   NaN\n",
            "1   NaN\n",
            "2   NaN\n",
            "3   NaN\n",
            "4   NaN\n",
            "Name: mort_acc, dtype: float64\n",
            "count    284232.000000\n",
            "mean          1.698197\n",
            "std           2.067894\n",
            "min           0.000000\n",
            "25%           0.000000\n",
            "50%           1.000000\n",
            "75%           3.000000\n",
            "max          61.000000\n",
            "Name: mort_acc, dtype: float64\n",
            "0.0     115787\n",
            "1.0      49665\n",
            "2.0      39534\n",
            "3.0      29132\n",
            "4.0      20373\n",
            "5.0      13070\n",
            "6.0       7690\n",
            "7.0       4233\n",
            "8.0       2222\n",
            "9.0       1193\n",
            "10.0       600\n",
            "11.0       312\n",
            "12.0       148\n",
            "13.0        97\n",
            "14.0        63\n",
            "15.0        35\n",
            "16.0        20\n",
            "17.0        12\n",
            "18.0        11\n",
            "19.0        10\n",
            "23.0         5\n",
            "24.0         5\n",
            "20.0         4\n",
            "22.0         3\n",
            "27.0         2\n",
            "29.0         1\n",
            "30.0         1\n",
            "31.0         1\n",
            "28.0         1\n",
            "25.0         1\n",
            "61.0         1\n",
            "Name: mort_acc, dtype: int64\n",
            "None\n",
            "0   NaN\n",
            "1   NaN\n",
            "2   NaN\n",
            "3   NaN\n",
            "4   NaN\n",
            "Name: mths_since_recent_inq, dtype: float64\n",
            "count    252180.000000\n",
            "mean          6.945428\n",
            "std           5.911776\n",
            "min           0.000000\n",
            "25%           2.000000\n",
            "50%           5.000000\n",
            "75%          10.000000\n",
            "max          25.000000\n",
            "Name: mths_since_recent_inq, dtype: float64\n",
            "1.0     27682\n",
            "2.0     22465\n",
            "0.0     21677\n",
            "3.0     20418\n",
            "4.0     18462\n",
            "5.0     16624\n",
            "6.0     14847\n",
            "7.0     14150\n",
            "8.0     12386\n",
            "9.0     10940\n",
            "10.0     9552\n",
            "11.0     8818\n",
            "12.0     8071\n",
            "13.0     6993\n",
            "14.0     6290\n",
            "15.0     5313\n",
            "16.0     4685\n",
            "17.0     4200\n",
            "18.0     3716\n",
            "19.0     3405\n",
            "20.0     2929\n",
            "21.0     2578\n",
            "22.0     2418\n",
            "23.0     2374\n",
            "24.0     1184\n",
            "25.0        3\n",
            "Name: mths_since_recent_inq, dtype: int64\n",
            "None\n",
            "0   NaN\n",
            "1   NaN\n",
            "2   NaN\n",
            "3   NaN\n",
            "4   NaN\n",
            "Name: num_accts_ever_120_pd, dtype: float64\n",
            "count    263986.000000\n",
            "mean          0.421628\n",
            "std           1.177153\n",
            "min           0.000000\n",
            "25%           0.000000\n",
            "50%           0.000000\n",
            "75%           0.000000\n",
            "max          51.000000\n",
            "Name: num_accts_ever_120_pd, dtype: float64\n",
            "0.0     208971\n",
            "1.0      31060\n",
            "2.0      11626\n",
            "3.0       5091\n",
            "4.0       2873\n",
            "5.0       1617\n",
            "6.0       1006\n",
            "7.0        594\n",
            "8.0        375\n",
            "9.0        245\n",
            "10.0       157\n",
            "11.0       103\n",
            "12.0        87\n",
            "14.0        45\n",
            "13.0        33\n",
            "15.0        23\n",
            "16.0        16\n",
            "17.0        15\n",
            "19.0        11\n",
            "20.0         7\n",
            "22.0         6\n",
            "23.0         5\n",
            "18.0         5\n",
            "21.0         4\n",
            "25.0         3\n",
            "28.0         2\n",
            "26.0         2\n",
            "24.0         2\n",
            "51.0         1\n",
            "29.0         1\n",
            "Name: num_accts_ever_120_pd, dtype: int64\n",
            "None\n",
            "0   NaN\n",
            "1   NaN\n",
            "2   NaN\n",
            "3   NaN\n",
            "4   NaN\n",
            "Name: num_actv_bc_tl, dtype: float64\n",
            "count    263986.000000\n",
            "mean          3.714519\n",
            "std           2.192263\n",
            "min           0.000000\n",
            "25%           2.000000\n",
            "50%           3.000000\n",
            "75%           5.000000\n",
            "max          33.000000\n",
            "Name: num_actv_bc_tl, dtype: float64\n",
            "3.0     57376\n",
            "2.0     51812\n",
            "4.0     46393\n",
            "5.0     31394\n",
            "1.0     26851\n",
            "6.0     19310\n",
            "7.0     11185\n",
            "8.0      6343\n",
            "0.0      4672\n",
            "9.0      3617\n",
            "10.0     2080\n",
            "11.0     1227\n",
            "12.0      681\n",
            "13.0      394\n",
            "14.0      217\n",
            "15.0      151\n",
            "16.0       98\n",
            "17.0       62\n",
            "18.0       46\n",
            "19.0       33\n",
            "21.0       13\n",
            "20.0       10\n",
            "22.0        5\n",
            "23.0        4\n",
            "30.0        2\n",
            "26.0        2\n",
            "29.0        2\n",
            "24.0        2\n",
            "32.0        1\n",
            "28.0        1\n",
            "27.0        1\n",
            "33.0        1\n",
            "Name: num_actv_bc_tl, dtype: int64\n",
            "None\n",
            "0   NaN\n",
            "1   NaN\n",
            "2   NaN\n",
            "3   NaN\n",
            "4   NaN\n",
            "Name: num_actv_rev_tl, dtype: float64\n",
            "count    263986.000000\n",
            "mean          5.651057\n",
            "std           3.125204\n",
            "min           0.000000\n",
            "25%           3.000000\n",
            "50%           5.000000\n",
            "75%           7.000000\n",
            "max          52.000000\n",
            "Name: num_actv_rev_tl, dtype: float64\n",
            "4.0     41598\n",
            "5.0     39349\n",
            "3.0     35863\n",
            "6.0     32579\n",
            "7.0     24881\n",
            "2.0     22419\n",
            "8.0     18252\n",
            "9.0     12733\n",
            "10.0     8759\n",
            "1.0      7789\n",
            "11.0     5908\n",
            "12.0     4115\n",
            "13.0     2798\n",
            "14.0     1969\n",
            "15.0     1284\n",
            "0.0       832\n",
            "16.0      827\n",
            "17.0      625\n",
            "18.0      383\n",
            "19.0      292\n",
            "20.0      209\n",
            "21.0      151\n",
            "22.0      104\n",
            "23.0       75\n",
            "24.0       42\n",
            "25.0       28\n",
            "26.0       26\n",
            "27.0       23\n",
            "29.0       19\n",
            "30.0       11\n",
            "28.0        8\n",
            "35.0        7\n",
            "36.0        5\n",
            "31.0        5\n",
            "33.0        4\n",
            "42.0        3\n",
            "32.0        3\n",
            "37.0        2\n",
            "52.0        1\n",
            "38.0        1\n",
            "43.0        1\n",
            "34.0        1\n",
            "40.0        1\n",
            "47.0        1\n",
            "Name: num_actv_rev_tl, dtype: int64\n",
            "None\n",
            "0   NaN\n",
            "1   NaN\n",
            "2   NaN\n",
            "3   NaN\n",
            "4   NaN\n",
            "Name: num_bc_sats, dtype: float64\n",
            "count    275672.000000\n",
            "mean          4.682093\n",
            "std           2.746157\n",
            "min           0.000000\n",
            "25%           3.000000\n",
            "50%           4.000000\n",
            "75%           6.000000\n",
            "max          71.000000\n",
            "Name: num_bc_sats, dtype: float64\n",
            "3.0     48874\n",
            "4.0     47978\n",
            "5.0     39651\n",
            "2.0     36415\n",
            "6.0     28616\n",
            "7.0     19754\n",
            "1.0     16013\n",
            "8.0     12792\n",
            "9.0      8141\n",
            "10.0     5161\n",
            "11.0     3418\n",
            "0.0      2530\n",
            "12.0     2155\n",
            "13.0     1363\n",
            "14.0      857\n",
            "15.0      617\n",
            "16.0      362\n",
            "17.0      267\n",
            "18.0      193\n",
            "19.0      117\n",
            "21.0       85\n",
            "20.0       82\n",
            "22.0       52\n",
            "24.0       36\n",
            "23.0       34\n",
            "25.0       19\n",
            "26.0       17\n",
            "29.0       15\n",
            "27.0       14\n",
            "28.0        7\n",
            "32.0        7\n",
            "30.0        6\n",
            "31.0        6\n",
            "34.0        4\n",
            "35.0        3\n",
            "33.0        2\n",
            "49.0        1\n",
            "41.0        1\n",
            "37.0        1\n",
            "43.0        1\n",
            "71.0        1\n",
            "36.0        1\n",
            "45.0        1\n",
            "44.0        1\n",
            "39.0        1\n",
            "Name: num_bc_sats, dtype: int64\n",
            "None\n",
            "0   NaN\n",
            "1   NaN\n",
            "2   NaN\n",
            "3   NaN\n",
            "4   NaN\n",
            "Name: num_bc_tl, dtype: float64\n",
            "count    263986.000000\n",
            "mean          8.379573\n",
            "std           4.786134\n",
            "min           0.000000\n",
            "25%           5.000000\n",
            "50%           8.000000\n",
            "75%          11.000000\n",
            "max          79.000000\n",
            "Name: num_bc_tl, dtype: float64\n",
            "6.0     25854\n",
            "5.0     25573\n",
            "7.0     24961\n",
            "8.0     23152\n",
            "4.0     22754\n",
            "9.0     20221\n",
            "10.0    17639\n",
            "3.0     17440\n",
            "11.0    14424\n",
            "12.0    12009\n",
            "2.0     10540\n",
            "13.0     9676\n",
            "14.0     7771\n",
            "15.0     6194\n",
            "16.0     4859\n",
            "1.0      4011\n",
            "17.0     3687\n",
            "18.0     2949\n",
            "19.0     2273\n",
            "20.0     1731\n",
            "21.0     1309\n",
            "22.0      991\n",
            "23.0      824\n",
            "24.0      570\n",
            "0.0       508\n",
            "25.0      464\n",
            "26.0      382\n",
            "27.0      287\n",
            "28.0      202\n",
            "29.0      154\n",
            "30.0      124\n",
            "31.0       97\n",
            "32.0       86\n",
            "33.0       69\n",
            "34.0       39\n",
            "35.0       29\n",
            "36.0       28\n",
            "37.0       21\n",
            "38.0       17\n",
            "39.0       15\n",
            "40.0       10\n",
            "41.0        9\n",
            "42.0        7\n",
            "43.0        6\n",
            "44.0        4\n",
            "49.0        4\n",
            "46.0        3\n",
            "45.0        2\n",
            "52.0        1\n",
            "79.0        1\n",
            "56.0        1\n",
            "65.0        1\n",
            "55.0        1\n",
            "59.0        1\n",
            "50.0        1\n",
            "Name: num_bc_tl, dtype: int64\n",
            "None\n",
            "0   NaN\n",
            "1   NaN\n",
            "2   NaN\n",
            "3   NaN\n",
            "4   NaN\n",
            "Name: num_il_tl, dtype: float64\n",
            "count    263986.000000\n",
            "mean          8.079269\n",
            "std           6.967748\n",
            "min           0.000000\n",
            "25%           3.000000\n",
            "50%           6.000000\n",
            "75%          11.000000\n",
            "max         113.000000\n",
            "Name: num_il_tl, dtype: float64\n",
            "3.0      23848\n",
            "4.0      23197\n",
            "5.0      22048\n",
            "2.0      21689\n",
            "6.0      19939\n",
            "         ...  \n",
            "71.0         1\n",
            "85.0         1\n",
            "113.0        1\n",
            "68.0         1\n",
            "104.0        1\n",
            "Name: num_il_tl, Length: 85, dtype: int64\n",
            "None\n",
            "0   NaN\n",
            "1   NaN\n",
            "2   NaN\n",
            "3   NaN\n",
            "4   NaN\n",
            "Name: num_op_rev_tl, dtype: float64\n",
            "count    263986.000000\n",
            "mean          8.105384\n",
            "std           4.235378\n",
            "min           0.000000\n",
            "25%           5.000000\n",
            "50%           7.000000\n",
            "75%          10.000000\n",
            "max          91.000000\n",
            "Name: num_op_rev_tl, dtype: float64\n",
            "6.0     30581\n",
            "7.0     29157\n",
            "5.0     28914\n",
            "8.0     26335\n",
            "4.0     23510\n",
            "9.0     21930\n",
            "10.0    17851\n",
            "3.0     15692\n",
            "11.0    14164\n",
            "12.0    11338\n",
            "13.0     8565\n",
            "2.0      7336\n",
            "14.0     6724\n",
            "15.0     5067\n",
            "16.0     3792\n",
            "17.0     2880\n",
            "18.0     2136\n",
            "19.0     1544\n",
            "1.0      1520\n",
            "20.0     1210\n",
            "21.0      935\n",
            "22.0      671\n",
            "23.0      476\n",
            "24.0      345\n",
            "25.0      286\n",
            "26.0      178\n",
            "27.0      168\n",
            "28.0      113\n",
            "0.0       106\n",
            "29.0       85\n",
            "30.0       70\n",
            "31.0       61\n",
            "32.0       43\n",
            "33.0       37\n",
            "34.0       28\n",
            "35.0       25\n",
            "38.0       21\n",
            "39.0       12\n",
            "37.0       11\n",
            "36.0       11\n",
            "42.0       11\n",
            "40.0        7\n",
            "43.0        6\n",
            "41.0        5\n",
            "47.0        5\n",
            "45.0        4\n",
            "49.0        3\n",
            "44.0        3\n",
            "46.0        3\n",
            "54.0        2\n",
            "53.0        2\n",
            "55.0        1\n",
            "52.0        1\n",
            "58.0        1\n",
            "56.0        1\n",
            "48.0        1\n",
            "91.0        1\n",
            "60.0        1\n",
            "Name: num_op_rev_tl, dtype: int64\n",
            "None\n",
            "0   NaN\n",
            "1   NaN\n",
            "2   NaN\n",
            "3   NaN\n",
            "4   NaN\n",
            "Name: num_rev_accts, dtype: float64\n",
            "count    263986.000000\n",
            "mean         14.432068\n",
            "std           7.637122\n",
            "min           0.000000\n",
            "25%           9.000000\n",
            "50%          13.000000\n",
            "75%          18.000000\n",
            "max         108.000000\n",
            "Name: num_rev_accts, dtype: float64\n",
            "11.0     16198\n",
            "10.0     15962\n",
            "12.0     15779\n",
            "9.0      15674\n",
            "13.0     15287\n",
            "         ...  \n",
            "72.0         1\n",
            "100.0        1\n",
            "80.0         1\n",
            "91.0         1\n",
            "94.0         1\n",
            "Name: num_rev_accts, Length: 87, dtype: int64\n",
            "None\n",
            "0   NaN\n",
            "1   NaN\n",
            "2   NaN\n",
            "3   NaN\n",
            "4   NaN\n",
            "Name: num_rev_tl_bal_gt_0, dtype: float64\n",
            "count    263986.000000\n",
            "mean          5.627988\n",
            "std           3.068014\n",
            "min           0.000000\n",
            "25%           3.000000\n",
            "50%           5.000000\n",
            "75%           7.000000\n",
            "max          43.000000\n",
            "Name: num_rev_tl_bal_gt_0, dtype: float64\n",
            "4.0     41806\n",
            "5.0     39508\n",
            "3.0     35934\n",
            "6.0     32735\n",
            "7.0     24963\n",
            "2.0     22337\n",
            "8.0     18339\n",
            "9.0     12765\n",
            "10.0     8723\n",
            "1.0      7703\n",
            "11.0     5899\n",
            "12.0     4014\n",
            "13.0     2779\n",
            "14.0     1889\n",
            "15.0     1233\n",
            "0.0       814\n",
            "16.0      784\n",
            "17.0      573\n",
            "18.0      323\n",
            "19.0      263\n",
            "20.0      186\n",
            "21.0      117\n",
            "22.0       91\n",
            "23.0       72\n",
            "24.0       30\n",
            "25.0       28\n",
            "26.0       17\n",
            "27.0       15\n",
            "29.0       14\n",
            "30.0        6\n",
            "35.0        4\n",
            "31.0        4\n",
            "28.0        4\n",
            "36.0        3\n",
            "33.0        3\n",
            "37.0        2\n",
            "32.0        2\n",
            "40.0        1\n",
            "34.0        1\n",
            "43.0        1\n",
            "42.0        1\n",
            "Name: num_rev_tl_bal_gt_0, dtype: int64\n",
            "None\n",
            "0   NaN\n",
            "1   NaN\n",
            "2   NaN\n",
            "3   NaN\n",
            "4   NaN\n",
            "Name: num_sats, dtype: float64\n",
            "count    275672.000000\n",
            "mean         11.307619\n",
            "std           5.082346\n",
            "min           0.000000\n",
            "25%           8.000000\n",
            "50%          10.000000\n",
            "75%          14.000000\n",
            "max          97.000000\n",
            "Name: num_sats, dtype: float64\n",
            "9.0     26022\n",
            "10.0    25118\n",
            "8.0     24584\n",
            "11.0    23218\n",
            "7.0     21901\n",
            "        ...  \n",
            "62.0        1\n",
            "97.0        1\n",
            "64.0        1\n",
            "55.0        1\n",
            "60.0        1\n",
            "Name: num_sats, Length: 64, dtype: int64\n",
            "None\n",
            "0   NaN\n",
            "1   NaN\n",
            "2   NaN\n",
            "3   NaN\n",
            "4   NaN\n",
            "Name: num_tl_120dpd_2m, dtype: float64\n",
            "count    258092.000000\n",
            "mean          0.000678\n",
            "std           0.026909\n",
            "min           0.000000\n",
            "25%           0.000000\n",
            "50%           0.000000\n",
            "75%           0.000000\n",
            "max           2.000000\n",
            "Name: num_tl_120dpd_2m, dtype: float64\n",
            "0.0    257923\n",
            "1.0       163\n",
            "2.0         6\n",
            "Name: num_tl_120dpd_2m, dtype: int64\n",
            "None\n",
            "0   NaN\n",
            "1   NaN\n",
            "2   NaN\n",
            "3   NaN\n",
            "4   NaN\n",
            "Name: num_tl_30dpd, dtype: float64\n",
            "count    263986.000000\n",
            "mean          0.002871\n",
            "std           0.057336\n",
            "min           0.000000\n",
            "25%           0.000000\n",
            "50%           0.000000\n",
            "75%           0.000000\n",
            "max           4.000000\n",
            "Name: num_tl_30dpd, dtype: float64\n",
            "0.0    263274\n",
            "1.0       674\n",
            "2.0        32\n",
            "3.0         4\n",
            "4.0         2\n",
            "Name: num_tl_30dpd, dtype: int64\n",
            "None\n",
            "0   NaN\n",
            "1   NaN\n",
            "2   NaN\n",
            "3   NaN\n",
            "4   NaN\n",
            "Name: num_tl_90g_dpd_24m, dtype: float64\n",
            "count    263986.000000\n",
            "mean          0.076731\n",
            "std           0.453984\n",
            "min           0.000000\n",
            "25%           0.000000\n",
            "50%           0.000000\n",
            "75%           0.000000\n",
            "max          29.000000\n",
            "Name: num_tl_90g_dpd_24m, dtype: float64\n",
            "0.0     250392\n",
            "1.0      10321\n",
            "2.0       2061\n",
            "3.0        518\n",
            "4.0        283\n",
            "5.0        116\n",
            "6.0        104\n",
            "7.0         46\n",
            "9.0         31\n",
            "8.0         29\n",
            "11.0        24\n",
            "10.0        20\n",
            "13.0         9\n",
            "15.0         8\n",
            "12.0         7\n",
            "18.0         4\n",
            "14.0         4\n",
            "17.0         2\n",
            "16.0         2\n",
            "19.0         2\n",
            "29.0         1\n",
            "20.0         1\n",
            "24.0         1\n",
            "Name: num_tl_90g_dpd_24m, dtype: int64\n",
            "None\n",
            "0   NaN\n",
            "1   NaN\n",
            "2   NaN\n",
            "3   NaN\n",
            "4   NaN\n",
            "Name: num_tl_op_past_12m, dtype: float64\n",
            "count    263986.000000\n",
            "mean          1.930095\n",
            "std           1.687814\n",
            "min           0.000000\n",
            "25%           1.000000\n",
            "50%           2.000000\n",
            "75%           3.000000\n",
            "max          29.000000\n",
            "Name: num_tl_op_past_12m, dtype: float64\n",
            "1.0     71746\n",
            "2.0     60692\n",
            "0.0     51892\n",
            "3.0     39853\n",
            "4.0     21229\n",
            "5.0      9737\n",
            "6.0      4278\n",
            "7.0      2156\n",
            "8.0      1073\n",
            "9.0       596\n",
            "10.0      302\n",
            "11.0      168\n",
            "12.0       95\n",
            "13.0       52\n",
            "14.0       49\n",
            "15.0       22\n",
            "16.0       21\n",
            "17.0       10\n",
            "18.0        5\n",
            "19.0        3\n",
            "25.0        2\n",
            "21.0        1\n",
            "23.0        1\n",
            "20.0        1\n",
            "29.0        1\n",
            "24.0        1\n",
            "Name: num_tl_op_past_12m, dtype: int64\n",
            "None\n"
          ],
          "name": "stdout"
        }
      ]
    },
    {
      "cell_type": "code",
      "metadata": {
        "id": "OJpdTdT3U2x3",
        "colab_type": "code",
        "colab": {}
      },
      "source": [
        "df[\"mort_acc\"] = df[\"mort_acc\"].fillna(0) #Imputing with zero as most number of people do not have a mortgage account\n",
        "#Too many missing values, mostyly biased to one value and not that relevant of a feature. \n",
        "drop_list18 = ['mths_since_recent_bc','mths_since_recent_inq','num_accts_ever_120_pd','num_actv_bc_tl','num_actv_rev_tl','num_bc_sats','num_bc_tl','num_il_tl','num_op_rev_tl','num_rev_accts','num_rev_tl_bal_gt_0','num_sats','num_tl_120dpd_2m','num_tl_30dpd','num_tl_90g_dpd_24m','num_tl_op_past_12m']\n",
        "df = df.drop(drop_list18,axis=1)"
      ],
      "execution_count": 0,
      "outputs": []
    },
    {
      "cell_type": "code",
      "metadata": {
        "id": "Ks2ClMd0U9Fl",
        "colab_type": "code",
        "colab": {
          "base_uri": "https://localhost:8080/",
          "height": 35
        },
        "outputId": "760d4e47-2c2a-47dd-efa9-8a1cc483d6c4"
      },
      "source": [
        "df.shape"
      ],
      "execution_count": 80,
      "outputs": [
        {
          "output_type": "execute_result",
          "data": {
            "text/plain": [
              "(334262, 36)"
            ]
          },
          "metadata": {
            "tags": []
          },
          "execution_count": 80
        }
      ]
    },
    {
      "cell_type": "markdown",
      "metadata": {
        "id": "rmsAci0BVAo7",
        "colab_type": "text"
      },
      "source": [
        "Exploring Next 10 columns:\n",
        "- pct_tl_nvr_dlq\t: Percent of trades never delinquent\n",
        "\n",
        "- percent_bc_gt_75\t: Percentage of all bankcard accounts > 75% of limit.\n",
        "\n",
        "- pub_rec_bankruptcies\t: Number of public record bankruptcies (seems like important attribute)\n",
        "\n",
        "- tax_liens\t: Number of tax liens\n",
        "\n",
        "- tot_hi_cred_lim\t: Total high credit/credit limit\n",
        "\n",
        "- total_bal_ex_mort\t: Total credit balance excluding mortgage\n",
        "\n",
        "- total_bc_limit\t: Total bankcard high credit/credit limit\n",
        "\n",
        "- total_il_high_credit_limit\t: Total installment high credit/credit limit\n",
        "\n",
        "- hardship_flag\t: Flags whether or not the borrower is on a hardship plan\n",
        "\n",
        "- debt_settlement_flag : Flags whether or not the borrower, who has charged-off, is working with a debt-settlement company."
      ]
    },
    {
      "cell_type": "code",
      "metadata": {
        "id": "v96UTPT3U-Vp",
        "colab_type": "code",
        "colab": {}
      },
      "source": [
        "list_next_10_till_debt_settlement = ['pct_tl_nvr_dlq','percent_bc_gt_75',\t'pub_rec_bankruptcies',\t'tax_liens',\t'tot_hi_cred_lim',\t'total_bal_ex_mort',\t'total_bc_limit',\t'total_il_high_credit_limit','hardship_flag',\t'debt_settlement_flag']"
      ],
      "execution_count": 0,
      "outputs": []
    },
    {
      "cell_type": "code",
      "metadata": {
        "id": "kaoVJrkzVCO3",
        "colab_type": "code",
        "colab": {
          "base_uri": "https://localhost:8080/",
          "height": 1000
        },
        "outputId": "accca77d-54ea-46d6-e29d-cfeb59b5ca28"
      },
      "source": [
        "for col in list_next_10_till_debt_settlement:\n",
        "  print(check_stats(col))"
      ],
      "execution_count": 82,
      "outputs": [
        {
          "output_type": "stream",
          "text": [
            "0   NaN\n",
            "1   NaN\n",
            "2   NaN\n",
            "3   NaN\n",
            "4   NaN\n",
            "Name: pct_tl_nvr_dlq, dtype: float64\n",
            "count    263833.000000\n",
            "mean         94.574750\n",
            "std           8.404424\n",
            "min           0.000000\n",
            "25%          92.000000\n",
            "50%         100.000000\n",
            "75%         100.000000\n",
            "max         100.000000\n",
            "Name: pct_tl_nvr_dlq, dtype: float64\n",
            "100.0    136624\n",
            "96.0       7957\n",
            "95.0       7876\n",
            "90.0       5490\n",
            "97.0       5359\n",
            "          ...  \n",
            "18.0          1\n",
            "15.0          1\n",
            "54.1          1\n",
            "74.6          1\n",
            "31.6          1\n",
            "Name: pct_tl_nvr_dlq, Length: 508, dtype: int64\n",
            "None\n",
            "0   NaN\n",
            "1   NaN\n",
            "2   NaN\n",
            "3   NaN\n",
            "4   NaN\n",
            "Name: percent_bc_gt_75, dtype: float64\n",
            "count    281351.000000\n",
            "mean         49.559745\n",
            "std          35.394278\n",
            "min           0.000000\n",
            "25%          20.000000\n",
            "50%          50.000000\n",
            "75%          80.000000\n",
            "max         100.000000\n",
            "Name: percent_bc_gt_75, dtype: float64\n",
            "100.00    56270\n",
            "0.00      54589\n",
            "50.00     32987\n",
            "66.70     21517\n",
            "33.30     19084\n",
            "          ...  \n",
            "73.70         1\n",
            "0.29          1\n",
            "42.40         1\n",
            "20.80         1\n",
            "3.80          1\n",
            "Name: percent_bc_gt_75, Length: 181, dtype: int64\n",
            "None\n",
            "0    0.0\n",
            "1    0.0\n",
            "2    0.0\n",
            "3    0.0\n",
            "4    0.0\n",
            "Name: pub_rec_bankruptcies, dtype: float64\n",
            "count    332897.000000\n",
            "mean          0.100112\n",
            "std           0.323046\n",
            "min           0.000000\n",
            "25%           0.000000\n",
            "50%           0.000000\n",
            "75%           0.000000\n",
            "max           8.000000\n",
            "Name: pub_rec_bankruptcies, dtype: float64\n",
            "0.0    301317\n",
            "1.0     30255\n",
            "2.0      1036\n",
            "3.0       203\n",
            "4.0        56\n",
            "5.0        20\n",
            "6.0         5\n",
            "7.0         3\n",
            "8.0         2\n",
            "Name: pub_rec_bankruptcies, dtype: int64\n",
            "None\n",
            "0    0.0\n",
            "1    0.0\n",
            "2    0.0\n",
            "3    0.0\n",
            "4    0.0\n",
            "Name: tax_liens, dtype: float64\n",
            "count    334157.000000\n",
            "mean          0.031931\n",
            "std           0.312322\n",
            "min           0.000000\n",
            "25%           0.000000\n",
            "50%           0.000000\n",
            "75%           0.000000\n",
            "max          53.000000\n",
            "Name: tax_liens, dtype: float64\n",
            "0.0     327602\n",
            "1.0       4430\n",
            "2.0       1244\n",
            "3.0        449\n",
            "4.0        206\n",
            "5.0         95\n",
            "6.0         48\n",
            "7.0         35\n",
            "8.0         17\n",
            "9.0          7\n",
            "11.0         6\n",
            "10.0         6\n",
            "12.0         3\n",
            "13.0         2\n",
            "15.0         2\n",
            "53.0         1\n",
            "14.0         1\n",
            "48.0         1\n",
            "17.0         1\n",
            "24.0         1\n",
            "Name: tax_liens, dtype: int64\n",
            "None\n",
            "0   NaN\n",
            "1   NaN\n",
            "2   NaN\n",
            "3   NaN\n",
            "4   NaN\n",
            "Name: tot_hi_cred_lim, dtype: float64\n",
            "count    2.639860e+05\n",
            "mean     1.714015e+05\n",
            "std      1.753001e+05\n",
            "min      0.000000e+00\n",
            "25%      4.740225e+04\n",
            "50%      1.113610e+05\n",
            "75%      2.492342e+05\n",
            "max      9.999999e+06\n",
            "Name: tot_hi_cred_lim, dtype: float64\n",
            "18200.0     102\n",
            "10000.0     102\n",
            "13700.0     101\n",
            "17700.0     100\n",
            "19300.0      99\n",
            "           ... \n",
            "60613.0       1\n",
            "227186.0      1\n",
            "399841.0      1\n",
            "399842.0      1\n",
            "47373.0       1\n",
            "Name: tot_hi_cred_lim, Length: 170801, dtype: int64\n",
            "None\n",
            "0   NaN\n",
            "1   NaN\n",
            "2   NaN\n",
            "3   NaN\n",
            "4   NaN\n",
            "Name: total_bal_ex_mort, dtype: float64\n",
            "count    2.842320e+05\n",
            "mean     4.661599e+04\n",
            "std      4.505938e+04\n",
            "min      0.000000e+00\n",
            "25%      1.982300e+04\n",
            "50%      3.492800e+04\n",
            "75%      5.826425e+04\n",
            "max      2.644442e+06\n",
            "Name: total_bal_ex_mort, dtype: float64\n",
            "0.0         116\n",
            "20406.0      16\n",
            "22396.0      15\n",
            "34037.0      15\n",
            "22200.0      15\n",
            "           ... \n",
            "61456.0       1\n",
            "122850.0      1\n",
            "113959.0      1\n",
            "95582.0       1\n",
            "166252.0      1\n",
            "Name: total_bal_ex_mort, Length: 103596, dtype: int64\n",
            "None\n",
            "0   NaN\n",
            "1   NaN\n",
            "2   NaN\n",
            "3   NaN\n",
            "4   NaN\n",
            "Name: total_bc_limit, dtype: float64\n",
            "count    284232.000000\n",
            "mean      20963.748185\n",
            "std       20121.399271\n",
            "min           0.000000\n",
            "25%        8000.000000\n",
            "50%       15000.000000\n",
            "75%       27300.000000\n",
            "max      719500.000000\n",
            "Name: total_bc_limit, dtype: float64\n",
            "0.0        2881\n",
            "5000.0     2166\n",
            "6000.0     1979\n",
            "7000.0     1898\n",
            "8000.0     1858\n",
            "           ... \n",
            "15720.0       1\n",
            "12387.0       1\n",
            "46280.0       1\n",
            "24771.0       1\n",
            "32767.0       1\n",
            "Name: total_bc_limit, Length: 12177, dtype: int64\n",
            "None\n",
            "0   NaN\n",
            "1   NaN\n",
            "2   NaN\n",
            "3   NaN\n",
            "4   NaN\n",
            "Name: total_il_high_credit_limit, dtype: float64\n",
            "count    2.639860e+05\n",
            "mean     3.904553e+04\n",
            "std      4.146716e+04\n",
            "min      0.000000e+00\n",
            "25%      1.259200e+04\n",
            "50%      2.898600e+04\n",
            "75%      5.267300e+04\n",
            "max      1.214546e+06\n",
            "Name: total_il_high_credit_limit, dtype: float64\n",
            "0.0         36984\n",
            "10000.0      1433\n",
            "15000.0      1000\n",
            "5000.0        912\n",
            "20000.0       876\n",
            "            ...  \n",
            "42661.0         1\n",
            "85321.0         1\n",
            "105592.0        1\n",
            "219538.0        1\n",
            "23312.0         1\n",
            "Name: total_il_high_credit_limit, Length: 90977, dtype: int64\n",
            "None\n",
            "0    N\n",
            "1    N\n",
            "2    N\n",
            "3    N\n",
            "4    N\n",
            "Name: hardship_flag, dtype: object\n",
            "count     334262\n",
            "unique         2\n",
            "top            N\n",
            "freq      334215\n",
            "Name: hardship_flag, dtype: object\n",
            "N    334215\n",
            "Y        47\n",
            "Name: hardship_flag, dtype: int64\n",
            "None\n",
            "0    N\n",
            "1    N\n",
            "2    N\n",
            "3    N\n",
            "4    N\n",
            "Name: debt_settlement_flag, dtype: object\n",
            "count     334262\n",
            "unique         2\n",
            "top            N\n",
            "freq      329282\n",
            "Name: debt_settlement_flag, dtype: object\n",
            "N    329282\n",
            "Y      4980\n",
            "Name: debt_settlement_flag, dtype: int64\n",
            "None\n"
          ],
          "name": "stdout"
        }
      ]
    },
    {
      "cell_type": "code",
      "metadata": {
        "id": "WXU7WQ9ZVE1K",
        "colab_type": "code",
        "colab": {}
      },
      "source": [
        "# majority of the trades never delinquent (can been seen from mean). Therefore, removing pct_tl_nvr_dlq.\n",
        "# Most of the values are missing and not that relevant of a feature. Therefore, removing them.\n",
        "drop_list19 = ['pct_tl_nvr_dlq','percent_bc_gt_75','tot_hi_cred_lim','total_bal_ex_mort','total_bc_limit','total_il_high_credit_limit','hardship_flag','debt_settlement_flag']\n",
        "df = df.drop(drop_list19, axis=1) "
      ],
      "execution_count": 0,
      "outputs": []
    },
    {
      "cell_type": "code",
      "metadata": {
        "id": "Vbwq842sVL5r",
        "colab_type": "code",
        "colab": {
          "base_uri": "https://localhost:8080/",
          "height": 35
        },
        "outputId": "f7b0c128-25ba-43ec-e5fe-e18cf28aceed"
      },
      "source": [
        "df.shape"
      ],
      "execution_count": 84,
      "outputs": [
        {
          "output_type": "execute_result",
          "data": {
            "text/plain": [
              "(334262, 28)"
            ]
          },
          "metadata": {
            "tags": []
          },
          "execution_count": 84
        }
      ]
    },
    {
      "cell_type": "code",
      "metadata": {
        "id": "Z4Qh48PlVMzh",
        "colab_type": "code",
        "colab": {}
      },
      "source": [
        "# The column labeled 'tax_liens' have almost all values as 0 and will therefore not be very useful for modeling. Removing it.\n",
        "drop_list20 = ['tax_liens']\n",
        "df = df.drop(drop_list20,axis=1)"
      ],
      "execution_count": 0,
      "outputs": []
    },
    {
      "cell_type": "code",
      "metadata": {
        "id": "nkDm3a2QVURl",
        "colab_type": "code",
        "colab": {
          "base_uri": "https://localhost:8080/",
          "height": 621
        },
        "outputId": "2b6d2d47-9183-42df-a6cc-0e5bc5fb4baf"
      },
      "source": [
        "df.info()"
      ],
      "execution_count": 86,
      "outputs": [
        {
          "output_type": "stream",
          "text": [
            "<class 'pandas.core.frame.DataFrame'>\n",
            "RangeIndex: 334262 entries, 0 to 334261\n",
            "Data columns (total 27 columns):\n",
            " #   Column                Non-Null Count   Dtype  \n",
            "---  ------                --------------   -----  \n",
            " 0   loan_amnt             334262 non-null  int64  \n",
            " 1   term                  334262 non-null  object \n",
            " 2   installment           334262 non-null  float64\n",
            " 3   emp_length            318386 non-null  object \n",
            " 4   home_ownership        334262 non-null  object \n",
            " 5   annual_inc            334258 non-null  float64\n",
            " 6   verification_status   334262 non-null  object \n",
            " 7   loan_status           334262 non-null  object \n",
            " 8   addr_state            334262 non-null  object \n",
            " 9   dti                   334234 non-null  float64\n",
            " 10  delinq_2yrs           334233 non-null  float64\n",
            " 11  open_acc              334233 non-null  float64\n",
            " 12  pub_rec               334233 non-null  float64\n",
            " 13  revol_bal             334262 non-null  int64  \n",
            " 14  revol_util            333964 non-null  object \n",
            " 15  total_acc             334233 non-null  float64\n",
            " 16  initial_list_status   334262 non-null  object \n",
            " 17  application_type      334262 non-null  object \n",
            " 18  acc_now_delinq        334262 non-null  float64\n",
            " 19  tot_coll_amt          334262 non-null  float64\n",
            " 20  tot_cur_bal           334262 non-null  float64\n",
            " 21  mort_acc              334262 non-null  float64\n",
            " 22  pub_rec_bankruptcies  332897 non-null  float64\n",
            " 23  purpose_n             334262 non-null  object \n",
            " 24  earliest_cr_line_n    334233 non-null  float64\n",
            " 25  fico_avg              334262 non-null  float64\n",
            " 26  last_fico_avf         334262 non-null  float64\n",
            "dtypes: float64(15), int64(2), object(10)\n",
            "memory usage: 68.9+ MB\n"
          ],
          "name": "stdout"
        }
      ]
    },
    {
      "cell_type": "markdown",
      "metadata": {
        "id": "3t8isAURVZJT",
        "colab_type": "text"
      },
      "source": [
        "Checking corelation again to see how far have we come."
      ]
    },
    {
      "cell_type": "code",
      "metadata": {
        "id": "CQnrDDknVZo9",
        "colab_type": "code",
        "colab": {
          "base_uri": "https://localhost:8080/",
          "height": 926
        },
        "outputId": "5daae8d0-6f9d-4bf3-8cd5-242b14a0ceff"
      },
      "source": [
        "#import seaborn as sns\n",
        "#from matplotlib import pyplot as plt\n",
        "cor = df.corr() \n",
        "plt.subplots(figsize=(20,15))\n",
        "sns.heatmap(cor, square = True)"
      ],
      "execution_count": 87,
      "outputs": [
        {
          "output_type": "execute_result",
          "data": {
            "text/plain": [
              "<matplotlib.axes._subplots.AxesSubplot at 0x7f89a717c1d0>"
            ]
          },
          "metadata": {
            "tags": []
          },
          "execution_count": 87
        },
        {
          "output_type": "display_data",
          "data": {
            "image/png": "[encoded data removed]",
            "text/plain": [
              "<Figure size 1440x1080 with 2 Axes>"
            ]
          },
          "metadata": {
            "tags": [],
            "needs_background": "light"
          }
        }
      ]
    },
    {
      "cell_type": "markdown",
      "metadata": {
        "id": "B2AULCGkVfR_",
        "colab_type": "text"
      },
      "source": [
        "We have reduced the number of features to 26. That's a long way from where we started. I am feeling good about it. Let's see if there are any more opportunities with our dataset."
      ]
    },
    {
      "cell_type": "code",
      "metadata": {
        "id": "4-3XygRNVbw1",
        "colab_type": "code",
        "colab": {
          "base_uri": "https://localhost:8080/",
          "height": 387
        },
        "outputId": "9136332e-e0ed-4eae-fd32-841578207ef0"
      },
      "source": [
        "# Missing values statistics\n",
        "miss_values = null_values(df)\n",
        "miss_values.head(20)"
      ],
      "execution_count": 88,
      "outputs": [
        {
          "output_type": "stream",
          "text": [
            "Dataframe has 27 columns.\n",
            "There are 10 columns that have missing values.\n"
          ],
          "name": "stdout"
        },
        {
          "output_type": "execute_result",
          "data": {
            "text/html": [
              "<div>\n",
              "<style scoped>\n",
              "    .dataframe tbody tr th:only-of-type {\n",
              "        vertical-align: middle;\n",
              "    }\n",
              "\n",
              "    .dataframe tbody tr th {\n",
              "        vertical-align: top;\n",
              "    }\n",
              "\n",
              "    .dataframe thead th {\n",
              "        text-align: right;\n",
              "    }\n",
              "</style>\n",
              "<table border=\"1\" class=\"dataframe\">\n",
              "  <thead>\n",
              "    <tr style=\"text-align: right;\">\n",
              "      <th></th>\n",
              "      <th>Missing Values</th>\n",
              "      <th>% of Total Values</th>\n",
              "    </tr>\n",
              "  </thead>\n",
              "  <tbody>\n",
              "    <tr>\n",
              "      <th>emp_length</th>\n",
              "      <td>15876</td>\n",
              "      <td>4.7</td>\n",
              "    </tr>\n",
              "    <tr>\n",
              "      <th>pub_rec_bankruptcies</th>\n",
              "      <td>1365</td>\n",
              "      <td>0.4</td>\n",
              "    </tr>\n",
              "    <tr>\n",
              "      <th>revol_util</th>\n",
              "      <td>298</td>\n",
              "      <td>0.1</td>\n",
              "    </tr>\n",
              "    <tr>\n",
              "      <th>delinq_2yrs</th>\n",
              "      <td>29</td>\n",
              "      <td>0.0</td>\n",
              "    </tr>\n",
              "    <tr>\n",
              "      <th>open_acc</th>\n",
              "      <td>29</td>\n",
              "      <td>0.0</td>\n",
              "    </tr>\n",
              "    <tr>\n",
              "      <th>pub_rec</th>\n",
              "      <td>29</td>\n",
              "      <td>0.0</td>\n",
              "    </tr>\n",
              "    <tr>\n",
              "      <th>total_acc</th>\n",
              "      <td>29</td>\n",
              "      <td>0.0</td>\n",
              "    </tr>\n",
              "    <tr>\n",
              "      <th>earliest_cr_line_n</th>\n",
              "      <td>29</td>\n",
              "      <td>0.0</td>\n",
              "    </tr>\n",
              "    <tr>\n",
              "      <th>dti</th>\n",
              "      <td>28</td>\n",
              "      <td>0.0</td>\n",
              "    </tr>\n",
              "    <tr>\n",
              "      <th>annual_inc</th>\n",
              "      <td>4</td>\n",
              "      <td>0.0</td>\n",
              "    </tr>\n",
              "  </tbody>\n",
              "</table>\n",
              "</div>"
            ],
            "text/plain": [
              "                      Missing Values  % of Total Values\n",
              "emp_length                     15876                4.7\n",
              "pub_rec_bankruptcies            1365                0.4\n",
              "revol_util                       298                0.1\n",
              "delinq_2yrs                       29                0.0\n",
              "open_acc                          29                0.0\n",
              "pub_rec                           29                0.0\n",
              "total_acc                         29                0.0\n",
              "earliest_cr_line_n                29                0.0\n",
              "dti                               28                0.0\n",
              "annual_inc                         4                0.0"
            ]
          },
          "metadata": {
            "tags": []
          },
          "execution_count": 88
        }
      ]
    },
    {
      "cell_type": "markdown",
      "metadata": {
        "id": "3Uw_KIpUVkQI",
        "colab_type": "text"
      },
      "source": [
        "With this, I am done with data cleaning. FINALLY!\n",
        "\n",
        "I’ve been able to reduce the number of columns from 150 to 26 without losing any meaningful data from our model. \n",
        "\n",
        "Data Cleaning Summary: \n",
        "- Dropped Data that must have been captured after the application form. This would have messed up our model. \n",
        "\n",
        "- Imputed missing values with either 0 or median\n",
        "\n",
        "- Created new feature out of existing (taking average of FICO_low and FICO_high)\n"
      ]
    },
    {
      "cell_type": "markdown",
      "metadata": {
        "id": "XuCI8PrGVnBD",
        "colab_type": "text"
      },
      "source": [
        "\"Our goal here is to predict whether a person will be able to pay off a loan or  he/she will default.\n",
        "We can see from data dictionary that loan_status is the only field that describes a loan status.\n",
        "\n",
        "Therefore, we will be using it as target column.\"\n"
      ]
    },
    {
      "cell_type": "markdown",
      "metadata": {
        "id": "yyAuVqu2Vpag",
        "colab_type": "text"
      },
      "source": [
        "# 4. Target Variable"
      ]
    },
    {
      "cell_type": "code",
      "metadata": {
        "id": "68_Xyh3iVgqd",
        "colab_type": "code",
        "colab": {
          "base_uri": "https://localhost:8080/",
          "height": 195
        },
        "outputId": "d81c03af-eb60-4970-a2a2-47c31fe22ef2"
      },
      "source": [
        "#What are the value counts for this variable?\n",
        "df['loan_status'].value_counts()"
      ],
      "execution_count": 90,
      "outputs": [
        {
          "output_type": "execute_result",
          "data": {
            "text/plain": [
              "Fully Paid                                             242054\n",
              "Charged Off                                             50440\n",
              "Current                                                 36945\n",
              "Does not meet the credit policy. Status:Fully Paid       1988\n",
              "Late (31-120 days)                                       1206\n",
              "Does not meet the credit policy. Status:Charged Off       761\n",
              "In Grace Period                                           486\n",
              "Late (16-30 days)                                         295\n",
              "Default                                                    87\n",
              "Name: loan_status, dtype: int64"
            ]
          },
          "metadata": {
            "tags": []
          },
          "execution_count": 90
        }
      ]
    },
    {
      "cell_type": "code",
      "metadata": {
        "id": "pgi-Xa6eVrBt",
        "colab_type": "code",
        "colab": {
          "base_uri": "https://localhost:8080/",
          "height": 35
        },
        "outputId": "adeed7e8-330e-406d-c8bd-91ddbf397e82"
      },
      "source": [
        "type(df['loan_status'][0])"
      ],
      "execution_count": 92,
      "outputs": [
        {
          "output_type": "execute_result",
          "data": {
            "text/plain": [
              "str"
            ]
          },
          "metadata": {
            "tags": []
          },
          "execution_count": 92
        }
      ]
    },
    {
      "cell_type": "markdown",
      "metadata": {
        "id": "g5ATp4_xVyT8",
        "colab_type": "text"
      },
      "source": [
        "Currently, this column contains text values that need to be converted to numerical values to be eligible for training a model."
      ]
    },
    {
      "cell_type": "code",
      "metadata": {
        "id": "Z1PR883rV16a",
        "colab_type": "code",
        "colab": {}
      },
      "source": [
        "#Dependent Variable =  Loan_Status \n",
        "\n",
        "#Charged Off = 1\n",
        "#Default = 1\n",
        "#Late (31-120 days) = 1\n",
        "#Does not meet credit policy. Status Charged Off = 1\n",
        "\n",
        "#Current = 0\n",
        "#Fully Paid = 0\n",
        "#In Grace Period = 0\n",
        "#Late (16-30 days) = 0\n",
        "#Does not meet credit policy. Status Fully Paid = 0"
      ],
      "execution_count": 0,
      "outputs": []
    },
    {
      "cell_type": "code",
      "metadata": {
        "id": "TSEA6mXuVtgE",
        "colab_type": "code",
        "colab": {}
      },
      "source": [
        "loan_status_map = {\n",
        "    'Charged Off': 1,\n",
        "    'Default': 1,\n",
        "    'Late (31-120 days)': 1,\n",
        "    'Does not meet the credit policy. Status:Charged Off': 1,\n",
        "    'Current': 0,\n",
        "    'Fully Paid': 0,\n",
        "    'In Grace Period': 0,\n",
        "    'Late (16-30 days)': 0,\n",
        "    'Does not meet the credit policy. Status:Fully Paid': 0}"
      ],
      "execution_count": 0,
      "outputs": []
    },
    {
      "cell_type": "code",
      "metadata": {
        "id": "jrqHr-DaWGym",
        "colab_type": "code",
        "colab": {}
      },
      "source": [
        "df['loan_status'] = df['loan_status'].map(loan_status_map)"
      ],
      "execution_count": 0,
      "outputs": []
    },
    {
      "cell_type": "markdown",
      "metadata": {
        "id": "UipKaaL-WuJq",
        "colab_type": "text"
      },
      "source": [
        "Status counts as percentages:"
      ]
    },
    {
      "cell_type": "code",
      "metadata": {
        "id": "59Wor2LqWLtT",
        "colab_type": "code",
        "colab": {
          "base_uri": "https://localhost:8080/",
          "height": 70
        },
        "outputId": "aaaa807b-3e01-469f-f304-fdc4067404eb"
      },
      "source": [
        "df['loan_status'].value_counts(normalize=True, dropna=False)"
      ],
      "execution_count": 97,
      "outputs": [
        {
          "output_type": "execute_result",
          "data": {
            "text/plain": [
              "0    0.842956\n",
              "1    0.157044\n",
              "Name: loan_status, dtype: float64"
            ]
          },
          "metadata": {
            "tags": []
          },
          "execution_count": 97
        }
      ]
    },
    {
      "cell_type": "markdown",
      "metadata": {
        "id": "3AD3U_ltWZjc",
        "colab_type": "text"
      },
      "source": [
        "About 84% of the loans have been fully paid and 16% have charged off, so we can see that we are dealing with an imbalanced dataset. This means one result type is dominating the other one(s). In this case, we have a lot of \"fully paid\" records but not many records of other 6 (charged off) records. \n",
        "\n",
        "- 0: Fully Paid\n",
        "- 1: Charged Off"
      ]
    },
    {
      "cell_type": "code",
      "metadata": {
        "id": "3AHZu90KWN8h",
        "colab_type": "code",
        "colab": {
          "base_uri": "https://localhost:8080/",
          "height": 70
        },
        "outputId": "0f45bb54-4d2e-4396-f070-6527a7d6379b"
      },
      "source": [
        "df['loan_status'].value_counts(dropna=False)"
      ],
      "execution_count": 100,
      "outputs": [
        {
          "output_type": "execute_result",
          "data": {
            "text/plain": [
              "0    281768\n",
              "1     52494\n",
              "Name: loan_status, dtype: int64"
            ]
          },
          "metadata": {
            "tags": []
          },
          "execution_count": 100
        }
      ]
    },
    {
      "cell_type": "markdown",
      "metadata": {
        "id": "D-0v6j67W9JA",
        "colab_type": "text"
      },
      "source": [
        "Visualizing the Target Column Outcomes"
      ]
    },
    {
      "cell_type": "code",
      "metadata": {
        "id": "skQ7SZt8WhgG",
        "colab_type": "code",
        "colab": {
          "base_uri": "https://localhost:8080/",
          "height": 459
        },
        "outputId": "80656f31-9bc2-4a13-fc48-d8784cd9033f"
      },
      "source": [
        "fig, axs = plt.subplots(1,2,figsize=(14,7))\n",
        "sns.countplot(x='loan_status',data=df,ax=axs[0])\n",
        "axs[0].set_title(\"Frequency of each Loan Status\")\n",
        "df.loan_status.value_counts().plot(x=None,y=None, kind='pie', ax=axs[1],autopct='%1.2f%%')\n",
        "axs[1].set_title(\"Percentage of each Loan status\")\n",
        "plt.show()"
      ],
      "execution_count": 102,
      "outputs": [
        {
          "output_type": "display_data",
          "data": {
            "image/png": "[encoded data removed]",
            "text/plain": [
              "<Figure size 1008x504 with 2 Axes>"
            ]
          },
          "metadata": {
            "tags": [],
            "needs_background": "light"
          }
        }
      ]
    },
    {
      "cell_type": "markdown",
      "metadata": {
        "id": "zm98Yel1XTwj",
        "colab_type": "text"
      },
      "source": [
        "# 5. Further Pre-processing and Feature Engineering\n",
        "\n",
        "We'll inspect each feature separately as it is not in readable range, and do the following:\n",
        "\n",
        "- Drop the feature if it is not useful for predicting the Target variable.\n",
        "- View summary statistics and visualize, plot against the Target variable.\n",
        "- Modify the feature to make it useful for modeling, if necessary.\n",
        "- We define a function for plotting a variable and comparing with the Target variable."
      ]
    },
    {
      "cell_type": "code",
      "metadata": {
        "id": "qBrpgz3wW_3n",
        "colab_type": "code",
        "colab": {
          "base_uri": "https://localhost:8080/",
          "height": 55
        },
        "outputId": "4dd0808d-4a28-40f7-9373-18c138a297e0"
      },
      "source": [
        "#Print the remaining predictor for future reference:\n",
        "print(list(df.columns))"
      ],
      "execution_count": 104,
      "outputs": [
        {
          "output_type": "stream",
          "text": [
            "['loan_amnt', 'term', 'installment', 'emp_length', 'home_ownership', 'annual_inc', 'verification_status', 'loan_status', 'addr_state', 'dti', 'delinq_2yrs', 'open_acc', 'pub_rec', 'revol_bal', 'revol_util', 'total_acc', 'initial_list_status', 'application_type', 'acc_now_delinq', 'tot_coll_amt', 'tot_cur_bal', 'mort_acc', 'pub_rec_bankruptcies', 'purpose_n', 'earliest_cr_line_n', 'fico_avg', 'last_fico_avf']\n"
          ],
          "name": "stdout"
        }
      ]
    },
    {
      "cell_type": "markdown",
      "metadata": {
        "id": "XzyUcjEIXXvM",
        "colab_type": "text"
      },
      "source": [
        "## 5.1 loan_amnt"
      ]
    },
    {
      "cell_type": "code",
      "metadata": {
        "id": "MJL_CYEPXPgt",
        "colab_type": "code",
        "colab": {
          "base_uri": "https://localhost:8080/",
          "height": 177
        },
        "outputId": "2420511d-5168-4fd2-9998-2a45795db070"
      },
      "source": [
        "df['loan_amnt'].describe()"
      ],
      "execution_count": 105,
      "outputs": [
        {
          "output_type": "execute_result",
          "data": {
            "text/plain": [
              "count    334262.000000\n",
              "mean      13875.948283\n",
              "std        8456.075067\n",
              "min         500.000000\n",
              "25%        7350.000000\n",
              "50%       12000.000000\n",
              "75%       19500.000000\n",
              "max       40000.000000\n",
              "Name: loan_amnt, dtype: float64"
            ]
          },
          "metadata": {
            "tags": []
          },
          "execution_count": 105
        }
      ]
    },
    {
      "cell_type": "markdown",
      "metadata": {
        "id": "p_BJGdVNXd6k",
        "colab_type": "text"
      },
      "source": [
        "Loan amounts ranges from $500 to $40,000, with a median of $12,000."
      ]
    },
    {
      "cell_type": "code",
      "metadata": {
        "id": "nwrx3c0mXb4n",
        "colab_type": "code",
        "colab": {
          "base_uri": "https://localhost:8080/",
          "height": 139
        },
        "outputId": "1587a7dd-46f6-461e-8712-9bbb5fa8301c"
      },
      "source": [
        "df.groupby('loan_status')['loan_amnt'].describe()"
      ],
      "execution_count": 107,
      "outputs": [
        {
          "output_type": "execute_result",
          "data": {
            "text/html": [
              "<div>\n",
              "<style scoped>\n",
              "    .dataframe tbody tr th:only-of-type {\n",
              "        vertical-align: middle;\n",
              "    }\n",
              "\n",
              "    .dataframe tbody tr th {\n",
              "        vertical-align: top;\n",
              "    }\n",
              "\n",
              "    .dataframe thead th {\n",
              "        text-align: right;\n",
              "    }\n",
              "</style>\n",
              "<table border=\"1\" class=\"dataframe\">\n",
              "  <thead>\n",
              "    <tr style=\"text-align: right;\">\n",
              "      <th></th>\n",
              "      <th>count</th>\n",
              "      <th>mean</th>\n",
              "      <th>std</th>\n",
              "      <th>min</th>\n",
              "      <th>25%</th>\n",
              "      <th>50%</th>\n",
              "      <th>75%</th>\n",
              "      <th>max</th>\n",
              "    </tr>\n",
              "    <tr>\n",
              "      <th>loan_status</th>\n",
              "      <th></th>\n",
              "      <th></th>\n",
              "      <th></th>\n",
              "      <th></th>\n",
              "      <th></th>\n",
              "      <th></th>\n",
              "      <th></th>\n",
              "      <th></th>\n",
              "    </tr>\n",
              "  </thead>\n",
              "  <tbody>\n",
              "    <tr>\n",
              "      <th>0</th>\n",
              "      <td>281768.0</td>\n",
              "      <td>13691.955084</td>\n",
              "      <td>8401.062603</td>\n",
              "      <td>500.0</td>\n",
              "      <td>7200.0</td>\n",
              "      <td>12000.0</td>\n",
              "      <td>19000.0</td>\n",
              "      <td>40000.0</td>\n",
              "    </tr>\n",
              "    <tr>\n",
              "      <th>1</th>\n",
              "      <td>52494.0</td>\n",
              "      <td>14863.554406</td>\n",
              "      <td>8679.125747</td>\n",
              "      <td>500.0</td>\n",
              "      <td>8000.0</td>\n",
              "      <td>13200.0</td>\n",
              "      <td>20000.0</td>\n",
              "      <td>40000.0</td>\n",
              "    </tr>\n",
              "  </tbody>\n",
              "</table>\n",
              "</div>"
            ],
            "text/plain": [
              "                count          mean          std  ...      50%      75%      max\n",
              "loan_status                                       ...                           \n",
              "0            281768.0  13691.955084  8401.062603  ...  12000.0  19000.0  40000.0\n",
              "1             52494.0  14863.554406  8679.125747  ...  13200.0  20000.0  40000.0\n",
              "\n",
              "[2 rows x 8 columns]"
            ]
          },
          "metadata": {
            "tags": []
          },
          "execution_count": 107
        }
      ]
    },
    {
      "cell_type": "markdown",
      "metadata": {
        "id": "kF2QDZZDXiK7",
        "colab_type": "text"
      },
      "source": [
        "## 5.2 term"
      ]
    },
    {
      "cell_type": "code",
      "metadata": {
        "id": "DoSpVAdgXfpZ",
        "colab_type": "code",
        "colab": {
          "base_uri": "https://localhost:8080/",
          "height": 70
        },
        "outputId": "9bd0546d-d53d-41ef-c0e9-a72db1cbde93"
      },
      "source": [
        "df['term'].value_counts(dropna=False)"
      ],
      "execution_count": 108,
      "outputs": [
        {
          "output_type": "execute_result",
          "data": {
            "text/plain": [
              " 36 months    254366\n",
              " 60 months     79896\n",
              "Name: term, dtype: int64"
            ]
          },
          "metadata": {
            "tags": []
          },
          "execution_count": 108
        }
      ]
    },
    {
      "cell_type": "code",
      "metadata": {
        "id": "D5TOIhpDXkAT",
        "colab_type": "code",
        "colab": {}
      },
      "source": [
        "df['term'] = df['term'].apply(lambda x: np.int8(x.split()[0]))"
      ],
      "execution_count": 0,
      "outputs": []
    },
    {
      "cell_type": "code",
      "metadata": {
        "id": "H14hiYLGXmBX",
        "colab_type": "code",
        "colab": {
          "base_uri": "https://localhost:8080/",
          "height": 70
        },
        "outputId": "11191f76-4a50-41ba-8d83-da8296fc2012"
      },
      "source": [
        "df['term'].value_counts(normalize=True)"
      ],
      "execution_count": 110,
      "outputs": [
        {
          "output_type": "execute_result",
          "data": {
            "text/plain": [
              "36    0.760978\n",
              "60    0.239022\n",
              "Name: term, dtype: float64"
            ]
          },
          "metadata": {
            "tags": []
          },
          "execution_count": 110
        }
      ]
    },
    {
      "cell_type": "code",
      "metadata": {
        "id": "rjNq455mXoJ7",
        "colab_type": "code",
        "colab": {
          "base_uri": "https://localhost:8080/",
          "height": 88
        },
        "outputId": "0ad915d6-522a-40fc-950e-516beb56559f"
      },
      "source": [
        "#Compare the charge-off rate by loan period:\n",
        "df.groupby('term')['loan_status'].value_counts(normalize=True).loc[:,1]"
      ],
      "execution_count": 113,
      "outputs": [
        {
          "output_type": "execute_result",
          "data": {
            "text/plain": [
              "term\n",
              "36    0.131963\n",
              "60    0.236895\n",
              "Name: loan_status, dtype: float64"
            ]
          },
          "metadata": {
            "tags": []
          },
          "execution_count": 113
        }
      ]
    },
    {
      "cell_type": "markdown",
      "metadata": {
        "id": "CqUHRI_-X4np",
        "colab_type": "text"
      },
      "source": [
        "It is clear that loan with longer terms are more likely to charge off."
      ]
    },
    {
      "cell_type": "markdown",
      "metadata": {
        "id": "Ivl-HQLDX6O0",
        "colab_type": "text"
      },
      "source": [
        "## 5.3 installment"
      ]
    },
    {
      "cell_type": "code",
      "metadata": {
        "id": "DbUGSFV2XqWn",
        "colab_type": "code",
        "colab": {
          "base_uri": "https://localhost:8080/",
          "height": 177
        },
        "outputId": "24fddc72-5ef7-4faf-e71c-a9cf4d3bb52d"
      },
      "source": [
        "df['installment'].describe()"
      ],
      "execution_count": 114,
      "outputs": [
        {
          "output_type": "execute_result",
          "data": {
            "text/plain": [
              "count    334262.000000\n",
              "mean        425.222429\n",
              "std         253.955017\n",
              "min           4.930000\n",
              "25%         239.642500\n",
              "50%         369.260000\n",
              "75%         560.690000\n",
              "max        1584.900000\n",
              "Name: installment, dtype: float64"
            ]
          },
          "metadata": {
            "tags": []
          },
          "execution_count": 114
        }
      ]
    },
    {
      "cell_type": "markdown",
      "metadata": {
        "id": "yvAfZhSqX-cT",
        "colab_type": "text"
      },
      "source": [
        "Installments range from \\$4.93 to \\$1,584, with a median of \\$369."
      ]
    },
    {
      "cell_type": "code",
      "metadata": {
        "id": "K5xFb4VVX8mg",
        "colab_type": "code",
        "colab": {
          "base_uri": "https://localhost:8080/",
          "height": 139
        },
        "outputId": "cce489a9-3f06-4086-d116-887d82d85034"
      },
      "source": [
        "df.groupby('loan_status')['installment'].describe()"
      ],
      "execution_count": 115,
      "outputs": [
        {
          "output_type": "execute_result",
          "data": {
            "text/html": [
              "<div>\n",
              "<style scoped>\n",
              "    .dataframe tbody tr th:only-of-type {\n",
              "        vertical-align: middle;\n",
              "    }\n",
              "\n",
              "    .dataframe tbody tr th {\n",
              "        vertical-align: top;\n",
              "    }\n",
              "\n",
              "    .dataframe thead th {\n",
              "        text-align: right;\n",
              "    }\n",
              "</style>\n",
              "<table border=\"1\" class=\"dataframe\">\n",
              "  <thead>\n",
              "    <tr style=\"text-align: right;\">\n",
              "      <th></th>\n",
              "      <th>count</th>\n",
              "      <th>mean</th>\n",
              "      <th>std</th>\n",
              "      <th>min</th>\n",
              "      <th>25%</th>\n",
              "      <th>50%</th>\n",
              "      <th>75%</th>\n",
              "      <th>max</th>\n",
              "    </tr>\n",
              "    <tr>\n",
              "      <th>loan_status</th>\n",
              "      <th></th>\n",
              "      <th></th>\n",
              "      <th></th>\n",
              "      <th></th>\n",
              "      <th></th>\n",
              "      <th></th>\n",
              "      <th></th>\n",
              "      <th></th>\n",
              "    </tr>\n",
              "  </thead>\n",
              "  <tbody>\n",
              "    <tr>\n",
              "      <th>0</th>\n",
              "      <td>281768.0</td>\n",
              "      <td>420.446408</td>\n",
              "      <td>252.678644</td>\n",
              "      <td>4.93</td>\n",
              "      <td>235.36</td>\n",
              "      <td>364.96</td>\n",
              "      <td>554.33</td>\n",
              "      <td>1584.9</td>\n",
              "    </tr>\n",
              "    <tr>\n",
              "      <th>1</th>\n",
              "      <td>52494.0</td>\n",
              "      <td>450.858307</td>\n",
              "      <td>259.202186</td>\n",
              "      <td>15.91</td>\n",
              "      <td>264.04</td>\n",
              "      <td>397.33</td>\n",
              "      <td>588.42</td>\n",
              "      <td>1584.9</td>\n",
              "    </tr>\n",
              "  </tbody>\n",
              "</table>\n",
              "</div>"
            ],
            "text/plain": [
              "                count        mean         std  ...     50%     75%     max\n",
              "loan_status                                    ...                        \n",
              "0            281768.0  420.446408  252.678644  ...  364.96  554.33  1584.9\n",
              "1             52494.0  450.858307  259.202186  ...  397.33  588.42  1584.9\n",
              "\n",
              "[2 rows x 8 columns]"
            ]
          },
          "metadata": {
            "tags": []
          },
          "execution_count": 115
        }
      ]
    },
    {
      "cell_type": "markdown",
      "metadata": {
        "id": "jNConuFvYILg",
        "colab_type": "text"
      },
      "source": [
        "Charged-off loans have higher installments."
      ]
    },
    {
      "cell_type": "markdown",
      "metadata": {
        "id": "ou_uUN0bYKJ7",
        "colab_type": "text"
      },
      "source": [
        "## 5.4 emp_length"
      ]
    },
    {
      "cell_type": "code",
      "metadata": {
        "id": "aurmVr9NYCmU",
        "colab_type": "code",
        "colab": {
          "base_uri": "https://localhost:8080/",
          "height": 88
        },
        "outputId": "9b1d2316-cc2f-4406-b600-ddc508c00013"
      },
      "source": [
        "df['emp_length'].head(3)"
      ],
      "execution_count": 116,
      "outputs": [
        {
          "output_type": "execute_result",
          "data": {
            "text/plain": [
              "0    10+ years\n",
              "1     < 1 year\n",
              "2    10+ years\n",
              "Name: emp_length, dtype: object"
            ]
          },
          "metadata": {
            "tags": []
          },
          "execution_count": 116
        }
      ]
    },
    {
      "cell_type": "markdown",
      "metadata": {
        "id": "00PNHIBiYOQc",
        "colab_type": "text"
      },
      "source": [
        "I'll be filling the null values (lesser than 1 year) with 0 assuming that the borrower hasn't worked many years and data is not recorded. Also, I'll be using regex to extract the number of years from all of the data."
      ]
    },
    {
      "cell_type": "code",
      "metadata": {
        "id": "hhZkyi-wYMow",
        "colab_type": "code",
        "colab": {
          "base_uri": "https://localhost:8080/",
          "height": 495
        },
        "outputId": "67dbe059-da23-4689-d6be-79ca257d8de8"
      },
      "source": [
        "df['emp_length'].fillna(value=0,inplace=True) #filling the missing values with 0 \n",
        "df['emp_length'].replace(to_replace='[^0-9]+', value='', inplace=True, regex=True ) #checking not numeric value and then replacng it with '' to removing string\n",
        "df['emp_length'].value_counts().sort_values().plot(kind='barh',figsize=(18,8)) #plotting the bar to see the emp_length\n",
        "plt.title('Number of loans distributed by Employment Years',fontsize=20) #plotting the title\n",
        "plt.xlabel('Number of loans',fontsize=15) #plotting number of loans for x axis\n",
        "plt.ylabel('Years worked',fontsize=15); #plotting years worked for y axis"
      ],
      "execution_count": 117,
      "outputs": [
        {
          "output_type": "display_data",
          "data": {
            "image/png": "[encoded data removed]",
            "text/plain": [
              "<Figure size 1296x576 with 1 Axes>"
            ]
          },
          "metadata": {
            "tags": [],
            "needs_background": "light"
          }
        }
      ]
    },
    {
      "cell_type": "markdown",
      "metadata": {
        "id": "_LK9KiFqYTsi",
        "colab_type": "text"
      },
      "source": [
        "The column looks fine. Also, it can be seen that people who have worked for 10 or more years are more likely to take a loan."
      ]
    },
    {
      "cell_type": "markdown",
      "metadata": {
        "id": "5BuOVK5aYVvv",
        "colab_type": "text"
      },
      "source": [
        "## 5.5 home_ownership"
      ]
    },
    {
      "cell_type": "code",
      "metadata": {
        "id": "i3yULdq6YRPR",
        "colab_type": "code",
        "colab": {
          "base_uri": "https://localhost:8080/",
          "height": 141
        },
        "outputId": "4ce071bb-72d0-497a-f1bd-d17ff49a4851"
      },
      "source": [
        "df['home_ownership'].value_counts(dropna=False)"
      ],
      "execution_count": 118,
      "outputs": [
        {
          "output_type": "execute_result",
          "data": {
            "text/plain": [
              "MORTGAGE    166740\n",
              "RENT        136303\n",
              "OWN          30883\n",
              "OTHER          182\n",
              "ANY            104\n",
              "NONE            50\n",
              "Name: home_ownership, dtype: int64"
            ]
          },
          "metadata": {
            "tags": []
          },
          "execution_count": 118
        }
      ]
    },
    {
      "cell_type": "code",
      "metadata": {
        "id": "pyfe6AgsYX7K",
        "colab_type": "code",
        "colab": {}
      },
      "source": [
        "#any and none are not very relevant for modeling. Therefore, clubbing them with Other. \n",
        "df['home_ownership'].replace(['NONE', 'ANY'], 'OTHER', inplace=True)"
      ],
      "execution_count": 0,
      "outputs": []
    },
    {
      "cell_type": "code",
      "metadata": {
        "id": "gYy48gO-YZ4B",
        "colab_type": "code",
        "colab": {
          "base_uri": "https://localhost:8080/",
          "height": 106
        },
        "outputId": "f7bb3a60-a698-4549-f4f3-a7d8823afae8"
      },
      "source": [
        "df['home_ownership'].value_counts(dropna=False)"
      ],
      "execution_count": 120,
      "outputs": [
        {
          "output_type": "execute_result",
          "data": {
            "text/plain": [
              "MORTGAGE    166740\n",
              "RENT        136303\n",
              "OWN          30883\n",
              "OTHER          336\n",
              "Name: home_ownership, dtype: int64"
            ]
          },
          "metadata": {
            "tags": []
          },
          "execution_count": 120
        }
      ]
    },
    {
      "cell_type": "code",
      "metadata": {
        "id": "zkxFeUSQYbh1",
        "colab_type": "code",
        "colab": {
          "base_uri": "https://localhost:8080/",
          "height": 124
        },
        "outputId": "bc2ca730-8051-4480-ef04-06505619592f"
      },
      "source": [
        "df.groupby('home_ownership')['loan_status'].value_counts(normalize=True).loc[:,1]"
      ],
      "execution_count": 122,
      "outputs": [
        {
          "output_type": "execute_result",
          "data": {
            "text/plain": [
              "home_ownership\n",
              "MORTGAGE    0.140896\n",
              "OTHER       0.184524\n",
              "OWN         0.161480\n",
              "RENT        0.175726\n",
              "Name: loan_status, dtype: float64"
            ]
          },
          "metadata": {
            "tags": []
          },
          "execution_count": 122
        }
      ]
    },
    {
      "cell_type": "markdown",
      "metadata": {
        "id": "Fc4PMDy6YiDA",
        "colab_type": "text"
      },
      "source": [
        "There is not much difference in terms of home ownership. However,people who rent and own a house have a higher chance of charge-off."
      ]
    },
    {
      "cell_type": "markdown",
      "metadata": {
        "id": "WM0_RvEFYjnw",
        "colab_type": "text"
      },
      "source": [
        "## 5.6 annual_inc"
      ]
    },
    {
      "cell_type": "code",
      "metadata": {
        "id": "muhqttAyYdzq",
        "colab_type": "code",
        "colab": {
          "base_uri": "https://localhost:8080/",
          "height": 177
        },
        "outputId": "ef5d1b28-208a-486e-a14d-99c9194508f2"
      },
      "source": [
        "df['annual_inc'].describe()"
      ],
      "execution_count": 123,
      "outputs": [
        {
          "output_type": "execute_result",
          "data": {
            "text/plain": [
              "count    3.342580e+05\n",
              "mean     7.447377e+04\n",
              "std      6.245915e+04\n",
              "min      0.000000e+00\n",
              "25%      4.500000e+04\n",
              "50%      6.324000e+04\n",
              "75%      9.000000e+04\n",
              "max      7.141778e+06\n",
              "Name: annual_inc, dtype: float64"
            ]
          },
          "metadata": {
            "tags": []
          },
          "execution_count": 123
        }
      ]
    },
    {
      "cell_type": "markdown",
      "metadata": {
        "id": "0srA9Ec1YoB9",
        "colab_type": "text"
      },
      "source": [
        "Annual income ranges from \\$0 to \\$7,141,778, with a median of \\$6.324000e+04. Because of the large range of incomes, we can take a log of annual income variable."
      ]
    },
    {
      "cell_type": "code",
      "metadata": {
        "id": "ylHzoVeuYlw5",
        "colab_type": "code",
        "colab": {}
      },
      "source": [
        "df['log_annual_inc'] = df['annual_inc'].apply(lambda x: np.log10(x+1))\n",
        "df.drop('annual_inc', axis=1, inplace=True)"
      ],
      "execution_count": 0,
      "outputs": []
    },
    {
      "cell_type": "code",
      "metadata": {
        "id": "dNfN_Uw1YrcG",
        "colab_type": "code",
        "colab": {
          "base_uri": "https://localhost:8080/",
          "height": 177
        },
        "outputId": "a0c9887c-6c9e-4859-be47-8f2aa8b087b6"
      },
      "source": [
        "df['log_annual_inc'].describe()"
      ],
      "execution_count": 125,
      "outputs": [
        {
          "output_type": "execute_result",
          "data": {
            "text/plain": [
              "count    334258.000000\n",
              "mean          4.805127\n",
              "std           0.235807\n",
              "min           0.000000\n",
              "25%           4.653222\n",
              "50%           4.800999\n",
              "75%           4.954247\n",
              "max           6.853806\n",
              "Name: log_annual_inc, dtype: float64"
            ]
          },
          "metadata": {
            "tags": []
          },
          "execution_count": 125
        }
      ]
    },
    {
      "cell_type": "code",
      "metadata": {
        "id": "wXspfhzGYtYI",
        "colab_type": "code",
        "colab": {
          "base_uri": "https://localhost:8080/",
          "height": 139
        },
        "outputId": "cbdd9cf7-151e-4cdd-e14e-c9c487e74d73"
      },
      "source": [
        "df.groupby('loan_status')['log_annual_inc'].describe()"
      ],
      "execution_count": 126,
      "outputs": [
        {
          "output_type": "execute_result",
          "data": {
            "text/html": [
              "<div>\n",
              "<style scoped>\n",
              "    .dataframe tbody tr th:only-of-type {\n",
              "        vertical-align: middle;\n",
              "    }\n",
              "\n",
              "    .dataframe tbody tr th {\n",
              "        vertical-align: top;\n",
              "    }\n",
              "\n",
              "    .dataframe thead th {\n",
              "        text-align: right;\n",
              "    }\n",
              "</style>\n",
              "<table border=\"1\" class=\"dataframe\">\n",
              "  <thead>\n",
              "    <tr style=\"text-align: right;\">\n",
              "      <th></th>\n",
              "      <th>count</th>\n",
              "      <th>mean</th>\n",
              "      <th>std</th>\n",
              "      <th>min</th>\n",
              "      <th>25%</th>\n",
              "      <th>50%</th>\n",
              "      <th>75%</th>\n",
              "      <th>max</th>\n",
              "    </tr>\n",
              "    <tr>\n",
              "      <th>loan_status</th>\n",
              "      <th></th>\n",
              "      <th></th>\n",
              "      <th></th>\n",
              "      <th></th>\n",
              "      <th></th>\n",
              "      <th></th>\n",
              "      <th></th>\n",
              "      <th></th>\n",
              "    </tr>\n",
              "  </thead>\n",
              "  <tbody>\n",
              "    <tr>\n",
              "      <th>0</th>\n",
              "      <td>281764.0</td>\n",
              "      <td>4.811506</td>\n",
              "      <td>0.236230</td>\n",
              "      <td>0.0</td>\n",
              "      <td>4.654379</td>\n",
              "      <td>4.812920</td>\n",
              "      <td>4.954247</td>\n",
              "      <td>6.853806</td>\n",
              "    </tr>\n",
              "    <tr>\n",
              "      <th>1</th>\n",
              "      <td>52494.0</td>\n",
              "      <td>4.770884</td>\n",
              "      <td>0.230533</td>\n",
              "      <td>0.0</td>\n",
              "      <td>4.623260</td>\n",
              "      <td>4.778158</td>\n",
              "      <td>4.903095</td>\n",
              "      <td>6.747330</td>\n",
              "    </tr>\n",
              "  </tbody>\n",
              "</table>\n",
              "</div>"
            ],
            "text/plain": [
              "                count      mean       std  ...       50%       75%       max\n",
              "loan_status                                ...                              \n",
              "0            281764.0  4.811506  0.236230  ...  4.812920  4.954247  6.853806\n",
              "1             52494.0  4.770884  0.230533  ...  4.778158  4.903095  6.747330\n",
              "\n",
              "[2 rows x 8 columns]"
            ]
          },
          "metadata": {
            "tags": []
          },
          "execution_count": 126
        }
      ]
    },
    {
      "cell_type": "markdown",
      "metadata": {
        "id": "QBOXlMaZYw5O",
        "colab_type": "text"
      },
      "source": [
        "Obviously, people with higher income are more likely to pay off their loans."
      ]
    },
    {
      "cell_type": "markdown",
      "metadata": {
        "id": "RrB1ycdwYysV",
        "colab_type": "text"
      },
      "source": [
        "## 5.7 verification_status"
      ]
    },
    {
      "cell_type": "code",
      "metadata": {
        "id": "zcmO9WkbYu5w",
        "colab_type": "code",
        "colab": {
          "base_uri": "https://localhost:8080/",
          "height": 88
        },
        "outputId": "be489322-535d-4710-d75f-8b557ea4d195"
      },
      "source": [
        "df['verification_status'].value_counts()"
      ],
      "execution_count": 127,
      "outputs": [
        {
          "output_type": "execute_result",
          "data": {
            "text/plain": [
              "Verified           131804\n",
              "Not Verified       107818\n",
              "Source Verified     94640\n",
              "Name: verification_status, dtype: int64"
            ]
          },
          "metadata": {
            "tags": []
          },
          "execution_count": 127
        }
      ]
    },
    {
      "cell_type": "markdown",
      "metadata": {
        "id": "FDbVZ8J4Y2No",
        "colab_type": "text"
      },
      "source": [
        "## 5.8 addr_state"
      ]
    },
    {
      "cell_type": "code",
      "metadata": {
        "id": "sQwzlqWmY0nO",
        "colab_type": "code",
        "colab": {
          "base_uri": "https://localhost:8080/",
          "height": 106
        },
        "outputId": "6751ad58-a40a-47c6-c55b-a897fed739ec"
      },
      "source": [
        "df['addr_state'].unique() #seeing the unique values of address state column"
      ],
      "execution_count": 128,
      "outputs": [
        {
          "output_type": "execute_result",
          "data": {
            "text/plain": [
              "array(['AZ', 'GA', 'IL', 'CA', 'OR', 'NC', 'TX', 'VA', 'MO', 'CT', 'UT',\n",
              "       'FL', 'NY', 'PA', 'MN', 'NJ', 'KY', 'OH', 'SC', 'RI', 'LA', 'MA',\n",
              "       'WA', 'WI', 'AL', 'CO', 'KS', 'NV', 'AK', 'MD', 'WV', 'VT', 'MI',\n",
              "       'DC', 'SD', 'NH', 'AR', 'NM', 'MT', 'HI', 'WY', 'OK', 'DE', 'MS',\n",
              "       'TN', 'IA', 'NE', 'ID', 'IN', 'ME', 'ND'], dtype=object)"
            ]
          },
          "metadata": {
            "tags": []
          },
          "execution_count": 128
        }
      ]
    },
    {
      "cell_type": "code",
      "metadata": {
        "id": "lqqeA925Y4SV",
        "colab_type": "code",
        "colab": {}
      },
      "source": [
        "# Make a list with each of the regions by state.\n",
        "\n",
        "west = ['CA', 'OR', 'UT','WA', 'CO', 'NV', 'AK', 'MT', 'HI', 'WY', 'ID'] #all western states\n",
        "south_west = ['AZ', 'TX', 'NM', 'OK'] #all south western states\n",
        "south_east = ['GA', 'NC', 'VA', 'FL', 'KY', 'SC', 'LA', 'AL', 'WV', 'DC', 'AR', 'DE', 'MS', 'TN' ] #all south eastern states\n",
        "mid_west = ['IL', 'MO', 'MN', 'OH', 'WI', 'KS', 'MI', 'SD', 'IA', 'NE', 'IN', 'ND'] #all mid western states\n",
        "north_east = ['CT', 'NY', 'PA', 'NJ', 'RI','MA', 'MD', 'VT', 'NH', 'ME'] #all north eastern states"
      ],
      "execution_count": 0,
      "outputs": []
    },
    {
      "cell_type": "code",
      "metadata": {
        "id": "bs-N3l0DY6Tr",
        "colab_type": "code",
        "colab": {}
      },
      "source": [
        "df['region'] = np.nan #creating new column region with all nan values\n",
        "def finding_regions(state): #creating fuction to recode states into region\n",
        "    if state in west:\n",
        "        return 'West'\n",
        "    elif state in south_west:\n",
        "        return 'SouthWest'\n",
        "    elif state in south_east:\n",
        "        return 'SouthEast'\n",
        "    elif state in mid_west:\n",
        "        return 'MidWest'\n",
        "    elif state in north_east:\n",
        "        return 'NorthEast'\n",
        "    \n",
        "df['region'] = df['addr_state'].apply(finding_regions) #apply function to the new column"
      ],
      "execution_count": 0,
      "outputs": []
    },
    {
      "cell_type": "code",
      "metadata": {
        "id": "uOs2q6o9Y873",
        "colab_type": "code",
        "colab": {
          "base_uri": "https://localhost:8080/",
          "height": 141
        },
        "outputId": "94354d04-e8ae-4928-db62-55d7acb4e6e5"
      },
      "source": [
        "#Calculate the charge-off rates by region:\n",
        "df.groupby('region')['loan_status'].value_counts(normalize=True).loc[:,1].sort_values()"
      ],
      "execution_count": 132,
      "outputs": [
        {
          "output_type": "execute_result",
          "data": {
            "text/plain": [
              "region\n",
              "SouthWest    0.152141\n",
              "West         0.152801\n",
              "MidWest      0.153492\n",
              "NorthEast    0.158823\n",
              "SouthEast    0.164648\n",
              "Name: loan_status, dtype: float64"
            ]
          },
          "metadata": {
            "tags": []
          },
          "execution_count": 132
        }
      ]
    },
    {
      "cell_type": "markdown",
      "metadata": {
        "id": "ULGE1J_iZCJd",
        "colab_type": "text"
      },
      "source": [
        "It is almost similar by region. Let's see the same by state:"
      ]
    },
    {
      "cell_type": "code",
      "metadata": {
        "id": "kQcQDFi7Y_Fi",
        "colab_type": "code",
        "colab": {
          "base_uri": "https://localhost:8080/",
          "height": 959
        },
        "outputId": "e51e4486-fb98-42a5-a586-3b77c5612072"
      },
      "source": [
        "#Calculate the charge-off rates by state:\n",
        "df.groupby('addr_state')['loan_status'].value_counts(normalize=True).loc[:,1].sort_values()"
      ],
      "execution_count": 134,
      "outputs": [
        {
          "output_type": "execute_result",
          "data": {
            "text/plain": [
              "addr_state\n",
              "ME    0.082237\n",
              "DC    0.096362\n",
              "WV    0.116258\n",
              "NH    0.118514\n",
              "WY    0.118954\n",
              "VT    0.123103\n",
              "CO    0.126932\n",
              "MT    0.127706\n",
              "SC    0.130946\n",
              "OR    0.133691\n",
              "KS    0.134059\n",
              "AK    0.136580\n",
              "IL    0.139573\n",
              "CT    0.141126\n",
              "RI    0.141319\n",
              "MA    0.144735\n",
              "DE    0.145494\n",
              "WA    0.145745\n",
              "TX    0.146376\n",
              "UT    0.149084\n",
              "WI    0.149089\n",
              "ID    0.150538\n",
              "ND    0.151261\n",
              "GA    0.151279\n",
              "MN    0.151411\n",
              "OH    0.156154\n",
              "CA    0.156611\n",
              "PA    0.156890\n",
              "AZ    0.158704\n",
              "VA    0.160294\n",
              "NM    0.162592\n",
              "MD    0.162911\n",
              "KY    0.163037\n",
              "SD    0.163235\n",
              "MO    0.163243\n",
              "NC    0.164564\n",
              "MI    0.165060\n",
              "NY    0.165518\n",
              "HI    0.167688\n",
              "NJ    0.169801\n",
              "LA    0.171275\n",
              "NE    0.171846\n",
              "IN    0.172364\n",
              "AR    0.173739\n",
              "TN    0.174778\n",
              "AL    0.177056\n",
              "FL    0.177601\n",
              "OK    0.180272\n",
              "NV    0.185714\n",
              "MS    0.192806\n",
              "IA    0.230769\n",
              "Name: loan_status, dtype: float64"
            ]
          },
          "metadata": {
            "tags": []
          },
          "execution_count": 134
        }
      ]
    },
    {
      "cell_type": "markdown",
      "metadata": {
        "id": "2SEh-OgiZIBg",
        "colab_type": "text"
      },
      "source": [
        "The payment plan column (pymnt_plan) has two unique values, 'y' and 'n', with 'y' occurring only 30 times compared to 334232. Let’s drop this column."
      ]
    },
    {
      "cell_type": "markdown",
      "metadata": {
        "id": "fqGbJbcNZJwB",
        "colab_type": "text"
      },
      "source": [
        "## 5.9 dti"
      ]
    },
    {
      "cell_type": "code",
      "metadata": {
        "id": "1TUoF1cUZE64",
        "colab_type": "code",
        "colab": {
          "base_uri": "https://localhost:8080/",
          "height": 177
        },
        "outputId": "8fabeded-75d4-4f2f-e616-57015c596978"
      },
      "source": [
        "df['dti'].describe()"
      ],
      "execution_count": 135,
      "outputs": [
        {
          "output_type": "execute_result",
          "data": {
            "text/plain": [
              "count    334234.000000\n",
              "mean          0.001712\n",
              "std           0.000909\n",
              "min           0.000000\n",
              "25%           0.001121\n",
              "50%           0.001677\n",
              "75%           0.002265\n",
              "max           0.099900\n",
              "Name: dti, dtype: float64"
            ]
          },
          "metadata": {
            "tags": []
          },
          "execution_count": 135
        }
      ]
    },
    {
      "cell_type": "code",
      "metadata": {
        "id": "po8LbzpRZL0J",
        "colab_type": "code",
        "colab": {
          "base_uri": "https://localhost:8080/",
          "height": 315
        },
        "outputId": "3585a718-e5bd-4d62-b8ce-211c27b52873"
      },
      "source": [
        "plt.figure(figsize=(8,3), dpi=90)\n",
        "sns.distplot(df.loc[df['dti'].notnull() & (df['dti']<60), 'dti'], kde=False)\n",
        "plt.xlabel('Debt-to-income Ratio')\n",
        "plt.ylabel('Count')\n",
        "plt.title('Debt-to-income Ratio')"
      ],
      "execution_count": 136,
      "outputs": [
        {
          "output_type": "execute_result",
          "data": {
            "text/plain": [
              "Text(0.5, 1.0, 'Debt-to-income Ratio')"
            ]
          },
          "metadata": {
            "tags": []
          },
          "execution_count": 136
        },
        {
          "output_type": "display_data",
          "data": {
            "image/png": "[encoded data removed]",
            "text/plain": [
              "<Figure size 720x270 with 1 Axes>"
            ]
          },
          "metadata": {
            "tags": [],
            "needs_background": "light"
          }
        }
      ]
    },
    {
      "cell_type": "code",
      "metadata": {
        "id": "ughlKvZPZOLq",
        "colab_type": "code",
        "colab": {
          "base_uri": "https://localhost:8080/",
          "height": 139
        },
        "outputId": "ddb8b142-8e37-4035-da3b-74eee9fbe588"
      },
      "source": [
        "df.groupby('loan_status')['dti'].describe()"
      ],
      "execution_count": 137,
      "outputs": [
        {
          "output_type": "execute_result",
          "data": {
            "text/html": [
              "<div>\n",
              "<style scoped>\n",
              "    .dataframe tbody tr th:only-of-type {\n",
              "        vertical-align: middle;\n",
              "    }\n",
              "\n",
              "    .dataframe tbody tr th {\n",
              "        vertical-align: top;\n",
              "    }\n",
              "\n",
              "    .dataframe thead th {\n",
              "        text-align: right;\n",
              "    }\n",
              "</style>\n",
              "<table border=\"1\" class=\"dataframe\">\n",
              "  <thead>\n",
              "    <tr style=\"text-align: right;\">\n",
              "      <th></th>\n",
              "      <th>count</th>\n",
              "      <th>mean</th>\n",
              "      <th>std</th>\n",
              "      <th>min</th>\n",
              "      <th>25%</th>\n",
              "      <th>50%</th>\n",
              "      <th>75%</th>\n",
              "      <th>max</th>\n",
              "    </tr>\n",
              "    <tr>\n",
              "      <th>loan_status</th>\n",
              "      <th></th>\n",
              "      <th></th>\n",
              "      <th></th>\n",
              "      <th></th>\n",
              "      <th></th>\n",
              "      <th></th>\n",
              "      <th></th>\n",
              "      <th></th>\n",
              "    </tr>\n",
              "  </thead>\n",
              "  <tbody>\n",
              "    <tr>\n",
              "      <th>0</th>\n",
              "      <td>281744.0</td>\n",
              "      <td>0.001686</td>\n",
              "      <td>0.000845</td>\n",
              "      <td>0.0</td>\n",
              "      <td>0.001098</td>\n",
              "      <td>0.001647</td>\n",
              "      <td>0.002237</td>\n",
              "      <td>0.0999</td>\n",
              "    </tr>\n",
              "    <tr>\n",
              "      <th>1</th>\n",
              "      <td>52490.0</td>\n",
              "      <td>0.001849</td>\n",
              "      <td>0.001188</td>\n",
              "      <td>0.0</td>\n",
              "      <td>0.001262</td>\n",
              "      <td>0.001836</td>\n",
              "      <td>0.002408</td>\n",
              "      <td>0.0999</td>\n",
              "    </tr>\n",
              "  </tbody>\n",
              "</table>\n",
              "</div>"
            ],
            "text/plain": [
              "                count      mean       std  ...       50%       75%     max\n",
              "loan_status                                ...                            \n",
              "0            281744.0  0.001686  0.000845  ...  0.001647  0.002237  0.0999\n",
              "1             52490.0  0.001849  0.001188  ...  0.001836  0.002408  0.0999\n",
              "\n",
              "[2 rows x 8 columns]"
            ]
          },
          "metadata": {
            "tags": []
          },
          "execution_count": 137
        }
      ]
    },
    {
      "cell_type": "markdown",
      "metadata": {
        "id": "M6-04_pxZWI8",
        "colab_type": "text"
      },
      "source": [
        "## 5.10 delinq_2yrs :\n",
        "The number of 30+ days past-due incidences of delinquency in the borrower's credit file for the past 2 years"
      ]
    },
    {
      "cell_type": "code",
      "metadata": {
        "id": "0tk0KNYuZQpV",
        "colab_type": "code",
        "colab": {
          "base_uri": "https://localhost:8080/",
          "height": 139
        },
        "outputId": "1126ebac-f917-4a58-8b25-d1aa759883a9"
      },
      "source": [
        "df.groupby('loan_status')['delinq_2yrs'].describe()"
      ],
      "execution_count": 139,
      "outputs": [
        {
          "output_type": "execute_result",
          "data": {
            "text/html": [
              "<div>\n",
              "<style scoped>\n",
              "    .dataframe tbody tr th:only-of-type {\n",
              "        vertical-align: middle;\n",
              "    }\n",
              "\n",
              "    .dataframe tbody tr th {\n",
              "        vertical-align: top;\n",
              "    }\n",
              "\n",
              "    .dataframe thead th {\n",
              "        text-align: right;\n",
              "    }\n",
              "</style>\n",
              "<table border=\"1\" class=\"dataframe\">\n",
              "  <thead>\n",
              "    <tr style=\"text-align: right;\">\n",
              "      <th></th>\n",
              "      <th>count</th>\n",
              "      <th>mean</th>\n",
              "      <th>std</th>\n",
              "      <th>min</th>\n",
              "      <th>25%</th>\n",
              "      <th>50%</th>\n",
              "      <th>75%</th>\n",
              "      <th>max</th>\n",
              "    </tr>\n",
              "    <tr>\n",
              "      <th>loan_status</th>\n",
              "      <th></th>\n",
              "      <th></th>\n",
              "      <th></th>\n",
              "      <th></th>\n",
              "      <th></th>\n",
              "      <th></th>\n",
              "      <th></th>\n",
              "      <th></th>\n",
              "    </tr>\n",
              "  </thead>\n",
              "  <tbody>\n",
              "    <tr>\n",
              "      <th>0</th>\n",
              "      <td>281742.0</td>\n",
              "      <td>0.264259</td>\n",
              "      <td>0.767969</td>\n",
              "      <td>0.0</td>\n",
              "      <td>0.0</td>\n",
              "      <td>0.0</td>\n",
              "      <td>0.0</td>\n",
              "      <td>29.0</td>\n",
              "    </tr>\n",
              "    <tr>\n",
              "      <th>1</th>\n",
              "      <td>52491.0</td>\n",
              "      <td>0.283058</td>\n",
              "      <td>0.811875</td>\n",
              "      <td>0.0</td>\n",
              "      <td>0.0</td>\n",
              "      <td>0.0</td>\n",
              "      <td>0.0</td>\n",
              "      <td>18.0</td>\n",
              "    </tr>\n",
              "  </tbody>\n",
              "</table>\n",
              "</div>"
            ],
            "text/plain": [
              "                count      mean       std  min  25%  50%  75%   max\n",
              "loan_status                                                        \n",
              "0            281742.0  0.264259  0.767969  0.0  0.0  0.0  0.0  29.0\n",
              "1             52491.0  0.283058  0.811875  0.0  0.0  0.0  0.0  18.0"
            ]
          },
          "metadata": {
            "tags": []
          },
          "execution_count": 139
        }
      ]
    },
    {
      "cell_type": "markdown",
      "metadata": {
        "id": "n73wxUO9ZasY",
        "colab_type": "text"
      },
      "source": [
        "It does not tell us much as mean values for both status are same. Also, it is showing contradictory results that people who have more 30+ days past due incidences are more likely to fully pay the loan. Therefore, dropping it."
      ]
    },
    {
      "cell_type": "code",
      "metadata": {
        "id": "mOqFI2kTZUzM",
        "colab_type": "code",
        "colab": {}
      },
      "source": [
        "df = df.drop(['delinq_2yrs'],axis=1)"
      ],
      "execution_count": 0,
      "outputs": []
    },
    {
      "cell_type": "code",
      "metadata": {
        "id": "Q7ferbqEZes-",
        "colab_type": "code",
        "colab": {
          "base_uri": "https://localhost:8080/",
          "height": 159
        },
        "outputId": "49df9976-1af9-45eb-c680-f3e19e9921a6"
      },
      "source": [
        "df.columns"
      ],
      "execution_count": 141,
      "outputs": [
        {
          "output_type": "execute_result",
          "data": {
            "text/plain": [
              "Index(['loan_amnt', 'term', 'installment', 'emp_length', 'home_ownership',\n",
              "       'verification_status', 'loan_status', 'addr_state', 'dti', 'open_acc',\n",
              "       'pub_rec', 'revol_bal', 'revol_util', 'total_acc',\n",
              "       'initial_list_status', 'application_type', 'acc_now_delinq',\n",
              "       'tot_coll_amt', 'tot_cur_bal', 'mort_acc', 'pub_rec_bankruptcies',\n",
              "       'purpose_n', 'earliest_cr_line_n', 'fico_avg', 'last_fico_avf',\n",
              "       'log_annual_inc', 'region'],\n",
              "      dtype='object')"
            ]
          },
          "metadata": {
            "tags": []
          },
          "execution_count": 141
        }
      ]
    },
    {
      "cell_type": "markdown",
      "metadata": {
        "id": "95uiLSQeZieS",
        "colab_type": "text"
      },
      "source": [
        "## 5.11 open_acc"
      ]
    },
    {
      "cell_type": "code",
      "metadata": {
        "id": "d1o6jnpLZgsb",
        "colab_type": "code",
        "colab": {
          "base_uri": "https://localhost:8080/",
          "height": 315
        },
        "outputId": "8e87e656-a35e-4832-9267-f108772fd3e2"
      },
      "source": [
        "plt.figure(figsize=(10,3), dpi=90)\n",
        "sns.countplot(df['open_acc'], order=sorted(df['open_acc'].unique()), color='#5975A4', saturation=1)\n",
        "_, _ = plt.xticks(np.arange(0, 90, 5), np.arange(0, 90, 5))\n",
        "plt.title('Number of Open Credit Lines')"
      ],
      "execution_count": 142,
      "outputs": [
        {
          "output_type": "execute_result",
          "data": {
            "text/plain": [
              "Text(0.5, 1.0, 'Number of Open Credit Lines')"
            ]
          },
          "metadata": {
            "tags": []
          },
          "execution_count": 142
        },
        {
          "output_type": "display_data",
          "data": {
            "image/png": "[encoded data removed]",
            "text/plain": [
              "<Figure size 900x270 with 1 Axes>"
            ]
          },
          "metadata": {
            "tags": [],
            "needs_background": "light"
          }
        }
      ]
    },
    {
      "cell_type": "code",
      "metadata": {
        "id": "nPDbU7LxZlJD",
        "colab_type": "code",
        "colab": {
          "base_uri": "https://localhost:8080/",
          "height": 139
        },
        "outputId": "acef0a56-5203-42ac-f6c9-a147dbe1275f"
      },
      "source": [
        "#let's see the difference in number of credit lines between fully paid loans and charged-off loans\n",
        "df.groupby('loan_status')['open_acc'].describe()"
      ],
      "execution_count": 143,
      "outputs": [
        {
          "output_type": "execute_result",
          "data": {
            "text/html": [
              "<div>\n",
              "<style scoped>\n",
              "    .dataframe tbody tr th:only-of-type {\n",
              "        vertical-align: middle;\n",
              "    }\n",
              "\n",
              "    .dataframe tbody tr th {\n",
              "        vertical-align: top;\n",
              "    }\n",
              "\n",
              "    .dataframe thead th {\n",
              "        text-align: right;\n",
              "    }\n",
              "</style>\n",
              "<table border=\"1\" class=\"dataframe\">\n",
              "  <thead>\n",
              "    <tr style=\"text-align: right;\">\n",
              "      <th></th>\n",
              "      <th>count</th>\n",
              "      <th>mean</th>\n",
              "      <th>std</th>\n",
              "      <th>min</th>\n",
              "      <th>25%</th>\n",
              "      <th>50%</th>\n",
              "      <th>75%</th>\n",
              "      <th>max</th>\n",
              "    </tr>\n",
              "    <tr>\n",
              "      <th>loan_status</th>\n",
              "      <th></th>\n",
              "      <th></th>\n",
              "      <th></th>\n",
              "      <th></th>\n",
              "      <th></th>\n",
              "      <th></th>\n",
              "      <th></th>\n",
              "      <th></th>\n",
              "    </tr>\n",
              "  </thead>\n",
              "  <tbody>\n",
              "    <tr>\n",
              "      <th>0</th>\n",
              "      <td>281742.0</td>\n",
              "      <td>10.987907</td>\n",
              "      <td>5.025241</td>\n",
              "      <td>0.0</td>\n",
              "      <td>7.0</td>\n",
              "      <td>10.0</td>\n",
              "      <td>14.0</td>\n",
              "      <td>97.0</td>\n",
              "    </tr>\n",
              "    <tr>\n",
              "      <th>1</th>\n",
              "      <td>52491.0</td>\n",
              "      <td>11.163647</td>\n",
              "      <td>5.088256</td>\n",
              "      <td>0.0</td>\n",
              "      <td>8.0</td>\n",
              "      <td>10.0</td>\n",
              "      <td>14.0</td>\n",
              "      <td>64.0</td>\n",
              "    </tr>\n",
              "  </tbody>\n",
              "</table>\n",
              "</div>"
            ],
            "text/plain": [
              "                count       mean       std  min  25%   50%   75%   max\n",
              "loan_status                                                           \n",
              "0            281742.0  10.987907  5.025241  0.0  7.0  10.0  14.0  97.0\n",
              "1             52491.0  11.163647  5.088256  0.0  8.0  10.0  14.0  64.0"
            ]
          },
          "metadata": {
            "tags": []
          },
          "execution_count": 143
        }
      ]
    },
    {
      "cell_type": "markdown",
      "metadata": {
        "id": "-ve3XxUNZos7",
        "colab_type": "text"
      },
      "source": [
        "not much difference"
      ]
    },
    {
      "cell_type": "markdown",
      "metadata": {
        "id": "ho2SdntJZqUi",
        "colab_type": "text"
      },
      "source": [
        "## 5.12 pub_rec"
      ]
    },
    {
      "cell_type": "code",
      "metadata": {
        "id": "p94xMBwWZnE6",
        "colab_type": "code",
        "colab": {
          "base_uri": "https://localhost:8080/",
          "height": 408
        },
        "outputId": "a57f79fb-a361-4fe0-ead0-4db24a7ed4f5"
      },
      "source": [
        "df['pub_rec'].value_counts().sort_index()"
      ],
      "execution_count": 144,
      "outputs": [
        {
          "output_type": "execute_result",
          "data": {
            "text/plain": [
              "0.0     293303\n",
              "1.0      35205\n",
              "2.0       3805\n",
              "3.0       1093\n",
              "4.0        431\n",
              "5.0        180\n",
              "6.0         97\n",
              "7.0         48\n",
              "8.0         28\n",
              "9.0         10\n",
              "10.0        10\n",
              "11.0         8\n",
              "12.0         2\n",
              "13.0         5\n",
              "14.0         2\n",
              "16.0         1\n",
              "17.0         1\n",
              "19.0         1\n",
              "24.0         1\n",
              "49.0         1\n",
              "54.0         1\n",
              "Name: pub_rec, dtype: int64"
            ]
          },
          "metadata": {
            "tags": []
          },
          "execution_count": 144
        }
      ]
    },
    {
      "cell_type": "markdown",
      "metadata": {
        "id": "ANJn8YWLZuYq",
        "colab_type": "text"
      },
      "source": [
        "let's see the difference in average public records between fully paid loans and charged-off loans"
      ]
    },
    {
      "cell_type": "code",
      "metadata": {
        "id": "H843RpZvZsRn",
        "colab_type": "code",
        "colab": {
          "base_uri": "https://localhost:8080/",
          "height": 139
        },
        "outputId": "f199c9db-2779-4890-a6e3-17281d8fb6e3"
      },
      "source": [
        "df.groupby('loan_status')['pub_rec'].describe()"
      ],
      "execution_count": 145,
      "outputs": [
        {
          "output_type": "execute_result",
          "data": {
            "text/html": [
              "<div>\n",
              "<style scoped>\n",
              "    .dataframe tbody tr th:only-of-type {\n",
              "        vertical-align: middle;\n",
              "    }\n",
              "\n",
              "    .dataframe tbody tr th {\n",
              "        vertical-align: top;\n",
              "    }\n",
              "\n",
              "    .dataframe thead th {\n",
              "        text-align: right;\n",
              "    }\n",
              "</style>\n",
              "<table border=\"1\" class=\"dataframe\">\n",
              "  <thead>\n",
              "    <tr style=\"text-align: right;\">\n",
              "      <th></th>\n",
              "      <th>count</th>\n",
              "      <th>mean</th>\n",
              "      <th>std</th>\n",
              "      <th>min</th>\n",
              "      <th>25%</th>\n",
              "      <th>50%</th>\n",
              "      <th>75%</th>\n",
              "      <th>max</th>\n",
              "    </tr>\n",
              "    <tr>\n",
              "      <th>loan_status</th>\n",
              "      <th></th>\n",
              "      <th></th>\n",
              "      <th></th>\n",
              "      <th></th>\n",
              "      <th></th>\n",
              "      <th></th>\n",
              "      <th></th>\n",
              "      <th></th>\n",
              "    </tr>\n",
              "  </thead>\n",
              "  <tbody>\n",
              "    <tr>\n",
              "      <th>0</th>\n",
              "      <td>281742.0</td>\n",
              "      <td>0.147479</td>\n",
              "      <td>0.499325</td>\n",
              "      <td>0.0</td>\n",
              "      <td>0.0</td>\n",
              "      <td>0.0</td>\n",
              "      <td>0.0</td>\n",
              "      <td>54.0</td>\n",
              "    </tr>\n",
              "    <tr>\n",
              "      <th>1</th>\n",
              "      <td>52491.0</td>\n",
              "      <td>0.169229</td>\n",
              "      <td>0.488382</td>\n",
              "      <td>0.0</td>\n",
              "      <td>0.0</td>\n",
              "      <td>0.0</td>\n",
              "      <td>0.0</td>\n",
              "      <td>13.0</td>\n",
              "    </tr>\n",
              "  </tbody>\n",
              "</table>\n",
              "</div>"
            ],
            "text/plain": [
              "                count      mean       std  min  25%  50%  75%   max\n",
              "loan_status                                                        \n",
              "0            281742.0  0.147479  0.499325  0.0  0.0  0.0  0.0  54.0\n",
              "1             52491.0  0.169229  0.488382  0.0  0.0  0.0  0.0  13.0"
            ]
          },
          "metadata": {
            "tags": []
          },
          "execution_count": 145
        }
      ]
    },
    {
      "cell_type": "markdown",
      "metadata": {
        "id": "a99eF1bMZyrT",
        "colab_type": "text"
      },
      "source": [
        "Not much difference"
      ]
    },
    {
      "cell_type": "markdown",
      "metadata": {
        "id": "4KT2der6Z0gj",
        "colab_type": "text"
      },
      "source": [
        "## 5.13 revol_bal"
      ]
    },
    {
      "cell_type": "code",
      "metadata": {
        "id": "dFBY4DpwZwc2",
        "colab_type": "code",
        "colab": {
          "base_uri": "https://localhost:8080/",
          "height": 177
        },
        "outputId": "213099cc-1559-4cbd-ed48-0ff49d51b3a9"
      },
      "source": [
        "df['revol_bal'].describe()"
      ],
      "execution_count": 146,
      "outputs": [
        {
          "output_type": "execute_result",
          "data": {
            "text/plain": [
              "count    3.342620e+05\n",
              "mean     1.607664e+04\n",
              "std      2.075735e+04\n",
              "min      0.000000e+00\n",
              "25%      6.302000e+03\n",
              "50%      1.153800e+04\n",
              "75%      1.993000e+04\n",
              "max      2.568995e+06\n",
              "Name: revol_bal, dtype: float64"
            ]
          },
          "metadata": {
            "tags": []
          },
          "execution_count": 146
        }
      ]
    },
    {
      "cell_type": "code",
      "metadata": {
        "id": "K5v0My3oZ2xj",
        "colab_type": "code",
        "colab": {}
      },
      "source": [
        "#doing log transform\n",
        "df['revol_bal'] = df['revol_bal'].apply(lambda x: np.log10(x+1))"
      ],
      "execution_count": 0,
      "outputs": []
    },
    {
      "cell_type": "code",
      "metadata": {
        "id": "dORXtojXZ5LZ",
        "colab_type": "code",
        "colab": {
          "base_uri": "https://localhost:8080/",
          "height": 139
        },
        "outputId": "db201f1c-93ad-4ded-ff11-13c8f86b310a"
      },
      "source": [
        "df.groupby('loan_status')['revol_bal'].describe()"
      ],
      "execution_count": 148,
      "outputs": [
        {
          "output_type": "execute_result",
          "data": {
            "text/html": [
              "<div>\n",
              "<style scoped>\n",
              "    .dataframe tbody tr th:only-of-type {\n",
              "        vertical-align: middle;\n",
              "    }\n",
              "\n",
              "    .dataframe tbody tr th {\n",
              "        vertical-align: top;\n",
              "    }\n",
              "\n",
              "    .dataframe thead th {\n",
              "        text-align: right;\n",
              "    }\n",
              "</style>\n",
              "<table border=\"1\" class=\"dataframe\">\n",
              "  <thead>\n",
              "    <tr style=\"text-align: right;\">\n",
              "      <th></th>\n",
              "      <th>count</th>\n",
              "      <th>mean</th>\n",
              "      <th>std</th>\n",
              "      <th>min</th>\n",
              "      <th>25%</th>\n",
              "      <th>50%</th>\n",
              "      <th>75%</th>\n",
              "      <th>max</th>\n",
              "    </tr>\n",
              "    <tr>\n",
              "      <th>loan_status</th>\n",
              "      <th></th>\n",
              "      <th></th>\n",
              "      <th></th>\n",
              "      <th></th>\n",
              "      <th></th>\n",
              "      <th></th>\n",
              "      <th></th>\n",
              "      <th></th>\n",
              "    </tr>\n",
              "  </thead>\n",
              "  <tbody>\n",
              "    <tr>\n",
              "      <th>0</th>\n",
              "      <td>281768.0</td>\n",
              "      <td>3.998152</td>\n",
              "      <td>0.548212</td>\n",
              "      <td>0.0</td>\n",
              "      <td>3.798582</td>\n",
              "      <td>4.062206</td>\n",
              "      <td>4.302461</td>\n",
              "      <td>6.409763</td>\n",
              "    </tr>\n",
              "    <tr>\n",
              "      <th>1</th>\n",
              "      <td>52494.0</td>\n",
              "      <td>3.992769</td>\n",
              "      <td>0.532393</td>\n",
              "      <td>0.0</td>\n",
              "      <td>3.805790</td>\n",
              "      <td>4.061923</td>\n",
              "      <td>4.283861</td>\n",
              "      <td>6.242223</td>\n",
              "    </tr>\n",
              "  </tbody>\n",
              "</table>\n",
              "</div>"
            ],
            "text/plain": [
              "                count      mean       std  ...       50%       75%       max\n",
              "loan_status                                ...                              \n",
              "0            281768.0  3.998152  0.548212  ...  4.062206  4.302461  6.409763\n",
              "1             52494.0  3.992769  0.532393  ...  4.061923  4.283861  6.242223\n",
              "\n",
              "[2 rows x 8 columns]"
            ]
          },
          "metadata": {
            "tags": []
          },
          "execution_count": 148
        }
      ]
    },
    {
      "cell_type": "markdown",
      "metadata": {
        "id": "eRiIZmEkZ8yX",
        "colab_type": "text"
      },
      "source": [
        "not much different in means"
      ]
    },
    {
      "cell_type": "markdown",
      "metadata": {
        "id": "KOGxTABjZ-u8",
        "colab_type": "text"
      },
      "source": [
        "## 5.14 revol_util\n",
        "\n",
        "Revolving line utilization rate, or the amount of credit the borrower is using relative to all available revolving credit."
      ]
    },
    {
      "cell_type": "code",
      "metadata": {
        "id": "TkWUVn6iZ68g",
        "colab_type": "code",
        "colab": {
          "base_uri": "https://localhost:8080/",
          "height": 124
        },
        "outputId": "f8f18b17-2828-43a0-c303-f1534c0603e3"
      },
      "source": [
        "df['revol_util'].head()"
      ],
      "execution_count": 149,
      "outputs": [
        {
          "output_type": "execute_result",
          "data": {
            "text/plain": [
              "0    83.70%\n",
              "1     9.40%\n",
              "2    98.50%\n",
              "3       21%\n",
              "4    53.90%\n",
              "Name: revol_util, dtype: object"
            ]
          },
          "metadata": {
            "tags": []
          },
          "execution_count": 149
        }
      ]
    },
    {
      "cell_type": "code",
      "metadata": {
        "id": "88qNYHbtaA2W",
        "colab_type": "code",
        "colab": {}
      },
      "source": [
        "#We see that term, emp_length, revol_util columns contains numeric values, but is formatted as object. \n",
        "df['revol_util'] = df['revol_util'].str.rstrip('%').astype('float') #stripping the % symbol and converting the type to \"Float\""
      ],
      "execution_count": 0,
      "outputs": []
    },
    {
      "cell_type": "code",
      "metadata": {
        "id": "jt8HGoB2aDRX",
        "colab_type": "code",
        "colab": {
          "base_uri": "https://localhost:8080/",
          "height": 177
        },
        "outputId": "69d5d8f6-8737-4433-c913-245c0e54f80f"
      },
      "source": [
        "df['revol_util'].describe()"
      ],
      "execution_count": 151,
      "outputs": [
        {
          "output_type": "execute_result",
          "data": {
            "text/plain": [
              "count    333964.000000\n",
              "mean         54.726757\n",
              "std          24.461582\n",
              "min           0.000000\n",
              "25%          36.900000\n",
              "50%          56.200000\n",
              "75%          74.100000\n",
              "max         162.000000\n",
              "Name: revol_util, dtype: float64"
            ]
          },
          "metadata": {
            "tags": []
          },
          "execution_count": 151
        }
      ]
    },
    {
      "cell_type": "code",
      "metadata": {
        "id": "_v8sIxD2aE7j",
        "colab_type": "code",
        "colab": {
          "base_uri": "https://localhost:8080/",
          "height": 139
        },
        "outputId": "60627cb9-e620-4753-e699-833dd12ee8e1"
      },
      "source": [
        "df.groupby('loan_status')['revol_util'].describe()"
      ],
      "execution_count": 152,
      "outputs": [
        {
          "output_type": "execute_result",
          "data": {
            "text/html": [
              "<div>\n",
              "<style scoped>\n",
              "    .dataframe tbody tr th:only-of-type {\n",
              "        vertical-align: middle;\n",
              "    }\n",
              "\n",
              "    .dataframe tbody tr th {\n",
              "        vertical-align: top;\n",
              "    }\n",
              "\n",
              "    .dataframe thead th {\n",
              "        text-align: right;\n",
              "    }\n",
              "</style>\n",
              "<table border=\"1\" class=\"dataframe\">\n",
              "  <thead>\n",
              "    <tr style=\"text-align: right;\">\n",
              "      <th></th>\n",
              "      <th>count</th>\n",
              "      <th>mean</th>\n",
              "      <th>std</th>\n",
              "      <th>min</th>\n",
              "      <th>25%</th>\n",
              "      <th>50%</th>\n",
              "      <th>75%</th>\n",
              "      <th>max</th>\n",
              "    </tr>\n",
              "    <tr>\n",
              "      <th>loan_status</th>\n",
              "      <th></th>\n",
              "      <th></th>\n",
              "      <th></th>\n",
              "      <th></th>\n",
              "      <th></th>\n",
              "      <th></th>\n",
              "      <th></th>\n",
              "      <th></th>\n",
              "    </tr>\n",
              "  </thead>\n",
              "  <tbody>\n",
              "    <tr>\n",
              "      <th>0</th>\n",
              "      <td>281523.0</td>\n",
              "      <td>54.114541</td>\n",
              "      <td>24.562150</td>\n",
              "      <td>0.0</td>\n",
              "      <td>36.1</td>\n",
              "      <td>55.5</td>\n",
              "      <td>73.6</td>\n",
              "      <td>140.4</td>\n",
              "    </tr>\n",
              "    <tr>\n",
              "      <th>1</th>\n",
              "      <td>52441.0</td>\n",
              "      <td>58.013363</td>\n",
              "      <td>23.645265</td>\n",
              "      <td>0.0</td>\n",
              "      <td>41.3</td>\n",
              "      <td>59.9</td>\n",
              "      <td>76.7</td>\n",
              "      <td>162.0</td>\n",
              "    </tr>\n",
              "  </tbody>\n",
              "</table>\n",
              "</div>"
            ],
            "text/plain": [
              "                count       mean        std  min   25%   50%   75%    max\n",
              "loan_status                                                              \n",
              "0            281523.0  54.114541  24.562150  0.0  36.1  55.5  73.6  140.4\n",
              "1             52441.0  58.013363  23.645265  0.0  41.3  59.9  76.7  162.0"
            ]
          },
          "metadata": {
            "tags": []
          },
          "execution_count": 152
        }
      ]
    },
    {
      "cell_type": "markdown",
      "metadata": {
        "id": "BexzGW0iaJMf",
        "colab_type": "text"
      },
      "source": [
        "People with higher Revolving line utilization rate are more likely to charge off"
      ]
    },
    {
      "cell_type": "markdown",
      "metadata": {
        "id": "EjiZtMSEaK90",
        "colab_type": "text"
      },
      "source": [
        "## 5.15 total_acc"
      ]
    },
    {
      "cell_type": "code",
      "metadata": {
        "id": "V-Wjyfn6aGhO",
        "colab_type": "code",
        "colab": {
          "base_uri": "https://localhost:8080/",
          "height": 315
        },
        "outputId": "2950778a-61b4-4532-f77c-24b3097af00b"
      },
      "source": [
        "plt.figure(figsize=(12,3), dpi=90)\n",
        "sns.countplot(df['total_acc'], order=sorted(df['total_acc'].unique()), color='#5975A4', saturation=1)\n",
        "_, _ = plt.xticks(np.arange(0, 176, 10), np.arange(0, 176, 10))\n",
        "plt.title('Total Number of Credit Lines')"
      ],
      "execution_count": 153,
      "outputs": [
        {
          "output_type": "execute_result",
          "data": {
            "text/plain": [
              "Text(0.5, 1.0, 'Total Number of Credit Lines')"
            ]
          },
          "metadata": {
            "tags": []
          },
          "execution_count": 153
        },
        {
          "output_type": "display_data",
          "data": {
            "image/png": "[encoded data removed]",
            "text/plain": [
              "<Figure size 1080x270 with 1 Axes>"
            ]
          },
          "metadata": {
            "tags": [],
            "needs_background": "light"
          }
        }
      ]
    },
    {
      "cell_type": "code",
      "metadata": {
        "id": "xjYfhvmFaNdU",
        "colab_type": "code",
        "colab": {
          "base_uri": "https://localhost:8080/",
          "height": 139
        },
        "outputId": "ea74e326-1a74-4a32-ee52-13accadb42a4"
      },
      "source": [
        "df.groupby('loan_status')['total_acc'].describe()"
      ],
      "execution_count": 154,
      "outputs": [
        {
          "output_type": "execute_result",
          "data": {
            "text/html": [
              "<div>\n",
              "<style scoped>\n",
              "    .dataframe tbody tr th:only-of-type {\n",
              "        vertical-align: middle;\n",
              "    }\n",
              "\n",
              "    .dataframe tbody tr th {\n",
              "        vertical-align: top;\n",
              "    }\n",
              "\n",
              "    .dataframe thead th {\n",
              "        text-align: right;\n",
              "    }\n",
              "</style>\n",
              "<table border=\"1\" class=\"dataframe\">\n",
              "  <thead>\n",
              "    <tr style=\"text-align: right;\">\n",
              "      <th></th>\n",
              "      <th>count</th>\n",
              "      <th>mean</th>\n",
              "      <th>std</th>\n",
              "      <th>min</th>\n",
              "      <th>25%</th>\n",
              "      <th>50%</th>\n",
              "      <th>75%</th>\n",
              "      <th>max</th>\n",
              "    </tr>\n",
              "    <tr>\n",
              "      <th>loan_status</th>\n",
              "      <th></th>\n",
              "      <th></th>\n",
              "      <th></th>\n",
              "      <th></th>\n",
              "      <th></th>\n",
              "      <th></th>\n",
              "      <th></th>\n",
              "      <th></th>\n",
              "    </tr>\n",
              "  </thead>\n",
              "  <tbody>\n",
              "    <tr>\n",
              "      <th>0</th>\n",
              "      <td>281742.0</td>\n",
              "      <td>24.116557</td>\n",
              "      <td>11.431599</td>\n",
              "      <td>1.0</td>\n",
              "      <td>16.0</td>\n",
              "      <td>23.0</td>\n",
              "      <td>31.0</td>\n",
              "      <td>137.0</td>\n",
              "    </tr>\n",
              "    <tr>\n",
              "      <th>1</th>\n",
              "      <td>52491.0</td>\n",
              "      <td>23.769522</td>\n",
              "      <td>11.430236</td>\n",
              "      <td>1.0</td>\n",
              "      <td>15.0</td>\n",
              "      <td>22.0</td>\n",
              "      <td>30.0</td>\n",
              "      <td>95.0</td>\n",
              "    </tr>\n",
              "  </tbody>\n",
              "</table>\n",
              "</div>"
            ],
            "text/plain": [
              "                count       mean        std  min   25%   50%   75%    max\n",
              "loan_status                                                              \n",
              "0            281742.0  24.116557  11.431599  1.0  16.0  23.0  31.0  137.0\n",
              "1             52491.0  23.769522  11.430236  1.0  15.0  22.0  30.0   95.0"
            ]
          },
          "metadata": {
            "tags": []
          },
          "execution_count": 154
        }
      ]
    },
    {
      "cell_type": "markdown",
      "metadata": {
        "id": "jUkcUZ85aVWG",
        "colab_type": "text"
      },
      "source": [
        "People with higher number of credit lines are more likely to fully pay."
      ]
    },
    {
      "cell_type": "markdown",
      "metadata": {
        "id": "3KAH6BWAaW2j",
        "colab_type": "text"
      },
      "source": [
        "## 5.16 initial_list_status"
      ]
    },
    {
      "cell_type": "code",
      "metadata": {
        "id": "iwy9zT6haPm2",
        "colab_type": "code",
        "colab": {}
      },
      "source": [
        "#not really sure what W, F means here. "
      ],
      "execution_count": 0,
      "outputs": []
    },
    {
      "cell_type": "markdown",
      "metadata": {
        "id": "dPeXJqu0aao-",
        "colab_type": "text"
      },
      "source": [
        "## 5.17 application_type"
      ]
    },
    {
      "cell_type": "code",
      "metadata": {
        "id": "rb3r_SwOaYo2",
        "colab_type": "code",
        "colab": {
          "base_uri": "https://localhost:8080/",
          "height": 70
        },
        "outputId": "0473c517-c378-447f-cffd-d103ef8d2ac2"
      },
      "source": [
        "df['application_type'].value_counts()"
      ],
      "execution_count": 156,
      "outputs": [
        {
          "output_type": "execute_result",
          "data": {
            "text/plain": [
              "Individual    330126\n",
              "Joint App       4136\n",
              "Name: application_type, dtype: int64"
            ]
          },
          "metadata": {
            "tags": []
          },
          "execution_count": 156
        }
      ]
    },
    {
      "cell_type": "code",
      "metadata": {
        "id": "RhtPDF9Pac1-",
        "colab_type": "code",
        "colab": {
          "base_uri": "https://localhost:8080/",
          "height": 88
        },
        "outputId": "a291f397-720b-4899-b721-0a3ebe2cbd9f"
      },
      "source": [
        "df.groupby('application_type')['loan_status'].value_counts(normalize=True).loc[:,1]"
      ],
      "execution_count": 158,
      "outputs": [
        {
          "output_type": "execute_result",
          "data": {
            "text/plain": [
              "application_type\n",
              "Individual    0.157055\n",
              "Joint App     0.156190\n",
              "Name: loan_status, dtype: float64"
            ]
          },
          "metadata": {
            "tags": []
          },
          "execution_count": 158
        }
      ]
    },
    {
      "cell_type": "markdown",
      "metadata": {
        "id": "TmycVWgsaiU_",
        "colab_type": "text"
      },
      "source": [
        "Not much difference. dropping this too. Individual are more likely to charge off but there are more individuals in dataset then joint applications"
      ]
    },
    {
      "cell_type": "markdown",
      "metadata": {
        "id": "d8DHn3KZak2v",
        "colab_type": "text"
      },
      "source": [
        "## 5.18 acc_now_delinq"
      ]
    },
    {
      "cell_type": "code",
      "metadata": {
        "id": "D6mrfn5Jaeg6",
        "colab_type": "code",
        "colab": {
          "base_uri": "https://localhost:8080/",
          "height": 124
        },
        "outputId": "e3172354-0c22-401f-cd6e-b6b92c9ae0a3"
      },
      "source": [
        "df['acc_now_delinq'].head()"
      ],
      "execution_count": 159,
      "outputs": [
        {
          "output_type": "execute_result",
          "data": {
            "text/plain": [
              "0    0.0\n",
              "1    0.0\n",
              "2    0.0\n",
              "3    0.0\n",
              "4    0.0\n",
              "Name: acc_now_delinq, dtype: float64"
            ]
          },
          "metadata": {
            "tags": []
          },
          "execution_count": 159
        }
      ]
    },
    {
      "cell_type": "code",
      "metadata": {
        "id": "PUEQiWZHamnY",
        "colab_type": "code",
        "colab": {
          "base_uri": "https://localhost:8080/",
          "height": 159
        },
        "outputId": "75061fa2-dee7-4a71-fd12-984b924afd7e"
      },
      "source": [
        "df['acc_now_delinq'].value_counts()"
      ],
      "execution_count": 160,
      "outputs": [
        {
          "output_type": "execute_result",
          "data": {
            "text/plain": [
              "0.0    333167\n",
              "1.0      1032\n",
              "2.0        51\n",
              "3.0         6\n",
              "4.0         3\n",
              "5.0         2\n",
              "6.0         1\n",
              "Name: acc_now_delinq, dtype: int64"
            ]
          },
          "metadata": {
            "tags": []
          },
          "execution_count": 160
        }
      ]
    },
    {
      "cell_type": "code",
      "metadata": {
        "id": "fIilZeWUaoR-",
        "colab_type": "code",
        "colab": {
          "base_uri": "https://localhost:8080/",
          "height": 141
        },
        "outputId": "df05fd89-acc2-40d2-eb08-e92b6a71d567"
      },
      "source": [
        "df.groupby('acc_now_delinq')['loan_status'].value_counts(normalize=True).loc[:,1]"
      ],
      "execution_count": 161,
      "outputs": [
        {
          "output_type": "execute_result",
          "data": {
            "text/plain": [
              "acc_now_delinq\n",
              "0.0    0.157017\n",
              "1.0    0.164729\n",
              "2.0    0.117647\n",
              "3.0    0.666667\n",
              "5.0    0.500000\n",
              "Name: loan_status, dtype: float64"
            ]
          },
          "metadata": {
            "tags": []
          },
          "execution_count": 161
        }
      ]
    },
    {
      "cell_type": "markdown",
      "metadata": {
        "id": "0ojNgPiWatMU",
        "colab_type": "text"
      },
      "source": [
        "Too many 0 values and apart from that, outliers are present too. Therefore, dropping."
      ]
    },
    {
      "cell_type": "code",
      "metadata": {
        "id": "7G3UPDb6aq4I",
        "colab_type": "code",
        "colab": {}
      },
      "source": [
        "df = df.drop(['application_type','acc_now_delinq'],axis=1)"
      ],
      "execution_count": 0,
      "outputs": []
    },
    {
      "cell_type": "markdown",
      "metadata": {
        "id": "bzCUP7qka0QU",
        "colab_type": "text"
      },
      "source": [
        "## 5.19 tot_coll_amt"
      ]
    },
    {
      "cell_type": "code",
      "metadata": {
        "id": "bXlf9dsOaw_G",
        "colab_type": "code",
        "colab": {
          "base_uri": "https://localhost:8080/",
          "height": 124
        },
        "outputId": "482ec4ce-3dee-43da-8ec9-721e52b3e622"
      },
      "source": [
        "df['tot_coll_amt'].head()"
      ],
      "execution_count": 163,
      "outputs": [
        {
          "output_type": "execute_result",
          "data": {
            "text/plain": [
              "0    0.0\n",
              "1    0.0\n",
              "2    0.0\n",
              "3    0.0\n",
              "4    0.0\n",
              "Name: tot_coll_amt, dtype: float64"
            ]
          },
          "metadata": {
            "tags": []
          },
          "execution_count": 163
        }
      ]
    },
    {
      "cell_type": "code",
      "metadata": {
        "id": "11iTHmoua2d7",
        "colab_type": "code",
        "colab": {
          "base_uri": "https://localhost:8080/",
          "height": 230
        },
        "outputId": "d362b093-02d1-4a2d-e7f3-809e9633be88"
      },
      "source": [
        "df['tot_coll_amt'].value_counts()"
      ],
      "execution_count": 164,
      "outputs": [
        {
          "output_type": "execute_result",
          "data": {
            "text/plain": [
              "0.0        301766\n",
              "50.0          498\n",
              "100.0         390\n",
              "75.0          319\n",
              "60.0          223\n",
              "            ...  \n",
              "5151.0          1\n",
              "12638.0         1\n",
              "10809.0         1\n",
              "1912.0          1\n",
              "4095.0          1\n",
              "Name: tot_coll_amt, Length: 5010, dtype: int64"
            ]
          },
          "metadata": {
            "tags": []
          },
          "execution_count": 164
        }
      ]
    },
    {
      "cell_type": "markdown",
      "metadata": {
        "id": "efUK_Lz7a6Nk",
        "colab_type": "text"
      },
      "source": [
        "## 5.20 tot_cur_bal"
      ]
    },
    {
      "cell_type": "code",
      "metadata": {
        "id": "cJbFSDtRa4XC",
        "colab_type": "code",
        "colab": {
          "base_uri": "https://localhost:8080/",
          "height": 230
        },
        "outputId": "6900c29c-7473-45bb-f60f-2bb786d839d3"
      },
      "source": [
        "df['tot_cur_bal'].value_counts()"
      ],
      "execution_count": 165,
      "outputs": [
        {
          "output_type": "execute_result",
          "data": {
            "text/plain": [
              "0.0          70320\n",
              "22396.0         13\n",
              "13721.0         11\n",
              "19830.0         11\n",
              "14163.0         11\n",
              "             ...  \n",
              "3254633.0        1\n",
              "50854.0          1\n",
              "406833.0         1\n",
              "406839.0         1\n",
              "379567.0         1\n",
              "Name: tot_cur_bal, Length: 170518, dtype: int64"
            ]
          },
          "metadata": {
            "tags": []
          },
          "execution_count": 165
        }
      ]
    },
    {
      "cell_type": "markdown",
      "metadata": {
        "id": "u6zuNofTa-Ou",
        "colab_type": "text"
      },
      "source": [
        "## 5.21 mort_acc"
      ]
    },
    {
      "cell_type": "code",
      "metadata": {
        "id": "0j-dMRSma8gV",
        "colab_type": "code",
        "colab": {
          "base_uri": "https://localhost:8080/",
          "height": 177
        },
        "outputId": "fe75768e-d252-4d4c-b534-5c5b2ac2ddc7"
      },
      "source": [
        "df['mort_acc'].describe()"
      ],
      "execution_count": 166,
      "outputs": [
        {
          "output_type": "execute_result",
          "data": {
            "text/plain": [
              "count    334262.000000\n",
              "mean          1.444023\n",
              "std           2.000797\n",
              "min           0.000000\n",
              "25%           0.000000\n",
              "50%           1.000000\n",
              "75%           2.000000\n",
              "max          61.000000\n",
              "Name: mort_acc, dtype: float64"
            ]
          },
          "metadata": {
            "tags": []
          },
          "execution_count": 166
        }
      ]
    },
    {
      "cell_type": "markdown",
      "metadata": {
        "id": "Js9_l5UpbCNx",
        "colab_type": "text"
      },
      "source": [
        "Somebody has 61 mortgage accounts. This could be an outlier or may be some one can."
      ]
    },
    {
      "cell_type": "code",
      "metadata": {
        "id": "vZQmmhe8a__7",
        "colab_type": "code",
        "colab": {
          "base_uri": "https://localhost:8080/",
          "height": 212
        },
        "outputId": "5932de3a-ef7b-454e-b72c-26388aac458a"
      },
      "source": [
        "df['mort_acc'].value_counts().head(10)"
      ],
      "execution_count": 167,
      "outputs": [
        {
          "output_type": "execute_result",
          "data": {
            "text/plain": [
              "0.0    165817\n",
              "1.0     49665\n",
              "2.0     39534\n",
              "3.0     29132\n",
              "4.0     20373\n",
              "5.0     13070\n",
              "6.0      7690\n",
              "7.0      4233\n",
              "8.0      2222\n",
              "9.0      1193\n",
              "Name: mort_acc, dtype: int64"
            ]
          },
          "metadata": {
            "tags": []
          },
          "execution_count": 167
        }
      ]
    },
    {
      "cell_type": "code",
      "metadata": {
        "id": "ZwYIUbMsbD2J",
        "colab_type": "code",
        "colab": {
          "base_uri": "https://localhost:8080/",
          "height": 139
        },
        "outputId": "cc7d73eb-3171-4761-9e61-6c78f1556801"
      },
      "source": [
        "#comparing statistics by target variable:\n",
        "df.groupby('loan_status')['mort_acc'].describe()"
      ],
      "execution_count": 168,
      "outputs": [
        {
          "output_type": "execute_result",
          "data": {
            "text/html": [
              "<div>\n",
              "<style scoped>\n",
              "    .dataframe tbody tr th:only-of-type {\n",
              "        vertical-align: middle;\n",
              "    }\n",
              "\n",
              "    .dataframe tbody tr th {\n",
              "        vertical-align: top;\n",
              "    }\n",
              "\n",
              "    .dataframe thead th {\n",
              "        text-align: right;\n",
              "    }\n",
              "</style>\n",
              "<table border=\"1\" class=\"dataframe\">\n",
              "  <thead>\n",
              "    <tr style=\"text-align: right;\">\n",
              "      <th></th>\n",
              "      <th>count</th>\n",
              "      <th>mean</th>\n",
              "      <th>std</th>\n",
              "      <th>min</th>\n",
              "      <th>25%</th>\n",
              "      <th>50%</th>\n",
              "      <th>75%</th>\n",
              "      <th>max</th>\n",
              "    </tr>\n",
              "    <tr>\n",
              "      <th>loan_status</th>\n",
              "      <th></th>\n",
              "      <th></th>\n",
              "      <th></th>\n",
              "      <th></th>\n",
              "      <th></th>\n",
              "      <th></th>\n",
              "      <th></th>\n",
              "      <th></th>\n",
              "    </tr>\n",
              "  </thead>\n",
              "  <tbody>\n",
              "    <tr>\n",
              "      <th>0</th>\n",
              "      <td>281768.0</td>\n",
              "      <td>1.480487</td>\n",
              "      <td>2.023410</td>\n",
              "      <td>0.0</td>\n",
              "      <td>0.0</td>\n",
              "      <td>1.0</td>\n",
              "      <td>2.0</td>\n",
              "      <td>61.0</td>\n",
              "    </tr>\n",
              "    <tr>\n",
              "      <th>1</th>\n",
              "      <td>52494.0</td>\n",
              "      <td>1.248295</td>\n",
              "      <td>1.862625</td>\n",
              "      <td>0.0</td>\n",
              "      <td>0.0</td>\n",
              "      <td>0.0</td>\n",
              "      <td>2.0</td>\n",
              "      <td>27.0</td>\n",
              "    </tr>\n",
              "  </tbody>\n",
              "</table>\n",
              "</div>"
            ],
            "text/plain": [
              "                count      mean       std  min  25%  50%  75%   max\n",
              "loan_status                                                        \n",
              "0            281768.0  1.480487  2.023410  0.0  0.0  1.0  2.0  61.0\n",
              "1             52494.0  1.248295  1.862625  0.0  0.0  0.0  2.0  27.0"
            ]
          },
          "metadata": {
            "tags": []
          },
          "execution_count": 168
        }
      ]
    },
    {
      "cell_type": "markdown",
      "metadata": {
        "id": "mqx9Jd2GbHbG",
        "colab_type": "text"
      },
      "source": [
        "People who pay off their loans have several mortgage accounts."
      ]
    },
    {
      "cell_type": "markdown",
      "metadata": {
        "id": "UGeWV8hdbJIN",
        "colab_type": "text"
      },
      "source": [
        "## 5.22 pub_rec_bankruptcies"
      ]
    },
    {
      "cell_type": "code",
      "metadata": {
        "id": "pWQhhKcTbFki",
        "colab_type": "code",
        "colab": {
          "base_uri": "https://localhost:8080/",
          "height": 195
        },
        "outputId": "fb20e785-5c1d-4e51-a6f4-4a2e91453e15"
      },
      "source": [
        "df['pub_rec_bankruptcies'].value_counts().sort_index()"
      ],
      "execution_count": 169,
      "outputs": [
        {
          "output_type": "execute_result",
          "data": {
            "text/plain": [
              "0.0    301317\n",
              "1.0     30255\n",
              "2.0      1036\n",
              "3.0       203\n",
              "4.0        56\n",
              "5.0        20\n",
              "6.0         5\n",
              "7.0         3\n",
              "8.0         2\n",
              "Name: pub_rec_bankruptcies, dtype: int64"
            ]
          },
          "metadata": {
            "tags": []
          },
          "execution_count": 169
        }
      ]
    },
    {
      "cell_type": "code",
      "metadata": {
        "id": "6ZgvKBZGbKs_",
        "colab_type": "code",
        "colab": {
          "base_uri": "https://localhost:8080/",
          "height": 139
        },
        "outputId": "2616817a-0fc3-4c56-9d39-c0766769f267"
      },
      "source": [
        "#comparing statistics by target variable:\n",
        "df.groupby('loan_status')['pub_rec_bankruptcies'].describe()"
      ],
      "execution_count": 170,
      "outputs": [
        {
          "output_type": "execute_result",
          "data": {
            "text/html": [
              "<div>\n",
              "<style scoped>\n",
              "    .dataframe tbody tr th:only-of-type {\n",
              "        vertical-align: middle;\n",
              "    }\n",
              "\n",
              "    .dataframe tbody tr th {\n",
              "        vertical-align: top;\n",
              "    }\n",
              "\n",
              "    .dataframe thead th {\n",
              "        text-align: right;\n",
              "    }\n",
              "</style>\n",
              "<table border=\"1\" class=\"dataframe\">\n",
              "  <thead>\n",
              "    <tr style=\"text-align: right;\">\n",
              "      <th></th>\n",
              "      <th>count</th>\n",
              "      <th>mean</th>\n",
              "      <th>std</th>\n",
              "      <th>min</th>\n",
              "      <th>25%</th>\n",
              "      <th>50%</th>\n",
              "      <th>75%</th>\n",
              "      <th>max</th>\n",
              "    </tr>\n",
              "    <tr>\n",
              "      <th>loan_status</th>\n",
              "      <th></th>\n",
              "      <th></th>\n",
              "      <th></th>\n",
              "      <th></th>\n",
              "      <th></th>\n",
              "      <th></th>\n",
              "      <th></th>\n",
              "      <th></th>\n",
              "    </tr>\n",
              "  </thead>\n",
              "  <tbody>\n",
              "    <tr>\n",
              "      <th>0</th>\n",
              "      <td>280737.0</td>\n",
              "      <td>0.097419</td>\n",
              "      <td>0.319205</td>\n",
              "      <td>0.0</td>\n",
              "      <td>0.0</td>\n",
              "      <td>0.0</td>\n",
              "      <td>0.0</td>\n",
              "      <td>8.0</td>\n",
              "    </tr>\n",
              "    <tr>\n",
              "      <th>1</th>\n",
              "      <td>52160.0</td>\n",
              "      <td>0.114609</td>\n",
              "      <td>0.342620</td>\n",
              "      <td>0.0</td>\n",
              "      <td>0.0</td>\n",
              "      <td>0.0</td>\n",
              "      <td>0.0</td>\n",
              "      <td>7.0</td>\n",
              "    </tr>\n",
              "  </tbody>\n",
              "</table>\n",
              "</div>"
            ],
            "text/plain": [
              "                count      mean       std  min  25%  50%  75%  max\n",
              "loan_status                                                       \n",
              "0            280737.0  0.097419  0.319205  0.0  0.0  0.0  0.0  8.0\n",
              "1             52160.0  0.114609  0.342620  0.0  0.0  0.0  0.0  7.0"
            ]
          },
          "metadata": {
            "tags": []
          },
          "execution_count": 170
        }
      ]
    },
    {
      "cell_type": "markdown",
      "metadata": {
        "id": "uuOMfE0zbOrf",
        "colab_type": "text"
      },
      "source": [
        "People with more bankruptcy records are more likely to charge off. No wonder here!"
      ]
    },
    {
      "cell_type": "markdown",
      "metadata": {
        "id": "JNWOLiiKbSPx",
        "colab_type": "text"
      },
      "source": [
        "## 5.23 purpose_n"
      ]
    },
    {
      "cell_type": "code",
      "metadata": {
        "id": "p2hAKvr5bMnv",
        "colab_type": "code",
        "colab": {
          "base_uri": "https://localhost:8080/",
          "height": 35
        },
        "outputId": "bb45ca62-1f15-4d2a-ec88-c1f13f115a52"
      },
      "source": [
        "df['purpose_n'].unique()"
      ],
      "execution_count": 172,
      "outputs": [
        {
          "output_type": "execute_result",
          "data": {
            "text/plain": [
              "array(['debt', 'major_purchases', 'life_events', 'other'], dtype=object)"
            ]
          },
          "metadata": {
            "tags": []
          },
          "execution_count": 172
        }
      ]
    },
    {
      "cell_type": "markdown",
      "metadata": {
        "id": "3B-wwdIFbW1S",
        "colab_type": "text"
      },
      "source": [
        "## 5.24 earliest_cr_line_n"
      ]
    },
    {
      "cell_type": "code",
      "metadata": {
        "id": "2pPJ_RtkbT7o",
        "colab_type": "code",
        "colab": {
          "base_uri": "https://localhost:8080/",
          "height": 124
        },
        "outputId": "d7dbd93f-fe7a-4797-83f6-22e41b63cc5c"
      },
      "source": [
        "df['earliest_cr_line_n'].head()"
      ],
      "execution_count": 173,
      "outputs": [
        {
          "output_type": "execute_result",
          "data": {
            "text/plain": [
              "0    35.331964\n",
              "1    21.086927\n",
              "2    18.499658\n",
              "3    24.249144\n",
              "4    24.334018\n",
              "Name: earliest_cr_line_n, dtype: float64"
            ]
          },
          "metadata": {
            "tags": []
          },
          "execution_count": 173
        }
      ]
    },
    {
      "cell_type": "code",
      "metadata": {
        "id": "D8kH-CG1bYmc",
        "colab_type": "code",
        "colab": {
          "base_uri": "https://localhost:8080/",
          "height": 177
        },
        "outputId": "1df3c676-12f6-41f3-8fc9-5d999c90e684"
      },
      "source": [
        "df['earliest_cr_line_n'].describe()"
      ],
      "execution_count": 174,
      "outputs": [
        {
          "output_type": "execute_result",
          "data": {
            "text/plain": [
              "count    334233.000000\n",
              "mean         21.755287\n",
              "std           7.832563\n",
              "min         -48.583162\n",
              "25%          16.837782\n",
              "50%          20.668036\n",
              "75%          25.585216\n",
              "max          51.331964\n",
              "Name: earliest_cr_line_n, dtype: float64"
            ]
          },
          "metadata": {
            "tags": []
          },
          "execution_count": 174
        }
      ]
    },
    {
      "cell_type": "code",
      "metadata": {
        "id": "i8F4CS4SbaMq",
        "colab_type": "code",
        "colab": {
          "base_uri": "https://localhost:8080/",
          "height": 139
        },
        "outputId": "2af655a5-88a5-41a9-c4cf-57bfcdd3cb4d"
      },
      "source": [
        "#comparing statistics by target variable:\n",
        "df.groupby('loan_status')['earliest_cr_line_n'].describe()"
      ],
      "execution_count": 175,
      "outputs": [
        {
          "output_type": "execute_result",
          "data": {
            "text/html": [
              "<div>\n",
              "<style scoped>\n",
              "    .dataframe tbody tr th:only-of-type {\n",
              "        vertical-align: middle;\n",
              "    }\n",
              "\n",
              "    .dataframe tbody tr th {\n",
              "        vertical-align: top;\n",
              "    }\n",
              "\n",
              "    .dataframe thead th {\n",
              "        text-align: right;\n",
              "    }\n",
              "</style>\n",
              "<table border=\"1\" class=\"dataframe\">\n",
              "  <thead>\n",
              "    <tr style=\"text-align: right;\">\n",
              "      <th></th>\n",
              "      <th>count</th>\n",
              "      <th>mean</th>\n",
              "      <th>std</th>\n",
              "      <th>min</th>\n",
              "      <th>25%</th>\n",
              "      <th>50%</th>\n",
              "      <th>75%</th>\n",
              "      <th>max</th>\n",
              "    </tr>\n",
              "    <tr>\n",
              "      <th>loan_status</th>\n",
              "      <th></th>\n",
              "      <th></th>\n",
              "      <th></th>\n",
              "      <th></th>\n",
              "      <th></th>\n",
              "      <th></th>\n",
              "      <th></th>\n",
              "      <th></th>\n",
              "    </tr>\n",
              "  </thead>\n",
              "  <tbody>\n",
              "    <tr>\n",
              "      <th>0</th>\n",
              "      <td>281742.0</td>\n",
              "      <td>21.871565</td>\n",
              "      <td>7.800313</td>\n",
              "      <td>-48.583162</td>\n",
              "      <td>16.919918</td>\n",
              "      <td>20.752909</td>\n",
              "      <td>25.752225</td>\n",
              "      <td>51.331964</td>\n",
              "    </tr>\n",
              "    <tr>\n",
              "      <th>1</th>\n",
              "      <td>52491.0</td>\n",
              "      <td>21.131172</td>\n",
              "      <td>7.974597</td>\n",
              "      <td>-48.416153</td>\n",
              "      <td>16.418891</td>\n",
              "      <td>20.169747</td>\n",
              "      <td>24.837782</td>\n",
              "      <td>51.331964</td>\n",
              "    </tr>\n",
              "  </tbody>\n",
              "</table>\n",
              "</div>"
            ],
            "text/plain": [
              "                count       mean       std  ...        50%        75%        max\n",
              "loan_status                                 ...                                 \n",
              "0            281742.0  21.871565  7.800313  ...  20.752909  25.752225  51.331964\n",
              "1             52491.0  21.131172  7.974597  ...  20.169747  24.837782  51.331964\n",
              "\n",
              "[2 rows x 8 columns]"
            ]
          },
          "metadata": {
            "tags": []
          },
          "execution_count": 175
        }
      ]
    },
    {
      "cell_type": "markdown",
      "metadata": {
        "id": "kSpb_9F1bdzI",
        "colab_type": "text"
      },
      "source": [
        "## 5.25 fico_avg"
      ]
    },
    {
      "cell_type": "code",
      "metadata": {
        "id": "OO8vD_fIbcCR",
        "colab_type": "code",
        "colab": {
          "base_uri": "https://localhost:8080/",
          "height": 139
        },
        "outputId": "a903b901-5f59-49c6-e462-e44d62400edc"
      },
      "source": [
        "df.groupby('loan_status')['fico_avg'].describe()"
      ],
      "execution_count": 176,
      "outputs": [
        {
          "output_type": "execute_result",
          "data": {
            "text/html": [
              "<div>\n",
              "<style scoped>\n",
              "    .dataframe tbody tr th:only-of-type {\n",
              "        vertical-align: middle;\n",
              "    }\n",
              "\n",
              "    .dataframe tbody tr th {\n",
              "        vertical-align: top;\n",
              "    }\n",
              "\n",
              "    .dataframe thead th {\n",
              "        text-align: right;\n",
              "    }\n",
              "</style>\n",
              "<table border=\"1\" class=\"dataframe\">\n",
              "  <thead>\n",
              "    <tr style=\"text-align: right;\">\n",
              "      <th></th>\n",
              "      <th>count</th>\n",
              "      <th>mean</th>\n",
              "      <th>std</th>\n",
              "      <th>min</th>\n",
              "      <th>25%</th>\n",
              "      <th>50%</th>\n",
              "      <th>75%</th>\n",
              "      <th>max</th>\n",
              "    </tr>\n",
              "    <tr>\n",
              "      <th>loan_status</th>\n",
              "      <th></th>\n",
              "      <th></th>\n",
              "      <th></th>\n",
              "      <th></th>\n",
              "      <th></th>\n",
              "      <th></th>\n",
              "      <th></th>\n",
              "      <th></th>\n",
              "    </tr>\n",
              "  </thead>\n",
              "  <tbody>\n",
              "    <tr>\n",
              "      <th>0</th>\n",
              "      <td>281768.0</td>\n",
              "      <td>701.917961</td>\n",
              "      <td>32.353838</td>\n",
              "      <td>612.0</td>\n",
              "      <td>677.0</td>\n",
              "      <td>697.0</td>\n",
              "      <td>717.0</td>\n",
              "      <td>847.5</td>\n",
              "    </tr>\n",
              "    <tr>\n",
              "      <th>1</th>\n",
              "      <td>52494.0</td>\n",
              "      <td>692.074028</td>\n",
              "      <td>26.252609</td>\n",
              "      <td>617.0</td>\n",
              "      <td>672.0</td>\n",
              "      <td>687.0</td>\n",
              "      <td>707.0</td>\n",
              "      <td>847.5</td>\n",
              "    </tr>\n",
              "  </tbody>\n",
              "</table>\n",
              "</div>"
            ],
            "text/plain": [
              "                count        mean        std    min    25%    50%    75%    max\n",
              "loan_status                                                                    \n",
              "0            281768.0  701.917961  32.353838  612.0  677.0  697.0  717.0  847.5\n",
              "1             52494.0  692.074028  26.252609  617.0  672.0  687.0  707.0  847.5"
            ]
          },
          "metadata": {
            "tags": []
          },
          "execution_count": 176
        }
      ]
    },
    {
      "cell_type": "markdown",
      "metadata": {
        "id": "OwkKdGKtbhvi",
        "colab_type": "text"
      },
      "source": [
        "Loans that charge off have a FICO score 9 points lesser on mean."
      ]
    },
    {
      "cell_type": "markdown",
      "metadata": {
        "id": "F2TQXJV0bjR3",
        "colab_type": "text"
      },
      "source": [
        "## 5.26 last_fico_avf"
      ]
    },
    {
      "cell_type": "markdown",
      "metadata": {
        "id": "gFF9nOpvbmnT",
        "colab_type": "text"
      },
      "source": [
        "Last fico score is not applicable for modeling because it is not available at start of application"
      ]
    },
    {
      "cell_type": "code",
      "metadata": {
        "id": "lqa8Lm7ibfpJ",
        "colab_type": "code",
        "colab": {}
      },
      "source": [
        "df = df.drop(['last_fico_avf'],axis=1)"
      ],
      "execution_count": 0,
      "outputs": []
    },
    {
      "cell_type": "markdown",
      "metadata": {
        "id": "08TL1NVdbrKa",
        "colab_type": "text"
      },
      "source": [
        "## 5.27 log_annual_inc"
      ]
    },
    {
      "cell_type": "code",
      "metadata": {
        "id": "TdBaLyQFbo-8",
        "colab_type": "code",
        "colab": {
          "base_uri": "https://localhost:8080/",
          "height": 177
        },
        "outputId": "1053c824-0705-4f01-b50e-e23f52bac9b7"
      },
      "source": [
        "df['log_annual_inc'].describe()"
      ],
      "execution_count": 178,
      "outputs": [
        {
          "output_type": "execute_result",
          "data": {
            "text/plain": [
              "count    334258.000000\n",
              "mean          4.805127\n",
              "std           0.235807\n",
              "min           0.000000\n",
              "25%           4.653222\n",
              "50%           4.800999\n",
              "75%           4.954247\n",
              "max           6.853806\n",
              "Name: log_annual_inc, dtype: float64"
            ]
          },
          "metadata": {
            "tags": []
          },
          "execution_count": 178
        }
      ]
    },
    {
      "cell_type": "code",
      "metadata": {
        "id": "vLZUei1ubtYh",
        "colab_type": "code",
        "colab": {
          "base_uri": "https://localhost:8080/",
          "height": 139
        },
        "outputId": "c21731bb-97d0-4e36-8fe3-e9391279c19d"
      },
      "source": [
        "df.groupby('loan_status')['log_annual_inc'].describe()"
      ],
      "execution_count": 179,
      "outputs": [
        {
          "output_type": "execute_result",
          "data": {
            "text/html": [
              "<div>\n",
              "<style scoped>\n",
              "    .dataframe tbody tr th:only-of-type {\n",
              "        vertical-align: middle;\n",
              "    }\n",
              "\n",
              "    .dataframe tbody tr th {\n",
              "        vertical-align: top;\n",
              "    }\n",
              "\n",
              "    .dataframe thead th {\n",
              "        text-align: right;\n",
              "    }\n",
              "</style>\n",
              "<table border=\"1\" class=\"dataframe\">\n",
              "  <thead>\n",
              "    <tr style=\"text-align: right;\">\n",
              "      <th></th>\n",
              "      <th>count</th>\n",
              "      <th>mean</th>\n",
              "      <th>std</th>\n",
              "      <th>min</th>\n",
              "      <th>25%</th>\n",
              "      <th>50%</th>\n",
              "      <th>75%</th>\n",
              "      <th>max</th>\n",
              "    </tr>\n",
              "    <tr>\n",
              "      <th>loan_status</th>\n",
              "      <th></th>\n",
              "      <th></th>\n",
              "      <th></th>\n",
              "      <th></th>\n",
              "      <th></th>\n",
              "      <th></th>\n",
              "      <th></th>\n",
              "      <th></th>\n",
              "    </tr>\n",
              "  </thead>\n",
              "  <tbody>\n",
              "    <tr>\n",
              "      <th>0</th>\n",
              "      <td>281764.0</td>\n",
              "      <td>4.811506</td>\n",
              "      <td>0.236230</td>\n",
              "      <td>0.0</td>\n",
              "      <td>4.654379</td>\n",
              "      <td>4.812920</td>\n",
              "      <td>4.954247</td>\n",
              "      <td>6.853806</td>\n",
              "    </tr>\n",
              "    <tr>\n",
              "      <th>1</th>\n",
              "      <td>52494.0</td>\n",
              "      <td>4.770884</td>\n",
              "      <td>0.230533</td>\n",
              "      <td>0.0</td>\n",
              "      <td>4.623260</td>\n",
              "      <td>4.778158</td>\n",
              "      <td>4.903095</td>\n",
              "      <td>6.747330</td>\n",
              "    </tr>\n",
              "  </tbody>\n",
              "</table>\n",
              "</div>"
            ],
            "text/plain": [
              "                count      mean       std  ...       50%       75%       max\n",
              "loan_status                                ...                              \n",
              "0            281764.0  4.811506  0.236230  ...  4.812920  4.954247  6.853806\n",
              "1             52494.0  4.770884  0.230533  ...  4.778158  4.903095  6.747330\n",
              "\n",
              "[2 rows x 8 columns]"
            ]
          },
          "metadata": {
            "tags": []
          },
          "execution_count": 179
        }
      ]
    },
    {
      "cell_type": "markdown",
      "metadata": {
        "id": "72c4dkxxbw63",
        "colab_type": "text"
      },
      "source": [
        "There is slight difference in mean which suggests people with better income are more likely to pay"
      ]
    },
    {
      "cell_type": "markdown",
      "metadata": {
        "id": "vmyljEERby4t",
        "colab_type": "text"
      },
      "source": [
        "## 5.28 region"
      ]
    },
    {
      "cell_type": "code",
      "metadata": {
        "id": "3ZrHFG9sbvD_",
        "colab_type": "code",
        "colab": {}
      },
      "source": [
        "df = df.drop(['region'],axis=1)"
      ],
      "execution_count": 0,
      "outputs": []
    },
    {
      "cell_type": "code",
      "metadata": {
        "id": "p3MYRnCib5JL",
        "colab_type": "code",
        "colab": {
          "base_uri": "https://localhost:8080/",
          "height": 141
        },
        "outputId": "0605b5a9-c208-4736-f015-797acf00ed5e"
      },
      "source": [
        "df.columns"
      ],
      "execution_count": 181,
      "outputs": [
        {
          "output_type": "execute_result",
          "data": {
            "text/plain": [
              "Index(['loan_amnt', 'term', 'installment', 'emp_length', 'home_ownership',\n",
              "       'verification_status', 'loan_status', 'addr_state', 'dti', 'open_acc',\n",
              "       'pub_rec', 'revol_bal', 'revol_util', 'total_acc',\n",
              "       'initial_list_status', 'tot_coll_amt', 'tot_cur_bal', 'mort_acc',\n",
              "       'pub_rec_bankruptcies', 'purpose_n', 'earliest_cr_line_n', 'fico_avg',\n",
              "       'log_annual_inc'],\n",
              "      dtype='object')"
            ]
          },
          "metadata": {
            "tags": []
          },
          "execution_count": 181
        }
      ]
    },
    {
      "cell_type": "markdown",
      "metadata": {
        "id": "GcUnm-g0cCk1",
        "colab_type": "text"
      },
      "source": [
        "## 5.29 Dealing with Remaining missing values: Data imputation"
      ]
    },
    {
      "cell_type": "markdown",
      "metadata": {
        "id": "_jnDUYa7cH83",
        "colab_type": "text"
      },
      "source": [
        "To deal with missing values in each column, I will do some data imputation dealing with each dtype differently. For dtype = object, I will use the most frequent values while for numerical dtypes, I will use the median"
      ]
    },
    {
      "cell_type": "code",
      "metadata": {
        "id": "ovuP0TOjb55B",
        "colab_type": "code",
        "colab": {}
      },
      "source": [
        "obj_cols = df.columns[df.dtypes==object]\n",
        "\n",
        "#Imputer function\n",
        "imputer = lambda x:x.fillna(x.value_counts().index[0]) \n",
        "\n",
        "#Impute dtype=object with most frequent value\n",
        "df[obj_cols] = df[obj_cols].apply(imputer) \n",
        "\n",
        "#Impute the rest of df with median\n",
        "df = df.fillna(df.median(axis=0)) "
      ],
      "execution_count": 0,
      "outputs": []
    },
    {
      "cell_type": "code",
      "metadata": {
        "id": "tyEeRpZscRBp",
        "colab_type": "code",
        "colab": {
          "base_uri": "https://localhost:8080/",
          "height": 35
        },
        "outputId": "d04b1dd1-200a-4bd4-a92c-d13bb7149b38"
      },
      "source": [
        "missing_fractions = df.isnull().mean().sort_values(ascending=False) # Fraction of data missing for each variable\n",
        "print(missing_fractions[missing_fractions > 0]) # Print variables that are missing data"
      ],
      "execution_count": 184,
      "outputs": [
        {
          "output_type": "stream",
          "text": [
            "Series([], dtype: float64)\n"
          ],
          "name": "stdout"
        }
      ]
    },
    {
      "cell_type": "code",
      "metadata": {
        "id": "7BfVguvqcTBn",
        "colab_type": "code",
        "colab": {}
      },
      "source": [
        "df.fillna(df.median(), inplace=True)"
      ],
      "execution_count": 0,
      "outputs": []
    },
    {
      "cell_type": "code",
      "metadata": {
        "id": "2TSwnGO9cZwd",
        "colab_type": "code",
        "colab": {
          "base_uri": "https://localhost:8080/",
          "height": 98
        },
        "outputId": "004e056d-7b2b-4f01-ac73-d0ae5aa5ca01"
      },
      "source": [
        "df.head(1)"
      ],
      "execution_count": 186,
      "outputs": [
        {
          "output_type": "execute_result",
          "data": {
            "text/html": [
              "<div>\n",
              "<style scoped>\n",
              "    .dataframe tbody tr th:only-of-type {\n",
              "        vertical-align: middle;\n",
              "    }\n",
              "\n",
              "    .dataframe tbody tr th {\n",
              "        vertical-align: top;\n",
              "    }\n",
              "\n",
              "    .dataframe thead th {\n",
              "        text-align: right;\n",
              "    }\n",
              "</style>\n",
              "<table border=\"1\" class=\"dataframe\">\n",
              "  <thead>\n",
              "    <tr style=\"text-align: right;\">\n",
              "      <th></th>\n",
              "      <th>loan_amnt</th>\n",
              "      <th>term</th>\n",
              "      <th>installment</th>\n",
              "      <th>emp_length</th>\n",
              "      <th>home_ownership</th>\n",
              "      <th>verification_status</th>\n",
              "      <th>loan_status</th>\n",
              "      <th>addr_state</th>\n",
              "      <th>dti</th>\n",
              "      <th>open_acc</th>\n",
              "      <th>pub_rec</th>\n",
              "      <th>revol_bal</th>\n",
              "      <th>revol_util</th>\n",
              "      <th>total_acc</th>\n",
              "      <th>initial_list_status</th>\n",
              "      <th>tot_coll_amt</th>\n",
              "      <th>tot_cur_bal</th>\n",
              "      <th>mort_acc</th>\n",
              "      <th>pub_rec_bankruptcies</th>\n",
              "      <th>purpose_n</th>\n",
              "      <th>earliest_cr_line_n</th>\n",
              "      <th>fico_avg</th>\n",
              "      <th>log_annual_inc</th>\n",
              "    </tr>\n",
              "  </thead>\n",
              "  <tbody>\n",
              "    <tr>\n",
              "      <th>0</th>\n",
              "      <td>5000</td>\n",
              "      <td>36</td>\n",
              "      <td>162.87</td>\n",
              "      <td>10</td>\n",
              "      <td>RENT</td>\n",
              "      <td>Verified</td>\n",
              "      <td>0</td>\n",
              "      <td>AZ</td>\n",
              "      <td>0.002765</td>\n",
              "      <td>3.0</td>\n",
              "      <td>0.0</td>\n",
              "      <td>4.135101</td>\n",
              "      <td>83.7</td>\n",
              "      <td>9.0</td>\n",
              "      <td>f</td>\n",
              "      <td>0.0</td>\n",
              "      <td>0.0</td>\n",
              "      <td>0.0</td>\n",
              "      <td>0.0</td>\n",
              "      <td>debt</td>\n",
              "      <td>35.331964</td>\n",
              "      <td>737.0</td>\n",
              "      <td>4.380229</td>\n",
              "    </tr>\n",
              "  </tbody>\n",
              "</table>\n",
              "</div>"
            ],
            "text/plain": [
              "   loan_amnt  term  installment  ... earliest_cr_line_n fico_avg log_annual_inc\n",
              "0       5000    36       162.87  ...          35.331964    737.0       4.380229\n",
              "\n",
              "[1 rows x 23 columns]"
            ]
          },
          "metadata": {
            "tags": []
          },
          "execution_count": 186
        }
      ]
    },
    {
      "cell_type": "code",
      "metadata": {
        "id": "1xqCZXDIcdao",
        "colab_type": "code",
        "colab": {
          "base_uri": "https://localhost:8080/",
          "height": 461
        },
        "outputId": "b469114c-4039-4e7d-bb37-8bcd9be52fd0"
      },
      "source": [
        "corr = df.corr()['loan_status'].sort_values()\n",
        "# Display correlations\n",
        "print('Most Positive Correlations:\\n', corr.tail(10))\n",
        "print('\\nMost Negative Correlations:\\n', corr.head(10))"
      ],
      "execution_count": 190,
      "outputs": [
        {
          "output_type": "stream",
          "text": [
            "Most Positive Correlations:\n",
            " tot_coll_amt           -0.001019\n",
            "open_acc                0.012700\n",
            "pub_rec                 0.015904\n",
            "pub_rec_bankruptcies    0.018977\n",
            "installment             0.043571\n",
            "loan_amnt               0.050411\n",
            "revol_util              0.057963\n",
            "dti                     0.065217\n",
            "term                    0.122998\n",
            "loan_status             1.000000\n",
            "Name: loan_status, dtype: float64\n",
            "\n",
            "Most Negative Correlations:\n",
            " fico_avg             -0.113067\n",
            "log_annual_inc       -0.062679\n",
            "tot_cur_bal          -0.046372\n",
            "mort_acc             -0.042224\n",
            "earliest_cr_line_n   -0.034391\n",
            "total_acc            -0.011042\n",
            "revol_bal            -0.003588\n",
            "tot_coll_amt         -0.001019\n",
            "open_acc              0.012700\n",
            "pub_rec               0.015904\n",
            "Name: loan_status, dtype: float64\n"
          ],
          "name": "stdout"
        }
      ]
    },
    {
      "cell_type": "markdown",
      "metadata": {
        "id": "iYDgFZR_dKjj",
        "colab_type": "text"
      },
      "source": [
        "# 6 Processing Categorical Variables\n",
        "\n",
        "Here’s an outline of what we’ll be doing in this stage:\n",
        "\n",
        "- Investigate Categorical Columns\n",
        "- Convert Categorical Columns To Numeric Features\n",
        "- Map Ordinal Values To Integers\n",
        "- Encode Nominal Values As Dummy *Variables*"
      ]
    },
    {
      "cell_type": "code",
      "metadata": {
        "id": "3YEWolDzcuqY",
        "colab_type": "code",
        "colab": {
          "base_uri": "https://localhost:8080/",
          "height": 116
        },
        "outputId": "ad291f82-160c-497a-e144-18992ff99b50"
      },
      "source": [
        "#how many variable we have now\n",
        "print(df.shape)\n",
        "df.head(1)"
      ],
      "execution_count": 191,
      "outputs": [
        {
          "output_type": "stream",
          "text": [
            "(334262, 23)\n"
          ],
          "name": "stdout"
        },
        {
          "output_type": "execute_result",
          "data": {
            "text/html": [
              "<div>\n",
              "<style scoped>\n",
              "    .dataframe tbody tr th:only-of-type {\n",
              "        vertical-align: middle;\n",
              "    }\n",
              "\n",
              "    .dataframe tbody tr th {\n",
              "        vertical-align: top;\n",
              "    }\n",
              "\n",
              "    .dataframe thead th {\n",
              "        text-align: right;\n",
              "    }\n",
              "</style>\n",
              "<table border=\"1\" class=\"dataframe\">\n",
              "  <thead>\n",
              "    <tr style=\"text-align: right;\">\n",
              "      <th></th>\n",
              "      <th>loan_amnt</th>\n",
              "      <th>term</th>\n",
              "      <th>installment</th>\n",
              "      <th>emp_length</th>\n",
              "      <th>home_ownership</th>\n",
              "      <th>verification_status</th>\n",
              "      <th>loan_status</th>\n",
              "      <th>addr_state</th>\n",
              "      <th>dti</th>\n",
              "      <th>open_acc</th>\n",
              "      <th>pub_rec</th>\n",
              "      <th>revol_bal</th>\n",
              "      <th>revol_util</th>\n",
              "      <th>total_acc</th>\n",
              "      <th>initial_list_status</th>\n",
              "      <th>tot_coll_amt</th>\n",
              "      <th>tot_cur_bal</th>\n",
              "      <th>mort_acc</th>\n",
              "      <th>pub_rec_bankruptcies</th>\n",
              "      <th>purpose_n</th>\n",
              "      <th>earliest_cr_line_n</th>\n",
              "      <th>fico_avg</th>\n",
              "      <th>log_annual_inc</th>\n",
              "    </tr>\n",
              "  </thead>\n",
              "  <tbody>\n",
              "    <tr>\n",
              "      <th>0</th>\n",
              "      <td>5000</td>\n",
              "      <td>36</td>\n",
              "      <td>162.87</td>\n",
              "      <td>10</td>\n",
              "      <td>RENT</td>\n",
              "      <td>Verified</td>\n",
              "      <td>0</td>\n",
              "      <td>AZ</td>\n",
              "      <td>0.002765</td>\n",
              "      <td>3.0</td>\n",
              "      <td>0.0</td>\n",
              "      <td>4.135101</td>\n",
              "      <td>83.7</td>\n",
              "      <td>9.0</td>\n",
              "      <td>f</td>\n",
              "      <td>0.0</td>\n",
              "      <td>0.0</td>\n",
              "      <td>0.0</td>\n",
              "      <td>0.0</td>\n",
              "      <td>debt</td>\n",
              "      <td>35.331964</td>\n",
              "      <td>737.0</td>\n",
              "      <td>4.380229</td>\n",
              "    </tr>\n",
              "  </tbody>\n",
              "</table>\n",
              "</div>"
            ],
            "text/plain": [
              "   loan_amnt  term  installment  ... earliest_cr_line_n fico_avg log_annual_inc\n",
              "0       5000    36       162.87  ...          35.331964    737.0       4.380229\n",
              "\n",
              "[1 rows x 23 columns]"
            ]
          },
          "metadata": {
            "tags": []
          },
          "execution_count": 191
        }
      ]
    },
    {
      "cell_type": "code",
      "metadata": {
        "id": "sFFXA4FbdVun",
        "colab_type": "code",
        "colab": {
          "base_uri": "https://localhost:8080/",
          "height": 461
        },
        "outputId": "33ea7200-0291-4d07-e721-9d482b1fcbbd"
      },
      "source": [
        "null_counts = df.isnull().sum().sort_index()\n",
        "print(\"Number of null values in each column:\\n{}\".format(null_counts))"
      ],
      "execution_count": 192,
      "outputs": [
        {
          "output_type": "stream",
          "text": [
            "Number of null values in each column:\n",
            "addr_state              0\n",
            "dti                     0\n",
            "earliest_cr_line_n      0\n",
            "emp_length              0\n",
            "fico_avg                0\n",
            "home_ownership          0\n",
            "initial_list_status     0\n",
            "installment             0\n",
            "loan_amnt               0\n",
            "loan_status             0\n",
            "log_annual_inc          0\n",
            "mort_acc                0\n",
            "open_acc                0\n",
            "pub_rec                 0\n",
            "pub_rec_bankruptcies    0\n",
            "purpose_n               0\n",
            "revol_bal               0\n",
            "revol_util              0\n",
            "term                    0\n",
            "tot_coll_amt            0\n",
            "tot_cur_bal             0\n",
            "total_acc               0\n",
            "verification_status     0\n",
            "dtype: int64\n"
          ],
          "name": "stdout"
        }
      ]
    },
    {
      "cell_type": "code",
      "metadata": {
        "id": "Qa-FzQM9dZZH",
        "colab_type": "code",
        "colab": {
          "base_uri": "https://localhost:8080/",
          "height": 106
        },
        "outputId": "02c9a4f9-7078-4fb0-d7cd-766c004fe195"
      },
      "source": [
        "print(\"Data types and their frequency\\n{}\".format(df.dtypes.value_counts()))"
      ],
      "execution_count": 193,
      "outputs": [
        {
          "output_type": "stream",
          "text": [
            "Data types and their frequency\n",
            "float64    14\n",
            "object      6\n",
            "int64       3\n",
            "dtype: int64\n"
          ],
          "name": "stdout"
        }
      ]
    },
    {
      "cell_type": "markdown",
      "metadata": {
        "id": "tU21_NYgdgvS",
        "colab_type": "text"
      },
      "source": [
        "We still have 6 object columns that contain text which need to be converted into numeric features. \n",
        "\n",
        "Let’s select just the object columns using the DataFrame method select_dtype, then display a sample row to get a better sense of how the values in each column are formatted."
      ]
    },
    {
      "cell_type": "code",
      "metadata": {
        "id": "HNlck0YrdcrX",
        "colab_type": "code",
        "colab": {
          "base_uri": "https://localhost:8080/",
          "height": 141
        },
        "outputId": "2a3a72da-5039-4e16-88c4-480893f1df3e"
      },
      "source": [
        "object_columns_df = df.select_dtypes(include=['object'])\n",
        "print(object_columns_df.iloc[0])"
      ],
      "execution_count": 194,
      "outputs": [
        {
          "output_type": "stream",
          "text": [
            "emp_length                   10\n",
            "home_ownership             RENT\n",
            "verification_status    Verified\n",
            "addr_state                   AZ\n",
            "initial_list_status           f\n",
            "purpose_n                  debt\n",
            "Name: 0, dtype: object\n"
          ],
          "name": "stdout"
        }
      ]
    },
    {
      "cell_type": "markdown",
      "metadata": {
        "id": "ulNHMQzXdpF4",
        "colab_type": "text"
      },
      "source": [
        "Columns with categorical values:\n",
        "\n",
        "- emp_length - number of years the borrower was employed upon time of application.\n",
        "- home_ownership - home ownership status, can only be 1 of 4 categorical values according to the data dictionary.\n",
        "- verification_status - indicates if income was verified by LendingClub.\n",
        "- addr_state - states\n",
        "- initial_list_status - Initial listing status (W,F)\n",
        "- purpose_n - a category provided by the borrower for the loan request."
      ]
    },
    {
      "cell_type": "code",
      "metadata": {
        "id": "VmYkzt-gdk0D",
        "colab_type": "code",
        "colab": {
          "base_uri": "https://localhost:8080/",
          "height": 1000
        },
        "outputId": "84509d3b-d42f-4df8-ae30-0e33977f7877"
      },
      "source": [
        "cols = ['emp_length','home_ownership','verification_status','addr_state', 'purpose_n', 'initial_list_status']\n",
        "for name in cols:\n",
        "    print(name,':')\n",
        "    print(object_columns_df[name].value_counts(),'\\n')"
      ],
      "execution_count": 195,
      "outputs": [
        {
          "output_type": "stream",
          "text": [
            "emp_length :\n",
            "10    106549\n",
            "1      47613\n",
            "2      30541\n",
            "3      26575\n",
            "5      24020\n",
            "4      20745\n",
            "6      19079\n",
            "7      16432\n",
            "0      15876\n",
            "8      14495\n",
            "9      12337\n",
            "Name: emp_length, dtype: int64 \n",
            "\n",
            "home_ownership :\n",
            "MORTGAGE    166740\n",
            "RENT        136303\n",
            "OWN          30883\n",
            "OTHER          336\n",
            "Name: home_ownership, dtype: int64 \n",
            "\n",
            "verification_status :\n",
            "Verified           131804\n",
            "Not Verified       107818\n",
            "Source Verified     94640\n",
            "Name: verification_status, dtype: int64 \n",
            "\n",
            "addr_state :\n",
            "CA    51778\n",
            "NY    28589\n",
            "TX    26350\n",
            "FL    23733\n",
            "IL    13269\n",
            "NJ    12921\n",
            "PA    11677\n",
            "GA    10788\n",
            "OH    10765\n",
            "VA     9938\n",
            "NC     9115\n",
            "MI     8197\n",
            "MA     8139\n",
            "MD     7900\n",
            "AZ     7744\n",
            "WA     7273\n",
            "CO     6988\n",
            "MN     5812\n",
            "MO     5403\n",
            "CT     5364\n",
            "NV     4830\n",
            "IN     4183\n",
            "WI     4172\n",
            "AL     4123\n",
            "OR     4099\n",
            "SC     3910\n",
            "LA     3906\n",
            "TN     3822\n",
            "KY     3122\n",
            "OK     2940\n",
            "KS     2939\n",
            "AR     2498\n",
            "UT     2455\n",
            "HI     1795\n",
            "NM     1759\n",
            "NH     1561\n",
            "RI     1486\n",
            "WV     1101\n",
            "DC     1017\n",
            "MT      924\n",
            "DE      921\n",
            "AK      842\n",
            "WY      765\n",
            "MS      695\n",
            "SD      680\n",
            "VT      593\n",
            "NE      547\n",
            "ME      304\n",
            "ID      279\n",
            "ND      238\n",
            "IA       13\n",
            "Name: addr_state, dtype: int64 \n",
            "\n",
            "purpose_n :\n",
            "debt               260151\n",
            "major_purchases     38518\n",
            "other               20703\n",
            "life_events         14890\n",
            "Name: purpose_n, dtype: int64 \n",
            "\n",
            "initial_list_status :\n",
            "f    220101\n",
            "w    114161\n",
            "Name: initial_list_status, dtype: int64 \n",
            "\n"
          ],
          "name": "stdout"
        }
      ]
    },
    {
      "cell_type": "code",
      "metadata": {
        "id": "kllKwYXfd4lh",
        "colab_type": "code",
        "colab": {}
      },
      "source": [
        "#converting the type of emp_length column to int64 from string\n",
        "df['emp_length'] = df['emp_length'].astype('int64') "
      ],
      "execution_count": 0,
      "outputs": []
    },
    {
      "cell_type": "code",
      "metadata": {
        "id": "IZ2y3QgYd9Aa",
        "colab_type": "code",
        "colab": {
          "base_uri": "https://localhost:8080/",
          "height": 124
        },
        "outputId": "ff909635-3d77-4f3e-bb02-f16c59edc662"
      },
      "source": [
        "object_columns_df = df.select_dtypes(include=['object'])\n",
        "print(object_columns_df.iloc[0])"
      ],
      "execution_count": 197,
      "outputs": [
        {
          "output_type": "stream",
          "text": [
            "home_ownership             RENT\n",
            "verification_status    Verified\n",
            "addr_state                   AZ\n",
            "initial_list_status           f\n",
            "purpose_n                  debt\n",
            "Name: 0, dtype: object\n"
          ],
          "name": "stdout"
        }
      ]
    },
    {
      "cell_type": "markdown",
      "metadata": {
        "id": "WQItElHaeDHq",
        "colab_type": "text"
      },
      "source": [
        "#### Convert Categorical Columns to Numeric Features\n",
        "\n",
        "Ordinal values: these categorical values are in natural order. We can sort or order them either in increasing or decreasing order. \n",
        "- For example: S < M < L\n",
        "\n",
        "Nominal Values: these are regular categorical values. We can’t order nominal values. For instance, while we can order loan applicants in the employment length column (emp_length) based on years spent in the workforce:\n",
        "- year 1 < year 2 < year 3 … < year N,\n",
        "\n",
        "we can’t do that with the column purpose. It wouldn’t make sense to say:\n",
        "\n",
        "- car < wedding < education < moving < house\n",
        "\n",
        "These are the columns we now have in our dataset:\n",
        "\n",
        "Ordinal Values\n",
        "emp_length\n",
        "Nominal Values _ home_ownership\n",
        "verification_status\n",
        "purpose_n\n",
        "term"
      ]
    },
    {
      "cell_type": "markdown",
      "metadata": {
        "id": "77WJmcLgenlh",
        "colab_type": "text"
      },
      "source": [
        "If any categorical variables have missing values, we'll need to create NaN dummy variables for those. So first check which variables have missing data:\n",
        "\n"
      ]
    },
    {
      "cell_type": "code",
      "metadata": {
        "id": "eAotQP4demxG",
        "colab_type": "code",
        "colab": {
          "base_uri": "https://localhost:8080/",
          "height": 35
        },
        "outputId": "610b5631-4413-4ab5-c95a-e9a354dc70bb"
      },
      "source": [
        "missing_fractions = df.isnull().mean().sort_values(ascending=False) # Fraction of data missing for each variable\n",
        "print(missing_fractions[missing_fractions > 0]) # Print variables that are missing data"
      ],
      "execution_count": 198,
      "outputs": [
        {
          "output_type": "stream",
          "text": [
            "Series([], dtype: float64)\n"
          ],
          "name": "stdout"
        }
      ]
    },
    {
      "cell_type": "markdown",
      "metadata": {
        "id": "6Qxsyfyuet6r",
        "colab_type": "text"
      },
      "source": [
        "There are no categorical variables with missing values, and therefore we don't need any NaN dummy variables."
      ]
    },
    {
      "cell_type": "code",
      "metadata": {
        "id": "jz6JatZbd_Pk",
        "colab_type": "code",
        "colab": {}
      },
      "source": [
        "#Converting nominal features into numerical features requires encoding them as dummy variables.\n",
        "nominal_columns = [\"home_ownership\", \"verification_status\", \"purpose_n\", \"initial_list_status\",\"addr_state\"]\n",
        "dummy_df = pd.get_dummies(df[nominal_columns], drop_first=True) #greating dummies for the above nominal columns and removing first dummy variable to \n",
        "#drop the first one to avoid linear dependency between the resulted features since some algorithms may struggle with this issue.\n",
        "df = pd.concat([df, dummy_df], axis=1) #merging the newly created dummy columns with the working dataset\n",
        "df = df.drop(nominal_columns, axis=1) #dropping the original nominal columns as they are not required anymore"
      ],
      "execution_count": 0,
      "outputs": []
    },
    {
      "cell_type": "code",
      "metadata": {
        "id": "dGUEGjsmfHGV",
        "colab_type": "code",
        "colab": {
          "base_uri": "https://localhost:8080/",
          "height": 35
        },
        "outputId": "dfdb2ed9-93cd-4527-bc05-6e9e1159d7e5"
      },
      "source": [
        "df.shape"
      ],
      "execution_count": 200,
      "outputs": [
        {
          "output_type": "execute_result",
          "data": {
            "text/plain": [
              "(334262, 77)"
            ]
          },
          "metadata": {
            "tags": []
          },
          "execution_count": 200
        }
      ]
    },
    {
      "cell_type": "code",
      "metadata": {
        "id": "teU8CXBXfKhC",
        "colab_type": "code",
        "colab": {
          "base_uri": "https://localhost:8080/",
          "height": 237
        },
        "outputId": "b3644a28-3786-41e4-ea65-792d74141239"
      },
      "source": [
        "df.sample(5)"
      ],
      "execution_count": 201,
      "outputs": [
        {
          "output_type": "execute_result",
          "data": {
            "text/html": [
              "<div>\n",
              "<style scoped>\n",
              "    .dataframe tbody tr th:only-of-type {\n",
              "        vertical-align: middle;\n",
              "    }\n",
              "\n",
              "    .dataframe tbody tr th {\n",
              "        vertical-align: top;\n",
              "    }\n",
              "\n",
              "    .dataframe thead th {\n",
              "        text-align: right;\n",
              "    }\n",
              "</style>\n",
              "<table border=\"1\" class=\"dataframe\">\n",
              "  <thead>\n",
              "    <tr style=\"text-align: right;\">\n",
              "      <th></th>\n",
              "      <th>loan_amnt</th>\n",
              "      <th>term</th>\n",
              "      <th>installment</th>\n",
              "      <th>emp_length</th>\n",
              "      <th>loan_status</th>\n",
              "      <th>dti</th>\n",
              "      <th>open_acc</th>\n",
              "      <th>pub_rec</th>\n",
              "      <th>revol_bal</th>\n",
              "      <th>revol_util</th>\n",
              "      <th>total_acc</th>\n",
              "      <th>tot_coll_amt</th>\n",
              "      <th>tot_cur_bal</th>\n",
              "      <th>mort_acc</th>\n",
              "      <th>pub_rec_bankruptcies</th>\n",
              "      <th>earliest_cr_line_n</th>\n",
              "      <th>fico_avg</th>\n",
              "      <th>log_annual_inc</th>\n",
              "      <th>home_ownership_OTHER</th>\n",
              "      <th>home_ownership_OWN</th>\n",
              "      <th>home_ownership_RENT</th>\n",
              "      <th>verification_status_Source Verified</th>\n",
              "      <th>verification_status_Verified</th>\n",
              "      <th>purpose_n_life_events</th>\n",
              "      <th>purpose_n_major_purchases</th>\n",
              "      <th>purpose_n_other</th>\n",
              "      <th>initial_list_status_w</th>\n",
              "      <th>addr_state_AL</th>\n",
              "      <th>addr_state_AR</th>\n",
              "      <th>addr_state_AZ</th>\n",
              "      <th>addr_state_CA</th>\n",
              "      <th>addr_state_CO</th>\n",
              "      <th>addr_state_CT</th>\n",
              "      <th>addr_state_DC</th>\n",
              "      <th>addr_state_DE</th>\n",
              "      <th>addr_state_FL</th>\n",
              "      <th>addr_state_GA</th>\n",
              "      <th>addr_state_HI</th>\n",
              "      <th>addr_state_IA</th>\n",
              "      <th>addr_state_ID</th>\n",
              "      <th>addr_state_IL</th>\n",
              "      <th>addr_state_IN</th>\n",
              "      <th>addr_state_KS</th>\n",
              "      <th>addr_state_KY</th>\n",
              "      <th>addr_state_LA</th>\n",
              "      <th>addr_state_MA</th>\n",
              "      <th>addr_state_MD</th>\n",
              "      <th>addr_state_ME</th>\n",
              "      <th>addr_state_MI</th>\n",
              "      <th>addr_state_MN</th>\n",
              "      <th>addr_state_MO</th>\n",
              "      <th>addr_state_MS</th>\n",
              "      <th>addr_state_MT</th>\n",
              "      <th>addr_state_NC</th>\n",
              "      <th>addr_state_ND</th>\n",
              "      <th>addr_state_NE</th>\n",
              "      <th>addr_state_NH</th>\n",
              "      <th>addr_state_NJ</th>\n",
              "      <th>addr_state_NM</th>\n",
              "      <th>addr_state_NV</th>\n",
              "      <th>addr_state_NY</th>\n",
              "      <th>addr_state_OH</th>\n",
              "      <th>addr_state_OK</th>\n",
              "      <th>addr_state_OR</th>\n",
              "      <th>addr_state_PA</th>\n",
              "      <th>addr_state_RI</th>\n",
              "      <th>addr_state_SC</th>\n",
              "      <th>addr_state_SD</th>\n",
              "      <th>addr_state_TN</th>\n",
              "      <th>addr_state_TX</th>\n",
              "      <th>addr_state_UT</th>\n",
              "      <th>addr_state_VA</th>\n",
              "      <th>addr_state_VT</th>\n",
              "      <th>addr_state_WA</th>\n",
              "      <th>addr_state_WI</th>\n",
              "      <th>addr_state_WV</th>\n",
              "      <th>addr_state_WY</th>\n",
              "    </tr>\n",
              "  </thead>\n",
              "  <tbody>\n",
              "    <tr>\n",
              "      <th>14547</th>\n",
              "      <td>18000</td>\n",
              "      <td>60</td>\n",
              "      <td>400.31</td>\n",
              "      <td>10</td>\n",
              "      <td>0</td>\n",
              "      <td>0.001818</td>\n",
              "      <td>19.0</td>\n",
              "      <td>0.0</td>\n",
              "      <td>4.255562</td>\n",
              "      <td>44.7</td>\n",
              "      <td>43.0</td>\n",
              "      <td>0.0</td>\n",
              "      <td>0.0</td>\n",
              "      <td>0.0</td>\n",
              "      <td>0.0</td>\n",
              "      <td>30.332649</td>\n",
              "      <td>727.0</td>\n",
              "      <td>4.732402</td>\n",
              "      <td>0</td>\n",
              "      <td>0</td>\n",
              "      <td>1</td>\n",
              "      <td>1</td>\n",
              "      <td>0</td>\n",
              "      <td>0</td>\n",
              "      <td>0</td>\n",
              "      <td>0</td>\n",
              "      <td>0</td>\n",
              "      <td>0</td>\n",
              "      <td>0</td>\n",
              "      <td>0</td>\n",
              "      <td>1</td>\n",
              "      <td>0</td>\n",
              "      <td>0</td>\n",
              "      <td>0</td>\n",
              "      <td>0</td>\n",
              "      <td>0</td>\n",
              "      <td>0</td>\n",
              "      <td>0</td>\n",
              "      <td>0</td>\n",
              "      <td>0</td>\n",
              "      <td>0</td>\n",
              "      <td>0</td>\n",
              "      <td>0</td>\n",
              "      <td>0</td>\n",
              "      <td>0</td>\n",
              "      <td>0</td>\n",
              "      <td>0</td>\n",
              "      <td>0</td>\n",
              "      <td>0</td>\n",
              "      <td>0</td>\n",
              "      <td>0</td>\n",
              "      <td>0</td>\n",
              "      <td>0</td>\n",
              "      <td>0</td>\n",
              "      <td>0</td>\n",
              "      <td>0</td>\n",
              "      <td>0</td>\n",
              "      <td>0</td>\n",
              "      <td>0</td>\n",
              "      <td>0</td>\n",
              "      <td>0</td>\n",
              "      <td>0</td>\n",
              "      <td>0</td>\n",
              "      <td>0</td>\n",
              "      <td>0</td>\n",
              "      <td>0</td>\n",
              "      <td>0</td>\n",
              "      <td>0</td>\n",
              "      <td>0</td>\n",
              "      <td>0</td>\n",
              "      <td>0</td>\n",
              "      <td>0</td>\n",
              "      <td>0</td>\n",
              "      <td>0</td>\n",
              "      <td>0</td>\n",
              "      <td>0</td>\n",
              "      <td>0</td>\n",
              "    </tr>\n",
              "    <tr>\n",
              "      <th>311305</th>\n",
              "      <td>12000</td>\n",
              "      <td>36</td>\n",
              "      <td>389.98</td>\n",
              "      <td>0</td>\n",
              "      <td>0</td>\n",
              "      <td>0.001199</td>\n",
              "      <td>19.0</td>\n",
              "      <td>0.0</td>\n",
              "      <td>4.257487</td>\n",
              "      <td>30.0</td>\n",
              "      <td>32.0</td>\n",
              "      <td>0.0</td>\n",
              "      <td>18091.0</td>\n",
              "      <td>0.0</td>\n",
              "      <td>0.0</td>\n",
              "      <td>13.585216</td>\n",
              "      <td>692.0</td>\n",
              "      <td>4.778158</td>\n",
              "      <td>0</td>\n",
              "      <td>1</td>\n",
              "      <td>0</td>\n",
              "      <td>0</td>\n",
              "      <td>0</td>\n",
              "      <td>0</td>\n",
              "      <td>0</td>\n",
              "      <td>0</td>\n",
              "      <td>0</td>\n",
              "      <td>0</td>\n",
              "      <td>0</td>\n",
              "      <td>0</td>\n",
              "      <td>0</td>\n",
              "      <td>0</td>\n",
              "      <td>0</td>\n",
              "      <td>0</td>\n",
              "      <td>0</td>\n",
              "      <td>0</td>\n",
              "      <td>0</td>\n",
              "      <td>0</td>\n",
              "      <td>0</td>\n",
              "      <td>0</td>\n",
              "      <td>0</td>\n",
              "      <td>0</td>\n",
              "      <td>0</td>\n",
              "      <td>0</td>\n",
              "      <td>0</td>\n",
              "      <td>0</td>\n",
              "      <td>0</td>\n",
              "      <td>0</td>\n",
              "      <td>0</td>\n",
              "      <td>0</td>\n",
              "      <td>0</td>\n",
              "      <td>0</td>\n",
              "      <td>0</td>\n",
              "      <td>0</td>\n",
              "      <td>0</td>\n",
              "      <td>0</td>\n",
              "      <td>0</td>\n",
              "      <td>0</td>\n",
              "      <td>0</td>\n",
              "      <td>0</td>\n",
              "      <td>0</td>\n",
              "      <td>0</td>\n",
              "      <td>0</td>\n",
              "      <td>1</td>\n",
              "      <td>0</td>\n",
              "      <td>0</td>\n",
              "      <td>0</td>\n",
              "      <td>0</td>\n",
              "      <td>0</td>\n",
              "      <td>0</td>\n",
              "      <td>0</td>\n",
              "      <td>0</td>\n",
              "      <td>0</td>\n",
              "      <td>0</td>\n",
              "      <td>0</td>\n",
              "      <td>0</td>\n",
              "      <td>0</td>\n",
              "    </tr>\n",
              "    <tr>\n",
              "      <th>64767</th>\n",
              "      <td>3300</td>\n",
              "      <td>36</td>\n",
              "      <td>115.39</td>\n",
              "      <td>0</td>\n",
              "      <td>0</td>\n",
              "      <td>0.002010</td>\n",
              "      <td>9.0</td>\n",
              "      <td>0.0</td>\n",
              "      <td>3.913761</td>\n",
              "      <td>55.4</td>\n",
              "      <td>11.0</td>\n",
              "      <td>0.0</td>\n",
              "      <td>8198.0</td>\n",
              "      <td>0.0</td>\n",
              "      <td>0.0</td>\n",
              "      <td>12.084873</td>\n",
              "      <td>682.0</td>\n",
              "      <td>4.079217</td>\n",
              "      <td>0</td>\n",
              "      <td>0</td>\n",
              "      <td>1</td>\n",
              "      <td>0</td>\n",
              "      <td>1</td>\n",
              "      <td>1</td>\n",
              "      <td>0</td>\n",
              "      <td>0</td>\n",
              "      <td>0</td>\n",
              "      <td>0</td>\n",
              "      <td>0</td>\n",
              "      <td>0</td>\n",
              "      <td>0</td>\n",
              "      <td>0</td>\n",
              "      <td>0</td>\n",
              "      <td>0</td>\n",
              "      <td>0</td>\n",
              "      <td>0</td>\n",
              "      <td>0</td>\n",
              "      <td>0</td>\n",
              "      <td>0</td>\n",
              "      <td>0</td>\n",
              "      <td>0</td>\n",
              "      <td>0</td>\n",
              "      <td>1</td>\n",
              "      <td>0</td>\n",
              "      <td>0</td>\n",
              "      <td>0</td>\n",
              "      <td>0</td>\n",
              "      <td>0</td>\n",
              "      <td>0</td>\n",
              "      <td>0</td>\n",
              "      <td>0</td>\n",
              "      <td>0</td>\n",
              "      <td>0</td>\n",
              "      <td>0</td>\n",
              "      <td>0</td>\n",
              "      <td>0</td>\n",
              "      <td>0</td>\n",
              "      <td>0</td>\n",
              "      <td>0</td>\n",
              "      <td>0</td>\n",
              "      <td>0</td>\n",
              "      <td>0</td>\n",
              "      <td>0</td>\n",
              "      <td>0</td>\n",
              "      <td>0</td>\n",
              "      <td>0</td>\n",
              "      <td>0</td>\n",
              "      <td>0</td>\n",
              "      <td>0</td>\n",
              "      <td>0</td>\n",
              "      <td>0</td>\n",
              "      <td>0</td>\n",
              "      <td>0</td>\n",
              "      <td>0</td>\n",
              "      <td>0</td>\n",
              "      <td>0</td>\n",
              "      <td>0</td>\n",
              "    </tr>\n",
              "    <tr>\n",
              "      <th>63904</th>\n",
              "      <td>12000</td>\n",
              "      <td>36</td>\n",
              "      <td>375.49</td>\n",
              "      <td>10</td>\n",
              "      <td>0</td>\n",
              "      <td>0.002135</td>\n",
              "      <td>13.0</td>\n",
              "      <td>0.0</td>\n",
              "      <td>4.176757</td>\n",
              "      <td>63.7</td>\n",
              "      <td>33.0</td>\n",
              "      <td>0.0</td>\n",
              "      <td>213551.0</td>\n",
              "      <td>7.0</td>\n",
              "      <td>0.0</td>\n",
              "      <td>37.418207</td>\n",
              "      <td>692.0</td>\n",
              "      <td>4.845104</td>\n",
              "      <td>0</td>\n",
              "      <td>0</td>\n",
              "      <td>0</td>\n",
              "      <td>0</td>\n",
              "      <td>0</td>\n",
              "      <td>0</td>\n",
              "      <td>0</td>\n",
              "      <td>0</td>\n",
              "      <td>1</td>\n",
              "      <td>0</td>\n",
              "      <td>0</td>\n",
              "      <td>0</td>\n",
              "      <td>0</td>\n",
              "      <td>0</td>\n",
              "      <td>0</td>\n",
              "      <td>0</td>\n",
              "      <td>0</td>\n",
              "      <td>1</td>\n",
              "      <td>0</td>\n",
              "      <td>0</td>\n",
              "      <td>0</td>\n",
              "      <td>0</td>\n",
              "      <td>0</td>\n",
              "      <td>0</td>\n",
              "      <td>0</td>\n",
              "      <td>0</td>\n",
              "      <td>0</td>\n",
              "      <td>0</td>\n",
              "      <td>0</td>\n",
              "      <td>0</td>\n",
              "      <td>0</td>\n",
              "      <td>0</td>\n",
              "      <td>0</td>\n",
              "      <td>0</td>\n",
              "      <td>0</td>\n",
              "      <td>0</td>\n",
              "      <td>0</td>\n",
              "      <td>0</td>\n",
              "      <td>0</td>\n",
              "      <td>0</td>\n",
              "      <td>0</td>\n",
              "      <td>0</td>\n",
              "      <td>0</td>\n",
              "      <td>0</td>\n",
              "      <td>0</td>\n",
              "      <td>0</td>\n",
              "      <td>0</td>\n",
              "      <td>0</td>\n",
              "      <td>0</td>\n",
              "      <td>0</td>\n",
              "      <td>0</td>\n",
              "      <td>0</td>\n",
              "      <td>0</td>\n",
              "      <td>0</td>\n",
              "      <td>0</td>\n",
              "      <td>0</td>\n",
              "      <td>0</td>\n",
              "      <td>0</td>\n",
              "      <td>0</td>\n",
              "    </tr>\n",
              "    <tr>\n",
              "      <th>224198</th>\n",
              "      <td>10000</td>\n",
              "      <td>36</td>\n",
              "      <td>332.72</td>\n",
              "      <td>1</td>\n",
              "      <td>0</td>\n",
              "      <td>0.001499</td>\n",
              "      <td>6.0</td>\n",
              "      <td>0.0</td>\n",
              "      <td>4.354550</td>\n",
              "      <td>89.1</td>\n",
              "      <td>14.0</td>\n",
              "      <td>0.0</td>\n",
              "      <td>0.0</td>\n",
              "      <td>0.0</td>\n",
              "      <td>0.0</td>\n",
              "      <td>17.752225</td>\n",
              "      <td>707.0</td>\n",
              "      <td>4.740371</td>\n",
              "      <td>0</td>\n",
              "      <td>1</td>\n",
              "      <td>0</td>\n",
              "      <td>1</td>\n",
              "      <td>0</td>\n",
              "      <td>0</td>\n",
              "      <td>0</td>\n",
              "      <td>0</td>\n",
              "      <td>0</td>\n",
              "      <td>0</td>\n",
              "      <td>0</td>\n",
              "      <td>0</td>\n",
              "      <td>0</td>\n",
              "      <td>0</td>\n",
              "      <td>0</td>\n",
              "      <td>0</td>\n",
              "      <td>0</td>\n",
              "      <td>0</td>\n",
              "      <td>0</td>\n",
              "      <td>0</td>\n",
              "      <td>0</td>\n",
              "      <td>0</td>\n",
              "      <td>0</td>\n",
              "      <td>0</td>\n",
              "      <td>0</td>\n",
              "      <td>0</td>\n",
              "      <td>1</td>\n",
              "      <td>0</td>\n",
              "      <td>0</td>\n",
              "      <td>0</td>\n",
              "      <td>0</td>\n",
              "      <td>0</td>\n",
              "      <td>0</td>\n",
              "      <td>0</td>\n",
              "      <td>0</td>\n",
              "      <td>0</td>\n",
              "      <td>0</td>\n",
              "      <td>0</td>\n",
              "      <td>0</td>\n",
              "      <td>0</td>\n",
              "      <td>0</td>\n",
              "      <td>0</td>\n",
              "      <td>0</td>\n",
              "      <td>0</td>\n",
              "      <td>0</td>\n",
              "      <td>0</td>\n",
              "      <td>0</td>\n",
              "      <td>0</td>\n",
              "      <td>0</td>\n",
              "      <td>0</td>\n",
              "      <td>0</td>\n",
              "      <td>0</td>\n",
              "      <td>0</td>\n",
              "      <td>0</td>\n",
              "      <td>0</td>\n",
              "      <td>0</td>\n",
              "      <td>0</td>\n",
              "      <td>0</td>\n",
              "      <td>0</td>\n",
              "    </tr>\n",
              "  </tbody>\n",
              "</table>\n",
              "</div>"
            ],
            "text/plain": [
              "        loan_amnt  term  ...  addr_state_WV  addr_state_WY\n",
              "14547       18000    60  ...              0              0\n",
              "311305      12000    36  ...              0              0\n",
              "64767        3300    36  ...              0              0\n",
              "63904       12000    36  ...              0              0\n",
              "224198      10000    36  ...              0              0\n",
              "\n",
              "[5 rows x 77 columns]"
            ]
          },
          "metadata": {
            "tags": []
          },
          "execution_count": 201
        }
      ]
    },
    {
      "cell_type": "code",
      "metadata": {
        "id": "T94flDnafWDx",
        "colab_type": "code",
        "colab": {
          "base_uri": "https://localhost:8080/",
          "height": 1000
        },
        "outputId": "7baff5ee-2d94-4961-e777-55ed2558e720"
      },
      "source": [
        "df.info()"
      ],
      "execution_count": 202,
      "outputs": [
        {
          "output_type": "stream",
          "text": [
            "<class 'pandas.core.frame.DataFrame'>\n",
            "RangeIndex: 334262 entries, 0 to 334261\n",
            "Data columns (total 77 columns):\n",
            " #   Column                               Non-Null Count   Dtype  \n",
            "---  ------                               --------------   -----  \n",
            " 0   loan_amnt                            334262 non-null  int64  \n",
            " 1   term                                 334262 non-null  int64  \n",
            " 2   installment                          334262 non-null  float64\n",
            " 3   emp_length                           334262 non-null  int64  \n",
            " 4   loan_status                          334262 non-null  int64  \n",
            " 5   dti                                  334262 non-null  float64\n",
            " 6   open_acc                             334262 non-null  float64\n",
            " 7   pub_rec                              334262 non-null  float64\n",
            " 8   revol_bal                            334262 non-null  float64\n",
            " 9   revol_util                           334262 non-null  float64\n",
            " 10  total_acc                            334262 non-null  float64\n",
            " 11  tot_coll_amt                         334262 non-null  float64\n",
            " 12  tot_cur_bal                          334262 non-null  float64\n",
            " 13  mort_acc                             334262 non-null  float64\n",
            " 14  pub_rec_bankruptcies                 334262 non-null  float64\n",
            " 15  earliest_cr_line_n                   334262 non-null  float64\n",
            " 16  fico_avg                             334262 non-null  float64\n",
            " 17  log_annual_inc                       334262 non-null  float64\n",
            " 18  home_ownership_OTHER                 334262 non-null  uint8  \n",
            " 19  home_ownership_OWN                   334262 non-null  uint8  \n",
            " 20  home_ownership_RENT                  334262 non-null  uint8  \n",
            " 21  verification_status_Source Verified  334262 non-null  uint8  \n",
            " 22  verification_status_Verified         334262 non-null  uint8  \n",
            " 23  purpose_n_life_events                334262 non-null  uint8  \n",
            " 24  purpose_n_major_purchases            334262 non-null  uint8  \n",
            " 25  purpose_n_other                      334262 non-null  uint8  \n",
            " 26  initial_list_status_w                334262 non-null  uint8  \n",
            " 27  addr_state_AL                        334262 non-null  uint8  \n",
            " 28  addr_state_AR                        334262 non-null  uint8  \n",
            " 29  addr_state_AZ                        334262 non-null  uint8  \n",
            " 30  addr_state_CA                        334262 non-null  uint8  \n",
            " 31  addr_state_CO                        334262 non-null  uint8  \n",
            " 32  addr_state_CT                        334262 non-null  uint8  \n",
            " 33  addr_state_DC                        334262 non-null  uint8  \n",
            " 34  addr_state_DE                        334262 non-null  uint8  \n",
            " 35  addr_state_FL                        334262 non-null  uint8  \n",
            " 36  addr_state_GA                        334262 non-null  uint8  \n",
            " 37  addr_state_HI                        334262 non-null  uint8  \n",
            " 38  addr_state_IA                        334262 non-null  uint8  \n",
            " 39  addr_state_ID                        334262 non-null  uint8  \n",
            " 40  addr_state_IL                        334262 non-null  uint8  \n",
            " 41  addr_state_IN                        334262 non-null  uint8  \n",
            " 42  addr_state_KS                        334262 non-null  uint8  \n",
            " 43  addr_state_KY                        334262 non-null  uint8  \n",
            " 44  addr_state_LA                        334262 non-null  uint8  \n",
            " 45  addr_state_MA                        334262 non-null  uint8  \n",
            " 46  addr_state_MD                        334262 non-null  uint8  \n",
            " 47  addr_state_ME                        334262 non-null  uint8  \n",
            " 48  addr_state_MI                        334262 non-null  uint8  \n",
            " 49  addr_state_MN                        334262 non-null  uint8  \n",
            " 50  addr_state_MO                        334262 non-null  uint8  \n",
            " 51  addr_state_MS                        334262 non-null  uint8  \n",
            " 52  addr_state_MT                        334262 non-null  uint8  \n",
            " 53  addr_state_NC                        334262 non-null  uint8  \n",
            " 54  addr_state_ND                        334262 non-null  uint8  \n",
            " 55  addr_state_NE                        334262 non-null  uint8  \n",
            " 56  addr_state_NH                        334262 non-null  uint8  \n",
            " 57  addr_state_NJ                        334262 non-null  uint8  \n",
            " 58  addr_state_NM                        334262 non-null  uint8  \n",
            " 59  addr_state_NV                        334262 non-null  uint8  \n",
            " 60  addr_state_NY                        334262 non-null  uint8  \n",
            " 61  addr_state_OH                        334262 non-null  uint8  \n",
            " 62  addr_state_OK                        334262 non-null  uint8  \n",
            " 63  addr_state_OR                        334262 non-null  uint8  \n",
            " 64  addr_state_PA                        334262 non-null  uint8  \n",
            " 65  addr_state_RI                        334262 non-null  uint8  \n",
            " 66  addr_state_SC                        334262 non-null  uint8  \n",
            " 67  addr_state_SD                        334262 non-null  uint8  \n",
            " 68  addr_state_TN                        334262 non-null  uint8  \n",
            " 69  addr_state_TX                        334262 non-null  uint8  \n",
            " 70  addr_state_UT                        334262 non-null  uint8  \n",
            " 71  addr_state_VA                        334262 non-null  uint8  \n",
            " 72  addr_state_VT                        334262 non-null  uint8  \n",
            " 73  addr_state_WA                        334262 non-null  uint8  \n",
            " 74  addr_state_WI                        334262 non-null  uint8  \n",
            " 75  addr_state_WV                        334262 non-null  uint8  \n",
            " 76  addr_state_WY                        334262 non-null  uint8  \n",
            "dtypes: float64(14), int64(4), uint8(59)\n",
            "memory usage: 64.7 MB\n"
          ],
          "name": "stdout"
        }
      ]
    },
    {
      "cell_type": "markdown",
      "metadata": {
        "id": "1tSvWkOshKpO",
        "colab_type": "text"
      },
      "source": [
        "# 7.0 Saving and Downloading Cleaned File"
      ]
    },
    {
      "cell_type": "code",
      "metadata": {
        "id": "50_p1-Xsfdjm",
        "colab_type": "code",
        "colab": {
          "base_uri": "https://localhost:8080/",
          "height": 461
        },
        "outputId": "bce99e33-63ab-434d-b5e9-834681e7dc49"
      },
      "source": [
        "from google.colab import files\n",
        "df.to_csv('/content/drive/My Drive/Lending_Club/loan_EDA_Cleaned.csv') \n",
        "files.download('/content/drive/My Drive/Lending_Club/loan_EDA_Cleaned.csv')"
      ],
      "execution_count": 207,
      "outputs": [
        {
          "output_type": "stream",
          "text": [
            "----------------------------------------\n",
            "Exception happened during processing of request from ('::ffff:127.0.0.1', 43048, 0, 0)\n",
            "Traceback (most recent call last):\n",
            "  File \"/usr/lib/python3.6/socketserver.py\", line 320, in _handle_request_noblock\n",
            "    self.process_request(request, client_address)\n",
            "  File \"/usr/lib/python3.6/socketserver.py\", line 351, in process_request\n",
            "    self.finish_request(request, client_address)\n",
            "  File \"/usr/lib/python3.6/socketserver.py\", line 364, in finish_request\n",
            "    self.RequestHandlerClass(request, client_address, self)\n",
            "  File \"/usr/lib/python3.6/socketserver.py\", line 724, in __init__\n",
            "    self.handle()\n",
            "  File \"/usr/lib/python3.6/http/server.py\", line 418, in handle\n",
            "    self.handle_one_request()\n",
            "  File \"/usr/lib/python3.6/http/server.py\", line 406, in handle_one_request\n",
            "    method()\n",
            "  File \"/usr/lib/python3.6/http/server.py\", line 639, in do_GET\n",
            "    self.copyfile(f, self.wfile)\n",
            "  File \"/usr/lib/python3.6/http/server.py\", line 800, in copyfile\n",
            "    shutil.copyfileobj(source, outputfile)\n",
            "  File \"/usr/lib/python3.6/shutil.py\", line 82, in copyfileobj\n",
            "    fdst.write(buf)\n",
            "  File \"/usr/lib/python3.6/socketserver.py\", line 803, in write\n",
            "    self._sock.sendall(b)\n",
            "ConnectionResetError: [Errno 104] Connection reset by peer\n",
            "----------------------------------------\n"
          ],
          "name": "stderr"
        }
      ]
    },
    {
      "cell_type": "markdown",
      "metadata": {
        "id": "RVj3psgXhb0I",
        "colab_type": "text"
      },
      "source": [
        "Reference: Saving : https://stackoverflow.com/questions/53898836/export-dataframe-as-csv-file-from-google-colab-to-google-drive/53900737"
      ]
    },
    {
      "cell_type": "code",
      "metadata": {
        "id": "q9bHsuGVgHa1",
        "colab_type": "code",
        "colab": {}
      },
      "source": [
        ""
      ],
      "execution_count": 0,
      "outputs": []
    }
  ]
}